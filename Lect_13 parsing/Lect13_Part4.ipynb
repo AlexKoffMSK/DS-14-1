{
 "cells": [
  {
   "cell_type": "markdown",
   "id": "81848a97",
   "metadata": {},
   "source": [
    "# Парсинг новостей"
   ]
  },
  {
   "cell_type": "markdown",
   "id": "6bfb95a2",
   "metadata": {},
   "source": [
    "Библиотека `newspaper3k` - это мощный инструмент, предназначенный для извлечения и анализа данных с новостных веб-сайтов. Эта библиотека была вдохновлена библиотекой `requests` и позволяет разработчикам и исследователям легко собирать информацию из новостных статей, включая заголовки, тексты, авторов, ключевые слова, изображения и даты публикации.\n",
    "\n",
    "`newspaper3k` также имеет встроенные функции NLP, что позволяет быстро получить ключевые слова и саммари новостной статьи."
   ]
  },
  {
   "cell_type": "markdown",
   "id": "078952aa",
   "metadata": {},
   "source": [
    "Для начала установим библиотеку."
   ]
  },
  {
   "cell_type": "code",
   "execution_count": null,
   "id": "347b9ff4",
   "metadata": {},
   "outputs": [],
   "source": [
    "!pip install newspaper3k"
   ]
  },
  {
   "cell_type": "markdown",
   "id": "f8310c3d",
   "metadata": {},
   "source": [
    "Взглянем на [документацию библиотеки](https://newspaper.readthedocs.io/en/latest/user_guide/quickstart.html). Модуль работает с ссылками на новости или ссылкой на новостной ресурс (и далее самостоятельно собирает оттуда ссылки)."
   ]
  },
  {
   "cell_type": "markdown",
   "id": "2d84f62c",
   "metadata": {},
   "source": [
    "## Извлечение новости и метаданных"
   ]
  },
  {
   "cell_type": "markdown",
   "id": "60c129aa",
   "metadata": {},
   "source": [
    "Из библиотеки мы импортируем класс `Article`. Каждая новость, которую мы будем извлекать таким образом будет являться экземпляром класса `Article`. Буквально это означает, что внутри `Article` лежит некая инструкция о том, как обычно выглядит новостная статья – например, у нее обязательно есть заголовок, может быть автор, фотографии, дата публикации. \n",
    "\n",
    "Каждая новость, которую мы будем передавать внутрь класса `Article` по ссылке будет обрабатываться по зашитой внутрь нее схеме."
   ]
  },
  {
   "cell_type": "code",
   "execution_count": 42,
   "id": "e5b437b2",
   "metadata": {},
   "outputs": [],
   "source": [
    "from newspaper import Article"
   ]
  },
  {
   "cell_type": "markdown",
   "id": "144d5845",
   "metadata": {},
   "source": [
    "Посмотрим на эту статью из РБК Трендов: «[Как модель искусственного интеллекта поможет в лечении депрессии](https://trends.rbc.ru/trends/industry/65327bc69a7947399939b243?page=tag&nick=ai)». Положим ссылку на статью в переменную `url`."
   ]
  },
  {
   "cell_type": "code",
   "execution_count": 3,
   "id": "07b319c8",
   "metadata": {},
   "outputs": [],
   "source": [
    "url = 'https://trends.rbc.ru/trends/industry/65327bc69a7947399939b243?page=tag&nick=ai'"
   ]
  },
  {
   "cell_type": "markdown",
   "id": "4aef9c08",
   "metadata": {},
   "source": [
    "Далее создаем экземпляр класса `Article`. Он будет называться `article` с маленькой буквы (обратите внимание – все классы в Python пишутся с большой буквы). \n",
    "\n",
    "Мы передаем ссылку и указываем язык новости (параметр `language`). Библиотека `newspaper3k` работает со следующими языками:\n",
    "\n",
    "|input code|full name|\n",
    "|---|---|\n",
    "  nl\t|\t\t  Dutch\n",
    "  zh\t|\t\t  Chinese\n",
    "  vi\t|\t\t  Vietnamese\n",
    "  no\t|\t\t  Norwegian\n",
    "  ar\t|\t\t  Arabic\n",
    "  tr\t|\t\t  Turkish\n",
    "  sr\t|\t\t  Serbian\n",
    "  fr\t|\t\t  French\n",
    "  ru\t|\t\t  Russian\n",
    "  en\t|\t\t  English\n",
    "  hi\t|\t\t  Hindi\n",
    "  ja\t|\t\t  Japanese\n",
    "  sw\t|\t\t  Swahili\n",
    "  pl\t|\t\t  Polish\n",
    "  fa\t|\t\t  Persian\n",
    "  el\t|\t\t  Greek\n",
    "  sv\t|\t\t  Swedish\n",
    "  sl\t|\t\t  Slovenian\n",
    "  de\t|\t\t  German\n",
    "  it\t|\t\t  Italian\n",
    "  pt\t|\t\t  Portuguese\n",
    "  he\t|\t\t  Hebrew\n",
    "  hr\t|\t\t  Croatian\n",
    "  et\t|\t\t  Estonian\n",
    "  id\t|\t\t  Indonesian\n",
    "  ro\t|\t\t  Romanian\n",
    "  es\t|\t\t  Spanish\n",
    "  ko\t|\t\t  Korean\n",
    "  hu\t|\t\t  Hungarian\n",
    "  da\t|\t\t  Danish\n",
    "  fi\t|\t\t  Finnish\n",
    "  bg\t|\t\t  Bulgarian\n",
    "  be\t|\t\t  Belarusian\n",
    "  mk\t|\t\t  Macedonian\n",
    "  nb\t|\t\t  Norwegian (Bokmål)\n",
    "  uk\t|\t\t  Ukrainian"
   ]
  },
  {
   "cell_type": "code",
   "execution_count": 100,
   "id": "550aedc2",
   "metadata": {},
   "outputs": [],
   "source": [
    "article = Article(url, language='ru')"
   ]
  },
  {
   "cell_type": "markdown",
   "id": "bc6094a5",
   "metadata": {},
   "source": [
    "Отлично! Теперь у нас есть переменная `article`, которая обрабатывается библиотекой по инструкции как новостная статья. Если мы попробуем распечатать эту переменную, то увидим техническую информацию – как Python видит внутри себя эту переменную."
   ]
  },
  {
   "cell_type": "code",
   "execution_count": 102,
   "id": "ae3105d7",
   "metadata": {},
   "outputs": [
    {
     "name": "stdout",
     "output_type": "stream",
     "text": [
      "<newspaper.article.Article object at 0x7fc4ec14bb50>\n"
     ]
    }
   ],
   "source": [
    "print(article)"
   ]
  },
  {
   "cell_type": "markdown",
   "id": "2fb4dd1d",
   "metadata": {},
   "source": [
    "Чтобы получить данные, мы воспользуемся методом `.download()`, который загрузит html статьи по ссылке. Сам html мы можем получить, используя атрибут `.html`."
   ]
  },
  {
   "cell_type": "code",
   "execution_count": 103,
   "id": "ad5c1846",
   "metadata": {},
   "outputs": [],
   "source": [
    "article.download()"
   ]
  },
  {
   "cell_type": "code",
   "execution_count": 105,
   "id": "2d49c664",
   "metadata": {},
   "outputs": [
    {
     "data": {
      "text/plain": [
       "'<!DOCTYPE html>\\n\\n\\n<html lang=\"ru\" >\\n<head>\\n    <meta http-equiv=\"Content-Type\" content=\"text/html; charset=utf-8\">\\n    <meta http-equiv=\"X-UA-Compatible\" content=\"IE=edge,chrome=1\">\\n    <meta http-equiv=\"Cache-Control\" content=\"no-cache\">\\n    <meta name=\"viewport\" content=\"width=device-width, initial-scale=1.0, user-scalable=no, minimum-scale=1.0, maximum-scale=1.0\">\\n    <meta name=\"HandheldFriendly\" content=\"True\">\\n    <meta name=\"format-detection\" content=\"telephone=no\">\\n    <meta name=\"format-detection\" content=\"address=no\">\\n\\n    \\n                \\n    \\n    \\n\\n            <title>Как модель искусственного интеллекта поможет в лечении депрессии | РБК Тренды</title>\\n\\n<meta name=\"title\" content=\"Как модель искусственного интеллекта поможет в лечении депрессии | РБК Тренды\"/>\\n<meta name=\"description\" content=\"Американские ученые провели успешные испытания модели ИИ, которая анализирует изменения в мозгу людей, лечащихся от депрессии. Результаты исследования могут значительно улучшить борьбу с ментальной проблемой\"/>\\n<meta name=\"copyright\" content=\"«РосБизнесКонсалтинг»\"/>\\n<meta name=\"robots\" content=\"max-image-preview:large\">\\n\\n<meta property=\"og:title\" content=\"Как модель искусственного интеллекта поможет в лечении депрессии | РБК Тренды\"/>\\n<meta property=\"og:type\" content=\"article\"/>\\n<meta property=\"og:url\" content=\"https://trends.rbc.ru/trends/industry/65327bc69a7947399939b243\"/>\\n<meta property=\"og:image\" content=\"https://s0.rbk.ru/v6_top_pics/media/img/3/81/346978074330813.jpeg\"/>\\n<meta property=\"og:description\" content=\"Американские ученые провели успешные испытания модели ИИ, которая анализирует изменения в мозгу людей, лечащихся от депрессии. Результаты исследования могут значительно улучшить борьбу с ментальной проблемой\"/>\\n<meta property=\"og:site_name\" content=\"РБК Тренды\"/>\\n<meta property=\"og:locale\" content=\"ru_RU\"/>\\n\\n<meta name=\"twitter:card\" content=\"summary\"/>\\n<meta name=\"twitter:site\" content=\"@ru_rbc\"/>\\n<meta name=\"twitter:creator\" content=\"@ru_rbc\"/>\\n<meta name=\"twitter:title\" content=\"Как модель искусственного интеллекта поможет в лечении депрессии |\"/>\\n<meta name=\"twitter:description\" content=\"Американские ученые провели успешные испытания модели ИИ, которая анализирует изменения в мозгу людей, лечащихся от депрессии. Результаты исследования могут значительно улучшить борьбу с ментальной\"/>\\n<meta name=\"twitter:image\" content=\"https://s0.rbk.ru/v6_top_pics/media/img/3/81/346978074330813.jpeg\"/>\\n\\n<link rel=\"canonical\" href=\"https://trends.rbc.ru/trends/industry/65327bc69a7947399939b243\"/>\\n\\n\\n\\n\\n\\n\\n    <script type=\"application/ld+json\">\\n        {\\n            \"@context\": \"https://schema.org\",\\n            \"@type\": \"BreadcrumbList\",\\n            \"itemListElement\": [{\\n                \"@type\": \"ListItem\",\\n                \"position\": 1,\\n                \"name\": \"✅РБК Тренды\",\\n                \"item\": \"https://trends.rbc.ru/trends/\"\\n            },{\\n                \"@type\": \"ListItem\",\\n                \"position\": 2,\\n                \"name\": \"✅Индустрия 4.0\",\\n                \"item\": \"https://trends.rbc.ru/trends/industry\"\\n            },{\\n                \"@type\": \"ListItem\",\\n                \"position\": 3,\\n                \"name\": \"✅Как модель искусственного интеллекта поможет в лечении депрессии\",\\n                \"item\": \"https://trends.rbc.ru/trends/industry/65327bc69a7947399939b243\"\\n            }]\\n        }\\n    </script>\\n        \\n            \\n\\n<meta property=\"yandex_recommendations_image\" content=\"https://s0.rbk.ru/v6_top_pics/resized/1200xH/media/img/3/81/346978074330813.jpeg\"/><meta property=\"yandex_recommendations_category\" content=\"Тренды\"/><meta property=\"yandex_recommendations_tag\" content=\"exclude\"/>\\n\\n\\n                    <link rel=\"amphtml\" href=\"https://trends.rbc.ru/trends/amp/news/65327bc69a7947399939b243\">    \\n\\n        <link rel=\"icon\" type=\"image/png\" href=\"//s.rbk.ru/v4_trends_static/trends-4.0.71/images/favicon.png\">\\n\\n            <link rel=\"apple-touch-icon\" sizes=\"60x60\" href=\"//s.rbk.ru/v4_trends_static/common/common-10.10.90/images/apple-touch-icon-60x60.png\">\\n        <link rel=\"apple-touch-icon\" sizes=\"76x76\" href=\"//s.rbk.ru/v4_trends_static/common/common-10.10.90/images/apple-touch-icon-76x76.png\">\\n        <link rel=\"apple-touch-icon\" sizes=\"120x120\" href=\"//s.rbk.ru/v4_trends_static/common/common-10.10.90/images/apple-touch-icon-120x120.png\">\\n        <link rel=\"apple-touch-icon\" sizes=\"152x152\" href=\"//s.rbk.ru/v4_trends_static/common/common-10.10.90/images/apple-touch-icon-152x152.png\">\\n        <link rel=\"apple-touch-icon\" sizes=\"180x180\" href=\"//s.rbk.ru/v4_trends_static/common/common-10.10.90/images/apple-touch-icon-180x180.png\">\\n        <link rel=\"icon\" type=\"image/png\" sizes=\"192x192\" href=\"//s.rbk.ru/v4_trends_static/common/common-10.10.90/images/android-chrome-192x192.png\">\\n        <link rel=\"icon\" type=\"image/png\" sizes=\"512x512\" href=\"//s.rbk.ru/v4_trends_static/common/common-10.10.90/images/android-chrome-512x512.png\">\\n        <link rel=\"mask-icon\" href=\"//s.rbk.ru/v4_trends_static/common/common-10.10.90/images/safari-pinned-tab.svg\" color=\"#999999\">\\n        <meta name=\"msapplication-TileColor\" content=\"#ffffff\">\\n        <meta name=\"msapplication-TileImage\" content=\"//s.rbk.ru/v4_trends_static/common/common-10.10.90/images/mstile-144x144.png\">\\n        <meta name=\"msapplication-square70x70logo\" content=\"//s.rbk.ru/v4_trends_static/common/common-10.10.90/images/mstile-70x70.png\">\\n        <meta name=\"msapplication-square150x150logo\" content=\"//s.rbk.ru/v4_trends_static/common/common-10.10.90/images/mstile-150x150.png\">\\n        <meta name=\"msapplication-square310x310logo\" content=\"//s.rbk.ru/v4_trends_static/common/common-10.10.90/images/mstile-310x310.png\">\\n        <meta name=\"msapplication-wide310x150logo\" content=\"//s.rbk.ru/v4_trends_static/common/common-10.10.90/images/mstile-310x150.png\">\\n    \\n        <link rel=\"preload\" href=\"//s.rbk.ru/files_static/edd/static/fonts/9/build/_common-fonts.css\" media=\"screen\" as=\"style\">\\n    <link rel=\"stylesheet\" href=\"//s.rbk.ru/files_static/edd/static/fonts/9/build/_common-fonts.css\" media=\"screen\">\\n\\n                \\n        <link rel=\"preload\" href=\"//s.rbk.ru/v4_trends_static/trends-4.0.71/styles/build/_main.css\" media=\"screen\" as=\"style\">\\n    <link rel=\"stylesheet\" href=\"//s.rbk.ru/v4_trends_static/trends-4.0.71/styles/build/_main.css\" media=\"screen\">\\n\\n        <link rel=\"preload\" href=\"//s.rbk.ru/v4_trends_static/trends-4.0.71/styles/build/pages/_news.css\" media=\"screen\" as=\"style\">\\n    <link rel=\"stylesheet\" href=\"//s.rbk.ru/v4_trends_static/trends-4.0.71/styles/build/pages/_news.css\"  media=\"screen\">\\n\\n            <link rel=\"preload\" href=\"//s.rbk.ru/v4_trends_static/common/common-10.10.90/scripts/vendor/jquery/jquery-3.5.1.min.js\" as=\"script\">\\n        <script src=\"//s.rbk.ru/v4_trends_static/common/common-10.10.90/scripts/vendor/jquery/jquery-3.5.1.min.js\"></script>\\n    \\n    <link rel=\"preload\" href=\"//s.rbk.ru/v4_trends_static/common/common-10.10.90/scripts/build/_core.js\" as=\"script\">\\n    <script src=\"//s.rbk.ru/v4_trends_static/common/common-10.10.90/scripts/build/_core.js\"></script>\\n\\n    \\n    <script>\\n        RA.version = 10;\\n        RA.env = (\\'production\\' || \\'production\\'); // develop, test, staging, production\\n        RA.config.set(\\'device.isMobile\\', false);\\n        RA.config.set(\\'device.isApp\\', false);\\n        RA.config.set(\\'ajax.prefix\\', \\'/trends/v4/\\');\\n        RA.config.set(\\'layout.mainMenuHeight\\', 105);\\n        RA.config.set(\\'layout.toplineHeight\\', 45);\\n        RA.config.set(\\'layout.headerHeight\\', 60);\\n        RA.config.set(\\'layout.layoutMinBreakpoint\\', 1260);\\n        RA.config.set(\\'layout.layoutMinWidth\\', 980);\\n        RA.config.set(\\'layout.bottomBannerHeight\\', 0);\\n        RA.config.set(\\'layout.billboardHeight\\', 0);\\n        RA.config.set(\\'layout.isLogoBW\\', false);\\n        RA.config.set(\\'layout.templatePath\\', \\'public\\');\\n        RA.config.set(\\'urls.common_static\\', \\'//s.rbk.ru/v4_trends_static/common/common-10.10.90/\\');\\n        RA.config.set(\\'urls.static\\', \\'//s.rbk.ru/v4_trends_static/trends-4.0.71/\\');\\n        RA.config.set(\\'urls.image\\', \\'https://s.rbk.ru/v4_trends_static/current/images/\\');\\n        RA.config.set(\\'domain\\', \\'.rbc.ru\\');\\n        RA.config.set(\\'domainAuth\\', \\'https://auth.rbc.ru\\');\\n        RA.config.set(\\'domainApigw\\', \\'https://apigw.rbc.ru\\');\\n        RA.config.set(\\'pro.cookie\\', \\'\\');\\n        RA.config.set(\\'video.off\\', false);\\n        RA.config.set(\\'paywall.user.logined\\', false);\\n        RA.config.set(\\'paywall.user.paid\\', false);\\n        RA.config.set(\\'mainPage\\', false);\\n        RA.config.set(\\'showBanners\\', false);\\n        RA.config.set(\\'noVideo\\', false);\\n        RA.config.set(\\'disableThirdPartyScripts\\', false);\\n        RA.config.set(\\'split\\', \\'Z\\');\\n        RA.config.set(\\'yandexCaptchaKey\\', \\'\\');\\n    </script>\\n\\n        <script>\\n        RA.config.set(\\'newslist\\', [\"65363bc49a7947400be35b7d\",\"653117059a794772cf2997dd\",\"653149169a79471b84d852dd\",\"652fc8a09a79471a6deb51f3\",\"63ff3af39a79476819df3e7e\",\"6527db7b9a79475e82c5211b\",\"6525335c9a79476984f49a13\",\"651fcd959a7947eeeeeaadb6\",\"65168cdc9a794764f1ad0469\",\"651587459a79475682964eb4\",\"65154aee9a79474fc2302bce\",\"6512afed9a7947049b976d53\",\"6512f2069a7947818066be2a\",\"65113f2e9a79473de4a72e13\",\"650d84839a7947e93699ef37\",\"650ae6169a7947b2d29889a0\",\"650944019a79473df69c7e9f\",\"6504195e9a79477106910133\",\"65045d119a7947e1667ca792\",\"6502a4479a794742c2af9739\"]);\\n        RA.config.set(\\'newsTypeList\\', null);\\n            </script>\\n        <script>\\n        RA.config.set(\\'project\\', \\'trends\\');\\n        RA.config.set(\\'layout.mainMenuHeight\\', 109);\\n    </script>\\n\\n                </head>\\n<body\\n    data-page=\"news\"\\n    class=\"news  l-no-banners\"\\n>\\n\\n        <noscript>\\n        <style>\\n            :root {\\n                --auto-if-no-script: auto;\\n                --none-if-no-script: none;\\n                --block-if-no-script: block;\\n                --zero-if-no-script: 0;\\n                --one-if-no-script: 1;\\n            }\\n        </style>\\n    </noscript>\\n\\n        <span class=\"g-mobile-detector g-mobile\"></span>\\n    <span class=\"g-tablet-detector g-tablet\"></span>\\n    <span class=\"g-desktop-small-detector g-desktop-small\"></span>\\n    <span class=\"g-desktop-detector g-desktop\"></span>\\n\\n    \\n            <div id=\"js_ra_notifications\" class=\"ra-notifications\"></div>\\n    \\n                                        <header class=\"topline__wrapper js-topline-wrapper\">\\n                    <div class=\"topline l-window js-topline js-filter-lock-block\">\\n                            <div class=\"topline__inner l-row js-topline\"><div class=\"topline__left js-topline-left\"><a class=\"topline__logo-block\" href=\"https://www.rbc.ru/\"><span class=\"topline__logo\"></span></a><a class=\"topline__project-logo js-topline-logo\" href=\"/trends/\">Тренды</a><div class=\"topline__projects-wrap js-topline-first\"><nav class=\"topline__items-container js-topline-dropdown-container\"><ul class=\"topline__projects\"><li class=\"topline__item-block js-topline-item\"><a href=\"https://tv.rbc.ru/?utm_source=topline\" class=\"topline__item js-yandex-counter\" data-yandex-name=\"from_topline\" data-yandex-params=\\'{url: \"https://tv.rbc.ru/?utm_source=topline\"}\\'>\\n            Телеканал\\n                    </a></li><li class=\"topline__item-block js-topline-item\"><a href=\"https://pro.rbc.ru/?from=topline\" class=\"topline__item js-yandex-counter\" data-yandex-name=\"from_topline\" data-yandex-params=\\'{url: \"https://pro.rbc.ru/?from=topline\"}\\'>\\n            Pro\\n                    </a></li><li class=\"topline__item-block js-topline-item\"><a href=\"https://quote.ru/?utm_source=topline\" class=\"topline__item js-yandex-counter\" data-yandex-name=\"from_topline\" data-yandex-params=\\'{url: \"https://quote.ru/?utm_source=topline\"}\\'>\\n            Инвестиции\\n                            <span class=\"topline__item__image-block\"><img src=\"https://s0.rbk.ru/v6_top_pics/media/img/8/46/756105436203468.svg\" class=\"topline__item__image\" alt=\"\" loading=\"lazy\" decoding=\"async\"/></span></a></li><li class=\"topline__item-block js-topline-item\"><a href=\"https://events.rbc.ru/?utm_source=topline\" class=\"topline__item js-yandex-counter\" data-yandex-name=\"from_topline\" data-yandex-params=\\'{url: \"https://events.rbc.ru/?utm_source=topline\"}\\'>\\n            Мероприятия\\n                    </a></li><li class=\"topline__item-block js-topline-item\"><a href=\"https://trends.rbc.ru/trends/?utm_source=topline\" class=\"topline__item js-yandex-counter\" data-yandex-name=\"from_topline\" data-yandex-params=\\'{url: \"https://trends.rbc.ru/trends/?utm_source=topline\"}\\'>\\n            Тренды\\n                    </a></li><li class=\"topline__item-block js-topline-item\"><a href=\"https://realty.rbc.ru/?utm_source=topline\" class=\"topline__item js-yandex-counter\" data-yandex-name=\"from_topline\" data-yandex-params=\\'{url: \"https://realty.rbc.ru/?utm_source=topline\"}\\'>\\n            Недвижимость\\n                    </a></li><li class=\"topline__item-block js-topline-item\"><a href=\"https://www.autonews.ru/?utm_source=topline\" class=\"topline__item js-yandex-counter\" data-yandex-name=\"from_topline\" data-yandex-params=\\'{url: \"https://www.autonews.ru/?utm_source=topline\"}\\'>\\n            Autonews\\n                    </a></li><li class=\"topline__item-block js-topline-item\"><a href=\"https://sportrbc.ru/?utm_source=topline\" class=\"topline__item js-yandex-counter\" data-yandex-name=\"from_topline\" data-yandex-params=\\'{url: \"https://sportrbc.ru/?utm_source=topline\"}\\'>\\n            Спорт\\n                    </a></li><li class=\"topline__item-block js-topline-item\"><a href=\"https://style.rbc.ru/?utm_source=topline\" class=\"topline__item js-yandex-counter\" data-yandex-name=\"from_topline\" data-yandex-params=\\'{url: \"https://style.rbc.ru/?utm_source=topline\"}\\'>\\n            Стиль\\n                    </a></li><li class=\"topline__item-block js-topline-item\"><a href=\"https://www.rbc.ru/national\" class=\"topline__item js-yandex-counter\" data-yandex-name=\"from_topline\" data-yandex-params=\\'{url: \"https://www.rbc.ru/national\"}\\'>\\n            Национальные проекты\\n                    </a></li><li class=\"topline__item-block js-topline-item\"><a href=\"https://rbc.ru/gorod/?utm_source=topline\" class=\"topline__item js-yandex-counter\" data-yandex-name=\"from_topline\" data-yandex-params=\\'{url: \"https://rbc.ru/gorod/?utm_source=topline\"}\\'>\\n            Город\\n                    </a></li><li class=\"topline__item-block js-topline-item\"><a href=\"https://www.rbc.ru/industries/?utm_source=topline\" class=\"topline__item js-yandex-counter\" data-yandex-name=\"from_topline\" data-yandex-params=\\'{url: \"https://www.rbc.ru/industries/?utm_source=topline\"}\\'>\\n            Отрасли\\n                    </a></li><li class=\"topline__item-block js-topline-item\"><a href=\"https://www.rbc.ru/crypto/?utm_source=topline\" class=\"topline__item js-yandex-counter\" data-yandex-name=\"from_topline\" data-yandex-params=\\'{url: \"https://www.rbc.ru/crypto/?utm_source=topline\"}\\'>\\n            Крипто\\n                    </a></li><li class=\"topline__item-block js-topline-item\"><a href=\"https://plus.rbc.ru/?utm_source=topline\" class=\"topline__item js-yandex-counter\" data-yandex-name=\"from_topline\" data-yandex-params=\\'{url: \"https://plus.rbc.ru/?utm_source=topline\"}\\'>\\n            РБК+\\n                    </a></li><li class=\"topline__item-block js-topline-item\"><a href=\"https://www.rbc.ru/dc/?utm_source=topline\" class=\"topline__item js-yandex-counter\" data-yandex-name=\"from_topline\" data-yandex-params=\\'{url: \"https://www.rbc.ru/dc/?utm_source=topline\"}\\'>\\n            Дискуссионный клуб\\n                    </a></li><li class=\"topline__item-block js-topline-item\"><a href=\"https://marketing.rbc.ru/?utm_source=topline\" class=\"topline__item js-yandex-counter\" data-yandex-name=\"from_topline\" data-yandex-params=\\'{url: \"https://marketing.rbc.ru/?utm_source=topline\"}\\'>\\n            Исследования\\n                    </a></li><li class=\"topline__item-block js-topline-item\"><a href=\"https://ratings.ru/?utm_source=topline\" class=\"topline__item js-yandex-counter\" data-yandex-name=\"from_topline\" data-yandex-params=\\'{url: \"https://ratings.ru/?utm_source=topline\"}\\'>\\n            Кредитные рейтинги\\n                    </a></li><li class=\"topline__item-block js-topline-item\"><a href=\"http://biztorg.ru/offers/main?utm_source=topline\" class=\"topline__item js-yandex-counter\" data-yandex-name=\"from_topline\" data-yandex-params=\\'{url: \"http://biztorg.ru/offers/main?utm_source=topline\"}\\'>\\n            Франшизы\\n                    </a></li><li class=\"topline__item-block js-topline-item\"><a href=\"https://www.rbc.ru/newspaper/?utm_source=topline\" class=\"topline__item js-yandex-counter\" data-yandex-name=\"from_topline\" data-yandex-params=\\'{url: \"https://www.rbc.ru/newspaper/?utm_source=topline\"}\\'>\\n            Газета\\n                    </a></li><li class=\"topline__item-block js-topline-item\"><a href=\"https://spbspecials.rbc.ru/?utm_source=topline\" class=\"topline__item js-yandex-counter\" data-yandex-name=\"from_topline\" data-yandex-params=\\'{url: \"https://spbspecials.rbc.ru/?utm_source=topline\"}\\'>\\n            Спецпроекты СПб\\n                    </a></li><li class=\"topline__item-block js-topline-item\"><a href=\"https://spb-bc.rbc.ru/?utm_source=topline\" class=\"topline__item js-yandex-counter\" data-yandex-name=\"from_topline\" data-yandex-params=\\'{url: \"https://spb-bc.rbc.ru/?utm_source=topline\"}\\'>\\n            Конференции СПб\\n                    </a></li><li class=\"topline__item-block js-topline-item\"><a href=\"https://specialists.ru/?utm_source=topline\" class=\"topline__item js-yandex-counter\" data-yandex-name=\"from_topline\" data-yandex-params=\\'{url: \"https://specialists.ru/?utm_source=topline\"}\\'>\\n            Спецпроекты\\n                    </a></li><li class=\"topline__item-block js-topline-item\"><a href=\"https://rescore.online/?utm_source=topline\" class=\"topline__item js-yandex-counter\" data-yandex-name=\"from_topline\" data-yandex-params=\\'{url: \"https://rescore.online/?utm_source=topline\"}\\'>\\n            Проверка контрагентов\\n                    </a></li><li class=\"topline__item-block js-topline-item\"><a href=\"https://lib.rbc.ru/?utm_source=topline\" class=\"topline__item js-yandex-counter\" data-yandex-name=\"from_topline\" data-yandex-params=\\'{url: \"https://lib.rbc.ru/?utm_source=topline\"}\\'>\\n            РБК Библиотека\\n                    </a></li><li class=\"topline__item-block js-topline-item\"><a href=\"http://esg-index.rbc.ru/\" class=\"topline__item js-yandex-counter\" data-yandex-name=\"from_topline\" data-yandex-params=\\'{url: \"http://esg-index.rbc.ru/\"}\\'>\\n            ESG-индекс\\n                    </a></li><li class=\"topline__item-block js-topline-item\"><a href=\"https://www.rbc.ru/politics/?utm_source=topline\" class=\"topline__item js-yandex-counter\" data-yandex-name=\"from_topline\" data-yandex-params=\\'{url: \"https://www.rbc.ru/politics/?utm_source=topline\"}\\'>\\n            Политика\\n                    </a></li><li class=\"topline__item-block js-topline-item\"><a href=\"https://www.rbc.ru/economics/?utm_source=topline\" class=\"topline__item js-yandex-counter\" data-yandex-name=\"from_topline\" data-yandex-params=\\'{url: \"https://www.rbc.ru/economics/?utm_source=topline\"}\\'>\\n            Экономика\\n                    </a></li><li class=\"topline__item-block js-topline-item\"><a href=\"https://www.rbc.ru/business/?utm_source=topline\" class=\"topline__item js-yandex-counter\" data-yandex-name=\"from_topline\" data-yandex-params=\\'{url: \"https://www.rbc.ru/business/?utm_source=topline\"}\\'>\\n            Бизнес\\n                    </a></li><li class=\"topline__item-block js-topline-item\"><a href=\"https://www.rbc.ru/technology_and_media/?utm_source=topline\" class=\"topline__item js-yandex-counter\" data-yandex-name=\"from_topline\" data-yandex-params=\\'{url: \"https://www.rbc.ru/technology_and_media/?utm_source=topline\"}\\'>\\n            Технологии и медиа\\n                    </a></li><li class=\"topline__item-block js-topline-item\"><a href=\"https://www.rbc.ru/finances/?utm_source=topline\" class=\"topline__item js-yandex-counter\" data-yandex-name=\"from_topline\" data-yandex-params=\\'{url: \"https://www.rbc.ru/finances/?utm_source=topline\"}\\'>\\n            Финансы\\n                    </a></li></ul></nav><nav class=\"topline__more\"><ul class=\"topline__item__wrap\"><li class=\"topline__item-block\"><a href=\"https://companies.rbc.ru/?utm_source=topline\" class=\"topline__item topline__item_special js-yandex-counter\"\\n           data-yandex-name=\"topline_1\"\\n           data-publisher-nick=\"main_topline_anons\"><span class=\"topline__item_special-inner\">РБК Компании</span></a></li><li class=\"topline__item-block\"><a href=\"https://rbclife.ru/\" class=\"topline__item topline__item_special js-yandex-counter\"\\n           data-yandex-name=\"topline_2\"\\n           data-publisher-nick=\"main_header_link\"><span class=\"topline__item_special-inner\">РБК Life</span></a></li></ul><div class=\"topline__dropdown\"><a href=\"\" class=\"topline__dropdown__handle js-topline-dropdown\">\\n                            ...\\n                        </a><div class=\"topline__dropdown__list js-topline-dropdown-list\"><ul class=\"topline__dropdown__list__inner js-topline-dropdown-list-inner\"></ul></div></div></nav></div></div><div class=\"topline__right\"><div class=\"topline__disable-adv\"><a href=\"https://pro.rbc.ru/rbcoffer/comfort_bannersdisable?utm_source=trends.rbc.ru/trends&amp;utm_medium=inhouse_media&amp;utm_campaign=rbc_comfort&amp;utm_term=bannersdisable_button\" class=\"topline__disable-adv__button\">Скрыть баннеры</a></div><div class=\"topline__search-block\"><div class=\"topline__search js-search-block\"><button class=\"topline__search__menu js-search-open\"><span class=\"topline__search__menu__link\"></span></button><div class=\"topline__search__body js-search-body\"><a href=\"#\" class=\"topline__search__close js-search-close\"><span></span><span></span></a><div class=\"topline__search__body__inner\"><search role=\"search\"><form action=\"/search/\" class=\"topline__search__form\" role=\"search\"><input class=\"topline__search__button\" type=\"submit\" value=\"Найти\" /><div class=\"topline__search__text\"><div class=\"topline__search__input-wrap\"><input class=\"topline__search__input js-search-input\" type=\"search\" inputmode=\"search\" name=\"query\" autocomplete=\"off\" value=\"\" placeholder=\"Поиск по сайту\" /></div></div></form></search><nav class=\"topline__search__rubric\"><div class=\"topline__search__rubric__name\">Рубрики</div><ul class=\"topline__search__rubric__block\" itemscope itemtype=\"https://www.schema.org/SiteNavigationElement\"><li class=\"topline__search__rubric__link-wrap\"><a href=\"/trends\" class=\"topline__search__rubric__link\" itemprop=\"url\">\\n                                                                                    Главное\\n                                                                            </a></li><li class=\"topline__search__rubric__link-wrap\"><a href=\"/trends/short_news\" class=\"topline__search__rubric__link\" itemprop=\"url\">\\n                                                                                    Лента\\n                                                                            </a></li><li class=\"topline__search__rubric__link-wrap\"><a href=\"https://trends.rbc.ru/trends/tag/future_scenario\" class=\"topline__search__rubric__link\" itemprop=\"url\">\\n                                                                                    Прогнозы будущего\\n                                                                            </a></li><li class=\"topline__search__rubric__link-wrap\"><a href=\"https://trends.rbc.ru/trends/tag/ai\" class=\"topline__search__rubric__link\" itemprop=\"url\">\\n                                                                                    Искусственный интеллект\\n                                                                            </a></li><li class=\"topline__search__rubric__link-wrap\"><a href=\"https://trends.rbc.ru/trends/tag/materials\" class=\"topline__search__rubric__link\" itemprop=\"url\">\\n                                                                                    Материальный мир\\n                                                                            </a></li><li class=\"topline__search__rubric__link-wrap\"><a href=\"https://trends.rbc.ru/trends/tag/issledovaniia-i-doklady\" class=\"topline__search__rubric__link\" itemprop=\"url\">\\n                                                                                    Исследования и доклады\\n                                                                            </a></li></ul></nav></div></div></div></div><div class=\"topline__auth js-topline-profile-container\"><button class=\"topline__auth__link js-topline-profile-link\"></button><div class=\"topline__auth__profile\"><nav class=\"topline__auth__profile__inner active\"><ul class=\"topline__auth__profile__menu\"><li class=\"topline__auth__profile__menu__item\"><a href=\"https://auth.rbc.ru/login?tab=enter&from=login_topline\" class=\"topline__auth__profile__menu__link js-paywall-login\"><b>Вход</b></a></li><li class=\"topline__auth__profile__menu__item\"><a href=\"https://auth.rbc.ru/login?from=registration_topline\" class=\"topline__auth__profile__menu__link js-paywall-login\"><b>Регистрация</b></a></li></ul></nav></div></div><div class=\"topline__menu\"><div class=\"topline__menu__open js-topline-menu js-yandex-counter\" data-yandex-name=\"click_hamburger\"><span></span><span></span><span></span></div><div class=\"topline__menu__close js-topline-menu-close\"><span></span><span></span></div></div></div></div><div class=\"topline__popup js-topline-popup\"><nav class=\"topline__popup__inner js-topline-open-popup-content active\"><div class=\"topline__popup__disable-adv\"><noindex><div class=\"topline__popup__disable-adv__left\"><div class=\"topline__popup__disable-adv__title\">\\n                                    Подпишитесь на РБК Comfort\\n                                </div><div class=\"topline__popup__disable-adv__small-text\"><p>Получайте рассылку с новостями, которые касаются каждого. Самое актуальное о личных финансах, карьере и безопасности.</p><p>Читайте РБК без рекламных баннеров на сайте и в мобильном приложении.</p></div></div></noindex><div class=\"topline__popup__disable-adv__right\"><a href=\"https://pro.rbc.ru/rbcoffer/comfort_email_news?utm_source=trends.rbc.ru/trends&amp;utm_medium=inhouse_media&amp;utm_campaign=rbc_comfort&amp;utm_term=top_button\" class=\"topline__popup__disable-adv__button\">\\n                                    Подписаться за 99₽ в месяц\\n                                </a></div></div><ul class=\"topline__popup__menu\"><li class=\"topline__popup__menu__item topline__popup__menu__item_auth_no\"><a href=\"https://auth.rbc.ru/login?tab=enter&from=login_topline\" class=\"topline__popup__main-link js-paywall-login\">\\n                                Вход                            </a></li><li class=\"topline__popup__menu__item topline__popup__menu__item_search\"><a href=\"#\" class=\"topline__popup__main-link js-topline-open-popup-link\" data-content=\"search\">Поиск</a></li></ul><div class=\"topline__popup__main-nav\"><div class=\"topline__popup__submenu topline__popup__flex\"><div class=\"topline__popup__submenu__wrap\"><a href=\"/trends\" class=\"topline__popup__submenu-item\">Главное</a></div><div class=\"topline__popup__submenu__wrap\"><a href=\"/trends/short_news\" class=\"topline__popup__submenu-item\">Лента</a></div><div class=\"topline__popup__submenu__wrap\"><a href=\"https://trends.rbc.ru/trends/tag/future_scenario\" class=\"topline__popup__submenu-item\">Прогнозы будущего</a></div><div class=\"topline__popup__submenu__wrap\"><a href=\"https://trends.rbc.ru/trends/tag/ai\" class=\"topline__popup__submenu-item\">Искусственный интеллект</a></div><div class=\"topline__popup__submenu__wrap\"><a href=\"https://trends.rbc.ru/trends/tag/materials\" class=\"topline__popup__submenu-item\">Материальный мир</a></div><div class=\"topline__popup__submenu__wrap\"><a href=\"https://trends.rbc.ru/trends/tag/issledovaniia-i-doklady\" class=\"topline__popup__submenu-item\">Исследования и доклады</a></div></div></div><ul class=\"topline__popup__submenu topline__popup__flex\"><li class=\"topline__popup__submenu__wrap\"><a href=\"https://tv.rbc.ru/?utm_source=topline\" class=\"topline__popup__submenu-item js-yandex-counter\" data-yandex-name=\"click_hamburger\" data-yandex-params=\\'{url: \"https://tv.rbc.ru/?utm_source=topline\"}\\'>Телеканал</a></li><li class=\"topline__popup__submenu__wrap\"><a href=\"https://pro.rbc.ru/?from=topline\" class=\"topline__popup__submenu-item js-yandex-counter\" data-yandex-name=\"click_hamburger\" data-yandex-params=\\'{url: \"https://pro.rbc.ru/?from=topline\"}\\'>Pro</a></li><li class=\"topline__popup__submenu__wrap\"><a href=\"https://quote.ru/?utm_source=topline\" class=\"topline__popup__submenu-item js-yandex-counter\" data-yandex-name=\"click_hamburger\" data-yandex-params=\\'{url: \"https://quote.ru/?utm_source=topline\"}\\'>Инвестиции</a></li><li class=\"topline__popup__submenu__wrap\"><a href=\"https://events.rbc.ru/?utm_source=topline\" class=\"topline__popup__submenu-item js-yandex-counter\" data-yandex-name=\"click_hamburger\" data-yandex-params=\\'{url: \"https://events.rbc.ru/?utm_source=topline\"}\\'>Мероприятия</a></li><li class=\"topline__popup__submenu__wrap\"><a href=\"https://trends.rbc.ru/trends/?utm_source=topline\" class=\"topline__popup__submenu-item js-yandex-counter\" data-yandex-name=\"click_hamburger\" data-yandex-params=\\'{url: \"https://trends.rbc.ru/trends/?utm_source=topline\"}\\'>Тренды</a></li><li class=\"topline__popup__submenu__wrap\"><a href=\"https://realty.rbc.ru/?utm_source=topline\" class=\"topline__popup__submenu-item js-yandex-counter\" data-yandex-name=\"click_hamburger\" data-yandex-params=\\'{url: \"https://realty.rbc.ru/?utm_source=topline\"}\\'>Недвижимость</a></li><li class=\"topline__popup__submenu__wrap\"><a href=\"https://www.autonews.ru/?utm_source=topline\" class=\"topline__popup__submenu-item js-yandex-counter\" data-yandex-name=\"click_hamburger\" data-yandex-params=\\'{url: \"https://www.autonews.ru/?utm_source=topline\"}\\'>Autonews</a></li><li class=\"topline__popup__submenu__wrap\"><a href=\"https://sportrbc.ru/?utm_source=topline\" class=\"topline__popup__submenu-item js-yandex-counter\" data-yandex-name=\"click_hamburger\" data-yandex-params=\\'{url: \"https://sportrbc.ru/?utm_source=topline\"}\\'>Спорт</a></li><li class=\"topline__popup__submenu__wrap\"><a href=\"https://style.rbc.ru/?utm_source=topline\" class=\"topline__popup__submenu-item js-yandex-counter\" data-yandex-name=\"click_hamburger\" data-yandex-params=\\'{url: \"https://style.rbc.ru/?utm_source=topline\"}\\'>Стиль</a></li><li class=\"topline__popup__submenu__wrap\"><a href=\"https://www.rbc.ru/national\" class=\"topline__popup__submenu-item js-yandex-counter\" data-yandex-name=\"click_hamburger\" data-yandex-params=\\'{url: \"https://www.rbc.ru/national\"}\\'>Национальные проекты</a></li><li class=\"topline__popup__submenu__wrap\"><a href=\"https://rbc.ru/gorod/?utm_source=topline\" class=\"topline__popup__submenu-item js-yandex-counter\" data-yandex-name=\"click_hamburger\" data-yandex-params=\\'{url: \"https://rbc.ru/gorod/?utm_source=topline\"}\\'>Город</a></li><li class=\"topline__popup__submenu__wrap\"><a href=\"https://www.rbc.ru/industries/?utm_source=topline\" class=\"topline__popup__submenu-item js-yandex-counter\" data-yandex-name=\"click_hamburger\" data-yandex-params=\\'{url: \"https://www.rbc.ru/industries/?utm_source=topline\"}\\'>Отрасли</a></li><li class=\"topline__popup__submenu__wrap\"><a href=\"https://www.rbc.ru/crypto/?utm_source=topline\" class=\"topline__popup__submenu-item js-yandex-counter\" data-yandex-name=\"click_hamburger\" data-yandex-params=\\'{url: \"https://www.rbc.ru/crypto/?utm_source=topline\"}\\'>Крипто</a></li><li class=\"topline__popup__submenu__wrap\"><a href=\"https://plus.rbc.ru/?utm_source=topline\" class=\"topline__popup__submenu-item js-yandex-counter\" data-yandex-name=\"click_hamburger\" data-yandex-params=\\'{url: \"https://plus.rbc.ru/?utm_source=topline\"}\\'>РБК+</a></li><li class=\"topline__popup__submenu__wrap\"><a href=\"https://www.rbc.ru/dc/?utm_source=topline\" class=\"topline__popup__submenu-item js-yandex-counter\" data-yandex-name=\"click_hamburger\" data-yandex-params=\\'{url: \"https://www.rbc.ru/dc/?utm_source=topline\"}\\'>Дискуссионный клуб</a></li><li class=\"topline__popup__submenu__wrap\"><a href=\"https://marketing.rbc.ru/?utm_source=topline\" class=\"topline__popup__submenu-item js-yandex-counter\" data-yandex-name=\"click_hamburger\" data-yandex-params=\\'{url: \"https://marketing.rbc.ru/?utm_source=topline\"}\\'>Исследования</a></li><li class=\"topline__popup__submenu__wrap\"><a href=\"https://ratings.ru/?utm_source=topline\" class=\"topline__popup__submenu-item js-yandex-counter\" data-yandex-name=\"click_hamburger\" data-yandex-params=\\'{url: \"https://ratings.ru/?utm_source=topline\"}\\'>Кредитные рейтинги</a></li><li class=\"topline__popup__submenu__wrap\"><a href=\"http://biztorg.ru/offers/main?utm_source=topline\" class=\"topline__popup__submenu-item js-yandex-counter\" data-yandex-name=\"click_hamburger\" data-yandex-params=\\'{url: \"http://biztorg.ru/offers/main?utm_source=topline\"}\\'>Франшизы</a></li><li class=\"topline__popup__submenu__wrap\"><a href=\"https://www.rbc.ru/newspaper/?utm_source=topline\" class=\"topline__popup__submenu-item js-yandex-counter\" data-yandex-name=\"click_hamburger\" data-yandex-params=\\'{url: \"https://www.rbc.ru/newspaper/?utm_source=topline\"}\\'>Газета</a></li><li class=\"topline__popup__submenu__wrap\"><a href=\"https://spbspecials.rbc.ru/?utm_source=topline\" class=\"topline__popup__submenu-item js-yandex-counter\" data-yandex-name=\"click_hamburger\" data-yandex-params=\\'{url: \"https://spbspecials.rbc.ru/?utm_source=topline\"}\\'>Спецпроекты СПб</a></li><li class=\"topline__popup__submenu__wrap\"><a href=\"https://spb-bc.rbc.ru/?utm_source=topline\" class=\"topline__popup__submenu-item js-yandex-counter\" data-yandex-name=\"click_hamburger\" data-yandex-params=\\'{url: \"https://spb-bc.rbc.ru/?utm_source=topline\"}\\'>Конференции СПб</a></li><li class=\"topline__popup__submenu__wrap\"><a href=\"https://specialists.ru/?utm_source=topline\" class=\"topline__popup__submenu-item js-yandex-counter\" data-yandex-name=\"click_hamburger\" data-yandex-params=\\'{url: \"https://specialists.ru/?utm_source=topline\"}\\'>Спецпроекты</a></li><li class=\"topline__popup__submenu__wrap\"><a href=\"https://rescore.online/?utm_source=topline\" class=\"topline__popup__submenu-item js-yandex-counter\" data-yandex-name=\"click_hamburger\" data-yandex-params=\\'{url: \"https://rescore.online/?utm_source=topline\"}\\'>Проверка контрагентов</a></li><li class=\"topline__popup__submenu__wrap\"><a href=\"https://lib.rbc.ru/?utm_source=topline\" class=\"topline__popup__submenu-item js-yandex-counter\" data-yandex-name=\"click_hamburger\" data-yandex-params=\\'{url: \"https://lib.rbc.ru/?utm_source=topline\"}\\'>РБК Библиотека</a></li><li class=\"topline__popup__submenu__wrap\"><a href=\"http://esg-index.rbc.ru/\" class=\"topline__popup__submenu-item js-yandex-counter\" data-yandex-name=\"click_hamburger\" data-yandex-params=\\'{url: \"http://esg-index.rbc.ru/\"}\\'>ESG-индекс</a></li><li class=\"topline__popup__submenu__wrap\"><a href=\"https://www.rbc.ru/politics/?utm_source=topline\" class=\"topline__popup__submenu-item js-yandex-counter\" data-yandex-name=\"click_hamburger\" data-yandex-params=\\'{url: \"https://www.rbc.ru/politics/?utm_source=topline\"}\\'>Политика</a></li><li class=\"topline__popup__submenu__wrap\"><a href=\"https://www.rbc.ru/economics/?utm_source=topline\" class=\"topline__popup__submenu-item js-yandex-counter\" data-yandex-name=\"click_hamburger\" data-yandex-params=\\'{url: \"https://www.rbc.ru/economics/?utm_source=topline\"}\\'>Экономика</a></li><li class=\"topline__popup__submenu__wrap\"><a href=\"https://www.rbc.ru/business/?utm_source=topline\" class=\"topline__popup__submenu-item js-yandex-counter\" data-yandex-name=\"click_hamburger\" data-yandex-params=\\'{url: \"https://www.rbc.ru/business/?utm_source=topline\"}\\'>Бизнес</a></li><li class=\"topline__popup__submenu__wrap\"><a href=\"https://www.rbc.ru/technology_and_media/?utm_source=topline\" class=\"topline__popup__submenu-item js-yandex-counter\" data-yandex-name=\"click_hamburger\" data-yandex-params=\\'{url: \"https://www.rbc.ru/technology_and_media/?utm_source=topline\"}\\'>Технологии и медиа</a></li><li class=\"topline__popup__submenu__wrap\"><a href=\"https://www.rbc.ru/finances/?utm_source=topline\" class=\"topline__popup__submenu-item js-yandex-counter\" data-yandex-name=\"click_hamburger\" data-yandex-params=\\'{url: \"https://www.rbc.ru/finances/?utm_source=topline\"}\\'>Финансы</a></li><div class=\"topline__popup__submenu__wrap\"><li class=\"topline__item-block\"><a href=\"https://rbclife.ru/\" class=\"topline__popup__submenu-item js-yandex-counter\"\\n           data-yandex-name=\"topline_2\"\\n           data-publisher-nick=\"main_header_link\"><span class=\"topline__item_special-inner\">РБК Life</span></a></li></div><div class=\"topline__popup__submenu__wrap\"><li class=\"topline__item-block\"><a href=\"https://companies.rbc.ru/?utm_source=topline\" class=\"topline__popup__submenu-item js-yandex-counter\"\\n           data-yandex-name=\"topline_1\"\\n           data-publisher-nick=\"main_topline_anons\"><span class=\"topline__item_special-inner\">РБК Компании</span></a></li></div></ul></nav><div class=\"topline__popup__inner js-topline-open-popup-content search\"><div class=\"topline__popup__back js-topline-back\">\\n    Главное меню\\n</div><div class=\"topline__popup__search\"><search role=\"search\"><form action=\"/search/\" class=\"topline__popup__search__form\"><input type=\"hidden\" name=\"project\" value=\"trends\"/><input class=\"topline__popup__search__button\" type=\"submit\" value=\"Найти\" /><div class=\"topline__popup__search__text\"><div class=\"topline__popup__search__input-wrap\"><input class=\"topline__popup__search__input js-search-input\" type=\"text\" name=\"query\" autocomplete=\"off\" value=\"\" placeholder=\"Поиск по сайту\" /></div></div></form></search><nav class=\"topline__popup__search__rubric\"><div class=\"topline__popup__search__rubric__name\">Рубрики</div><ul class=\"topline__popup__search__rubric__block\"><li class=\"topline__popup__search__rubric__link-wrap\"><a href=\"/trends\" class=\"topline__popup__search__rubric__link\">\\n                                                                                    Главное\\n                                                                            </a></li><li class=\"topline__popup__search__rubric__link-wrap\"><a href=\"/trends/short_news\" class=\"topline__popup__search__rubric__link\">\\n                                                                                    Лента\\n                                                                            </a></li><li class=\"topline__popup__search__rubric__link-wrap\"><a href=\"https://trends.rbc.ru/trends/tag/future_scenario\" class=\"topline__popup__search__rubric__link\">\\n                                                                                    Прогнозы будущего\\n                                                                            </a></li><li class=\"topline__popup__search__rubric__link-wrap\"><a href=\"https://trends.rbc.ru/trends/tag/ai\" class=\"topline__popup__search__rubric__link\">\\n                                                                                    Искусственный интеллект\\n                                                                            </a></li><li class=\"topline__popup__search__rubric__link-wrap\"><a href=\"https://trends.rbc.ru/trends/tag/materials\" class=\"topline__popup__search__rubric__link\">\\n                                                                                    Материальный мир\\n                                                                            </a></li><li class=\"topline__popup__search__rubric__link-wrap\"><a href=\"https://trends.rbc.ru/trends/tag/issledovaniia-i-doklady\" class=\"topline__popup__search__rubric__link\">\\n                                                                                    Исследования и доклады\\n                                                                            </a></li></ul></nav></div></div></div>\\n                    </div>\\n                </header>\\n                        \\n    \\n                \\n\\n<header class=\"navbar js-navbar\" >\\n    <div class=\"navbar__inner l-window\">\\n        <div class=\"navbar__col navbar__col_left js-navbar-col-left\">\\n            <div class=\"navbar__logo\">\\n                <a href=\"https://www.rbc.ru/\" class=\"navbar__logo__link\">РБК</a>\\n                <a href=\"/trends/\" class=\"navbar__logo__link navbar__logo__link_home\">Тренды</a>\\n            </div>\\n\\n            \\n        </div>\\n        <div class=\"navbar__col navbar__col_center\">\\n            <nav class=\"navbar__container js-navbar-dropdown-container\">\\n                <ul class=\"navbar__menu js-navbar-menu\">\\n                    <li class=\"navbar__menu__item js-navbar-item\">\\n                        <a class=\"navbar__menu__link\" href=\"/trends?from=mainnews_bar\">Главная</a>\\n                    </li>\\n                    <li class=\"navbar__menu__item js-navbar-item\">\\n                        <a class=\"navbar__menu__link\" href=\"/trends/short_news?from=newsfeed_bar\">Лента</a>\\n                    </li>\\n                                                                        <li class=\"navbar__menu__item js-navbar-item\">\\n                                <a class=\"navbar__menu__link\" href=\"https://trends.rbc.ru/trends/tag/future_scenario\">Прогнозы будущего</a>\\n                            </li>\\n                                                    <li class=\"navbar__menu__item js-navbar-item\">\\n                                <a class=\"navbar__menu__link\" href=\"https://trends.rbc.ru/trends/tag/ai\">Искусственный интеллект</a>\\n                            </li>\\n                                                    <li class=\"navbar__menu__item js-navbar-item\">\\n                                <a class=\"navbar__menu__link\" href=\"https://trends.rbc.ru/trends/tag/materials\">Материальный мир</a>\\n                            </li>\\n                                                    <li class=\"navbar__menu__item js-navbar-item\">\\n                                <a class=\"navbar__menu__link\" href=\"https://trends.rbc.ru/trends/tag/issledovaniia-i-doklady\">Исследования и доклады</a>\\n                            </li>\\n                                                            </ul>\\n            </nav>\\n\\n            <div class=\"topline__more navbar__more\">\\n                <div class=\"topline__dropdown\">\\n                    <a href=\"\" class=\"topline__dropdown__handle js-navbar-dropdown\">\\n                        ...\\n                    </a>\\n                    <div class=\"topline__dropdown__list js-navbar-dropdown-list\">\\n                        <div class=\"topline__dropdown__list__inner js-navbar-dropdown-list-inner\"></div>\\n                    </div>\\n                </div>\\n            </div>\\n        </div>\\n        <div class=\"navbar__col navbar__col_right\">\\n            <div class=\"navbar__social\">\\n                                                                            <a href=\"https://t.me/rbc_trends\" target=\"_blank\" class=\"navbar__social__link\">\\n                        <span class=\"navbar__social__link__icon\">\\n                                                            <img src=\"https://s0.rbk.ru/v6_top_pics/resized/Wx80/media/img/3/41/756152823169413.png\"\\n          loading=\"lazy\"     class=\"navbar__social__link__icon__image\"     alt=\"\" />\\n                                                    </span>\\n                    </a>\\n                                                                            <a href=\"https://vk.com/rbc_trends\" target=\"_blank\" class=\"navbar__social__link\">\\n                        <span class=\"navbar__social__link__icon\">\\n                                                            <img src=\"https://s0.rbk.ru/v6_top_pics/resized/Wx80/media/img/5/79/756152823045795.png\"\\n          loading=\"lazy\"     class=\"navbar__social__link__icon__image\"     alt=\"\" />\\n                                                    </span>\\n                    </a>\\n                                                                            <a href=\"https://www.youtube.com/channel/UCr0sFcTJoJVI01erYEi2bNw\" target=\"_blank\" class=\"navbar__social__link\">\\n                        <span class=\"navbar__social__link__icon\">\\n                                                            <img src=\"https://s0.rbk.ru/v6_top_pics/resized/Wx80/media/img/4/35/756152821394354.png\"\\n          loading=\"lazy\"     class=\"navbar__social__link__icon__image\"     alt=\"\" />\\n                                                    </span>\\n                    </a>\\n                                                                            <a href=\"https://zen.yandex.ru/rbc_trends\" target=\"_blank\" class=\"navbar__social__link\">\\n                        <span class=\"navbar__social__link__icon\">\\n                                                            <img src=\"https://s0.rbk.ru/v6_top_pics/media/img/4/55/755924101431554.svg\" class=\"navbar__social__link__icon__image\" alt=\"\"/>\\n                                                    </span>\\n                    </a>\\n                            </div>\\n        </div>\\n    </div>\\n</header>\\n\\n                <main>\\n    \\n            <div class=\"l-window l-window-overflow-mob\">\\n                                                                            \\n            <div class=\"g-relative g-clear\">\\n                \\n                <div class=\"l-col-container\">\\n                    <div class=\"l-table\">\\n                                                                                                        \\n                            <div class=\"js-rbcslider\">\\n        \\n\\n    \\n<div class=\"js-rbcslider-slide rbcslider__slide \"\\n    data-id=\"65327bc69a7947399939b243\"\\n     data-url=\"https://trends.rbc.ru/trends/industry/65327bc69a7947399939b243\"    data-index=\"0\"\\n    data-chars-length=\"3305\"\\n         data-type=\"article\"                            data-aggregator=\"false\"\\n     itemscope itemtype=\"https://schema.org/NewsArticle\"        data-trend-nick=\"industry\"    >\\n\\n            <meta itemprop=\"description\" content=\"Американские ученые провели успешные испытания модели ИИ, которая анализирует изменения в мозгу людей, лечащихся от депрессии. Результаты исследования могут значительно улучшить борьбу с ментальной проблемой\"/>\\n<meta name=\"news_keywords\" content=\"Депрессия, Стимуляция, Исследователь, Электрод, Самоотчёт, Состояние, Активность, Выздоровление, Устройство, Доброволец, Симптом, Специалист, Вынудить, Результат, Заболевание, Участник, Исследование, Глубокий, Нейронный, Анализировать\"/>\\n<meta itemprop=\"genre\" content=\"news\"/>\\n\\n\\n    \\n    <div itemprop=\"author\" itemscope itemtype=\"https://schema.org/Organization\">\\n        <meta itemprop=\"name\" content=\"РБК\"/>\\n        <meta itemprop=\"identifier\" content=\"https://www.rbc.ru/#organization\"/>\\n        <meta itemprop=\"address\" content=\"Россия, г.Москва, ул.Профсоюзная, д.78\"/>\\n        <meta itemprop=\"telephone\" content=\"+7(495)363-11-11\"/>\\n        <meta itemprop=\"image\" src=\"//s.rbk.ru/v4_trends_static/common/common-10.10.90/images/logo.png\"/>\\n        <div itemprop=\"logo\" itemscope itemtype=\"https://schema.org/ImageObject\">\\n            <link itemprop=\"url contentUrl\" href=\"https://s.rbk.ru/v4_trends_static/common/common-10.10.90/images/logo.png\"/>\\n            <meta itemprop=\"width\" content=\"17\"/>\\n            <meta itemprop=\"height\" content=\"17\"/>\\n        </div>\\n    </div>\\n\\n<div itemprop=\"publisher\" itemscope itemtype=\"https://schema.org/Organization\">\\n    <meta itemprop=\"name\" content=\"РБК\"/>\\n    <meta itemprop=\"identifier\" content=\"https://www.rbc.ru/#organization\"/>\\n    <meta itemprop=\"address\" content=\"Россия, г.Москва, ул.Профсоюзная, д.78\"/>\\n    <meta itemprop=\"telephone\" content=\"+7(495)363-11-11\"/>\\n    <div itemprop=\"logo\" itemscope itemtype=\"https://schema.org/ImageObject\">\\n        <link itemprop=\"url contentUrl\" href=\"https://s.rbk.ru/v4_trends_static/common/common-10.10.90/images/logo-600x60.png\"/>\\n        <meta itemprop=\"width\" content=\"600\"/>\\n        <meta itemprop=\"height\" content=\"60\"/>\\n    </div>\\n</div>\\n\\n<link itemprop=\"mainEntityOfPage\" href=\"https://trends.rbc.ru/trends/industry/65327bc69a7947399939b243\"/>\\n\\n\\n        \\n    <link href=\"https://s0.rbk.ru/v6_top_pics/resized/1200xH/media/img/3/81/346978074330813.jpeg\"/>\\n    <div itemprop=\"image\" itemscope itemtype=\"https://schema.org/ImageObject\">\\n        <meta itemprop=\"url\" content=\"https://s0.rbk.ru/v6_top_pics/media/img/3/81/346978074330813.jpeg\"/>\\n                    <meta itemprop=\"identifier\" content=\"https://trends.rbc.ru/trends/industry/65327bc69a7947399939b243/#primaryimage\"/>\\n                            <meta itemprop=\"width\" content=\"1280\"/>\\n                            <meta itemprop=\"height\" content=\"800\"/>\\n                    </div>\\n\\n    \\n    \\n    \\n    \\n        \\n    \\n    \\n    \\n    <div class=\"article g-relative js-rbcslider-article \"  >\\n                    <div class=\"l-table\">\\n                    <div class=\"l-base__flex l-base__flex__gutter l-base__flex__content\">\\n        <article class=\"l-base__col__center\">\\n            <div class=\"l-base__col__main\">\\n                                    <div class=\"article__header js-article-header\">\\n    <div class=\"breadcrumbs breadcrumbs_big\">\\n                <a class=\"breadcrumbs__link\" href=\"https://trends.rbc.ru/trends/industry\">Индустрия 4.0</a>\\n    </div>    <div class=\"article__header__title\">\\n        <h1 class=\"article__header__title-in js-slide-title\" itemprop=\"headline\">Как модель искусственного интеллекта поможет в лечении депрессии</h1>\\n        <meta itemprop=\"datePublished\" content=\"2023-10-21T12:00:05+03:00\"/>\\n        <meta itemprop=\"dateModified\" content=\"2023-10-20T18:06:23+03:00\"/>\\n    </div>\\n    </div>                \\n                \\n                \\n                    \\n                    <div class=\"article__text\" itemprop=\"articleBody\">\\n                                                        \\n    \\n    <div class=\"article__main-image\" itemscope itemtype=\"http://schema.org/ImageObject\">\\n        <div class=\"article__main-image__wrap\">\\n                                                    \\n                \\n        \\n\\n\\n            \\n        \\n                                \\n                                                    \\n                \\n        \\n                                                            \\n                            \\n                \\n        \\n                                                        \\n                \\n        \\n            \\n                                    \\n                                                    \\n                                                        \\n        \\n                \\n                                                                \\n                \\n                                                                                \\n                            \\n                                \\n                                \\n                                                    \\n                                                                \\n                                                                            \\n                                                                                                                                            \\n                                                                \\n                                                                                                                            \\n                \\n                                                                                \\n                            \\n                                \\n                                \\n                                                    \\n                                                                \\n                                                                            \\n                                                                                                                                            \\n                                                                \\n                                                                                    \\n                \\n                                                                                \\n                            \\n                                \\n                                \\n                                                    \\n                                                                \\n                                                                            \\n                                                                                                                                            \\n                                                                \\n                                                                                                        \\n                \\n                                                                                \\n                            \\n                                \\n                                \\n                                                    \\n                                                                \\n                                                                            \\n                                                                                                                                            \\n                                                        \\n        \\n\\n\\n<picture class=\"smart-image\">\\n                    \\n                                                            \\n                            <!-- webp ratio resize for 320px and 2 ratio -->\\n                <source\\n                        srcset=\"https://s0.rbk.ru/v6_top_pics/resized/640xH/media/img/3/81/346978074330813.webp 640w\"\\n                        type=\"image/webp\"\\n                        media=\"(max-width: 320px) and (-webkit-min-device-pixel-ratio: 2), (max-width: 320px) and (min-resolution: 192dpi)\"\\n                />\\n                                        <!-- ratio resize for 320px and 2 ratio -->\\n                <source\\n                        srcset=\"https://s0.rbk.ru/v6_top_pics/resized/640xH/media/img/3/81/346978074330813.jpeg 640w\"\\n                        media=\"(max-width: 320px) and (-webkit-min-device-pixel-ratio: 2), (max-width: 320px) and (min-resolution: 192dpi)\"\\n                />\\n                    \\n                    <!-- webp resize for 320px -->\\n            <source\\n                    srcset=\"https://s0.rbk.ru/v6_top_pics/resized/320xH/media/img/3/81/346978074330813.webp 320w\"\\n                    type=\"image/webp\"\\n                                            media=\"(max-width: 320px)\"\\n                                />\\n                <!-- resize for 320px -->\\n        <source\\n                srcset=\"https://s0.rbk.ru/v6_top_pics/resized/320xH/media/img/3/81/346978074330813.jpeg 320w\"\\n                                    media=\"(max-width: 320px)\"\\n                        />\\n                    \\n                                                            \\n                            <!-- webp ratio resize for 400px and 2 ratio -->\\n                <source\\n                        srcset=\"https://s0.rbk.ru/v6_top_pics/resized/800xH/media/img/3/81/346978074330813.webp 800w\"\\n                        type=\"image/webp\"\\n                        media=\"(max-width: 400px) and (-webkit-min-device-pixel-ratio: 2), (max-width: 400px) and (min-resolution: 192dpi)\"\\n                />\\n                                        <!-- ratio resize for 400px and 2 ratio -->\\n                <source\\n                        srcset=\"https://s0.rbk.ru/v6_top_pics/resized/800xH/media/img/3/81/346978074330813.jpeg 800w\"\\n                        media=\"(max-width: 400px) and (-webkit-min-device-pixel-ratio: 2), (max-width: 400px) and (min-resolution: 192dpi)\"\\n                />\\n                    \\n                    <!-- webp resize for 400px -->\\n            <source\\n                    srcset=\"https://s0.rbk.ru/v6_top_pics/resized/400xH/media/img/3/81/346978074330813.webp 400w\"\\n                    type=\"image/webp\"\\n                                            media=\"(max-width: 400px)\"\\n                                />\\n                <!-- resize for 400px -->\\n        <source\\n                srcset=\"https://s0.rbk.ru/v6_top_pics/resized/400xH/media/img/3/81/346978074330813.jpeg 400w\"\\n                                    media=\"(max-width: 400px)\"\\n                        />\\n                    \\n                                                            \\n                            <!-- webp ratio resize for 620px and 2 ratio -->\\n                <source\\n                        srcset=\"https://s0.rbk.ru/v6_top_pics/resized/1260xH/media/img/3/81/346978074330813.webp 1260w\"\\n                        type=\"image/webp\"\\n                        media=\"(max-width: 652px) and (-webkit-min-device-pixel-ratio: 2), (max-width: 652px) and (min-resolution: 192dpi)\"\\n                />\\n                                        <!-- ratio resize for 620px and 2 ratio -->\\n                <source\\n                        srcset=\"https://s0.rbk.ru/v6_top_pics/resized/1260xH/media/img/3/81/346978074330813.jpeg 1260w\"\\n                        media=\"(max-width: 652px) and (-webkit-min-device-pixel-ratio: 2), (max-width: 652px) and (min-resolution: 192dpi)\"\\n                />\\n                    \\n                    <!-- webp resize for 620px -->\\n            <source\\n                    srcset=\"https://s0.rbk.ru/v6_top_pics/resized/620xH/media/img/3/81/346978074330813.webp 620w\"\\n                    type=\"image/webp\"\\n                                            media=\"(max-width: 652px)\"\\n                                />\\n                <!-- resize for 620px -->\\n        <source\\n                srcset=\"https://s0.rbk.ru/v6_top_pics/resized/620xH/media/img/3/81/346978074330813.jpeg 620w\"\\n                                    media=\"(max-width: 652px)\"\\n                        />\\n                    \\n                                                            \\n                            <!-- webp ratio resize for 640px and 2 ratio -->\\n                <source\\n                        srcset=\"https://s0.rbk.ru/v6_top_pics/resized/1280xH/media/img/3/81/346978074330813.webp 1280w\"\\n                        type=\"image/webp\"\\n                        media=\"(-webkit-min-device-pixel-ratio: 2), (min-resolution: 192dpi)\"\\n                />\\n                                        <!-- ratio resize for 640px and 2 ratio -->\\n                <source\\n                        srcset=\"https://s0.rbk.ru/v6_top_pics/resized/1280xH/media/img/3/81/346978074330813.jpeg 1280w\"\\n                        media=\"(-webkit-min-device-pixel-ratio: 2), (min-resolution: 192dpi)\"\\n                />\\n                    \\n                    <!-- webp resize for 640px -->\\n            <source\\n                    srcset=\"https://s0.rbk.ru/v6_top_pics/resized/640xH/media/img/3/81/346978074330813.webp 640w\"\\n                    type=\"image/webp\"\\n                                />\\n                <!-- resize for 640px -->\\n        <source\\n                srcset=\"https://s0.rbk.ru/v6_top_pics/resized/640xH/media/img/3/81/346978074330813.jpeg 640w\"\\n                        />\\n    \\n    \\n        \\n    <!-- original size -->\\n            <source srcset=\"https://s0.rbk.ru/v6_top_pics/media/img/3/81/346978074330813.webp\" type=\"image/webp\" />\\n        <img src=\"https://s0.rbk.ru/v6_top_pics/media/img/3/81/346978074330813.jpeg\"\\n        width=\"1280\"        height=\"800\"        alt=\"Фото: Unsplash\"\\n                    loading=\"lazy\"\\n                class=\"article__main-image__image smart-image__img\"\\n         />\\n    </picture>\\n        </div>\\n                    \\n                            <div class=\"article__main-image__title\">\\n                                                                <span class=\"article__main-image__author\">\\n                                                            Фото: Unsplash\\n                                                    </span>\\n                                    </div>\\n                        </div>\\n                        \\n                                                                                    <div class=\"article__text__overview\">\\n                                    <span>Американские ученые провели успешные испытания модели ИИ, которая анализирует изменения в мозгу людей, лечащихся от депрессии. Результаты исследования могут значительно улучшить борьбу с ментальной проблемой</span>\\n                                </div>\\n                                                    \\n                                                                            \\n                                                    <div class=\"article__text__main\">\\n                                \\n\\n    <div class=\"article__special_container\">\\r\\n<p><strong>А в чем тренд? </strong></p>\\r\\n\\r\\n<p>Чтобы выявить потенциальные сердечно-сосудистые заболевания, доктора измеряют давление. Чтобы определить преддиабетное состояние&nbsp;&mdash; анализируют уровень инсулина. Однако в случае депрессии специалисты вынуждены полагаться на самоотчеты людей о симптомах. Это затрудняет объективную оценку.</p>\\r\\n\\r\\n<p>В сентябре 2023 года группа американских исследователей с помощью ИИ зафиксировала у людей, которые прошли курс глубокой стимуляции мозга (DBS), особый сигнал мозга, свидетельствовавший о выходе из депрессии. В рамках метода DBS вживленные в мозг электроды подают импульсы, которые меняют нейронную активность. По <a target=\"_blank\"  href=\"https://www.nature.com/articles/d41586-023-02979-7\">словам</a> нейробиолога из Дартмутского колледжа Пола Хольцхаймера, если результаты будут воспроизведены на более крупной выборке, это может стать переломным моментом в лечении депрессии.</p>\\r\\n</div>\\r\\n\\r\\n<h2>Сложности с самоотчетом</h2>\\r\\n\\r\\n<p>Попытки лечения депрессии с помощью DBS до сих пор имели ограниченный успех: в двух исследованиях <a target=\"_blank\"  href=\"https://doi.org/10.1016%2FS2215-0366%2817%2930371-1\">не удалось</a> <a target=\"_blank\"  href=\"https://doi.org/10.1016%2Fj.biopsych.2014.11.023\">продемонстрировать</a> преимущества по сравнению с плацебо. Одна из проблем заключалась в том, что для корректировки электрического напряжения медики вынуждены опираться исключительно на самоотчеты пациентов. В этом случае специалистам трудно отличить повседневные колебания настроения от патологической депрессии.</p>\\r\\n\\r\\n<h2>Модель анализирует показатели</h2>\\r\\n\\r\\n<p>Чтобы найти более успешный способ избавления от депрессии, исследователи <a target=\"_blank\"  href=\"https://www.nature.com/articles/d41586-023-02979-7\">разработали</a> новое устройство для DBS. Оно включает в себя стандартные электроды для стимуляции, а также новые датчики для измерения активности мозга. Ученые имплантировали аппарат в поясную кору (область мозга, играющую роль в регуляции эмоционального поведения) десяти человекам&nbsp;с депрессией, которая не поддавалась никаким методам лечения.</p>\\r\\n\\r\\n<p>Для выявления паттернов медики использовали модель ИИ, которая была обучена на записях мозга добровольцев в начале и в конце <a target=\"_blank\"  href=\"https://www.nature.com/articles/d41586-023-02979-7\">исследования</a>. Она выявила отчетливое изменение нейронной активности, которое позволило отличить депрессию от выздоровления с точностью более 90%.</p>\\r\\n\\r\\n<p>                <div class=\"article__clear\"></div>\\n\\n    \\n<div class=\"article__inline-item\">\\n    \\n        \\n            <a href=\"https://trends.rbc.ru/trends/industry/6177dadf9a794718fa34e7fb\" class=\"article__inline-item__image\">\\n                                        \\n                        \\n            <img\\n                src=\"https://s0.rbk.ru/v6_top_pics/resized/340x212_crop/media/img/9/80/756353487550809.jpg\"\\n                loading=\"lazy\"\\n                class=\"article__inline-item__image__image g-aspect-ratio g-aspect-ratio_16_10\" alt=\"Фото:Unsplash\"\\n                width=\"340\"\\n                height=\"212\"\\n            />\\n                    </a>\\n        <div class=\"article__inline-item__text\">\\n        <a href=\"https://trends.rbc.ru/trends/industry\" class=\"article__inline-item__category\">Индустрия 4.0</a>\\n        <a href=\"https://trends.rbc.ru/trends/industry/6177dadf9a794718fa34e7fb\" class=\"article__inline-item__title\">\\n            Как современная медицина борется с депрессией: 8 инновационных методов\\n        </a>\\n    </div>\\n</div>\\n    </p>\\r\\n\\r\\n<h2>Предотвращение рецидива</h2>\\r\\n\\r\\n<p>После 24 недель стимуляции у девяти из десяти участников наблюдалось значительное улучшение симптомов, а состояние семи человек соответствовало критериям ремиссии заболевания.</p>\\r\\n\\r\\n<p>Один из добровольцев в течение четырех месяцев позитивно реагировал на лечение, но затем произошел рецидив. Проанализировав данные записи мозга этого участника, исследователи обнаружили, что сигнал &laquo;выздоровления&raquo; исчез за месяц до ухудшения состояния. Если&nbsp;бы врачи располагали этими данными во время лечения, они могли&nbsp;бы изменить режим стимуляции и предотвратить рецидив.</p>\\r\\n\\r\\n<h2>Не только электроды</h2>\\r\\n\\r\\n<p>Исследователи поставили перед собой новую цель&nbsp;&mdash; не только подтвердить подход на большем количестве людей, но и изучить биологию того, что представляет собой модель мозга, способствующая выздоровлению. Ученые уже проводят дополнительные испытания обновленного устройства для проведения DBS.</p>\\r\\n\\r\\n<p>По словам Хольцхаймера, эти результаты могут иметь значение не только для метода глубокой стимуляции мозга. Не все люди с тяжелой депрессией захотят вживлять себе в голову электрод. Однако анализ сигналов мозга с помощью ИИ поможет и тем, кто лечится с помощью других методов.</p>\\n                            </div>\\n                        \\n                                            </div>\\n                \\n                                    \\n                    <div class=\"atricle__date-update\">\\n    Обновлено 20.10.2023\\n</div>                \\n                                                <div class=\"article__authors\">\\n                            <div class=\"article__authors__row\">\\n                        <div class=\"article__authors__name\">Текст</div>\\n                                            <div class=\"article__authors__author__wrap\">\\n                                                                                        <span class=\"article__authors__author\">\\n                                    <span class=\"article__authors__author__name\">Семен Башкиров</span>\\n                                </span>\\n                                                    </div>\\n                                    </div>\\n            \\n                    </div>\\n    \\n                    \\n                                        <div class=\"article__tags\">\\n        <div class=\"article__tags__container\">\\n            \\n                            <a href=\"https://trends.rbc.ru/trends/tag/ai\" class=\"article__tags__item\">Искусственный интеллект</a>\\n                            <a href=\"https://trends.rbc.ru/trends/tag/neural_network\" class=\"article__tags__item\">Нейросети</a>\\n                            <a href=\"https://trends.rbc.ru/trends/tag/issledovaniia-i-doklady\" class=\"article__tags__item\">Исследования и доклады</a>\\n            \\n                    </div>\\n    </div>\\n                \\n                                    <div class=\"article__share js-social-likes\">\\n    <div class=\"social-likes social-likes_notext\" data-counters=\"no\"\\n    data-title=\"Как модель искусственного интеллекта поможет в лечении депрессии\"    data-url=\"https://trends.rbc.ru/trends/industry/65327bc69a7947399939b243\"    >\\n                        <div class=\"vkontakte\" title=\"Поделиться ссылкой во Вконтакте\"></div>\\n                            <div class=\"odnoklassniki\" title=\"Поделиться ссылкой в Одноклассниках\"></div>\\n                                    </div>\\n</div>                            </div>\\n        </article>\\n                            <div class=\"l-base__col__right-b\">\\n                                                                                        <div class=\"g-desktop-visible\">\\n                                \\n    <footer class=\"right__major\">\\n        <div class=\"right__title\">Главное в&nbsp;тренде</div>\\n        <div class=\"right__major__list\">\\n                            <div class=\"right__major__item\">\\n                    <a href=\"https://trends.rbc.ru/trends/industry/64c7d5559a7947769fe9ca44\" class=\"right__major__link js-yandex-counter\" data-yandex-name=\"industry_materials_main_click\"  data-yandex-show=\"industry_materials_main_show\">\\n                                                                            <span class=\"right__major__image\">\\n                                                                                                    \\n                                                                                                                                    \\n                                \\n\\n            \\n        \\n                                \\n                                                    \\n                \\n        \\n            \\n                                    \\n                                \\n                    \\n        \\n                \\n                                                                \\n                \\n                                                                                \\n                            \\n                                \\n                                \\n                                                    \\n                                                                \\n                                                                            \\n                                                                                                                                            \\n                                                        \\n        \\n\\n\\n<picture class=\"smart-image\">\\n                    \\n                                                            \\n                            <!-- webp ratio resize for 320px and 2 ratio -->\\n                <source\\n                        srcset=\"https://s0.rbk.ru/v6_top_pics/resized/640xH/media/img/7/64/346908189677647.webp 640w\"\\n                        type=\"image/webp\"\\n                        media=\"(-webkit-min-device-pixel-ratio: 2), (min-resolution: 192dpi)\"\\n                />\\n                                        <!-- ratio resize for 320px and 2 ratio -->\\n                <source\\n                        srcset=\"https://s0.rbk.ru/v6_top_pics/resized/640xH/media/img/7/64/346908189677647.jpeg 640w\"\\n                        media=\"(-webkit-min-device-pixel-ratio: 2), (min-resolution: 192dpi)\"\\n                />\\n                    \\n                    <!-- webp resize for 320px -->\\n            <source\\n                    srcset=\"https://s0.rbk.ru/v6_top_pics/resized/320xH/media/img/7/64/346908189677647.webp 320w\"\\n                    type=\"image/webp\"\\n                                />\\n                <!-- resize for 320px -->\\n        <source\\n                srcset=\"https://s0.rbk.ru/v6_top_pics/resized/320xH/media/img/7/64/346908189677647.jpeg 320w\"\\n                        />\\n    \\n    \\n        \\n    <!-- original size -->\\n            <source srcset=\"https://s0.rbk.ru/v6_top_pics/media/img/7/64/346908189677647.webp\" type=\"image/webp\" />\\n        <img src=\"https://s0.rbk.ru/v6_top_pics/media/img/7/64/346908189677647.jpeg\"\\n        width=\"1376\"        height=\"860\"        alt=\"\"\\n                    loading=\"lazy\"\\n                class=\"right__major__image__image smart-image__img\"\\n         />\\n    </picture>\\n                            </span>\\n                                                <span class=\"right__major__title right__major__title_big\">Без руля и педалей: как устроены современные роботакси</span>\\n                    </a>\\n                                    </div>\\n                            <div class=\"right__major__item\">\\n                    <a href=\"https://trends.rbc.ru/trends/industry/60e4014c9a7947816217cac1\" class=\"right__major__link js-yandex-counter\" data-yandex-name=\"industry_materials_main_click\" >\\n                                                                        <span class=\"right__major__title\">Цифровой рубль: что это, зачем его запускают и как он будет работать</span>\\n                    </a>\\n                                    </div>\\n                            <div class=\"right__major__item\">\\n                    <a href=\"https://trends.rbc.ru/trends/industry/6135a3a89a7947010e474d55\" class=\"right__major__link js-yandex-counter\" data-yandex-name=\"industry_materials_main_click\" >\\n                                                                        <span class=\"right__major__title\">Смогут\\xa0ли дирижабли вновь завоевать небо</span>\\n                    </a>\\n                                    </div>\\n                    </div>\\n    </footer>\\n\\n                            </div>\\n                                                                <div class=\"l-base__sticky\">\\n                        \\n                                                                                    \\n    <footer class=\"right__readmore\">\\n        <div class=\"right__title\">Материалы по&nbsp;теме</div>\\n        <div class=\"right__readmore__slider\">\\n                            <div class=\"right__readmore__item right__readmore__item_card\">\\n                    <a href=\"https://trends.rbc.ru/trends/industry/61f1c8c79a79473df389b264\" class=\"right__readmore__link js-yandex-counter\" data-yandex-name=\"industry_materials_readmore_click\"  data-yandex-show=\"industry_materials_readmore_show\">\\n                        <span class=\"right__readmore__image\">\\n                                                                                        \\n                                                                                                                                            \\n                                                                                                                                                    \\n                                    <img src=\"https://s0.rbk.ru/v6_top_pics/resized/600x375_crop/media/img/1/82/756432359688821.jpg\" loading=\"lazy\" alt=\"Фото:Unsplash\" class=\"right__readmore__image__image g-image\" width=\"1200\" height=\"750\"/>\\n                                                    </span>\\n                        <span  class=\"right__readmore__title\">Пять главных трендов машинного обучения по версии Google</span>\\n                    </a>\\n                </div>\\n                            <div class=\"right__readmore__item\">\\n                    <a href=\"https://trends.rbc.ru/trends/industry/61e944c09a794700acd17549\" class=\"right__readmore__link js-yandex-counter\" data-yandex-name=\"industry_materials_readmore_click\" >\\n                        <span class=\"right__readmore__image\">\\n                                                                                        \\n                                                                                                                                            \\n                                                                                                                                                    \\n                                    <img src=\"https://s0.rbk.ru/v6_top_pics/resized/600x375_crop/media/img/1/30/756426775752301.jpg\" loading=\"lazy\" alt=\"Фото:Pexels\" class=\"right__readmore__image__image g-image\" width=\"1200\" height=\"750\"/>\\n                                                    </span>\\n                        <span  class=\"right__readmore__title\">Ученые смогли по сетчатке глаза определить риск ранней смерти человека</span>\\n                    </a>\\n                </div>\\n                            <div class=\"right__readmore__item\">\\n                    <a href=\"https://trends.rbc.ru/trends/industry/618063cc9a79479dd33049fd\" class=\"right__readmore__link js-yandex-counter\" data-yandex-name=\"industry_materials_readmore_click\" >\\n                        <span class=\"right__readmore__image\">\\n                                                                                        \\n                                                                                                                                            \\n                                                                                                                                                    \\n                                    <img src=\"https://s0.rbk.ru/v6_top_pics/resized/600x375_crop/media/img/6/60/756358590820606.jpg\" loading=\"lazy\" alt=\"Фото:Pexels\" class=\"right__readmore__image__image g-image\" width=\"1200\" height=\"750\"/>\\n                                                    </span>\\n                        <span  class=\"right__readmore__title\">Ученые доказали влияние системы штрафов на точность прогнозов нейросети</span>\\n                    </a>\\n                </div>\\n                    </div>\\n    </footer>\\n\\n                                                    \\n                                                    <aside class=\"right__oprosso\">\\n        <div class=\"right__oprosso__title\">\\n            Помогите нам стать лучше\\n        </div>\\n        <div class=\"right__oprosso__description\">\\n            Пока мы&nbsp;изучаем для вас новые тренды, поделитесь впечатлениями о&nbsp;прочитанном\\n        </div>\\n        <a href=\"https://oprosso.net/p/JPhdxetnbv2psf2iu\" class=\"right__oprosso__button\" target=\"_blank\">Пройти опрос</a>\\n    </aside>\\n\\n                                            </div>\\n                            </div>\\n            </div>\\n\\n                            </div>\\n            </div>\\n\\n    <div class=\"js-rbcslider-footer g-banner__news-footer g-relative\">\\n                        <div class=\"js-rbcslider-multy-news\"></div>\\n            </div>\\n\\n    </div>\\n            </div>\\n                                                </div>\\n                                <div class=\"js-social-onboarding-widget\" data-endpoint=\"/trends/ajax/social-networks/trends_onboarding_static\"></div>\\n                    </div>\\n\\n                                                                </div>\\n\\n                    </div><!-- .l-window -->\\n    \\n        </main>\\n        <footer class=\"footer\">\\n    <div class=\"footer__inner l-window\">\\n        <div class=\"footer__row footer__row_top\">\\n            <div class=\"footer__menu footer__menu_first\">\\n                <div class=\"footer__about\">\\n                    <div class=\"footer__about__logo\">\\n                        <a href=\"https://www.rbc.ru/\" class=\"footer__about__logo__link\">РБК</a>\\n                        <a href=\"/trends/\" class=\"footer__about__logo__link footer__about__logo__link_home\">Тренды</a>\\n                    </div>\\n                    <div class=\"footer__about__text\">\\n                        Рассказываем о&nbsp;трендах в&nbsp;экономике, бизнесе, технологиях и&nbsp;обществе, которые прямо сейчас меняют нашу жизнь\\n                    </div>\\n                    <a href=\"https://trends.rbc.ru/trends/social/61f162f09a79471cfba0de6c\" class=\"footer__about__link\">О&nbsp;проекте</a>\\n                </div>\\n\\n                \\n                                \\n                                                        \\n                                                                            \\n                    \\n                                                    <div class=\"footer__rzd-label\">\\n                                <a href=\"https://www.rzd.ru/?erid=4CQwVszH9pUmp4LS3vv\" class=\"footer__rzd-label__link\" target=\"_blank\">\\n                                    <img src=\"//s.rbk.ru/v4_trends_static/trends-4.0.71/styles/blocks/footer/images/rzd.svg\" class=\"footer__rzd-label__image\" alt=\"20 лет РЖД\" />\\n                                </a>\\n                            </div>\\n                        \\n                                                                            \\n                                    \\n                \\n            </div>\\n            <div class=\"footer__menu\">\\n                <div class=\"footer__menu__title\">Тренды</div>\\n                                    <a href=\"https://trends.rbc.ru/trends/social\" class=\"footer__menu__link\">Общество</a>\\n                                    <a href=\"https://trends.rbc.ru/trends/futurology\" class=\"footer__menu__link\">Футурология</a>\\n                                    <a href=\"https://trends.rbc.ru/trends/sharing\" class=\"footer__menu__link\">Шеринг</a>\\n                                    <a href=\"https://trends.rbc.ru/trends/industry\" class=\"footer__menu__link\">Индустрия 4.0</a>\\n                                    <a href=\"https://trends.rbc.ru/trends/education\" class=\"footer__menu__link\">Образование</a>\\n                                    <a href=\"https://trends.rbc.ru/trends/innovation\" class=\"footer__menu__link\">Инновации</a>\\n                                    <a href=\"https://trends.rbc.ru/trends/green\" class=\"footer__menu__link\">Эко-номика</a>\\n                            </div>\\n            <div class=\"footer__menu\">\\n                <div class=\"footer__menu__title\">Подписки</div>\\n                                    \\n                    \\n                                                                \\n                                            <a href=\"https://pro.rbc.ru/rbcoffer/comfort_email_news?utm_source=trends.rbc.ru/trends&amp;utm_medium=inhouse_media&amp;utm_campaign=rbc_comfort&amp;utm_term=footer\" class=\"footer__menu__link\" target=\"_blank\">\\n                            РБК Comfort\\n                        </a>\\n                                            <a href=\"https://pro.rbc.ru/offers?utm_source=trends.rbc.ru/trends&amp;utm_medium=inhouse_media&amp;utm_campaign=rbc_pro&amp;utm_term=footer&amp;from=footer\" class=\"footer__menu__link\" target=\"_blank\">\\n                            РБК Pro\\n                        </a>\\n                                                </div>\\n            <div class=\"footer__menu\">\\n                <div class=\"footer__menu__title\">Подписаться</div>\\n                                    <a href=\"https://t.me/rbc_trends\" target=\"_blank\" class=\"footer__menu__link\">Telegram</a>\\n                                    <a href=\"https://vk.com/rbc_trends\" target=\"_blank\" class=\"footer__menu__link\">ВКонтакте</a>\\n                                    <a href=\"https://www.youtube.com/channel/UCr0sFcTJoJVI01erYEi2bNw\" target=\"_blank\" class=\"footer__menu__link\">YouTube</a>\\n                                    <a href=\"https://zen.yandex.ru/rbc_trends\" target=\"_blank\" class=\"footer__menu__link\">«Яндекс.Дзен»</a>\\n                            </div>\\n        </div>\\n        <div class=\"footer__row footer__row_bottom\">\\n            <div class=\"footer__info\">\\n                <div class=\"footer__info__text\">\\n                    <p>©\\xa0АО\\xa0«РОСБИЗНЕСКОНСАЛТИНГ», 1995–2023\\n                        <br>\\n                        Сообщения и&nbsp;материалы сетевого издания &laquo;РБК&raquo; (зарегистрировано Федеральной службой по&nbsp;надзору в&nbsp;сфере связи, информационных технологий и&nbsp;массовых коммуникаций (Роскомнадзор) 03.12.2021 за&nbsp;номером ЭЛ&nbsp;&#8470;ФС77-82385) сопровождаются пометкой &laquo;РБК&raquo;. <span class=\"footer__info__text-adult\">18+</span> <a href=\"mailto:letters@rbc.ru\" class=\"footer__info__mail\">letters@rbc.ru</a>\\n                    </p>\\n                    <p class=\"g-desktop-visible\">\\n                        Нашли ошибку?\\n                        <br>Выделите ее&nbsp;и&nbsp;нажмите Ctrl+Enter\\n                    </p>\\n                </div>\\n                <div class=\"footer__info__menu\">\\n                    <a href=\"https://www.rbc.ru/restrictions/\" class=\"footer__info__menu__link\">Информация об&nbsp;ограничениях</a>\\n                    <a href=\"https://www.rbc.ru/info/\" class=\"footer__info__menu__link\">Правовая информация</a>\\n                    <a href=\"http://www.rbc.ru/privacy/\" class=\"footer__info__menu__link\">О&nbsp;соблюдении авторских прав</a>\\n                </div>\\n            </div>\\n        </div>\\n    </div>\\n</footer>\\n\\n\\n    \\n                \\n<div class=\"bottom-menu js-bottom-menu\">\\n    <div class=\"bottom-menu__nav l-window\">\\n        <a href=\"/trends?from=mainnews_bar\" class=\"bottom-menu__nav__link bottom-menu__nav__link_home\">Главная</a>\\n        <a href=\"/trends/short_news?from=newsfeed_bar\" class=\"bottom-menu__nav__link bottom-menu__nav__link_news\">Лента</a>\\n        <a href=\"#\" class=\"bottom-menu__nav__link bottom-menu__nav__link_social js-bottom-menu-popup-link\" data-type=\"social\">Подписаться</a>\\n                    <a href=\"#\" class=\"bottom-menu__nav__link bottom-menu__nav__link_share js-bottom-menu-popup-link\" data-type=\"share\">Поделиться</a>\\n            </div>\\n    <div class=\"bottom-menu__popup js-bottom-menu-popup\">\\n    <div class=\"bottom-menu__popup__inner l-window\">\\n        <div class=\"bottom-menu__popup__content js-bottom-menu-popup-content\" data-type=\"social\">\\n            <div class=\"bottom-menu__social\">\\n                                    <a href=\"https://t.me/rbc_trends\" target=\"_blank\" class=\"bottom-menu__popup__social__link\">\\n                        <span class=\"bottom-menu__popup__social__link__icon\">\\n                                                            <img src=\"https://s0.rbk.ru/v6_top_pics/resized/Wx80/media/img/3/41/756152823169413.png\"\\n          loading=\"lazy\"     class=\"bottom-menu__popup__social__link__icon__image\"     alt=\"\" />\\n                                                    </span>\\n                        Telegram\\n                    </a>\\n                                    <a href=\"https://vk.com/rbc_trends\" target=\"_blank\" class=\"bottom-menu__popup__social__link\">\\n                        <span class=\"bottom-menu__popup__social__link__icon\">\\n                                                            <img src=\"https://s0.rbk.ru/v6_top_pics/resized/Wx80/media/img/5/79/756152823045795.png\"\\n          loading=\"lazy\"     class=\"bottom-menu__popup__social__link__icon__image\"     alt=\"\" />\\n                                                    </span>\\n                        ВКонтакте\\n                    </a>\\n                                    <a href=\"https://www.youtube.com/channel/UCr0sFcTJoJVI01erYEi2bNw\" target=\"_blank\" class=\"bottom-menu__popup__social__link\">\\n                        <span class=\"bottom-menu__popup__social__link__icon\">\\n                                                            <img src=\"https://s0.rbk.ru/v6_top_pics/resized/Wx80/media/img/4/35/756152821394354.png\"\\n          loading=\"lazy\"     class=\"bottom-menu__popup__social__link__icon__image\"     alt=\"\" />\\n                                                    </span>\\n                        YouTube\\n                    </a>\\n                                    <a href=\"https://zen.yandex.ru/rbc_trends\" target=\"_blank\" class=\"bottom-menu__popup__social__link\">\\n                        <span class=\"bottom-menu__popup__social__link__icon\">\\n                                                            <img src=\"https://s0.rbk.ru/v6_top_pics/media/img/4/55/755924101431554.svg\" class=\"bottom-menu__popup__social__link__icon__image\" alt=\"\"/>\\n                                                    </span>\\n                        «Яндекс.Дзен»\\n                    </a>\\n                \\n            </div>\\n        </div>\\n                    <div class=\"bottom-menu__popup__content js-bottom-menu-popup-content\" data-type=\"share\">\\n                <div class=\"social-likes social-likes_popup social-likes__activate-no js-bottom-menu-social\" data-counters=\"no\"\\n            >\\n                                    <div class=\"vkontakte\">Вконтакте</div>\\n                    <div class=\"odnoklassniki\">Одноклассники</div>\\n            </div>\\n            </div>\\n                <span class=\"bottom-menu__popup__close js-bottom-menu-popup-close\">Закрыть</span>\\n    </div>\\n</div></div>\\n                <div id=\"id_ra_overlay\" class=\"page-overlay\"></div>    \\n    \\n    <div class=\"g-zeropixel\">\\n        \\n                        <script>RA.config.set(\\'counters.ya.idCounter\\', \\'54873298\\');</script>\\n\\n<!-- Yandex.Metrika counter -->\\n<script type=\"text/javascript\" >\\n    (function(m,e,t,r,i,k,a){m[i]=m[i]||function()\\n\\n    {(m[i].a=m[i].a||[]).push(arguments)}\\n    ;\\n        m[i].l=1*new Date();k=e.createElement(t),a=e.getElementsByTagName(t)[0],k.async=1,k.src=r,a.parentNode.insertBefore(k,a)})\\n    (window, document, \"script\", \"https://mc.yandex.ru/metrika/tag.js\", \"ym\");\\n\\n    ym(54873298, \"init\",\\n\\n        { clickmap:true, trackLinks:true, accurateTrackBounce:true }\\n    );\\n</script>\\n<noscript><div><img src=\"https://mc.yandex.ru/watch/54873298\" style=\"position:absolute; left:-9999px;\" alt=\"\" loading=\"lazy\" /></div></noscript>\\n<!-- /Yandex.Metrika counter -->\\n                            <!-- Tracking page views in infinity for UA-8487723-7 -->\\n<script>\\n    RA.config.set(\\'counters.ga.mediaPrefix\\', \\'shared\\');\\n</script>\\n\\n<script type=\"text/javascript\">\\n    (function(i,s,o,g,r,a,m){i[\\'GoogleAnalyticsObject\\']=r;i[r]=i[r]||function(){\\n        (i[r].q=i[r].q||[]).push(arguments)},i[r].l=1*new Date();a=s.createElement(o),\\n        m=s.getElementsByTagName(o)[0];a.async=1;a.src=g;m.parentNode.insertBefore(a,m)\\n    })(window,document,\\'script\\',\\'//www.google-analytics.com/analytics.js\\',\\'ga\\');\\n\\n    ga(\\'create\\', \\'UA-145454446-1\\', \\'auto\\');\\n    ga(\\'create\\', \\'UA-8487723-7\\', \\'auto\\', {\\'name\\': \\'shared\\'});\\n    ga(\\'send\\', \\'pageview\\');\\n    ga(\\'shared.send\\', \\'pageview\\');\\n    var scrollTop = 0;\\n\\n    window.onscroll = function(){\\n        scrollTop = window.pageYOffset || document.documentElement.scrollTop;\\n        if (scrollTop + document.documentElement.clientHeight >= document.documentElement.scrollHeight) {\\n            ga(\\'send\\', \\'event\\', \\'RBC|TRENDS\\', \\'ScrollENDpage\\');\\n        }\\n    };\\n</script>\\n<!-- /google analytics -->\\n                                    \\n                        \\n                            <!-- weborama -->\\n<script type=\\'text/javascript\\'>\\n  var wamid = \\'2641\\'; /* Wam Account ID  */\\n  var typ = \\'3\\';\\n  var Wvar=[];\\n  Wvar.push(\"domain\",location.host);\\n\\n  (function() {\\n    var bs = new Image(1, 1);\\n    bs.src = \\'https://dx.frontend.weborama.com/collect?touchpoint=0&url=\\' + escape(document.location);\\n  })();\\n\\n  // include the wamfactory wildcard js\\n  (function() {\\n    var w = document.createElement(\"script\");\\n    w.type = \"text/javascript\";\\n    w.src = document.location.protocol + \"//cstatic.weborama.fr/js/wam/customers/wamfactory_dpm.wildcard.min.js?rnd=\"+new Date().getTime();\\n    w.async = true;\\n    var body = document.getElementsByTagName(\\'script\\')[0];\\n    body.parentNode.insertBefore(w,body);\\n  })();\\n</script>\\n<!-- /weborama -->\\n                                        <!-- SMI2 pixel -->\\n<script type=\"text/javascript\">\\n    var ttagsmi2_data = {\\n        tag: 20300,\\n        ver: 2,\\n        format: \\'pixel\\',\\n        cdt: \\'2016-12-22 12:59:14\\'\\n    };\\n    (function() {\\n        var sc = document.createElement(\\'script\\');\\n        sc.type = \\'text/javascript\\';\\n        sc.async = true;\\n        sc.src = \\'//target.smi2.net/client/ttag.js\\';\\n        var s = document.getElementsByTagName(\\'script\\')[0];\\n        s.parentNode.insertBefore(sc, s);\\n    }());\\n</script>\\n<!-- / SMI2 pixel -->\\n                \\n\\n\\n<!-- Mindbox -->\\n<script>\\n    mindbox = window.mindbox || function() { mindbox.queue.push(arguments); };\\n    mindbox.queue = mindbox.queue || [];\\n    mindbox(\\'create\\', {\\n        endpointId: \\'Rbc.Trends\\'\\n    });\\n</script>\\n<script src=\"https://api.mindbox.ru/scripts/v1/tracker.modern.js\" async></script>\\n<!-- end Mindbox -->\\n                                        <!--LiveInternet counter--><script type=\"text/javascript\">\\nnew Image().src = \"//counter.yadro.ru/hit;RBCRU?r\"+\\nescape(document.referrer)+((typeof(screen)==\"undefined\")?\"\":\\n\";s\"+screen.width+\"*\"+screen.height+\"*\"+(screen.colorDepth?\\nscreen.colorDepth:screen.pixelDepth))+\";u\"+escape(document.URL)+\\n\";h\"+escape(document.title.substring(0,150))+\\n\";\"+Math.random();</script><!--/LiveInternet-->\\n                <!-- Top.Mail.Ru counter -->\\n<script type=\"text/javascript\">\\n    var _tmr = window._tmr || (window._tmr = []);\\n    _tmr.push({\\n        id: \"3214695\",\\n        type: \"pageView\",\\n        start: (new Date()).getTime()\\n    });\\n    (function (d, w, id) {\\n      if (d.getElementById(id)) return;\\n      var ts = d.createElement(\"script\");\\n      ts.type = \"text/javascript\";\\n      ts.async = true;\\n      ts.id = id;\\n      ts.src = \"https://top-fwz1.mail.ru/js/code.js\";\\n      var f = function () {\\n          var s = d.getElementsByTagName(\"script\")[0]; s.parentNode.insertBefore(ts, s);\\n      };\\n      if (w.opera == \"[object Opera]\") {\\n          d.addEventListener(\"DOMContentLoaded\", f, false);\\n      } else {\\n          f();\\n      }\\n    })(document, window, \"tmr-code\");\\n</script>\\n<noscript>\\n    <div>\\n        <img src=\"https://top-fwz1.mail.ru/counter?id=3214695;js=na\" style=\"position:absolute;left:-9999px;\" alt=\"Top.Mail.Ru\" />\\n    </div>\\n</noscript>\\n<!-- /Top.Mail.Ru counter -->                        \\n        \\n    </div>\\n\\n    \\n                \\n                        <script type=\"text/javascript\" charset=\"utf-8\">\\n    if (!window.smi2ids) {\\n        // если будет больше id, нужно будет учесть в скрипте\\n        window.smi2ids = [101450, 96099];\\n    }\\n</script>\\n    \\n            <script>\\n    RA.config.set(\\'domainAuth\\', \\'https://auth.rbc.ru\\');\\n    RA.config.set(\\'domainApigw\\', \\'https://apigw.rbc.ru\\');\\n    RA.config.set(\\'paywall.staticPath\\', \\'//s.rbk.ru/v2_paywall_static/paywall-2.1.166/\\');\\n</script>\\n<script src=\"//s.rbk.ru/v2_paywall_static/paywall-2.1.166/scripts/build/_paywall.js\"></script>\\n\\n    \\n            <script id=\"js_common_script\" src=\"//s.rbk.ru/v4_trends_static/common/common-10.10.90/scripts/build/_common.js\" data-param=\"0\"></script>\\n    \\n                <script src=\"//s.rbk.ru/v4_trends_static/common/common-10.10.90/scripts/build/_main.js\"></script>\\n            <script src=\"//s.rbk.ru/v4_trends_static/trends-4.0.71/scripts/build/_main.js\"></script>\\n        <script src=\"//s.rbk.ru/v4_trends_static/trends-4.0.71/scripts/build/_news.js\"></script>\\n\\n    \\n            <script>\\n    window.__infoservice_build_type = \\'production\\';\\n    window.__infoservice_static_path = \\'//s.rbk.ru/v4_trends_static/info-service/1.4.20/\\';\\n    window.__infoservice_service_path = \\'/info-service/api/v2/ev/\\';\\n</script>\\n\\n<script id=\"js_rm_core_script\" src=\"//s.rbk.ru/v4_trends_static/info-service/1.4.20/build/_core.js\" async></script>\\n<noscript><img src=\"/info-service/api/v2/noscripts\" loading=\"eager\" alt=\"\" style=\"border:0; position:absolute; left:-9999px;\"></noscript>\\n\\n\\n\\n    \\n                \\n    \\n    \\n    <!--AB:  -->\\n    <!-- NoVideo: off -->\\n</body>\\n</html>\\n'"
      ]
     },
     "execution_count": 105,
     "metadata": {},
     "output_type": "execute_result"
    }
   ],
   "source": [
    "article.html"
   ]
  },
  {
   "cell_type": "markdown",
   "id": "ab16c946",
   "metadata": {},
   "source": [
    "Окей! Получили html нашей новости. Пока это ничем не отличается от работы с библиотекой `requests`. Обычно мы бы загрузили эту html-страницу в `BeautifulSoup` и искали бы по тегам автора, заголовок и т.д. Но библиотека `newspaper3k` сильно облегчает эту задачу.\n",
    "\n",
    "Нам нужно использовать метод `.parse()`, который проанализирует html-код и найдет главные атрибуты новостной статьи: \n",
    "* Заголовок (`.title`)\n",
    "* Автора (`.authors`)\n",
    "* Дата публикации (`.publish_date`)\n",
    "* Текст статьи (`.text`)\n",
    "* Изображения в новости (`.top_image` (первое изображение на странице), `.images` (множество ссылок на все изображения))\n",
    "* Видео в новости (`.movies`)"
   ]
  },
  {
   "cell_type": "code",
   "execution_count": 106,
   "id": "dba5136e",
   "metadata": {},
   "outputs": [],
   "source": [
    "article.parse()"
   ]
  },
  {
   "cell_type": "code",
   "execution_count": 113,
   "id": "4cb62df8",
   "metadata": {},
   "outputs": [
    {
     "name": "stdout",
     "output_type": "stream",
     "text": [
      "Как модель искусственного интеллекта поможет в лечении депрессии\n"
     ]
    }
   ],
   "source": [
    "print(article.title) # заголовок есть"
   ]
  },
  {
   "cell_type": "code",
   "execution_count": 112,
   "id": "de4eb69d",
   "metadata": {},
   "outputs": [
    {
     "name": "stdout",
     "output_type": "stream",
     "text": [
      "['Фото', 'Семен Башкиров']\n"
     ]
    }
   ],
   "source": [
    "print(article.authors) # авторами библиотека посчитала еще и слово \"Фото\" (связано с версткой сайта и html-тегами)\n",
    "                        # но автора определила верно"
   ]
  },
  {
   "cell_type": "code",
   "execution_count": 111,
   "id": "47dadcff",
   "metadata": {},
   "outputs": [
    {
     "name": "stdout",
     "output_type": "stream",
     "text": [
      "None\n"
     ]
    }
   ],
   "source": [
    "print(article.publish_date) # а вот даты публикации на странице действительно нет"
   ]
  },
  {
   "cell_type": "code",
   "execution_count": 110,
   "id": "ed956f8c",
   "metadata": {},
   "outputs": [
    {
     "name": "stdout",
     "output_type": "stream",
     "text": [
      "Американские ученые провели успешные испытания модели ИИ, которая анализирует изменения в мозгу людей, лечащихся от депрессии. Результаты исследования могут значительно улучшить борьбу с ментальной проблемой\n",
      "\n",
      "А в чем тренд? Чтобы выявить потенциальные сердечно-сосудистые заболевания, доктора измеряют давление. Чтобы определить преддиабетное состояние — анализируют уровень инсулина. Однако в случае депрессии специалисты вынуждены полагаться на самоотчеты людей о симптомах. Это затрудняет объективную оценку. В сентябре 2023 года группа американских исследователей с помощью ИИ зафиксировала у людей, которые прошли курс глубокой стимуляции мозга (DBS), особый сигнал мозга, свидетельствовавший о выходе из депрессии. В рамках метода DBS вживленные в мозг электроды подают импульсы, которые меняют нейронную активность. По словам нейробиолога из Дартмутского колледжа Пола Хольцхаймера, если результаты будут воспроизведены на более крупной выборке, это может стать переломным моментом в лечении депрессии.\n",
      "\n",
      "Сложности с самоотчетом\n",
      "\n",
      "Попытки лечения депрессии с помощью DBS до сих пор имели ограниченный успех: в двух исследованиях не удалось продемонстрировать преимущества по сравнению с плацебо. Одна из проблем заключалась в том, что для корректировки электрического напряжения медики вынуждены опираться исключительно на самоотчеты пациентов. В этом случае специалистам трудно отличить повседневные колебания настроения от патологической депрессии.\n",
      "\n",
      "Модель анализирует показатели\n",
      "\n",
      "Чтобы найти более успешный способ избавления от депрессии, исследователи разработали новое устройство для DBS. Оно включает в себя стандартные электроды для стимуляции, а также новые датчики для измерения активности мозга. Ученые имплантировали аппарат в поясную кору (область мозга, играющую роль в регуляции эмоционального поведения) десяти человекам с депрессией, которая не поддавалась никаким методам лечения.\n",
      "\n",
      "Для выявления паттернов медики использовали модель ИИ, которая была обучена на записях мозга добровольцев в начале и в конце исследования. Она выявила отчетливое изменение нейронной активности, которое позволило отличить депрессию от выздоровления с точностью более 90%.\n",
      "\n",
      "Предотвращение рецидива\n",
      "\n",
      "После 24 недель стимуляции у девяти из десяти участников наблюдалось значительное улучшение симптомов, а состояние семи человек соответствовало критериям ремиссии заболевания.\n",
      "\n",
      "Один из добровольцев в течение четырех месяцев позитивно реагировал на лечение, но затем произошел рецидив. Проанализировав данные записи мозга этого участника, исследователи обнаружили, что сигнал «выздоровления» исчез за месяц до ухудшения состояния. Если бы врачи располагали этими данными во время лечения, они могли бы изменить режим стимуляции и предотвратить рецидив.\n",
      "\n",
      "Не только электроды\n",
      "\n",
      "Исследователи поставили перед собой новую цель — не только подтвердить подход на большем количестве людей, но и изучить биологию того, что представляет собой модель мозга, способствующая выздоровлению. Ученые уже проводят дополнительные испытания обновленного устройства для проведения DBS.\n",
      "\n",
      "По словам Хольцхаймера, эти результаты могут иметь значение не только для метода глубокой стимуляции мозга. Не все люди с тяжелой депрессией захотят вживлять себе в голову электрод. Однако анализ сигналов мозга с помощью ИИ поможет и тем, кто лечится с помощью других методов.\n"
     ]
    }
   ],
   "source": [
    "print(article.text) # весь текст статьи"
   ]
  },
  {
   "cell_type": "code",
   "execution_count": 114,
   "id": "32703dec",
   "metadata": {},
   "outputs": [
    {
     "name": "stdout",
     "output_type": "stream",
     "text": [
      "https://s0.rbk.ru/v6_top_pics/media/img/3/81/346978074330813.jpeg\n"
     ]
    }
   ],
   "source": [
    "print(article.top_image) # фотография из статьи"
   ]
  },
  {
   "cell_type": "code",
   "execution_count": 117,
   "id": "22e4ea07",
   "metadata": {},
   "outputs": [
    {
     "name": "stdout",
     "output_type": "stream",
     "text": [
      "{'https://s0.rbk.ru/v6_top_pics/resized/Wx80/media/img/5/79/756152823045795.png', 'https://trends.rbc.ru/info-service/api/v2/noscripts', 'https://s0.rbk.ru/v6_top_pics/media/img/3/81/346978074330813.jpeg', 'https://s0.rbk.ru/v6_top_pics/resized/340x212_crop/media/img/9/80/756353487550809.jpg', 'https://top-fwz1.mail.ru/counter?id=3214695;js=na', 'https://s0.rbk.ru/v6_top_pics/media/img/4/55/755924101431554.svg', 'https://s.rbk.ru/v4_trends_static/trends-4.0.71/styles/blocks/footer/images/rzd.svg', 'https://s0.rbk.ru/v6_top_pics/resized/600x375_crop/media/img/1/30/756426775752301.jpg', 'https://mc.yandex.ru/watch/54873298', 'https://s0.rbk.ru/v6_top_pics/resized/Wx80/media/img/3/41/756152823169413.png', 'https://s0.rbk.ru/v6_top_pics/resized/600x375_crop/media/img/6/60/756358590820606.jpg', 'https://s0.rbk.ru/v6_top_pics/resized/Wx80/media/img/4/35/756152821394354.png', 'https://s0.rbk.ru/v6_top_pics/resized/600x375_crop/media/img/1/82/756432359688821.jpg', 'https://s0.rbk.ru/v6_top_pics/media/img/8/46/756105436203468.svg', 'https://s0.rbk.ru/v6_top_pics/media/img/7/64/346908189677647.jpeg'}\n"
     ]
    }
   ],
   "source": [
    "print(article.images) # все фотографии, найденные на странице"
   ]
  },
  {
   "cell_type": "code",
   "execution_count": 118,
   "id": "cd46bb73",
   "metadata": {},
   "outputs": [
    {
     "name": "stdout",
     "output_type": "stream",
     "text": [
      "https://s0.rbk.ru/v6_top_pics/resized/Wx80/media/img/5/79/756152823045795.png\n",
      "https://trends.rbc.ru/info-service/api/v2/noscripts\n",
      "https://s0.rbk.ru/v6_top_pics/media/img/3/81/346978074330813.jpeg\n",
      "https://s0.rbk.ru/v6_top_pics/resized/340x212_crop/media/img/9/80/756353487550809.jpg\n",
      "https://top-fwz1.mail.ru/counter?id=3214695;js=na\n",
      "https://s0.rbk.ru/v6_top_pics/media/img/4/55/755924101431554.svg\n",
      "https://s.rbk.ru/v4_trends_static/trends-4.0.71/styles/blocks/footer/images/rzd.svg\n",
      "https://s0.rbk.ru/v6_top_pics/resized/600x375_crop/media/img/1/30/756426775752301.jpg\n",
      "https://mc.yandex.ru/watch/54873298\n",
      "https://s0.rbk.ru/v6_top_pics/resized/Wx80/media/img/3/41/756152823169413.png\n",
      "https://s0.rbk.ru/v6_top_pics/resized/600x375_crop/media/img/6/60/756358590820606.jpg\n",
      "https://s0.rbk.ru/v6_top_pics/resized/Wx80/media/img/4/35/756152821394354.png\n",
      "https://s0.rbk.ru/v6_top_pics/resized/600x375_crop/media/img/1/82/756432359688821.jpg\n",
      "https://s0.rbk.ru/v6_top_pics/media/img/8/46/756105436203468.svg\n",
      "https://s0.rbk.ru/v6_top_pics/media/img/7/64/346908189677647.jpeg\n"
     ]
    }
   ],
   "source": [
    "for img in article.images:\n",
    "    print(img) # видим, что сюда попали изображения в том числе лого и анонсов других статей"
   ]
  },
  {
   "cell_type": "code",
   "execution_count": 120,
   "id": "022c23ed",
   "metadata": {},
   "outputs": [
    {
     "name": "stdout",
     "output_type": "stream",
     "text": [
      "[]\n"
     ]
    }
   ],
   "source": [
    "print(article.movies) # видео в этой статье нет"
   ]
  },
  {
   "cell_type": "markdown",
   "id": "1b662735",
   "metadata": {},
   "source": [
    "Также мы можем вытащить метаданные.\n",
    "\n",
    "**Метаданные** – это данные о данных. \n",
    "\n",
    "Тег \\<head> в HTML-документе - это та часть, которая не отображается в браузере при загрузке страницы. Она содержит такую информацию, как <заголовок> страницы, ссылки на CSS (каскадные таблицы стилей – код, который используется для стилизации веб-страницы), ссылки на фавиконы и другие метаданные (данные о HTML, например, автор и важные ключевые слова, описывающие документ)."
   ]
  },
  {
   "cell_type": "code",
   "execution_count": 132,
   "id": "c9566fb3",
   "metadata": {},
   "outputs": [
    {
     "data": {
      "text/plain": [
       "defaultdict(dict,\n",
       "            {'viewport': 'width=device-width, initial-scale=1.0, user-scalable=no, minimum-scale=1.0, maximum-scale=1.0',\n",
       "             'HandheldFriendly': 'True',\n",
       "             'format-detection': 'address=no',\n",
       "             'title': 'Как модель искусственного интеллекта поможет в лечении депрессии | РБК Тренды',\n",
       "             'description': 'Американские ученые провели успешные испытания модели ИИ, которая анализирует изменения в мозгу людей, лечащихся от депрессии. Результаты исследования могут значительно улучшить борьбу с ментальной проблемой',\n",
       "             'copyright': '«РосБизнесКонсалтинг»',\n",
       "             'robots': 'max-image-preview:large',\n",
       "             'og': {'title': 'Как модель искусственного интеллекта поможет в лечении депрессии | РБК Тренды',\n",
       "              'type': 'article',\n",
       "              'url': 'https://trends.rbc.ru/trends/industry/65327bc69a7947399939b243',\n",
       "              'image': 'https://s0.rbk.ru/v6_top_pics/media/img/3/81/346978074330813.jpeg',\n",
       "              'description': 'Американские ученые провели успешные испытания модели ИИ, которая анализирует изменения в мозгу людей, лечащихся от депрессии. Результаты исследования могут значительно улучшить борьбу с ментальной проблемой',\n",
       "              'site_name': 'РБК Тренды',\n",
       "              'locale': 'ru_RU'},\n",
       "             'twitter': {'card': 'summary',\n",
       "              'site': '@ru_rbc',\n",
       "              'creator': '@ru_rbc',\n",
       "              'title': 'Как модель искусственного интеллекта поможет в лечении депрессии |',\n",
       "              'description': 'Американские ученые провели успешные испытания модели ИИ, которая анализирует изменения в мозгу людей, лечащихся от депрессии. Результаты исследования могут значительно улучшить борьбу с ментальной',\n",
       "              'image': 'https://s0.rbk.ru/v6_top_pics/media/img/3/81/346978074330813.jpeg'},\n",
       "             'yandex_recommendations_image': 'https://s0.rbk.ru/v6_top_pics/resized/1200xH/media/img/3/81/346978074330813.jpeg',\n",
       "             'yandex_recommendations_category': 'Тренды',\n",
       "             'yandex_recommendations_tag': 'exclude',\n",
       "             'msapplication-TileColor': '#ffffff',\n",
       "             'msapplication-TileImage': '//s.rbk.ru/v4_trends_static/common/common-10.10.90/images/mstile-144x144.png',\n",
       "             'msapplication-square70x70logo': '//s.rbk.ru/v4_trends_static/common/common-10.10.90/images/mstile-70x70.png',\n",
       "             'msapplication-square150x150logo': '//s.rbk.ru/v4_trends_static/common/common-10.10.90/images/mstile-150x150.png',\n",
       "             'msapplication-square310x310logo': '//s.rbk.ru/v4_trends_static/common/common-10.10.90/images/mstile-310x310.png',\n",
       "             'msapplication-wide310x150logo': '//s.rbk.ru/v4_trends_static/common/common-10.10.90/images/mstile-310x150.png',\n",
       "             'news_keywords': 'Депрессия, Стимуляция, Исследователь, Электрод, Самоотчёт, Состояние, Активность, Выздоровление, Устройство, Доброволец, Симптом, Специалист, Вынудить, Результат, Заболевание, Участник, Исследование, Глубокий, Нейронный, Анализировать'})"
      ]
     },
     "execution_count": 132,
     "metadata": {},
     "output_type": "execute_result"
    }
   ],
   "source": [
    "article.meta_data # это большой словарь"
   ]
  },
  {
   "cell_type": "code",
   "execution_count": 135,
   "id": "8341e5de",
   "metadata": {},
   "outputs": [
    {
     "name": "stdout",
     "output_type": "stream",
     "text": [
      "Американские ученые провели успешные испытания модели ИИ, которая анализирует изменения в мозгу людей, лечащихся от депрессии. Результаты исследования могут значительно улучшить борьбу с ментальной проблемой\n"
     ]
    }
   ],
   "source": [
    "print(article.meta_data['og']['description']) # например, описание статьи от авторов \n",
    "                                            # (используется для анонса ссылки в поисковых системах)"
   ]
  },
  {
   "cell_type": "markdown",
   "id": "47a264e1",
   "metadata": {},
   "source": [
    "## Обработка естественного языка в новостях"
   ]
  },
  {
   "cell_type": "markdown",
   "id": "82a50e35",
   "metadata": {},
   "source": [
    "Библиотека `newspaper3k` предлагает метод `.nlp()`, который обрабатывает новость и выделяет ключевые слова (атрибут `.keywords`) и краткую выжимку текста (атрибут `.summary`).\n",
    "\n",
    "Стоит отметить, что NLP в этой библиотеке достаточно плохо обрабатывает русский язык, но отлично справляется с английским."
   ]
  },
  {
   "cell_type": "code",
   "execution_count": 123,
   "id": "0df4e035",
   "metadata": {},
   "outputs": [],
   "source": [
    "article.nlp()"
   ]
  },
  {
   "cell_type": "code",
   "execution_count": 126,
   "id": "978857b9",
   "metadata": {},
   "outputs": [
    {
     "name": "stdout",
     "output_type": "stream",
     "text": [
      "['помощью', 'депрессии', 'искусственного', 'dbs', 'мозга', 'ии', 'результаты', 'лечении', 'людей', 'ученые', 'электроды', 'модель', 'стимуляции', 'поможет', 'интеллекта']\n"
     ]
    }
   ],
   "source": [
    "print(article.keywords) # ключевые слова действительно отражают нашу новость"
   ]
  },
  {
   "cell_type": "markdown",
   "id": "b456461f",
   "metadata": {},
   "source": [
    "Сравним ключевые слова с теми, которые авторы статьи промаркировали эту новость:"
   ]
  },
  {
   "cell_type": "code",
   "execution_count": 136,
   "id": "3031b573",
   "metadata": {},
   "outputs": [
    {
     "data": {
      "text/plain": [
       "'Депрессия, Стимуляция, Исследователь, Электрод, Самоотчёт, Состояние, Активность, Выздоровление, Устройство, Доброволец, Симптом, Специалист, Вынудить, Результат, Заболевание, Участник, Исследование, Глубокий, Нейронный, Анализировать'"
      ]
     },
     "execution_count": 136,
     "metadata": {},
     "output_type": "execute_result"
    }
   ],
   "source": [
    "article.meta_data['news_keywords']"
   ]
  },
  {
   "cell_type": "markdown",
   "id": "edc9e367",
   "metadata": {},
   "source": [
    "Слова отличаются. В том числе это связано с тем, что в метаданных ключевые слова прописывают для поисковых систем и SEO-оптимизации страницы, а не для того, чтобы описать смысл статьи (как в NLP)."
   ]
  },
  {
   "cell_type": "code",
   "execution_count": 127,
   "id": "0a2c9ba0",
   "metadata": {
    "scrolled": false
   },
   "outputs": [
    {
     "name": "stdout",
     "output_type": "stream",
     "text": [
      "Американские ученые провели успешные испытания модели ИИ, которая анализирует изменения в мозгу людей, лечащихся от депрессии.\n",
      "В сентябре 2023 года группа американских исследователей с помощью ИИ зафиксировала у людей, которые прошли курс глубокой стимуляции мозга (DBS), особый сигнал мозга, свидетельствовавший о выходе из депрессии.\n",
      "Сложности с самоотчетомПопытки лечения депрессии с помощью DBS до сих пор имели ограниченный успех: в двух исследованиях не удалось продемонстрировать преимущества по сравнению с плацебо.\n",
      "По словам Хольцхаймера, эти результаты могут иметь значение не только для метода глубокой стимуляции мозга.\n",
      "Однако анализ сигналов мозга с помощью ИИ поможет и тем, кто лечится с помощью других методов.\n"
     ]
    }
   ],
   "source": [
    "print(article.summary) # краткая выжимка тоже достаточно успешно отработала"
   ]
  },
  {
   "cell_type": "markdown",
   "id": "e38d687b",
   "metadata": {},
   "source": [
    "## Парсинг всех новостных статей на странице"
   ]
  },
  {
   "cell_type": "markdown",
   "id": "36839324",
   "metadata": {},
   "source": [
    "Мы посмотрели, как обработать одну новость. Но чаще всего нам нужно обработать большой массив данных.\n",
    "\n",
    "Для этого у библиотеки `newspaper3k` есть метод `.build()`, который самостоятельно найдет ссылки на новости."
   ]
  },
  {
   "cell_type": "code",
   "execution_count": 137,
   "id": "6d79a69e",
   "metadata": {},
   "outputs": [],
   "source": [
    "import newspaper # до этого мы работали только с одним классом в библиотеке, теперь будем работать \n",
    "                 # с несколькими функциями оттуда, поэтому импортируем всю библиотеку"
   ]
  },
  {
   "cell_type": "markdown",
   "id": "674f40bb",
   "metadata": {},
   "source": [
    "В этот раз поработаем с разделом РБК.Тренды «[Потратить](https://rbclife.ru/spend)» и проанализируем новости – куда чаще всего предлагают тратить деньги?\n",
    "\n",
    "<img src=\"https://media0.giphy.com/media/xTiTnqUxyWbsAXq7Ju/giphy.gif?cid=ecf05e47fx45w99opc790koo7b7p1enbrpzvx29l216alkv5&ep=v1_gifs_search&rid=giphy.gif&ct=g\">"
   ]
  },
  {
   "cell_type": "code",
   "execution_count": 146,
   "id": "067fc719",
   "metadata": {},
   "outputs": [],
   "source": [
    "money = newspaper.build('https://rbclife.ru/spend', \n",
    "                        memoize_articles = False) # загрузили все ссылки новостей по url\n",
    "                                                  # параметр memorize_article регулирует, \n",
    "                                                  # хотите вы кэшировать новости или нет"
   ]
  },
  {
   "cell_type": "code",
   "execution_count": 148,
   "id": "16a1f3d4",
   "metadata": {},
   "outputs": [
    {
     "data": {
      "text/plain": [
       "136"
      ]
     },
     "execution_count": 148,
     "metadata": {},
     "output_type": "execute_result"
    }
   ],
   "source": [
    "money.size() # покажет, сколько статей удалось найти"
   ]
  },
  {
   "cell_type": "code",
   "execution_count": 150,
   "id": "5314de19",
   "metadata": {},
   "outputs": [
    {
     "data": {
      "text/plain": [
       "[<newspaper.article.Article at 0x7fc4ec126940>,\n",
       " <newspaper.article.Article at 0x7fc4ec138bb0>,\n",
       " <newspaper.article.Article at 0x7fc4ec1385b0>,\n",
       " <newspaper.article.Article at 0x7fc4c8116bb0>,\n",
       " <newspaper.article.Article at 0x7fc4ec138a30>,\n",
       " <newspaper.article.Article at 0x7fc4ec1381f0>,\n",
       " <newspaper.article.Article at 0x7fc4f26a03d0>,\n",
       " <newspaper.article.Article at 0x7fc4f26a0310>,\n",
       " <newspaper.article.Article at 0x7fc4c8116d60>,\n",
       " <newspaper.article.Article at 0x7fc4c824a610>,\n",
       " <newspaper.article.Article at 0x7fc4c824ac10>,\n",
       " <newspaper.article.Article at 0x7fc4c824a1c0>,\n",
       " <newspaper.article.Article at 0x7fc4c824a400>,\n",
       " <newspaper.article.Article at 0x7fc4c824a640>,\n",
       " <newspaper.article.Article at 0x7fc4c824a940>,\n",
       " <newspaper.article.Article at 0x7fc4c824a550>,\n",
       " <newspaper.article.Article at 0x7fc4ec1388e0>,\n",
       " <newspaper.article.Article at 0x7fc4ec138940>,\n",
       " <newspaper.article.Article at 0x7fc4f26a02e0>,\n",
       " <newspaper.article.Article at 0x7fc4c824a5b0>,\n",
       " <newspaper.article.Article at 0x7fc4c824af70>,\n",
       " <newspaper.article.Article at 0x7fc4c824ac70>,\n",
       " <newspaper.article.Article at 0x7fc4d8626760>,\n",
       " <newspaper.article.Article at 0x7fc4c8226250>,\n",
       " <newspaper.article.Article at 0x7fc4c8226400>,\n",
       " <newspaper.article.Article at 0x7fc4c8226fd0>,\n",
       " <newspaper.article.Article at 0x7fc4c8226cd0>,\n",
       " <newspaper.article.Article at 0x7fc4c8226730>,\n",
       " <newspaper.article.Article at 0x7fc4c82263a0>,\n",
       " <newspaper.article.Article at 0x7fc4c8226910>,\n",
       " <newspaper.article.Article at 0x7fc4c8226190>,\n",
       " <newspaper.article.Article at 0x7fc4c8235160>,\n",
       " <newspaper.article.Article at 0x7fc4c82350a0>,\n",
       " <newspaper.article.Article at 0x7fc4ec13f490>,\n",
       " <newspaper.article.Article at 0x7fc4c8116100>,\n",
       " <newspaper.article.Article at 0x7fc4ec13f580>,\n",
       " <newspaper.article.Article at 0x7fc4ec13f2e0>,\n",
       " <newspaper.article.Article at 0x7fc4ec13f100>,\n",
       " <newspaper.article.Article at 0x7fc4c8257e80>,\n",
       " <newspaper.article.Article at 0x7fc4ec13f5e0>,\n",
       " <newspaper.article.Article at 0x7fc4ec13fa90>,\n",
       " <newspaper.article.Article at 0x7fc4c824e070>,\n",
       " <newspaper.article.Article at 0x7fc4c811cd30>,\n",
       " <newspaper.article.Article at 0x7fc4c811c2b0>,\n",
       " <newspaper.article.Article at 0x7fc4c811ce80>,\n",
       " <newspaper.article.Article at 0x7fc4c811ca90>,\n",
       " <newspaper.article.Article at 0x7fc4c811c430>,\n",
       " <newspaper.article.Article at 0x7fc4ec126a00>,\n",
       " <newspaper.article.Article at 0x7fc4c8248fd0>,\n",
       " <newspaper.article.Article at 0x7fc4c82534f0>,\n",
       " <newspaper.article.Article at 0x7fc4c824efa0>,\n",
       " <newspaper.article.Article at 0x7fc4c8253970>,\n",
       " <newspaper.article.Article at 0x7fc4ec155cd0>,\n",
       " <newspaper.article.Article at 0x7fc4c8235970>,\n",
       " <newspaper.article.Article at 0x7fc4c82352b0>,\n",
       " <newspaper.article.Article at 0x7fc4c8235820>,\n",
       " <newspaper.article.Article at 0x7fc4c82351f0>,\n",
       " <newspaper.article.Article at 0x7fc4c8235100>,\n",
       " <newspaper.article.Article at 0x7fc4c81162b0>,\n",
       " <newspaper.article.Article at 0x7fc4c8116610>,\n",
       " <newspaper.article.Article at 0x7fc4c81167c0>,\n",
       " <newspaper.article.Article at 0x7fc4c8116970>,\n",
       " <newspaper.article.Article at 0x7fc4c8116f10>,\n",
       " <newspaper.article.Article at 0x7fc4c8257190>,\n",
       " <newspaper.article.Article at 0x7fc4c8257340>,\n",
       " <newspaper.article.Article at 0x7fc4c82574f0>,\n",
       " <newspaper.article.Article at 0x7fc4ec155c70>,\n",
       " <newspaper.article.Article at 0x7fc4c8235d30>,\n",
       " <newspaper.article.Article at 0x7fc4c8257bb0>,\n",
       " <newspaper.article.Article at 0x7fc4c8257cd0>,\n",
       " <newspaper.article.Article at 0x7fc4c824e2b0>,\n",
       " <newspaper.article.Article at 0x7fc4c824e460>,\n",
       " <newspaper.article.Article at 0x7fc4c824e610>,\n",
       " <newspaper.article.Article at 0x7fc4c82576d0>,\n",
       " <newspaper.article.Article at 0x7fc4c824e400>,\n",
       " <newspaper.article.Article at 0x7fc4c824eb50>,\n",
       " <newspaper.article.Article at 0x7fc4c82489a0>,\n",
       " <newspaper.article.Article at 0x7fc4c82482e0>,\n",
       " <newspaper.article.Article at 0x7fc4c8248a30>,\n",
       " <newspaper.article.Article at 0x7fc4c8248e20>,\n",
       " <newspaper.article.Article at 0x7fc4c8257be0>,\n",
       " <newspaper.article.Article at 0x7fc4c8253190>,\n",
       " <newspaper.article.Article at 0x7fc4c8235bb0>,\n",
       " <newspaper.article.Article at 0x7fc4c81163d0>,\n",
       " <newspaper.article.Article at 0x7fc4c81166a0>,\n",
       " <newspaper.article.Article at 0x7fc4c8116a90>,\n",
       " <newspaper.article.Article at 0x7fc4c8116fa0>,\n",
       " <newspaper.article.Article at 0x7fc4c82573d0>,\n",
       " <newspaper.article.Article at 0x7fc4c82577c0>,\n",
       " <newspaper.article.Article at 0x7fc4c824e100>,\n",
       " <newspaper.article.Article at 0x7fc4c824e4f0>,\n",
       " <newspaper.article.Article at 0x7fc4ec126310>,\n",
       " <newspaper.article.Article at 0x7fc4c8253340>,\n",
       " <newspaper.article.Article at 0x7fc4c82536a0>,\n",
       " <newspaper.article.Article at 0x7fc4c8253850>,\n",
       " <newspaper.article.Article at 0x7fc4c8248400>,\n",
       " <newspaper.article.Article at 0x7fc4c8248be0>,\n",
       " <newspaper.article.Article at 0x7fc4ec1556d0>,\n",
       " <newspaper.article.Article at 0x7fc4c82533d0>,\n",
       " <newspaper.article.Article at 0x7fc4c82538e0>,\n",
       " <newspaper.article.Article at 0x7fc4c8253a90>,\n",
       " <newspaper.article.Article at 0x7fc4c8253c40>,\n",
       " <newspaper.article.Article at 0x7fc4c8253df0>,\n",
       " <newspaper.article.Article at 0x7fc4f26a0a00>,\n",
       " <newspaper.article.Article at 0x7fc4c8229190>,\n",
       " <newspaper.article.Article at 0x7fc4c8229340>,\n",
       " <newspaper.article.Article at 0x7fc4c82294f0>,\n",
       " <newspaper.article.Article at 0x7fc4c82296a0>,\n",
       " <newspaper.article.Article at 0x7fc4c8229850>,\n",
       " <newspaper.article.Article at 0x7fc4c8229a00>,\n",
       " <newspaper.article.Article at 0x7fc4c8229130>,\n",
       " <newspaper.article.Article at 0x7fc4c8229b50>,\n",
       " <newspaper.article.Article at 0x7fc4c8229d00>,\n",
       " <newspaper.article.Article at 0x7fc4c8229eb0>,\n",
       " <newspaper.article.Article at 0x7fc4ec138df0>,\n",
       " <newspaper.article.Article at 0x7fc4d82fb0a0>,\n",
       " <newspaper.article.Article at 0x7fc4d82fb400>,\n",
       " <newspaper.article.Article at 0x7fc4d82fb5b0>,\n",
       " <newspaper.article.Article at 0x7fc4d82fb760>,\n",
       " <newspaper.article.Article at 0x7fc4d82fb970>,\n",
       " <newspaper.article.Article at 0x7fc4d82fbb20>,\n",
       " <newspaper.article.Article at 0x7fc4d82fbcd0>,\n",
       " <newspaper.article.Article at 0x7fc4c8253e80>,\n",
       " <newspaper.article.Article at 0x7fc4c8229730>,\n",
       " <newspaper.article.Article at 0x7fc4c8229c40>,\n",
       " <newspaper.article.Article at 0x7fc4d82fb040>,\n",
       " <newspaper.article.Article at 0x7fc4d82fb2b0>,\n",
       " <newspaper.article.Article at 0x7fc4d82fb6a0>,\n",
       " <newspaper.article.Article at 0x7fc4d82fbca0>,\n",
       " <newspaper.article.Article at 0x7fc4d82fbf70>,\n",
       " <newspaper.article.Article at 0x7fc4d83060a0>,\n",
       " <newspaper.article.Article at 0x7fc4d8306250>,\n",
       " <newspaper.article.Article at 0x7fc4d8306400>,\n",
       " <newspaper.article.Article at 0x7fc4d83065b0>,\n",
       " <newspaper.article.Article at 0x7fc4d8306760>,\n",
       " <newspaper.article.Article at 0x7fc4d8306910>]"
      ]
     },
     "execution_count": 150,
     "metadata": {},
     "output_type": "execute_result"
    }
   ],
   "source": [
    "money.articles # покажет объекты класса Article для каждой найденной статьи"
   ]
  },
  {
   "cell_type": "code",
   "execution_count": 147,
   "id": "f6ecb026",
   "metadata": {},
   "outputs": [
    {
     "name": "stdout",
     "output_type": "stream",
     "text": [
      "https://rbclife.ru/news/653a73539a79476b91944861\n",
      "https://rbclife.ru/news/6538cc019a79471788cc47db\n",
      "https://rbclife.ru/news/653214da9a7947b80217e3f3\n",
      "https://rbclife.ru/news/6536289e9a7947a93e4474d0\n",
      "https://rbclife.ru/news/6535fcaa9a7947e404d3335a\n",
      "https://rbclife.ru/news/65327e9c9a794765b01c408d\n",
      "https://rbclife.ru/news/636b7aa19a7947229e6d5337\n",
      "https://rbclife.ru/news/652e75169a7947a39ccad84a\n",
      "https://rbclife.ru/news/652e25fc9a7947538d110109\n",
      "https://rbclife.ru/news/652eacc59a7947cca2a50d18\n",
      "https://rbclife.ru/news/652d646b9a794769f060aa29\n",
      "https://rbclife.ru/news/652e3a8d9a7947097c06cd83\n",
      "https://rbclife.ru/news/6528f0a39a79472dcb443ab9\n",
      "https://rbclife.ru/news/652cf1ee9a794706d197f888\n",
      "https://rbclife.ru/news/652cc02b9a79475b2a56f5c9\n",
      "https://rbclife.ru/news/6529100c9a7947f31aa59646\n",
      "https://rbclife.ru/news/653a67289a7947096d8d5a25\n",
      "https://rbclife.ru/news/6537dcc69a794710322457c6\n",
      "https://rbclife.ru/news/653645fc9a79478a6b227b1d\n",
      "https://rbclife.ru/news/6391dc1d9a7947a8246fe487\n",
      "https://rbclife.ru/news/653107639a7947c04900f7e9\n",
      "https://rbclife.ru/news/6528506d9a79476bc57127f5\n",
      "https://rbclife.ru/news/6523a3c49a79471c1a34071d\n",
      "https://rbclife.ru/news/65250ce59a79478d1e011a96\n",
      "https://rbclife.ru/news/651d996f9a7947cfea2b1fb2\n",
      "https://rbclife.ru/news/6516c9099a794771be207d76\n",
      "https://rbclife.ru/news/651ae2d29a794738f77e6c49\n",
      "https://rbclife.ru/news/6519c06a9a79478b23c29e65\n",
      "https://rbclife.ru/news/6516a0539a7947467bbd12c5\n",
      "https://rbclife.ru/news/65147a6c9a794773ccdb53fe\n",
      "https://rbclife.ru/news/6447c06c9a79477707ef001f\n",
      "https://rbclife.ru/news/653771719a7947909f081d71\n",
      "https://rbclife.ru/news/65317f069a79470bb580666c\n",
      "https://rbclife.ru/news/652e72179a7947df4d4fd61d\n",
      "https://rbclife.ru/news/653119ec9a794775ec5d8db8\n",
      "https://rbclife.ru/news/653082399a794705ecfb0650\n",
      "https://rbclife.ru/news/652fee389a79477ed9a3cf63\n",
      "https://rbclife.ru/news/652d53ad9a79478533ab42bc\n",
      "https://rbclife.ru/news/652551639a794748ed5d28b1\n",
      "https://rbclife.ru/news/651e93e59a7947161060ec71\n",
      "https://rbclife.ru/news/6523d56f9a7947090fccb861\n",
      "https://rbclife.ru/news/651d1e6a9a794769ae629ee4\n",
      "https://rbclife.ru/news/651d42b29a79478950501e04\n",
      "https://rbclife.ru/news/6515355a9a79477db7ed05cc\n",
      "https://rbclife.ru/news/651164229a7947ff40db165a\n",
      "https://rbclife.ru/news/64f1c7b79a79472b91c8c23c\n",
      "https://rbclife.ru/news/64f700b29a79472850b2adbc\n",
      "https://rbclife.ru/news/653938889a7947f8dcf4ca3c\n",
      "https://rbclife.ru/news/653688879a7947f18bedc173\n",
      "https://rbclife.ru/news/653a01429a7947e2e9f1cb5c\n",
      "https://rbclife.ru/news/653b968f9a79479d43c9af3e\n",
      "https://rbclife.ru/news/6539128f9a79472e97c16c83\n",
      "https://rbclife.ru/news/653b67f89a7947168ad19fa6\n",
      "https://rbclife.ru/news/6529015e9a7947946fd92976\n",
      "https://rbclife.ru/news/64e79e3a9a794774ff5fcacd\n",
      "https://rbclife.ru/news/6527f3449a794715832b1ac6\n",
      "https://rbclife.ru/news/652f85499a79470546d04997\n",
      "https://rbclife.ru/news/651d17849a79473bf87254b8\n",
      "https://rbclife.ru/news/64be77789a7947b2be11bc85\n",
      "https://rbclife.ru/news/652f9eb29a7947f298f42dd9\n",
      "https://rbclife.ru/news/65201c439a794771de7b6617\n",
      "https://rbclife.ru/news/651bff499a794786814715ca\n",
      "https://rbclife.ru/news/652cfb529a794783755266c5\n",
      "https://rbclife.ru/news/6538d5399a794736a3ad47a6\n",
      "https://rbclife.ru/news/652e3b9d9a794739a6543d1e\n",
      "https://rbclife.ru/news/653226189a79479cb9f8dd5f\n",
      "https://rbclife.ru/news/653b45b09a79472cd000c18b\n",
      "https://rbclife.ru/news/6539f9719a79473887c580c4\n",
      "https://rbclife.ru/news/652449fd9a7947f9a5a1829e\n",
      "https://rbclife.ru/news/651438379a794716f9143619\n",
      "https://rbclife.ru/news/64d61c019a794701c0bcbf4c\n",
      "https://rbclife.ru/news/651d6e649a794719eace0601\n",
      "https://rbclife.ru/news/651c284c9a794770b5e3dbaa\n",
      "https://rbclife.ru/news/653ba5939a79474a620796ab\n",
      "https://rbclife.ru/news/653b8d639a7947b907c71d52\n",
      "https://rbclife.ru/news/653b9ca99a79475bee810732\n",
      "https://rbclife.ru/news/653b95879a79476b7d757a28\n",
      "https://rbclife.ru/news/653b7cfd9a79472cd2947ee3\n",
      "https://rbclife.ru/news/653b7cab9a794700d3e7c79c\n",
      "https://rbclife.ru/news/653b71be9a7947946447cfe6\n",
      "https://rbclife.ru/news/653b72f89a7947422c977189\n",
      "https://rbclife.ru/news/653a534f9a7947452b91e00c\n",
      "https://rbclife.ru/news/6538a2749a79470c9acf755c\n",
      "https://rbclife.ru/news/653619fd9a79471cb440aac9\n",
      "https://rbclife.ru/news/653264b39a794790dcf4f228\n",
      "https://rbclife.ru/news/652f901e9a7947874d0477f6\n",
      "https://rbclife.ru/news/652d435d9a7947773dbe0d4d\n",
      "https://rbclife.ru/news/652cdaf69a7947b409e8f405\n",
      "https://rbclife.ru/news/65292d999a794717dabee073\n",
      "https://rbclife.ru/news/651fed799a794737f9fb489e\n",
      "https://rbclife.ru/news/651f04509a79475eff0380d8\n",
      "https://rbclife.ru/tag/news\n",
      "https://rbclife.ru/news/653a85bf9a79473e6ccea235\n",
      "https://rbclife.ru/news/653a87a79a7947cbbdb80467\n",
      "https://rbclife.ru/news/6526f3b89a794701e0a764e5\n",
      "https://rbclife.ru/news/6422b6029a79474db062b072\n",
      "https://rbclife.ru/news/653a81d39a7947198d1a0aec\n",
      "https://rbclife.ru/news/653a51d69a7947264fc880bb\n",
      "https://rbclife.ru/news/653a57189a794772b26e0489\n",
      "https://rbclife.ru/news/653a24b29a7947c893524e8b\n",
      "https://rbclife.ru/news/653a38df9a79470c42470b43\n",
      "https://rbclife.ru/news/6538fea59a79477e8a6257b8\n",
      "https://rbclife.ru/news/653901529a794723fa8b8df2\n",
      "https://rbclife.ru/news/6538e8d49a79472510face5b\n",
      "https://rbclife.ru/news/653779bc9a79472ad764466f\n",
      "https://rbclife.ru/news/65377e729a7947bc908fad56\n",
      "https://rbclife.ru/news/65365bdf9a794772196e3b38\n",
      "https://rbclife.ru/news/65362de59a7947ebdf3e3fe4\n",
      "https://rbclife.ru/news/653223079a794725892da219\n",
      "https://rbclife.ru/news/653232949a7947a10317c170\n",
      "https://rbclife.ru/news/6528e4729a7947adde88fa03\n",
      "https://rbclife.ru/news/6515cb649a7947ea23160bde\n",
      "https://rbclife.ru/news/65156a959a7947b4b788f5f7\n",
      "https://rbclife.ru/news/650c64f59a794709d4787aad\n",
      "https://rbclife.ru/news/650962819a79477ace5bbac7\n",
      "https://rbclife.ru/news/65084ef69a7947f208af5949\n",
      "https://rbclife.ru/news/64f99f5f9a7947285008cc7a\n",
      "https://rbclife.ru/news/64f59e139a794751a047ea86\n",
      "https://rbclife.ru/news/64f5b3b69a79472799ed6343\n",
      "https://rbclife.ru/news/64edf5c89a7947da1edd7183\n",
      "https://rbclife.ru/news/64eef7f09a794781e7b41508\n",
      "https://rbclife.ru/news/64eedbbe9a7947990149f1c2\n",
      "https://rbclife.ru/news/653602649a794727b178dc08\n",
      "https://rbclife.ru/news/65322fea9a7947b398b9ab46\n",
      "https://rbclife.ru/news/652ff0fa9a79476b8845c786\n",
      "https://rbclife.ru/news/6530dbed9a79475154456d02\n",
      "https://rbclife.ru/news/652d39139a794764f4898a82\n",
      "https://rbclife.ru/news/65292e169a794735105cce66\n",
      "https://rbclife.ru/news/6373a8669a7947f3a618abd1\n",
      "https://rbclife.ru/news/652e66389a794701f63f230c\n",
      "https://rbclife.ru/news/652d32979a79471d4953742d\n",
      "https://rbclife.ru/news/652cc8bb9a79476cc761b7d3\n",
      "https://rbclife.ru/news/6526a19e9a794775da6ba4ba\n",
      "https://rbclife.ru/news/652930809a794799dd471218\n",
      "https://rbclife.ru/news/652796a09a794779cc769ff8\n",
      "https://rbclife.ru/news/6526315f9a7947e762c8de6b\n"
     ]
    }
   ],
   "source": [
    "for article in money.articles: # а так можем получить все найденные ссылки\n",
    "    print(article.url)"
   ]
  },
  {
   "cell_type": "code",
   "execution_count": 153,
   "id": "1a63a182",
   "metadata": {},
   "outputs": [
    {
     "name": "stdout",
     "output_type": "stream",
     "text": [
      "https://rbclife.ru/spend\n",
      "https://rbclife.ru/spend\n",
      "https://rbclife.ru/myself\n",
      "https://rbclife.ru/walk\n",
      "https://rbclife.ru\n",
      "https://rbclife.ru/eat\n",
      "https://rbclife.ru/scroll\n",
      "https://rbclife.ru/watch\n",
      "https://rbclife.ru/games\n",
      "https://rbclife.ru/read\n"
     ]
    }
   ],
   "source": [
    "for category in money.category_urls(): # так можем найти все категории ссылок, которые удалось найти\n",
    "    print(category)"
   ]
  },
  {
   "cell_type": "markdown",
   "id": "b9ed56d2",
   "metadata": {},
   "source": [
    "Импортируем две библиотеки, которые сильно помогают при парсинге данных. Библиотека `time` с функцией `sleep` позволяет делать паузы между запросами к сайту (выше шансы, что вас не заблокируют).\n",
    "\n",
    "Библиотека `tqdm` с функцией `tqdm` создает прогресс-бар выполнения вашего кода."
   ]
  },
  {
   "cell_type": "code",
   "execution_count": 152,
   "id": "ecda42a1",
   "metadata": {},
   "outputs": [],
   "source": [
    "from time import sleep\n",
    "from tqdm import tqdm"
   ]
  },
  {
   "cell_type": "markdown",
   "id": "f535a05a",
   "metadata": {},
   "source": [
    "Далее мы создадим пустой список data, куда будем сохранять в формате кортежа данные по каждой статье. Мы хотим сохранить ссылку на статью, заголовок статьи, автора, первое изображение, ключевые слова и выжимку."
   ]
  },
  {
   "cell_type": "code",
   "execution_count": 154,
   "id": "10f43a69",
   "metadata": {
    "scrolled": true
   },
   "outputs": [
    {
     "name": "stderr",
     "output_type": "stream",
     "text": [
      "100%|█████████████████████████████████████████| 136/136 [08:02<00:00,  3.55s/it]\n"
     ]
    }
   ],
   "source": [
    "data = [] \n",
    "\n",
    "for article in tqdm(money.articles):\n",
    "    news = Article(article.url, language='ru')\n",
    "    news.download()\n",
    "    news.parse()\n",
    "    news.nlp()\n",
    "    data.append((article.url, news.title, news.authors, news.top_image, news.keywords, news.summary))\n",
    "    sleep(3)"
   ]
  },
  {
   "cell_type": "markdown",
   "id": "8a4eec49",
   "metadata": {},
   "source": [
    "Проверяем, все новостные статьи действительно загрузились!"
   ]
  },
  {
   "cell_type": "code",
   "execution_count": 156,
   "id": "7e417213",
   "metadata": {},
   "outputs": [
    {
     "name": "stdout",
     "output_type": "stream",
     "text": [
      "('https://rbclife.ru/news/653a73539a79476b91944861', 'Xiaomi показала новые смартфоны Xiaomi 14 и 14 Pro. Характеристики и цены', [], 'https://s0.rbk.ru/v6_top_pics/media/img/6/77/346983322148776.jpeg', ['показала', 'гб', 'компания', 'цены', 'xiaomi', 'характеристики', 'pro', 'представила', 'юаней', 'новые', '50', 'частотой', 'смартфоны', '14', 'руб'], 'Xiaomi показала новые смартфоны Xiaomi 14 и 14 Pro.\\nУ них самый мощный на сегодняшний день мобильный процессор Qualcomm Компания Xiaomi представила новые флагманские смартфоны Xiaomi 14 и 14 Pro СлушатьXiaomiОснователь китайской корпорации Xiaomi Лэй Цзюнь представил в четверг, 26 октября, новые смартфоны 14-го поколения.\\nXiaomi 14 стандартной и улучшенной комплектации стал первым в мире смартфоном, работающим на базе однокристальной системы Qualcomm Snapdragon 8 Gen 3.\\nОба гаджета выглядят одинаково и доступны в черном, белом и зеленом (у Xiaomi 14 еще и в розовом) цветах.\\nСверхтонкие рамки вокруг дисплея толщиной 1,61 и 1,71 мм — у Xiaomi 14, 1,8 и 2,08 мм — у Xiaomi 14 Pro.')\n"
     ]
    }
   ],
   "source": [
    "print(data[0])"
   ]
  },
  {
   "cell_type": "markdown",
   "id": "23acd50b",
   "metadata": {},
   "source": [
    "## Анализ ключевых слов новостей"
   ]
  },
  {
   "cell_type": "markdown",
   "id": "ae6cf1a2",
   "metadata": {},
   "source": [
    "Для начала сохраним все полученные данные как датафрейм pandas."
   ]
  },
  {
   "cell_type": "code",
   "execution_count": 225,
   "id": "a13267d6",
   "metadata": {},
   "outputs": [],
   "source": [
    "import pandas as pd"
   ]
  },
  {
   "cell_type": "code",
   "execution_count": 226,
   "id": "d5dcd0a0",
   "metadata": {},
   "outputs": [],
   "source": [
    "df = pd.DataFrame(data, columns=['link', 'title', 'authors', 'img_link', 'keywords', 'summary'])"
   ]
  },
  {
   "cell_type": "code",
   "execution_count": 235,
   "id": "6eb7a450",
   "metadata": {
    "scrolled": false
   },
   "outputs": [
    {
     "data": {
      "text/html": [
       "<div>\n",
       "<style scoped>\n",
       "    .dataframe tbody tr th:only-of-type {\n",
       "        vertical-align: middle;\n",
       "    }\n",
       "\n",
       "    .dataframe tbody tr th {\n",
       "        vertical-align: top;\n",
       "    }\n",
       "\n",
       "    .dataframe thead th {\n",
       "        text-align: right;\n",
       "    }\n",
       "</style>\n",
       "<table border=\"1\" class=\"dataframe\">\n",
       "  <thead>\n",
       "    <tr style=\"text-align: right;\">\n",
       "      <th></th>\n",
       "      <th>link</th>\n",
       "      <th>title</th>\n",
       "      <th>authors</th>\n",
       "      <th>img_link</th>\n",
       "      <th>keywords</th>\n",
       "      <th>summary</th>\n",
       "    </tr>\n",
       "  </thead>\n",
       "  <tbody>\n",
       "    <tr>\n",
       "      <th>0</th>\n",
       "      <td>https://rbclife.ru/news/653a73539a79476b91944861</td>\n",
       "      <td>Xiaomi показала новые смартфоны Xiaomi 14 и 14 Pro. Характеристики и цены</td>\n",
       "      <td>[]</td>\n",
       "      <td>https://s0.rbk.ru/v6_top_pics/media/img/6/77/346983322148776.jpeg</td>\n",
       "      <td>[показала, гб, компания, цены, xiaomi, характеристики, pro, представила, юаней, новые, 50, часто...</td>\n",
       "      <td>Xiaomi показала новые смартфоны Xiaomi 14 и 14 Pro.\\nУ них самый мощный на сегодняшний день моби...</td>\n",
       "    </tr>\n",
       "    <tr>\n",
       "      <th>1</th>\n",
       "      <td>https://rbclife.ru/news/6538cc019a79471788cc47db</td>\n",
       "      <td>Эта модель рюкзака спасет спину ребенка. 5 удачных примеров</td>\n",
       "      <td>[]</td>\n",
       "      <td>https://s0.rbk.ru/v6_top_pics/media/img/2/25/346982231586252.jpeg</td>\n",
       "      <td>[рюкзака, школьного, примеров, должен, рюкзак, ребенка, удачных, 5, спасет, ранец, начальных, ля...</td>\n",
       "      <td>Эта модель рюкзака спасет спину ребенка.\\nРБК Life напоминает значимые нюансы при покупке школьн...</td>\n",
       "    </tr>\n",
       "    <tr>\n",
       "      <th>2</th>\n",
       "      <td>https://rbclife.ru/news/653214da9a7947b80217e3f3</td>\n",
       "      <td>5 устройств с AliExpress, которые помогут с закрутками на зиму</td>\n",
       "      <td>[]</td>\n",
       "      <td>https://s0.rbk.ru/v6_top_pics/media/img/9/22/346977831494229.jpeg</td>\n",
       "      <td>[помогут, очистки, ягоды, устройство, aliexpress, закрутками, 5, устройств, сердцевины, зиму, пр...</td>\n",
       "      <td>5 устройств с AliExpress, которые помогут с закрутками на зиму .\\nAliexpress Устройство для удал...</td>\n",
       "    </tr>\n",
       "    <tr>\n",
       "      <th>3</th>\n",
       "      <td>https://rbclife.ru/news/6536289e9a7947a93e4474d0</td>\n",
       "      <td>В моду вошли помятости и дырки: 6 самых нелепых трендов сезона</td>\n",
       "      <td>[Елена Нечаева]</td>\n",
       "      <td>https://s0.rbk.ru/v6_top_pics/media/img/8/11/346980519659118.jpeg</td>\n",
       "      <td>[трусы, носить, моду, стоит, тренд, нелепых, точно, обычной, жизни, например, трендов, самых, ды...</td>\n",
       "      <td>В моду вошли помятости и дырки: 6 самых нелепых трендов сезона .\\nКак носить в обычной жизни: тр...</td>\n",
       "    </tr>\n",
       "    <tr>\n",
       "      <th>4</th>\n",
       "      <td>https://rbclife.ru/news/6535fcaa9a7947e404d3335a</td>\n",
       "      <td>«Умные» зеркала и тонометры вошли в топ популярных девайсов для здоровья</td>\n",
       "      <td>[]</td>\n",
       "      <td>https://s0.rbk.ru/v6_top_pics/media/img/4/35/346980412045354.jpeg</td>\n",
       "      <td>[приложение, популярных, watch, контроля, девайсов, здоровья, топ, образа, жизни, приложения, ум...</td>\n",
       "      <td>«Умные» зеркала и тонометры вошли в топ популярных девайсов для здоровья .\\nСамый большой сезонн...</td>\n",
       "    </tr>\n",
       "    <tr>\n",
       "      <th>...</th>\n",
       "      <td>...</td>\n",
       "      <td>...</td>\n",
       "      <td>...</td>\n",
       "      <td>...</td>\n",
       "      <td>...</td>\n",
       "      <td>...</td>\n",
       "    </tr>\n",
       "    <tr>\n",
       "      <th>131</th>\n",
       "      <td>https://rbclife.ru/news/652cc8bb9a79476cc761b7d3</td>\n",
       "      <td>«Кино — зеркало общества». Филипп Янковский — о сериалах и буме сказок</td>\n",
       "      <td>[Тимур Алиев]</td>\n",
       "      <td>https://s0.rbk.ru/v6_top_pics/media/img/4/41/346974383687414.jpeg</td>\n",
       "      <td>[роль, филипп, янковский, сказок, зеркало, смотреть, могу, естественно, решу, чтото, буме, кино,...</td>\n",
       "      <td>Как зритель я уже не могу смотреть эти фильмы, я могу смотреть их только как актер, вспоминая те...</td>\n",
       "    </tr>\n",
       "    <tr>\n",
       "      <th>132</th>\n",
       "      <td>https://rbclife.ru/news/6526a19e9a794775da6ba4ba</td>\n",
       "      <td>Гражданин Владивостока и востоковед. Илья Лагутенко отмечает 55-летие</td>\n",
       "      <td>[]</td>\n",
       "      <td>https://s0.rbk.ru/v6_top_pics/media/img/2/78/346971252084782.jpeg</td>\n",
       "      <td>[troll, отмечает, илья, mumiy, 55летие, тролль, фото, востоковед, музыканты, группа, мумий, груп...</td>\n",
       "      <td>Илья Лагутенко отмечает 55-летие .\\n16 октября исполняется 40 лет с момента основания группы «Му...</td>\n",
       "    </tr>\n",
       "    <tr>\n",
       "      <th>133</th>\n",
       "      <td>https://rbclife.ru/news/652930809a794799dd471218</td>\n",
       "      <td>Не только «пятница, 13-е». Почему люди так боятся некоторых чисел</td>\n",
       "      <td>[]</td>\n",
       "      <td>https://s0.rbk.ru/v6_top_pics/media/img/8/22/346971993073228.jpeg</td>\n",
       "      <td>[числа, 12, 13, 13е, некоторых, 666, считается, боятся, многих, чисел, номером, примеру, числом,...</td>\n",
       "      <td>Почему люди так боятся некоторых чисел .\\nК примеру, в некоторых небоскребах Гонконга после 39-г...</td>\n",
       "    </tr>\n",
       "    <tr>\n",
       "      <th>134</th>\n",
       "      <td>https://rbclife.ru/news/652796a09a794779cc769ff8</td>\n",
       "      <td>«Бывают безумства»: 5 историй о бизнесе по реставрации мебели</td>\n",
       "      <td>[Анна Векшина]</td>\n",
       "      <td>https://s0.rbk.ru/v6_top_pics/media/img/4/30/346971840366304.jpeg</td>\n",
       "      <td>[мебель, реставрация, реставрации, стоит, шкаф, вещь, цену, мебели, 5, бизнесе, стул, например, ...</td>\n",
       "      <td>Петр Сейбиль, Реставрация Сейбиляsoberemuvidim / Instagram (входит в корпорацию Meta, признана э...</td>\n",
       "    </tr>\n",
       "    <tr>\n",
       "      <th>135</th>\n",
       "      <td>https://rbclife.ru/news/6526315f9a7947e762c8de6b</td>\n",
       "      <td>Роль и значение амулетов в Древнем Египте. Вот расшифровка некоторых</td>\n",
       "      <td>[]</td>\n",
       "      <td>https://s0.rbk.ru/v6_top_pics/media/img/1/63/346970140254631.jpeg</td>\n",
       "      <td>[роль, виде, значение, египте, амулетов, нашей, суде, некоторых, годы, египтяне, бога, древнем, ...</td>\n",
       "      <td>Роль и значение амулетов в Древнем Египте.\\nДревние египтяне носили талисманы уаджет, в виде ска...</td>\n",
       "    </tr>\n",
       "  </tbody>\n",
       "</table>\n",
       "<p>136 rows × 6 columns</p>\n",
       "</div>"
      ],
      "text/plain": [
       "                                                 link  \\\n",
       "0    https://rbclife.ru/news/653a73539a79476b91944861   \n",
       "1    https://rbclife.ru/news/6538cc019a79471788cc47db   \n",
       "2    https://rbclife.ru/news/653214da9a7947b80217e3f3   \n",
       "3    https://rbclife.ru/news/6536289e9a7947a93e4474d0   \n",
       "4    https://rbclife.ru/news/6535fcaa9a7947e404d3335a   \n",
       "..                                                ...   \n",
       "131  https://rbclife.ru/news/652cc8bb9a79476cc761b7d3   \n",
       "132  https://rbclife.ru/news/6526a19e9a794775da6ba4ba   \n",
       "133  https://rbclife.ru/news/652930809a794799dd471218   \n",
       "134  https://rbclife.ru/news/652796a09a794779cc769ff8   \n",
       "135  https://rbclife.ru/news/6526315f9a7947e762c8de6b   \n",
       "\n",
       "                                                                         title  \\\n",
       "0    Xiaomi показала новые смартфоны Xiaomi 14 и 14 Pro. Характеристики и цены   \n",
       "1                  Эта модель рюкзака спасет спину ребенка. 5 удачных примеров   \n",
       "2               5 устройств с AliExpress, которые помогут с закрутками на зиму   \n",
       "3               В моду вошли помятости и дырки: 6 самых нелепых трендов сезона   \n",
       "4     «Умные» зеркала и тонометры вошли в топ популярных девайсов для здоровья   \n",
       "..                                                                         ...   \n",
       "131     «Кино — зеркало общества». Филипп Янковский — о сериалах и буме сказок   \n",
       "132      Гражданин Владивостока и востоковед. Илья Лагутенко отмечает 55-летие   \n",
       "133          Не только «пятница, 13-е». Почему люди так боятся некоторых чисел   \n",
       "134              «Бывают безумства»: 5 историй о бизнесе по реставрации мебели   \n",
       "135       Роль и значение амулетов в Древнем Египте. Вот расшифровка некоторых   \n",
       "\n",
       "             authors  \\\n",
       "0                 []   \n",
       "1                 []   \n",
       "2                 []   \n",
       "3    [Елена Нечаева]   \n",
       "4                 []   \n",
       "..               ...   \n",
       "131    [Тимур Алиев]   \n",
       "132               []   \n",
       "133               []   \n",
       "134   [Анна Векшина]   \n",
       "135               []   \n",
       "\n",
       "                                                              img_link  \\\n",
       "0    https://s0.rbk.ru/v6_top_pics/media/img/6/77/346983322148776.jpeg   \n",
       "1    https://s0.rbk.ru/v6_top_pics/media/img/2/25/346982231586252.jpeg   \n",
       "2    https://s0.rbk.ru/v6_top_pics/media/img/9/22/346977831494229.jpeg   \n",
       "3    https://s0.rbk.ru/v6_top_pics/media/img/8/11/346980519659118.jpeg   \n",
       "4    https://s0.rbk.ru/v6_top_pics/media/img/4/35/346980412045354.jpeg   \n",
       "..                                                                 ...   \n",
       "131  https://s0.rbk.ru/v6_top_pics/media/img/4/41/346974383687414.jpeg   \n",
       "132  https://s0.rbk.ru/v6_top_pics/media/img/2/78/346971252084782.jpeg   \n",
       "133  https://s0.rbk.ru/v6_top_pics/media/img/8/22/346971993073228.jpeg   \n",
       "134  https://s0.rbk.ru/v6_top_pics/media/img/4/30/346971840366304.jpeg   \n",
       "135  https://s0.rbk.ru/v6_top_pics/media/img/1/63/346970140254631.jpeg   \n",
       "\n",
       "                                                                                                keywords  \\\n",
       "0    [показала, гб, компания, цены, xiaomi, характеристики, pro, представила, юаней, новые, 50, часто...   \n",
       "1    [рюкзака, школьного, примеров, должен, рюкзак, ребенка, удачных, 5, спасет, ранец, начальных, ля...   \n",
       "2    [помогут, очистки, ягоды, устройство, aliexpress, закрутками, 5, устройств, сердцевины, зиму, пр...   \n",
       "3    [трусы, носить, моду, стоит, тренд, нелепых, точно, обычной, жизни, например, трендов, самых, ды...   \n",
       "4    [приложение, популярных, watch, контроля, девайсов, здоровья, топ, образа, жизни, приложения, ум...   \n",
       "..                                                                                                   ...   \n",
       "131  [роль, филипп, янковский, сказок, зеркало, смотреть, могу, естественно, решу, чтото, буме, кино,...   \n",
       "132  [troll, отмечает, илья, mumiy, 55летие, тролль, фото, востоковед, музыканты, группа, мумий, груп...   \n",
       "133  [числа, 12, 13, 13е, некоторых, 666, считается, боятся, многих, чисел, номером, примеру, числом,...   \n",
       "134  [мебель, реставрация, реставрации, стоит, шкаф, вещь, цену, мебели, 5, бизнесе, стул, например, ...   \n",
       "135  [роль, виде, значение, египте, амулетов, нашей, суде, некоторых, годы, египтяне, бога, древнем, ...   \n",
       "\n",
       "                                                                                                 summary  \n",
       "0    Xiaomi показала новые смартфоны Xiaomi 14 и 14 Pro.\\nУ них самый мощный на сегодняшний день моби...  \n",
       "1    Эта модель рюкзака спасет спину ребенка.\\nРБК Life напоминает значимые нюансы при покупке школьн...  \n",
       "2    5 устройств с AliExpress, которые помогут с закрутками на зиму .\\nAliexpress Устройство для удал...  \n",
       "3    В моду вошли помятости и дырки: 6 самых нелепых трендов сезона .\\nКак носить в обычной жизни: тр...  \n",
       "4    «Умные» зеркала и тонометры вошли в топ популярных девайсов для здоровья .\\nСамый большой сезонн...  \n",
       "..                                                                                                   ...  \n",
       "131  Как зритель я уже не могу смотреть эти фильмы, я могу смотреть их только как актер, вспоминая те...  \n",
       "132  Илья Лагутенко отмечает 55-летие .\\n16 октября исполняется 40 лет с момента основания группы «Му...  \n",
       "133  Почему люди так боятся некоторых чисел .\\nК примеру, в некоторых небоскребах Гонконга после 39-г...  \n",
       "134  Петр Сейбиль, Реставрация Сейбиляsoberemuvidim / Instagram (входит в корпорацию Meta, признана э...  \n",
       "135  Роль и значение амулетов в Древнем Египте.\\nДревние египтяне носили талисманы уаджет, в виде ска...  \n",
       "\n",
       "[136 rows x 6 columns]"
      ]
     },
     "execution_count": 235,
     "metadata": {},
     "output_type": "execute_result"
    }
   ],
   "source": [
    "df"
   ]
  },
  {
   "cell_type": "markdown",
   "id": "ebf3eaa8",
   "metadata": {},
   "source": [
    "Видим, что авторы и ключевые слова сохранились в ячейки в формате списков."
   ]
  },
  {
   "cell_type": "code",
   "execution_count": 236,
   "id": "3dc2ea55",
   "metadata": {},
   "outputs": [
    {
     "data": {
      "text/plain": [
       "list"
      ]
     },
     "execution_count": 236,
     "metadata": {},
     "output_type": "execute_result"
    }
   ],
   "source": [
    "type(df['authors'][0])"
   ]
  },
  {
   "cell_type": "markdown",
   "id": "a695def3",
   "metadata": {},
   "source": [
    "Давайте переведем их в обычные строки. Для этого мы сначала переведем всю колонку в тип данных `str`\n",
    "\n",
    "    df['authors'].astype(str)\n",
    "    \n",
    "А затем с помощью метода `.apply()` и анонимной функции `lambda` уберем лишние скобки и кавычки.\n",
    "\n",
    "    df['authors'].astype(str).apply(lambda x: x.strip(\"''[]\"))"
   ]
  },
  {
   "cell_type": "code",
   "execution_count": 237,
   "id": "9dc0ebab",
   "metadata": {},
   "outputs": [],
   "source": [
    "df['authors'] = df['authors'].astype(str).apply(lambda x: x.strip(\"''[]\"))"
   ]
  },
  {
   "cell_type": "code",
   "execution_count": 238,
   "id": "b5a88bc1",
   "metadata": {},
   "outputs": [
    {
     "data": {
      "text/plain": [
       "str"
      ]
     },
     "execution_count": 238,
     "metadata": {},
     "output_type": "execute_result"
    }
   ],
   "source": [
    "type(df['authors'][0])"
   ]
  },
  {
   "cell_type": "markdown",
   "id": "d6adb0a1",
   "metadata": {},
   "source": [
    "Отлично! Проделаем то же самое с ключевыми словами."
   ]
  },
  {
   "cell_type": "code",
   "execution_count": 239,
   "id": "889de57d",
   "metadata": {},
   "outputs": [
    {
     "data": {
      "text/plain": [
       "list"
      ]
     },
     "execution_count": 239,
     "metadata": {},
     "output_type": "execute_result"
    }
   ],
   "source": [
    "type(df['keywords'][0])"
   ]
  },
  {
   "cell_type": "code",
   "execution_count": 240,
   "id": "2f3d8db2",
   "metadata": {},
   "outputs": [],
   "source": [
    "df['keywords'] = df['keywords'].astype(str).apply(lambda x: x.strip(\"''[]\").replace(\"'\", ''))"
   ]
  },
  {
   "cell_type": "code",
   "execution_count": 241,
   "id": "657496c1",
   "metadata": {},
   "outputs": [
    {
     "data": {
      "text/plain": [
       "str"
      ]
     },
     "execution_count": 241,
     "metadata": {},
     "output_type": "execute_result"
    }
   ],
   "source": [
    "type(df['keywords'][0])"
   ]
  },
  {
   "cell_type": "code",
   "execution_count": 242,
   "id": "87ce82cc",
   "metadata": {},
   "outputs": [
    {
     "data": {
      "text/plain": [
       "'показала, гб, компания, цены, xiaomi, характеристики, pro, представила, юаней, новые, 50, частотой, смартфоны, 14, руб'"
      ]
     },
     "execution_count": 242,
     "metadata": {},
     "output_type": "execute_result"
    }
   ],
   "source": [
    "df['keywords'][0]"
   ]
  },
  {
   "cell_type": "markdown",
   "id": "cb0bca81",
   "metadata": {},
   "source": [
    "Теперь мы хотим провести частотный анализ. Но наши слова не лемматизированы, то есть не приведены к исходной форме (так, как они записаны в словаре). Исправим это!\n",
    "\n",
    "Импортируем библиотеку pymorphy2 – морфологический анализатор для русского языка, написанный на языке Python и использующий словари из [OpenCorpora](https://opencorpora.org/dict.php). \n",
    "\n",
    "Используем оттуда класс `MorphAnalyzer`. Для заданного слова он может найти все возможные формы."
   ]
  },
  {
   "cell_type": "code",
   "execution_count": 243,
   "id": "d9dcec45",
   "metadata": {},
   "outputs": [],
   "source": [
    "import pymorphy2\n",
    "morph = pymorphy2.MorphAnalyzer()"
   ]
  },
  {
   "cell_type": "markdown",
   "id": "454435d9",
   "metadata": {},
   "source": [
    "Для начала попробуем на отдельных словах."
   ]
  },
  {
   "cell_type": "code",
   "execution_count": 244,
   "id": "89939556",
   "metadata": {},
   "outputs": [
    {
     "data": {
      "text/plain": [
       "[Parse(word='цены', tag=OpencorporaTag('NOUN,inan,femn plur,nomn'), normal_form='цена', score=0.476562, methods_stack=((DictionaryAnalyzer(), 'цены', 55, 7),)),\n",
       " Parse(word='цены', tag=OpencorporaTag('NOUN,inan,femn sing,gent'), normal_form='цена', score=0.328125, methods_stack=((DictionaryAnalyzer(), 'цены', 55, 1),)),\n",
       " Parse(word='цены', tag=OpencorporaTag('NOUN,inan,femn plur,accs'), normal_form='цена', score=0.195312, methods_stack=((DictionaryAnalyzer(), 'цены', 55, 10),))]"
      ]
     },
     "execution_count": 244,
     "metadata": {},
     "output_type": "execute_result"
    }
   ],
   "source": [
    "morph.parse('цены')"
   ]
  },
  {
   "cell_type": "markdown",
   "id": "3f94433e",
   "metadata": {},
   "source": [
    "Нам выдается все возможные значения слова. Возьмем первую."
   ]
  },
  {
   "cell_type": "code",
   "execution_count": 245,
   "id": "208ff4e2",
   "metadata": {},
   "outputs": [
    {
     "data": {
      "text/plain": [
       "Parse(word='цены', tag=OpencorporaTag('NOUN,inan,femn plur,nomn'), normal_form='цена', score=0.476562, methods_stack=((DictionaryAnalyzer(), 'цены', 55, 7),))"
      ]
     },
     "execution_count": 245,
     "metadata": {},
     "output_type": "execute_result"
    }
   ],
   "source": [
    "morph.parse('цены')[0]"
   ]
  },
  {
   "cell_type": "markdown",
   "id": "8f62f1f9",
   "metadata": {},
   "source": [
    "Отлично! Теперь осталось только получить нормальную форму -- значение атрибута `.normal_form`"
   ]
  },
  {
   "cell_type": "code",
   "execution_count": 246,
   "id": "f39386b4",
   "metadata": {},
   "outputs": [
    {
     "data": {
      "text/plain": [
       "'цена'"
      ]
     },
     "execution_count": 246,
     "metadata": {},
     "output_type": "execute_result"
    }
   ],
   "source": [
    "morph.parse('цены')[0].normal_form"
   ]
  },
  {
   "cell_type": "markdown",
   "id": "a3cc0fa1",
   "metadata": {},
   "source": [
    "Проделаем это со всеми ячейками в колонке keywords. Основная сложность, что в каждой ячейке лежит не по одному слову, а сразу по несколько. Напишем функцию, которую затем применим ко всему столбцу."
   ]
  },
  {
   "cell_type": "code",
   "execution_count": 247,
   "id": "4c7d3b6a",
   "metadata": {},
   "outputs": [],
   "source": [
    "def lemmatize(words):\n",
    "    lemmas = []\n",
    "    \n",
    "    for word in words.split(', '):  # разобьем все слова из строки в список и переберем каждое слово\n",
    "        norm_word = morph.parse(word)[0].normal_form \n",
    "        lemmas.append(norm_word)\n",
    "    return ', '.join(lemmas) # вернем строку со всеми лемматизированными значениями"
   ]
  },
  {
   "cell_type": "code",
   "execution_count": 248,
   "id": "5ba3b5f3",
   "metadata": {},
   "outputs": [],
   "source": [
    "df['keywords_lem'] = df['keywords'].apply(lemmatize) # создадим новый столбец, в котором сохранятся \n",
    "                                                    # лемматизированные ключевые слова"
   ]
  },
  {
   "cell_type": "code",
   "execution_count": 249,
   "id": "e478d17f",
   "metadata": {},
   "outputs": [
    {
     "data": {
      "text/html": [
       "<div>\n",
       "<style scoped>\n",
       "    .dataframe tbody tr th:only-of-type {\n",
       "        vertical-align: middle;\n",
       "    }\n",
       "\n",
       "    .dataframe tbody tr th {\n",
       "        vertical-align: top;\n",
       "    }\n",
       "\n",
       "    .dataframe thead th {\n",
       "        text-align: right;\n",
       "    }\n",
       "</style>\n",
       "<table border=\"1\" class=\"dataframe\">\n",
       "  <thead>\n",
       "    <tr style=\"text-align: right;\">\n",
       "      <th></th>\n",
       "      <th>link</th>\n",
       "      <th>title</th>\n",
       "      <th>authors</th>\n",
       "      <th>img_link</th>\n",
       "      <th>keywords</th>\n",
       "      <th>summary</th>\n",
       "      <th>keywords_lem</th>\n",
       "    </tr>\n",
       "  </thead>\n",
       "  <tbody>\n",
       "    <tr>\n",
       "      <th>0</th>\n",
       "      <td>https://rbclife.ru/news/653a73539a79476b91944861</td>\n",
       "      <td>Xiaomi показала новые смартфоны Xiaomi 14 и 14 Pro. Характеристики и цены</td>\n",
       "      <td></td>\n",
       "      <td>https://s0.rbk.ru/v6_top_pics/media/img/6/77/346983322148776.jpeg</td>\n",
       "      <td>показала, гб, компания, цены, xiaomi, характеристики, pro, представила, юаней, новые, 50, частот...</td>\n",
       "      <td>Xiaomi показала новые смартфоны Xiaomi 14 и 14 Pro.\\nУ них самый мощный на сегодняшний день моби...</td>\n",
       "      <td>показать, гб, компания, цена, xiaomi, характеристика, pro, представить, юань, новый, 50, частота...</td>\n",
       "    </tr>\n",
       "    <tr>\n",
       "      <th>1</th>\n",
       "      <td>https://rbclife.ru/news/6538cc019a79471788cc47db</td>\n",
       "      <td>Эта модель рюкзака спасет спину ребенка. 5 удачных примеров</td>\n",
       "      <td></td>\n",
       "      <td>https://s0.rbk.ru/v6_top_pics/media/img/2/25/346982231586252.jpeg</td>\n",
       "      <td>рюкзака, школьного, примеров, должен, рюкзак, ребенка, удачных, 5, спасет, ранец, начальных, лям...</td>\n",
       "      <td>Эта модель рюкзака спасет спину ребенка.\\nРБК Life напоминает значимые нюансы при покупке школьн...</td>\n",
       "      <td>рюкзак, школьный, пример, должный, рюкзак, ребёнок, удачный, 5, спасти, ранец, начальный, лямка,...</td>\n",
       "    </tr>\n",
       "    <tr>\n",
       "      <th>2</th>\n",
       "      <td>https://rbclife.ru/news/653214da9a7947b80217e3f3</td>\n",
       "      <td>5 устройств с AliExpress, которые помогут с закрутками на зиму</td>\n",
       "      <td></td>\n",
       "      <td>https://s0.rbk.ru/v6_top_pics/media/img/9/22/346977831494229.jpeg</td>\n",
       "      <td>помогут, очистки, ягоды, устройство, aliexpress, закрутками, 5, устройств, сердцевины, зиму, при...</td>\n",
       "      <td>5 устройств с AliExpress, которые помогут с закрутками на зиму .\\nAliexpress Устройство для удал...</td>\n",
       "      <td>помочь, очистка, ягода, устройство, aliexpress, закрутка, 5, устройство, сердцевина, зима, прибо...</td>\n",
       "    </tr>\n",
       "    <tr>\n",
       "      <th>3</th>\n",
       "      <td>https://rbclife.ru/news/6536289e9a7947a93e4474d0</td>\n",
       "      <td>В моду вошли помятости и дырки: 6 самых нелепых трендов сезона</td>\n",
       "      <td>Елена Нечаева</td>\n",
       "      <td>https://s0.rbk.ru/v6_top_pics/media/img/8/11/346980519659118.jpeg</td>\n",
       "      <td>трусы, носить, моду, стоит, тренд, нелепых, точно, обычной, жизни, например, трендов, самых, дыр...</td>\n",
       "      <td>В моду вошли помятости и дырки: 6 самых нелепых трендов сезона .\\nКак носить в обычной жизни: тр...</td>\n",
       "      <td>трус, носить, мода, стоить, тренд, нелепый, точно, обычный, жизнь, например, тренд, самый, дырка...</td>\n",
       "    </tr>\n",
       "    <tr>\n",
       "      <th>4</th>\n",
       "      <td>https://rbclife.ru/news/6535fcaa9a7947e404d3335a</td>\n",
       "      <td>«Умные» зеркала и тонометры вошли в топ популярных девайсов для здоровья</td>\n",
       "      <td></td>\n",
       "      <td>https://s0.rbk.ru/v6_top_pics/media/img/4/35/346980412045354.jpeg</td>\n",
       "      <td>приложение, популярных, watch, контроля, девайсов, здоровья, топ, образа, жизни, приложения, умн...</td>\n",
       "      <td>«Умные» зеркала и тонометры вошли в топ популярных девайсов для здоровья .\\nСамый большой сезонн...</td>\n",
       "      <td>приложение, популярный, watch, контроль, девайс, здоровье, топ, образ, жизнь, приложение, умный,...</td>\n",
       "    </tr>\n",
       "    <tr>\n",
       "      <th>...</th>\n",
       "      <td>...</td>\n",
       "      <td>...</td>\n",
       "      <td>...</td>\n",
       "      <td>...</td>\n",
       "      <td>...</td>\n",
       "      <td>...</td>\n",
       "      <td>...</td>\n",
       "    </tr>\n",
       "    <tr>\n",
       "      <th>131</th>\n",
       "      <td>https://rbclife.ru/news/652cc8bb9a79476cc761b7d3</td>\n",
       "      <td>«Кино — зеркало общества». Филипп Янковский — о сериалах и буме сказок</td>\n",
       "      <td>Тимур Алиев</td>\n",
       "      <td>https://s0.rbk.ru/v6_top_pics/media/img/4/41/346974383687414.jpeg</td>\n",
       "      <td>роль, филипп, янковский, сказок, зеркало, смотреть, могу, естественно, решу, чтото, буме, кино, ...</td>\n",
       "      <td>Как зритель я уже не могу смотреть эти фильмы, я могу смотреть их только как актер, вспоминая те...</td>\n",
       "      <td>роль, филипп, янковский, сказка, зеркало, смотреть, мочь, естественно, решить, чтоть, бум, кино,...</td>\n",
       "    </tr>\n",
       "    <tr>\n",
       "      <th>132</th>\n",
       "      <td>https://rbclife.ru/news/6526a19e9a794775da6ba4ba</td>\n",
       "      <td>Гражданин Владивостока и востоковед. Илья Лагутенко отмечает 55-летие</td>\n",
       "      <td></td>\n",
       "      <td>https://s0.rbk.ru/v6_top_pics/media/img/2/78/346971252084782.jpeg</td>\n",
       "      <td>troll, отмечает, илья, mumiy, 55летие, тролль, фото, востоковед, музыканты, группа, мумий, групп...</td>\n",
       "      <td>Илья Лагутенко отмечает 55-летие .\\n16 октября исполняется 40 лет с момента основания группы «Му...</td>\n",
       "      <td>troll, отмечать, илья, mumiy, 55летие, тролль, фото, востоковед, музыкант, группа, мумия, группа...</td>\n",
       "    </tr>\n",
       "    <tr>\n",
       "      <th>133</th>\n",
       "      <td>https://rbclife.ru/news/652930809a794799dd471218</td>\n",
       "      <td>Не только «пятница, 13-е». Почему люди так боятся некоторых чисел</td>\n",
       "      <td></td>\n",
       "      <td>https://s0.rbk.ru/v6_top_pics/media/img/8/22/346971993073228.jpeg</td>\n",
       "      <td>числа, 12, 13, 13е, некоторых, 666, считается, боятся, многих, чисел, номером, примеру, числом, ...</td>\n",
       "      <td>Почему люди так боятся некоторых чисел .\\nК примеру, в некоторых небоскребах Гонконга после 39-г...</td>\n",
       "      <td>число, 12, 13, 13е, некоторый, 666, считаться, бояться, многий, число, номер, пример, число, пят...</td>\n",
       "    </tr>\n",
       "    <tr>\n",
       "      <th>134</th>\n",
       "      <td>https://rbclife.ru/news/652796a09a794779cc769ff8</td>\n",
       "      <td>«Бывают безумства»: 5 историй о бизнесе по реставрации мебели</td>\n",
       "      <td>Анна Векшина</td>\n",
       "      <td>https://s0.rbk.ru/v6_top_pics/media/img/4/30/346971840366304.jpeg</td>\n",
       "      <td>мебель, реставрация, реставрации, стоит, шкаф, вещь, цену, мебели, 5, бизнесе, стул, например, б...</td>\n",
       "      <td>Петр Сейбиль, Реставрация Сейбиляsoberemuvidim / Instagram (входит в корпорацию Meta, признана э...</td>\n",
       "      <td>мебель, реставрация, реставрация, стоить, шкаф, вещь, цена, мебель, 5, бизнес, стул, например, б...</td>\n",
       "    </tr>\n",
       "    <tr>\n",
       "      <th>135</th>\n",
       "      <td>https://rbclife.ru/news/6526315f9a7947e762c8de6b</td>\n",
       "      <td>Роль и значение амулетов в Древнем Египте. Вот расшифровка некоторых</td>\n",
       "      <td></td>\n",
       "      <td>https://s0.rbk.ru/v6_top_pics/media/img/1/63/346970140254631.jpeg</td>\n",
       "      <td>роль, виде, значение, египте, амулетов, нашей, суде, некоторых, годы, египтяне, бога, древнем, н...</td>\n",
       "      <td>Роль и значение амулетов в Древнем Египте.\\nДревние египтяне носили талисманы уаджет, в виде ска...</td>\n",
       "      <td>роль, вид, значение, египет, амулет, наш, суд, некоторый, год, египтянин, бог, древний, навоз, у...</td>\n",
       "    </tr>\n",
       "  </tbody>\n",
       "</table>\n",
       "<p>136 rows × 7 columns</p>\n",
       "</div>"
      ],
      "text/plain": [
       "                                                 link  \\\n",
       "0    https://rbclife.ru/news/653a73539a79476b91944861   \n",
       "1    https://rbclife.ru/news/6538cc019a79471788cc47db   \n",
       "2    https://rbclife.ru/news/653214da9a7947b80217e3f3   \n",
       "3    https://rbclife.ru/news/6536289e9a7947a93e4474d0   \n",
       "4    https://rbclife.ru/news/6535fcaa9a7947e404d3335a   \n",
       "..                                                ...   \n",
       "131  https://rbclife.ru/news/652cc8bb9a79476cc761b7d3   \n",
       "132  https://rbclife.ru/news/6526a19e9a794775da6ba4ba   \n",
       "133  https://rbclife.ru/news/652930809a794799dd471218   \n",
       "134  https://rbclife.ru/news/652796a09a794779cc769ff8   \n",
       "135  https://rbclife.ru/news/6526315f9a7947e762c8de6b   \n",
       "\n",
       "                                                                         title  \\\n",
       "0    Xiaomi показала новые смартфоны Xiaomi 14 и 14 Pro. Характеристики и цены   \n",
       "1                  Эта модель рюкзака спасет спину ребенка. 5 удачных примеров   \n",
       "2               5 устройств с AliExpress, которые помогут с закрутками на зиму   \n",
       "3               В моду вошли помятости и дырки: 6 самых нелепых трендов сезона   \n",
       "4     «Умные» зеркала и тонометры вошли в топ популярных девайсов для здоровья   \n",
       "..                                                                         ...   \n",
       "131     «Кино — зеркало общества». Филипп Янковский — о сериалах и буме сказок   \n",
       "132      Гражданин Владивостока и востоковед. Илья Лагутенко отмечает 55-летие   \n",
       "133          Не только «пятница, 13-е». Почему люди так боятся некоторых чисел   \n",
       "134              «Бывают безумства»: 5 историй о бизнесе по реставрации мебели   \n",
       "135       Роль и значение амулетов в Древнем Египте. Вот расшифровка некоторых   \n",
       "\n",
       "           authors  \\\n",
       "0                    \n",
       "1                    \n",
       "2                    \n",
       "3    Елена Нечаева   \n",
       "4                    \n",
       "..             ...   \n",
       "131    Тимур Алиев   \n",
       "132                  \n",
       "133                  \n",
       "134   Анна Векшина   \n",
       "135                  \n",
       "\n",
       "                                                              img_link  \\\n",
       "0    https://s0.rbk.ru/v6_top_pics/media/img/6/77/346983322148776.jpeg   \n",
       "1    https://s0.rbk.ru/v6_top_pics/media/img/2/25/346982231586252.jpeg   \n",
       "2    https://s0.rbk.ru/v6_top_pics/media/img/9/22/346977831494229.jpeg   \n",
       "3    https://s0.rbk.ru/v6_top_pics/media/img/8/11/346980519659118.jpeg   \n",
       "4    https://s0.rbk.ru/v6_top_pics/media/img/4/35/346980412045354.jpeg   \n",
       "..                                                                 ...   \n",
       "131  https://s0.rbk.ru/v6_top_pics/media/img/4/41/346974383687414.jpeg   \n",
       "132  https://s0.rbk.ru/v6_top_pics/media/img/2/78/346971252084782.jpeg   \n",
       "133  https://s0.rbk.ru/v6_top_pics/media/img/8/22/346971993073228.jpeg   \n",
       "134  https://s0.rbk.ru/v6_top_pics/media/img/4/30/346971840366304.jpeg   \n",
       "135  https://s0.rbk.ru/v6_top_pics/media/img/1/63/346970140254631.jpeg   \n",
       "\n",
       "                                                                                                keywords  \\\n",
       "0    показала, гб, компания, цены, xiaomi, характеристики, pro, представила, юаней, новые, 50, частот...   \n",
       "1    рюкзака, школьного, примеров, должен, рюкзак, ребенка, удачных, 5, спасет, ранец, начальных, лям...   \n",
       "2    помогут, очистки, ягоды, устройство, aliexpress, закрутками, 5, устройств, сердцевины, зиму, при...   \n",
       "3    трусы, носить, моду, стоит, тренд, нелепых, точно, обычной, жизни, например, трендов, самых, дыр...   \n",
       "4    приложение, популярных, watch, контроля, девайсов, здоровья, топ, образа, жизни, приложения, умн...   \n",
       "..                                                                                                   ...   \n",
       "131  роль, филипп, янковский, сказок, зеркало, смотреть, могу, естественно, решу, чтото, буме, кино, ...   \n",
       "132  troll, отмечает, илья, mumiy, 55летие, тролль, фото, востоковед, музыканты, группа, мумий, групп...   \n",
       "133  числа, 12, 13, 13е, некоторых, 666, считается, боятся, многих, чисел, номером, примеру, числом, ...   \n",
       "134  мебель, реставрация, реставрации, стоит, шкаф, вещь, цену, мебели, 5, бизнесе, стул, например, б...   \n",
       "135  роль, виде, значение, египте, амулетов, нашей, суде, некоторых, годы, египтяне, бога, древнем, н...   \n",
       "\n",
       "                                                                                                 summary  \\\n",
       "0    Xiaomi показала новые смартфоны Xiaomi 14 и 14 Pro.\\nУ них самый мощный на сегодняшний день моби...   \n",
       "1    Эта модель рюкзака спасет спину ребенка.\\nРБК Life напоминает значимые нюансы при покупке школьн...   \n",
       "2    5 устройств с AliExpress, которые помогут с закрутками на зиму .\\nAliexpress Устройство для удал...   \n",
       "3    В моду вошли помятости и дырки: 6 самых нелепых трендов сезона .\\nКак носить в обычной жизни: тр...   \n",
       "4    «Умные» зеркала и тонометры вошли в топ популярных девайсов для здоровья .\\nСамый большой сезонн...   \n",
       "..                                                                                                   ...   \n",
       "131  Как зритель я уже не могу смотреть эти фильмы, я могу смотреть их только как актер, вспоминая те...   \n",
       "132  Илья Лагутенко отмечает 55-летие .\\n16 октября исполняется 40 лет с момента основания группы «Му...   \n",
       "133  Почему люди так боятся некоторых чисел .\\nК примеру, в некоторых небоскребах Гонконга после 39-г...   \n",
       "134  Петр Сейбиль, Реставрация Сейбиляsoberemuvidim / Instagram (входит в корпорацию Meta, признана э...   \n",
       "135  Роль и значение амулетов в Древнем Египте.\\nДревние египтяне носили талисманы уаджет, в виде ска...   \n",
       "\n",
       "                                                                                            keywords_lem  \n",
       "0    показать, гб, компания, цена, xiaomi, характеристика, pro, представить, юань, новый, 50, частота...  \n",
       "1    рюкзак, школьный, пример, должный, рюкзак, ребёнок, удачный, 5, спасти, ранец, начальный, лямка,...  \n",
       "2    помочь, очистка, ягода, устройство, aliexpress, закрутка, 5, устройство, сердцевина, зима, прибо...  \n",
       "3    трус, носить, мода, стоить, тренд, нелепый, точно, обычный, жизнь, например, тренд, самый, дырка...  \n",
       "4    приложение, популярный, watch, контроль, девайс, здоровье, топ, образ, жизнь, приложение, умный,...  \n",
       "..                                                                                                   ...  \n",
       "131  роль, филипп, янковский, сказка, зеркало, смотреть, мочь, естественно, решить, чтоть, бум, кино,...  \n",
       "132  troll, отмечать, илья, mumiy, 55летие, тролль, фото, востоковед, музыкант, группа, мумия, группа...  \n",
       "133  число, 12, 13, 13е, некоторый, 666, считаться, бояться, многий, число, номер, пример, число, пят...  \n",
       "134  мебель, реставрация, реставрация, стоить, шкаф, вещь, цена, мебель, 5, бизнес, стул, например, б...  \n",
       "135  роль, вид, значение, египет, амулет, наш, суд, некоторый, год, египтянин, бог, древний, навоз, у...  \n",
       "\n",
       "[136 rows x 7 columns]"
      ]
     },
     "execution_count": 249,
     "metadata": {},
     "output_type": "execute_result"
    }
   ],
   "source": [
    "df"
   ]
  },
  {
   "cell_type": "markdown",
   "id": "57f51841",
   "metadata": {},
   "source": [
    "Чтобы сделать частотный анализ, мы будем использовать библиотеку `collections`, в которой есть очень удобный класс `Counter`, делающий частотный анализ."
   ]
  },
  {
   "cell_type": "code",
   "execution_count": 250,
   "id": "b48e547e",
   "metadata": {},
   "outputs": [],
   "source": [
    "from collections import Counter"
   ]
  },
  {
   "cell_type": "markdown",
   "id": "a755e833",
   "metadata": {},
   "source": [
    "Соберем все слова из колонки keywords_lem в один список."
   ]
  },
  {
   "cell_type": "code",
   "execution_count": 251,
   "id": "6c28457a",
   "metadata": {},
   "outputs": [],
   "source": [
    "all_keywords = ','.join(df['keywords_lem']).split(', ')"
   ]
  },
  {
   "cell_type": "markdown",
   "id": "6dec11be",
   "metadata": {},
   "source": [
    "Найдем 10 самых часто встречающихся ключевых слов."
   ]
  },
  {
   "cell_type": "code",
   "execution_count": 252,
   "id": "f289605b",
   "metadata": {},
   "outputs": [
    {
     "data": {
      "text/plain": [
       "[('фильм', 19),\n",
       " ('5', 15),\n",
       " ('сериал', 14),\n",
       " ('кадр', 12),\n",
       " ('россия', 11),\n",
       " ('игра', 11),\n",
       " ('ребёнок', 10),\n",
       " ('стоить', 10),\n",
       " ('трейлер', 10),\n",
       " ('тыс', 9)]"
      ]
     },
     "execution_count": 252,
     "metadata": {},
     "output_type": "execute_result"
    }
   ],
   "source": [
    "Counter(all_keywords).most_common(10)"
   ]
  },
  {
   "cell_type": "markdown",
   "id": "01c00678",
   "metadata": {},
   "source": [
    "Чаще всего РБК предлагает потратить деньги на фильмы! Прочитаем выжимку для каждой такой статьи."
   ]
  },
  {
   "cell_type": "code",
   "execution_count": 255,
   "id": "80d43ca2",
   "metadata": {},
   "outputs": [],
   "source": [
    "pd.set_option('display.max_colwidth', 1000) # чтобы был показан весь текст в каждой ячейке"
   ]
  },
  {
   "cell_type": "code",
   "execution_count": 256,
   "id": "bb11d6b9",
   "metadata": {
    "scrolled": false
   },
   "outputs": [
    {
     "data": {
      "text/html": [
       "<div>\n",
       "<style scoped>\n",
       "    .dataframe tbody tr th:only-of-type {\n",
       "        vertical-align: middle;\n",
       "    }\n",
       "\n",
       "    .dataframe tbody tr th {\n",
       "        vertical-align: top;\n",
       "    }\n",
       "\n",
       "    .dataframe thead th {\n",
       "        text-align: right;\n",
       "    }\n",
       "</style>\n",
       "<table border=\"1\" class=\"dataframe\">\n",
       "  <thead>\n",
       "    <tr style=\"text-align: right;\">\n",
       "      <th></th>\n",
       "      <th>link</th>\n",
       "      <th>summary</th>\n",
       "    </tr>\n",
       "  </thead>\n",
       "  <tbody>\n",
       "    <tr>\n",
       "      <th>10</th>\n",
       "      <td>https://rbclife.ru/news/652d646b9a794769f060aa29</td>\n",
       "      <td>Какой костюм выбрать на Хэллоуин: 15 идей и советы экспертов .\\nКостюм УэнсдэйShutterstock Костюм можно дополнить тяжелыми массивными ботинками и нашивками Nevermore — школы, где училась УэнсдэйВ прошлом году вышел сериал про Уэнсдэй — девочку из семейки Аддамс.\\nЯна Николаюк отмечает, что образы страшных клоунов очень популярны за рубежом на Хэллоуин и их легко обыграть с помощью макияжа.\\nКостюм вампираShutterstock Костюм дополнит тыква с вырезанными на ней глазами либо сосуд с красной жидкостьюОстрые клыки — главная деталь образа вампира.\\nЭто могут быть как ведьмы, ангелы и феи, так и герои мультиков и фильмов, например Уэнсдэй, Барби, Чудо-женщина или Гермиона из «Гарри Поттера».</td>\n",
       "    </tr>\n",
       "    <tr>\n",
       "      <th>43</th>\n",
       "      <td>https://rbclife.ru/news/6515355a9a79477db7ed05cc</td>\n",
       "      <td>Куда сходить в октябре: лекции, киносказки, балет, фестивали и другое .\\nВыставкаГде: Новая ТретьяковкаКогда: с 10 октябряВозрастное ограничение: 6+tretyakovgallery.ruБольшой проект по случаю 150-летия со дня рождения Николая Рериха, предлагающий оценить наследие художника и его влияние на мировую и российскую культуру.\\nВыставкаГде: Музейно-выставочный центр «Росфото»Когда: до 29 октябряВозрастное ограничение: 12+Sергей Sвешников.\\nСочиРоссийский ресторанный фестивальГде: рестораны «Баффет» и «Бумеранг»Когда: с 1 по 15 октябряВозрастное ограничение: 18+Ресторан «Бумеранг» Ресторан BoomerangВо время фестиваля в ресторанах можно попробовать специальные сеты.\\nДля гостей «Казино Сочи» группа исполнит свои хиты «Знак Водолея», «Плохая девочка», «Рома-Роман», «Ева» и другие.</td>\n",
       "    </tr>\n",
       "    <tr>\n",
       "      <th>48</th>\n",
       "      <td>https://rbclife.ru/news/653688879a7947f18bedc173</td>\n",
       "      <td>Валдис Пельш — о 1990-х, YouTube и деньгах .\\nУ того же ЧБД («Что было дальше?», юмористическое интернет-шоу.— РБК Life) большое количество поклонников.\\nА во-вторых, это дает возможность аккумулировать средства для того, чтобы вечерний прайм заполнить каким-то новым, востребованным у аудитории шоу.\\n— РБК Life).\\n— РБК Life) за свои деньги, потому что у нас не было спонсоров.</td>\n",
       "    </tr>\n",
       "    <tr>\n",
       "      <th>55</th>\n",
       "      <td>https://rbclife.ru/news/6527f3449a794715832b1ac6</td>\n",
       "      <td>По случаю юбилея Disney РБК Life вспомнил культовые мультики легендарной студии, которые можно пересматривать бесконечно, — от «Белоснежки» до «Короля Льва».\\n«Бэмби» (1942 год)Walt Disney Productions Кадр из мультфильма «Бэмби» (1942)На солнечной опушке посреди чащи рождается новый лесной принц — олененок по имени Бэмби.\\n«Аладдин» (1992 год)Walt Disney Pictures Кадр из мультфильма «Аладдин» (1992)Вслед за «Красавицей и чудовищем» Disney в 1992 году выпустил мультфильм «Аладдин», созданный по мотивам одной из сказок «1001 ночи».\\n«Король Лев» (1994 год)Walt Disney Pictures Кадр из мультфильма «Король Лев» (1994)Юный лев по имени Симба растет, чтобы стать преемником своего отца — могущественного короля-льва Муфасы.\\n«Тарзан» (1999 год)Walt Disney Pictures Кадр из мультфильма «Тарзан»Маленький мальчик, едва не ставший жертвой кораблекрушения, вынужден расти в джунглях среди горилл.</td>\n",
       "    </tr>\n",
       "    <tr>\n",
       "      <th>56</th>\n",
       "      <td>https://rbclife.ru/news/652f85499a79470546d04997</td>\n",
       "      <td>«Анатомия падения»: обзор фильма-победителя Каннского кинофестиваля-2023 .\\nФранцузскую драму об убийстве показывают в российских кинотеатрахКинопрокатная компания Про:Взгляд Сандра Хюллер в фильме Жюстин Трие «Анатомия падения»В российском прокате событие: вышла «Анатомия падения» — фильм французской постановщицы Жюстин Трие, ставший лауреатом 76-го Каннского кинофестиваля.\\nКинопрокатная компания Про:Взгляд Кадр из фильма «Анатомия падения»Жюстин Трие — третья женщина-режиссер, получившая «Золотую пальмовую ветвь» Каннского кинофестиваля.\\nКинопрокатная компания Про:Взгляд Кадр из фильма «Анатомия падения»Комплекс неполноценности в кризисе среднего возраста — губительная смесь.\\nКинопрокатная компания Про:Взгляд Кадр из фильма «Анатомия падения»Собственно дознавательный и судебный процессы, подробно зафиксированные ручной камерой, предстают шоу-программой, эдаким реалити-шоу, стирающим границы личного и общественного.</td>\n",
       "    </tr>\n",
       "    <tr>\n",
       "      <th>...</th>\n",
       "      <td>...</td>\n",
       "      <td>...</td>\n",
       "    </tr>\n",
       "    <tr>\n",
       "      <th>102</th>\n",
       "      <td>https://rbclife.ru/news/653901529a794723fa8b8df2</td>\n",
       "      <td>Дон Кихот и пес подружились в трейлере «Большого маленького приключения» .\\nВ российском прокате с 23 ноября Вышел дублированный трейлер нового мультфильма «Большое маленькое приключение»vlgfilmRU / YouTube Кадр из мультфильма «Большое маленькое приключение»Игрушечный рыцарь подружился с плюшевой собакой и отправился «навстречу приключениям, которые определят его жизнь».\\nДон Кихот стал главным героем мультфильма «Большое маленькое приключение», локализованным трейлером которого поделилась кинопрокатная компания «Вольга».\\nvlgfilmRU / YouTube Трейлер анимационного фильма «Большое маленькое приключение», режиссер Жереми Дегрюсон, 2023 г.Мировая премьера картины состоялась во Франции, на Международном фестивале анимационных фильмов в Анси.\\nФильм выйдет на экраны в США днем ранее, чем «Большое маленькое приключение», — 22 ноября.</td>\n",
       "    </tr>\n",
       "    <tr>\n",
       "      <th>104</th>\n",
       "      <td>https://rbclife.ru/news/653779bc9a79472ad764466f</td>\n",
       "      <td>Финал «Миссия невыполнима» получил новое название и дату премьеры .\\nЖдать последнюю часть шпионского боевика придется на год дольше Премьера восьмой части фильма «Миссия невыполнима» перенесена на май 2025 годаParamount Pictures Кадр из фильма «Миссия невыполнима: Смертельная расплата.\\nЧасть первая»Дату премьеры восьмой части шпионского боевика «Миссия невыполнима» («Миссия невыполнима.\\nParamount Pictures Кадр из фильма «Миссия невыполнима: Смертельная расплата.\\nParamount Pictures Кадр из фильма «Миссия невыполнима: Смертельная расплата.</td>\n",
       "    </tr>\n",
       "    <tr>\n",
       "      <th>105</th>\n",
       "      <td>https://rbclife.ru/news/65377e729a7947bc908fad56</td>\n",
       "      <td>Асмус сыграет в мистическом триллере Хотиненко.\\nСобытия разворачиваются в 1990-х Кристина Асмус снимется в мистическом триллере Ильи Хотиненко «Кинопленка №8»Пресс-служба онлайн-кинотеатра Start Кристина Асмус на съемках фильма «Кинопленка №8»В Москве и Санкт-Петербурге начались съемки мистического триллера Ильи Хотиненко «Кинопленка №8», сообщили РБК Life в пресс-службе онлайн-кинотеатра Start.\\nПресс-служба онлайн-кинотеатра Start Фото со съемок фильма «Кинопленка №8»«Фильм Ильи Хотиненко «Кинопленка №8» — не нишевое, а очень зрительское кино.\\nНадеюсь, что эта интонация будет чувствоваться зрителем и проект станет заметным событием в индустрии», — говорит Кристина Асмус.\\nПресс-служба онлайн-кинотеатра Start Кристина Асмус на съемках фильма «Кинопленка №8»«Кинематографисты не случайно обращаются к осмыслению 90-х годов прошлого века.</td>\n",
       "    </tr>\n",
       "    <tr>\n",
       "      <th>106</th>\n",
       "      <td>https://rbclife.ru/news/65365bdf9a794772196e3b38</td>\n",
       "      <td>Вышел первый трейлер новогодней комедии «Холоп 2» .\\nГлавные роли в фильме исполнили Милош Бикович и Аглая Тарасова Вышел первый трейлер комедии «Холоп 2» с Милошем Биковичем и Аглаей ТарасовойПресс-служба «Централ Партнершип» Съемки фильма «Холоп 2»Вышел трейлер продолжения комедии «Холоп», сообщили РБК Life в пресс-службе кинокомпании «Централ Партнершип».\\nПресс-служба «Централ Партнершип» Съемки фильма «Холоп 2»В фильме «Холоп 2» перевоспитанный Гриша сам не может закрыть глаза на беспредел, творимый избалованной Катей.\\nПресс-служба «Централ Партнершип» Съемки фильма «Холоп 2»Режиссер — постановщик первого «Холопа» Клим Шипенко.\\n«Холоп», вышедший в 2019 году, долгое время удерживал звание самого коммерчески успешного российского фильма (по данным «Кинопоиска», он собрал $62,2 млн).</td>\n",
       "    </tr>\n",
       "    <tr>\n",
       "      <th>131</th>\n",
       "      <td>https://rbclife.ru/news/652cc8bb9a79476cc761b7d3</td>\n",
       "      <td>Как зритель я уже не могу смотреть эти фильмы, я могу смотреть их только как актер, вспоминая те или иные моменты съемок, вспоминая жизнь, которая была вокруг на площадке.\\nЯ много снимаюсь, не могу, так сказать, какие-то роли совмещать, и приходится отказываться, но какие-то могу брать и параллельно работать.\\nЕсть один великолепный ролик, собранный из двух сезонов, где «я все решу, решу, решу, решу, решу, решу, я все решу, не волнуйтесь, все решу, решу», и заканчивается ролик на моменте, где Вадим сидит в тюрьме.\\nКакие-то фильмы из эпохи рыцарей или викингов — думаю, нет, да и мне такое, честно скажу, не предлагают.\\nКакие-то фильмы переснимаются, какие-то режиссеры берут, может быть, старые идеи, пропускают через себя.</td>\n",
       "    </tr>\n",
       "  </tbody>\n",
       "</table>\n",
       "<p>17 rows × 2 columns</p>\n",
       "</div>"
      ],
      "text/plain": [
       "                                                 link  \\\n",
       "10   https://rbclife.ru/news/652d646b9a794769f060aa29   \n",
       "43   https://rbclife.ru/news/6515355a9a79477db7ed05cc   \n",
       "48   https://rbclife.ru/news/653688879a7947f18bedc173   \n",
       "55   https://rbclife.ru/news/6527f3449a794715832b1ac6   \n",
       "56   https://rbclife.ru/news/652f85499a79470546d04997   \n",
       "..                                                ...   \n",
       "102  https://rbclife.ru/news/653901529a794723fa8b8df2   \n",
       "104  https://rbclife.ru/news/653779bc9a79472ad764466f   \n",
       "105  https://rbclife.ru/news/65377e729a7947bc908fad56   \n",
       "106  https://rbclife.ru/news/65365bdf9a794772196e3b38   \n",
       "131  https://rbclife.ru/news/652cc8bb9a79476cc761b7d3   \n",
       "\n",
       "                                                                                                                                                                                                                                                                                                                                                                                                                                                                                                                                                                                                                                                                                                                                                                                                                                                                                                                                                                   summary  \n",
       "10                                                                                                                                                                                                                                                   Какой костюм выбрать на Хэллоуин: 15 идей и советы экспертов .\\nКостюм УэнсдэйShutterstock Костюм можно дополнить тяжелыми массивными ботинками и нашивками Nevermore — школы, где училась УэнсдэйВ прошлом году вышел сериал про Уэнсдэй — девочку из семейки Аддамс.\\nЯна Николаюк отмечает, что образы страшных клоунов очень популярны за рубежом на Хэллоуин и их легко обыграть с помощью макияжа.\\nКостюм вампираShutterstock Костюм дополнит тыква с вырезанными на ней глазами либо сосуд с красной жидкостьюОстрые клыки — главная деталь образа вампира.\\nЭто могут быть как ведьмы, ангелы и феи, так и герои мультиков и фильмов, например Уэнсдэй, Барби, Чудо-женщина или Гермиона из «Гарри Поттера».  \n",
       "43                                                                                                                                                           Куда сходить в октябре: лекции, киносказки, балет, фестивали и другое .\\nВыставкаГде: Новая ТретьяковкаКогда: с 10 октябряВозрастное ограничение: 6+tretyakovgallery.ruБольшой проект по случаю 150-летия со дня рождения Николая Рериха, предлагающий оценить наследие художника и его влияние на мировую и российскую культуру.\\nВыставкаГде: Музейно-выставочный центр «Росфото»Когда: до 29 октябряВозрастное ограничение: 12+Sергей Sвешников.\\nСочиРоссийский ресторанный фестивальГде: рестораны «Баффет» и «Бумеранг»Когда: с 1 по 15 октябряВозрастное ограничение: 18+Ресторан «Бумеранг» Ресторан BoomerangВо время фестиваля в ресторанах можно попробовать специальные сеты.\\nДля гостей «Казино Сочи» группа исполнит свои хиты «Знак Водолея», «Плохая девочка», «Рома-Роман», «Ева» и другие.  \n",
       "48                                                                                                                                                                                                                                                                                                                                                                                                                                                                                                                                                                             Валдис Пельш — о 1990-х, YouTube и деньгах .\\nУ того же ЧБД («Что было дальше?», юмористическое интернет-шоу.— РБК Life) большое количество поклонников.\\nА во-вторых, это дает возможность аккумулировать средства для того, чтобы вечерний прайм заполнить каким-то новым, востребованным у аудитории шоу.\\n— РБК Life).\\n— РБК Life) за свои деньги, потому что у нас не было спонсоров.  \n",
       "55                                           По случаю юбилея Disney РБК Life вспомнил культовые мультики легендарной студии, которые можно пересматривать бесконечно, — от «Белоснежки» до «Короля Льва».\\n«Бэмби» (1942 год)Walt Disney Productions Кадр из мультфильма «Бэмби» (1942)На солнечной опушке посреди чащи рождается новый лесной принц — олененок по имени Бэмби.\\n«Аладдин» (1992 год)Walt Disney Pictures Кадр из мультфильма «Аладдин» (1992)Вслед за «Красавицей и чудовищем» Disney в 1992 году выпустил мультфильм «Аладдин», созданный по мотивам одной из сказок «1001 ночи».\\n«Король Лев» (1994 год)Walt Disney Pictures Кадр из мультфильма «Король Лев» (1994)Юный лев по имени Симба растет, чтобы стать преемником своего отца — могущественного короля-льва Муфасы.\\n«Тарзан» (1999 год)Walt Disney Pictures Кадр из мультфильма «Тарзан»Маленький мальчик, едва не ставший жертвой кораблекрушения, вынужден расти в джунглях среди горилл.  \n",
       "56   «Анатомия падения»: обзор фильма-победителя Каннского кинофестиваля-2023 .\\nФранцузскую драму об убийстве показывают в российских кинотеатрахКинопрокатная компания Про:Взгляд Сандра Хюллер в фильме Жюстин Трие «Анатомия падения»В российском прокате событие: вышла «Анатомия падения» — фильм французской постановщицы Жюстин Трие, ставший лауреатом 76-го Каннского кинофестиваля.\\nКинопрокатная компания Про:Взгляд Кадр из фильма «Анатомия падения»Жюстин Трие — третья женщина-режиссер, получившая «Золотую пальмовую ветвь» Каннского кинофестиваля.\\nКинопрокатная компания Про:Взгляд Кадр из фильма «Анатомия падения»Комплекс неполноценности в кризисе среднего возраста — губительная смесь.\\nКинопрокатная компания Про:Взгляд Кадр из фильма «Анатомия падения»Собственно дознавательный и судебный процессы, подробно зафиксированные ручной камерой, предстают шоу-программой, эдаким реалити-шоу, стирающим границы личного и общественного.  \n",
       "..                                                                                                                                                                                                                                                                                                                                                                                                                                                                                                                                                                                                                                                                                                                                                                                                                                                                                                                                                                     ...  \n",
       "102                                                                                                Дон Кихот и пес подружились в трейлере «Большого маленького приключения» .\\nВ российском прокате с 23 ноября Вышел дублированный трейлер нового мультфильма «Большое маленькое приключение»vlgfilmRU / YouTube Кадр из мультфильма «Большое маленькое приключение»Игрушечный рыцарь подружился с плюшевой собакой и отправился «навстречу приключениям, которые определят его жизнь».\\nДон Кихот стал главным героем мультфильма «Большое маленькое приключение», локализованным трейлером которого поделилась кинопрокатная компания «Вольга».\\nvlgfilmRU / YouTube Трейлер анимационного фильма «Большое маленькое приключение», режиссер Жереми Дегрюсон, 2023 г.Мировая премьера картины состоялась во Франции, на Международном фестивале анимационных фильмов в Анси.\\nФильм выйдет на экраны в США днем ранее, чем «Большое маленькое приключение», — 22 ноября.  \n",
       "104                                                                                                                                                                                                                                                                                                                                                                                                    Финал «Миссия невыполнима» получил новое название и дату премьеры .\\nЖдать последнюю часть шпионского боевика придется на год дольше Премьера восьмой части фильма «Миссия невыполнима» перенесена на май 2025 годаParamount Pictures Кадр из фильма «Миссия невыполнима: Смертельная расплата.\\nЧасть первая»Дату премьеры восьмой части шпионского боевика «Миссия невыполнима» («Миссия невыполнима.\\nParamount Pictures Кадр из фильма «Миссия невыполнима: Смертельная расплата.\\nParamount Pictures Кадр из фильма «Миссия невыполнима: Смертельная расплата.  \n",
       "105                                                                                      Асмус сыграет в мистическом триллере Хотиненко.\\nСобытия разворачиваются в 1990-х Кристина Асмус снимется в мистическом триллере Ильи Хотиненко «Кинопленка №8»Пресс-служба онлайн-кинотеатра Start Кристина Асмус на съемках фильма «Кинопленка №8»В Москве и Санкт-Петербурге начались съемки мистического триллера Ильи Хотиненко «Кинопленка №8», сообщили РБК Life в пресс-службе онлайн-кинотеатра Start.\\nПресс-служба онлайн-кинотеатра Start Фото со съемок фильма «Кинопленка №8»«Фильм Ильи Хотиненко «Кинопленка №8» — не нишевое, а очень зрительское кино.\\nНадеюсь, что эта интонация будет чувствоваться зрителем и проект станет заметным событием в индустрии», — говорит Кристина Асмус.\\nПресс-служба онлайн-кинотеатра Start Кристина Асмус на съемках фильма «Кинопленка №8»«Кинематографисты не случайно обращаются к осмыслению 90-х годов прошлого века.  \n",
       "106                                                                                                                                         Вышел первый трейлер новогодней комедии «Холоп 2» .\\nГлавные роли в фильме исполнили Милош Бикович и Аглая Тарасова Вышел первый трейлер комедии «Холоп 2» с Милошем Биковичем и Аглаей ТарасовойПресс-служба «Централ Партнершип» Съемки фильма «Холоп 2»Вышел трейлер продолжения комедии «Холоп», сообщили РБК Life в пресс-службе кинокомпании «Централ Партнершип».\\nПресс-служба «Централ Партнершип» Съемки фильма «Холоп 2»В фильме «Холоп 2» перевоспитанный Гриша сам не может закрыть глаза на беспредел, творимый избалованной Катей.\\nПресс-служба «Централ Партнершип» Съемки фильма «Холоп 2»Режиссер — постановщик первого «Холопа» Клим Шипенко.\\n«Холоп», вышедший в 2019 году, долгое время удерживал звание самого коммерчески успешного российского фильма (по данным «Кинопоиска», он собрал $62,2 млн).  \n",
       "131                                                                                                                                                                                                           Как зритель я уже не могу смотреть эти фильмы, я могу смотреть их только как актер, вспоминая те или иные моменты съемок, вспоминая жизнь, которая была вокруг на площадке.\\nЯ много снимаюсь, не могу, так сказать, какие-то роли совмещать, и приходится отказываться, но какие-то могу брать и параллельно работать.\\nЕсть один великолепный ролик, собранный из двух сезонов, где «я все решу, решу, решу, решу, решу, решу, я все решу, не волнуйтесь, все решу, решу», и заканчивается ролик на моменте, где Вадим сидит в тюрьме.\\nКакие-то фильмы из эпохи рыцарей или викингов — думаю, нет, да и мне такое, честно скажу, не предлагают.\\nКакие-то фильмы переснимаются, какие-то режиссеры берут, может быть, старые идеи, пропускают через себя.  \n",
       "\n",
       "[17 rows x 2 columns]"
      ]
     },
     "execution_count": 256,
     "metadata": {},
     "output_type": "execute_result"
    }
   ],
   "source": [
    "df[df['keywords_lem'].str.contains('фильм')][['link', 'summary']]"
   ]
  }
 ],
 "metadata": {
  "kernelspec": {
   "display_name": "Python 3 (ipykernel)",
   "language": "python",
   "name": "python3"
  },
  "language_info": {
   "codemirror_mode": {
    "name": "ipython",
    "version": 3
   },
   "file_extension": ".py",
   "mimetype": "text/x-python",
   "name": "python",
   "nbconvert_exporter": "python",
   "pygments_lexer": "ipython3",
   "version": "3.9.7"
  }
 },
 "nbformat": 4,
 "nbformat_minor": 5
}
