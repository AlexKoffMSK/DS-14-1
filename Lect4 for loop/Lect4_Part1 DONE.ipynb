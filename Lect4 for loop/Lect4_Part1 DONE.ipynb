{
 "cells": [
  {
   "cell_type": "markdown",
   "id": "574d616a",
   "metadata": {},
   "source": [
    "Центр непрерывного образования\n",
    "\n",
    "# Программа «Python для автоматизации и анализа данных»\n",
    "\n",
    " \n",
    "\n",
    "# Цикл for. Применение циклов к строкам, спискам, кортежам и словарям."
   ]
  },
  {
   "cell_type": "code",
   "execution_count": 9,
   "id": "7dde5456",
   "metadata": {},
   "outputs": [
    {
     "data": {
      "text/plain": [
       "'five'"
      ]
     },
     "execution_count": 9,
     "metadata": {},
     "output_type": "execute_result"
    }
   ],
   "source": [
    "[1, 2, 'three', (4.5, 'five')][3][1]"
   ]
  },
  {
   "cell_type": "code",
   "execution_count": 14,
   "id": "08e6d5b0",
   "metadata": {},
   "outputs": [
    {
     "data": {
      "text/plain": [
       "4"
      ]
     },
     "execution_count": 14,
     "metadata": {},
     "output_type": "execute_result"
    }
   ],
   "source": [
    "(1, 2.1, 'three', [4, 'five'])[3][0]"
   ]
  },
  {
   "cell_type": "code",
   "execution_count": 37,
   "id": "130e2dbe",
   "metadata": {},
   "outputs": [
    {
     "data": {
      "text/plain": [
       "{1, 2, 'three'}"
      ]
     },
     "execution_count": 37,
     "metadata": {},
     "output_type": "execute_result"
    }
   ],
   "source": [
    "{1, 2, 'three', 2}"
   ]
  },
  {
   "cell_type": "code",
   "execution_count": 39,
   "id": "ae579c68",
   "metadata": {},
   "outputs": [
    {
     "data": {
      "text/plain": [
       "dict_items([(1, '1'), ('three', 3), (2, {2: 5})])"
      ]
     },
     "execution_count": 39,
     "metadata": {},
     "output_type": "execute_result"
    }
   ],
   "source": [
    "{1: '1', 'three': 3, 2: {2: 5}}.items()"
   ]
  },
  {
   "cell_type": "code",
   "execution_count": 35,
   "id": "7e377f7e",
   "metadata": {},
   "outputs": [
    {
     "name": "stdout",
     "output_type": "stream",
     "text": [
      "\n"
     ]
    }
   ],
   "source": [
    "print()"
   ]
  },
  {
   "cell_type": "markdown",
   "id": "7093994f",
   "metadata": {},
   "source": [
    "Циклы мы используем в тех случаях, когда нужно повторить что-нибудь n-ное количество раз. Например, у нас уже был цикл **While**"
   ]
  },
  {
   "cell_type": "code",
   "execution_count": 41,
   "id": "4f65fb7c",
   "metadata": {},
   "outputs": [
    {
     "name": "stdout",
     "output_type": "stream",
     "text": [
      "1\n",
      "2\n",
      "3\n",
      "4\n",
      "5\n",
      "6\n",
      "7\n",
      "8\n",
      "9\n",
      "10\n"
     ]
    }
   ],
   "source": [
    "i = 1\n",
    "\n",
    "while i <= 10:\n",
    "    print(i)\n",
    "    i += 1 # i = i + 1"
   ]
  },
  {
   "cell_type": "markdown",
   "id": "ce4d7f1e",
   "metadata": {},
   "source": [
    "Здесь мы проверяем условие *i <= 10* (оно выполнено, *i = 1*), заходим в цикл с *i = 1*, печатаем значение *i*, добавляем к нему 1 иииии... \\\n",
    "Снова проверяем условие *i <= 10* (оно выполнено, *i = 2*), заходим в цикл с *i = 2*, печатаем значение *i*, добавляем к нему 1 иииии... \\\n",
    "Делаем такие же действия, пока *i* не становится равным 11, тогда условие входа в цикл не выполняется, и цикл завершается"
   ]
  },
  {
   "cell_type": "markdown",
   "id": "6fe1a0a3",
   "metadata": {},
   "source": [
    "Как мы уже обсуждали, цикл *While* гипотетически может \"уходить в бесконечность\", если условие, которое проверяется на входе в цикл будет выполнено всегда, например **While True**. Такие зацикливания можно прерывать оператором **break**, НО, это надо использовать очень аккуратно"
   ]
  },
  {
   "cell_type": "code",
   "execution_count": 42,
   "id": "4fd97ddf",
   "metadata": {},
   "outputs": [
    {
     "name": "stdout",
     "output_type": "stream",
     "text": [
      "1\n",
      "2\n",
      "3\n",
      "4\n",
      "5\n",
      "6\n",
      "7\n",
      "8\n",
      "9\n",
      "10\n"
     ]
    }
   ],
   "source": [
    "i = 1\n",
    "\n",
    "while True:\n",
    "    print(i)\n",
    "    i+=1\n",
    "    if i==11:\n",
    "        break"
   ]
  },
  {
   "cell_type": "markdown",
   "id": "337b73cf",
   "metadata": {},
   "source": [
    "### FOR"
   ]
  },
  {
   "cell_type": "markdown",
   "id": "90106d56",
   "metadata": {},
   "source": [
    "В Python цикл начинается с ключевого слова **for**, за которым следует произвольное имя переменной, которое будет хранить значения следующего объекта последовательности. Общий синтаксис **for...in** в python выглядит следующим образом:\n",
    "\n",
    "**for** <переменная> **in** <последовательность>:\n",
    "\n",
    "    <действие> \n",
    "    \n",
    "**else:**\n",
    "\n",
    "    <действие>\n",
    "    \n",
    "Элементы “последовательности” перебираются один за другим “переменной” цикла; если быть точным, переменная указывает на элементы. Для каждого элемента выполняется “действие”."
   ]
  },
  {
   "cell_type": "markdown",
   "id": "dc8885cc",
   "metadata": {},
   "source": [
    "<img src =\"https://d33wubrfki0l68.cloudfront.net/09c51b2f33c74a58ae5ae12689b2c5441e6f6bb4/83a52/wp-content/uploads/2017/06/forloop.png\" alt =\"Test picture\" style=\"width: 300px;\"/>"
   ]
  },
  {
   "cell_type": "markdown",
   "id": "451807f4",
   "metadata": {},
   "source": [
    "Вот пример простейшего цикла **for**"
   ]
  },
  {
   "cell_type": "code",
   "execution_count": 42,
   "id": "dc86047d",
   "metadata": {},
   "outputs": [
    {
     "name": "stdout",
     "output_type": "stream",
     "text": [
      "C\n",
      "C++\n",
      "Perl\n",
      "Python\n"
     ]
    }
   ],
   "source": [
    "languages = [\"C\", \"C++\", \"Perl\", \"Python\"]\n",
    "\n",
    "for x in languages:\n",
    "    print(x)"
   ]
  },
  {
   "cell_type": "markdown",
   "id": "26f47a29",
   "metadata": {},
   "source": [
    "Элементы “последовательности” перебираются один за другим “переменной” цикла; \\\n",
    "Если быть точным, переменная указывает на элементы. Для каждого элемента выполняется “действие”.\\\n",
    "Здесь в роли \"последовательности\" у нас список"
   ]
  },
  {
   "cell_type": "markdown",
   "id": "580ccafc",
   "metadata": {},
   "source": [
    "### Итерируемый объект \n",
    "\n",
    "**Итерация** - это общий термин, который описывает процедуру взятия элементов чего-то по очереди.\n",
    "\n",
    "В более общем смысле, это последовательность инструкций, которая повторяется определенное количество раз или до выполнения указанного условия.\n",
    "\n",
    "**Итерируемый объект** (iterable) - это объект, который способен возвращать элементы по одному(не обязательно по порядку). Кроме того, это объект, из которого можно получить итератор.\n",
    "\n",
    "Примеры итерируемых объектов:\n",
    "\n",
    "* все последовательности: список, строка, кортеж\n",
    "* словари и множества\n",
    "* файлы"
   ]
  },
  {
   "cell_type": "markdown",
   "id": "54b28e2b",
   "metadata": {},
   "source": [
    "**Итератор** (iterator) - это объект, который возвращает свои элементы по одному за раз.\n",
    "\n",
    "С точки зрения Python - это любой объект, у которого есть метод __next__. Этот метод возвращает следующий элемент, если он есть, или возвращает исключение **StopIteration**, когда элементы закончились.\n",
    "\n",
    "Кроме того, итератор запоминает, на каком объекте он остановился в последнюю итерацию."
   ]
  },
  {
   "cell_type": "markdown",
   "id": "b61fcd89",
   "metadata": {},
   "source": [
    "Сейчас сложновато: Наш цикл for проходит именно по итератору! Когда мы говорим:\n",
    "\n",
    "for object in iterable:\n",
    "\n",
    "    do something  \n",
    "    \n",
    "Мы, на самом деле, вызываем метод итерируемого объекта , который возвращает итератор.\n",
    "Таким образом, создаем объект-итератор , по которому и бежит цикл for.\n",
    "Для того чтобы все это увидеть, есть функция iter() В качестве аргумента ей передается итерируемый объект (словарь, список, кортеж и т.д.) , а она возвращает соответствующий итератор.\n"
   ]
  },
  {
   "cell_type": "code",
   "execution_count": 43,
   "id": "6d8cbb18",
   "metadata": {},
   "outputs": [
    {
     "name": "stdout",
     "output_type": "stream",
     "text": [
      "<class 'set'>\n",
      "<class 'set_iterator'>\n"
     ]
    }
   ],
   "source": [
    "s = {1,2,3,4,5}\n",
    "print(type(s))\n",
    "print(type(iter(s)))"
   ]
  },
  {
   "cell_type": "code",
   "execution_count": 44,
   "id": "643e82cd",
   "metadata": {},
   "outputs": [
    {
     "name": "stdout",
     "output_type": "stream",
     "text": [
      "1\n",
      "2\n",
      "3\n",
      "4\n",
      "5\n"
     ]
    }
   ],
   "source": [
    "for i in s:\n",
    "    print(i)"
   ]
  },
  {
   "cell_type": "code",
   "execution_count": 4,
   "id": "c8434fbb",
   "metadata": {},
   "outputs": [
    {
     "name": "stdout",
     "output_type": "stream",
     "text": [
      "1\n",
      "2\n",
      "3\n",
      "4\n",
      "5\n"
     ]
    }
   ],
   "source": [
    "for i in iter(s):\n",
    "    print(i)"
   ]
  },
  {
   "cell_type": "markdown",
   "id": "8b544868",
   "metadata": {},
   "source": [
    "Посмотрим на встроенную функцию next(). Она должна отдавать следующий элемент итератора. "
   ]
  },
  {
   "cell_type": "code",
   "execution_count": 45,
   "id": "592bb9ce",
   "metadata": {},
   "outputs": [
    {
     "name": "stdout",
     "output_type": "stream",
     "text": [
      "1\n",
      "2\n",
      "3\n",
      "4\n",
      "5\n"
     ]
    },
    {
     "ename": "StopIteration",
     "evalue": "",
     "output_type": "error",
     "traceback": [
      "\u001b[1;31m---------------------------------------------------------------------------\u001b[0m",
      "\u001b[1;31mStopIteration\u001b[0m                             Traceback (most recent call last)",
      "Input \u001b[1;32mIn [45]\u001b[0m, in \u001b[0;36m<cell line: 8>\u001b[1;34m()\u001b[0m\n\u001b[0;32m      6\u001b[0m \u001b[38;5;28mprint\u001b[39m(\u001b[38;5;28mnext\u001b[39m(s_iter))\n\u001b[0;32m      7\u001b[0m \u001b[38;5;28mprint\u001b[39m(\u001b[38;5;28mnext\u001b[39m(s_iter))\n\u001b[1;32m----> 8\u001b[0m \u001b[38;5;28mprint\u001b[39m(\u001b[38;5;28;43mnext\u001b[39;49m\u001b[43m(\u001b[49m\u001b[43ms_iter\u001b[49m\u001b[43m)\u001b[49m)\n",
      "\u001b[1;31mStopIteration\u001b[0m: "
     ]
    }
   ],
   "source": [
    "s = {1,2,3,4,5}\n",
    "s_iter = iter(s)\n",
    "print(next(s_iter))\n",
    "print(next(s_iter))\n",
    "print(next(s_iter))\n",
    "print(next(s_iter))\n",
    "print(next(s_iter))\n",
    "print(next(s_iter))"
   ]
  },
  {
   "cell_type": "markdown",
   "id": "7d8cfed1",
   "metadata": {},
   "source": [
    "Отлично! мы по одному научились перебирать элементы из итерируемого объекта."
   ]
  },
  {
   "cell_type": "markdown",
   "id": "fcbf8cf7",
   "metadata": {},
   "source": [
    "\n",
    "Если же мы перепишем цикл **for** с помощью цикла **while**, используя индексы, то работать такой подход будет только с последовательностями:"
   ]
  },
  {
   "cell_type": "code",
   "execution_count": 7,
   "id": "cda443e6",
   "metadata": {},
   "outputs": [
    {
     "name": "stdout",
     "output_type": "stream",
     "text": [
      "1\n",
      "2\n",
      "3\n"
     ]
    }
   ],
   "source": [
    "list_of_numbers = [1,2,3]\n",
    "index = 0\n",
    "\n",
    "while index < len(list_of_numbers):\n",
    "    print(list_of_numbers[index])\n",
    "    index += 1"
   ]
  },
  {
   "cell_type": "markdown",
   "id": "460c2564",
   "metadata": {},
   "source": [
    "А с итерируемыми объектами, последовательностями не являющимися, не будет (потому что в множестве к элементу по индексу не обращаются!):"
   ]
  },
  {
   "cell_type": "code",
   "execution_count": 46,
   "id": "a7ba15f0",
   "metadata": {},
   "outputs": [
    {
     "ename": "TypeError",
     "evalue": "'set' object is not subscriptable",
     "output_type": "error",
     "traceback": [
      "\u001b[1;31m---------------------------------------------------------------------------\u001b[0m",
      "\u001b[1;31mTypeError\u001b[0m                                 Traceback (most recent call last)",
      "Input \u001b[1;32mIn [46]\u001b[0m, in \u001b[0;36m<cell line: 4>\u001b[1;34m()\u001b[0m\n\u001b[0;32m      2\u001b[0m index \u001b[38;5;241m=\u001b[39m \u001b[38;5;241m0\u001b[39m \n\u001b[0;32m      4\u001b[0m \u001b[38;5;28;01mwhile\u001b[39;00m index \u001b[38;5;241m<\u001b[39m \u001b[38;5;28mlen\u001b[39m(set_of_numbers):\n\u001b[1;32m----> 5\u001b[0m     \u001b[38;5;28mprint\u001b[39m(\u001b[43mset_of_numbers\u001b[49m\u001b[43m[\u001b[49m\u001b[43mindex\u001b[49m\u001b[43m]\u001b[49m)\n\u001b[0;32m      6\u001b[0m     index \u001b[38;5;241m+\u001b[39m\u001b[38;5;241m=\u001b[39m \u001b[38;5;241m1\u001b[39m\n",
      "\u001b[1;31mTypeError\u001b[0m: 'set' object is not subscriptable"
     ]
    }
   ],
   "source": [
    "set_of_numbers = {1,2,3}\n",
    "index = 0 \n",
    "\n",
    "while index < len(set_of_numbers):\n",
    "    print(set_of_numbers[index])\n",
    "    index += 1"
   ]
  },
  {
   "cell_type": "markdown",
   "id": "20d0d6c4",
   "metadata": {},
   "source": [
    "Ну если уж прям совсем никак без индексации, то к любому итерируемому объекту можно применить функцию enumerate(), \\\n",
    "которая, как следует из названия, коллекцию занумерует. Здесь мы наделали кортежей вида (индекс, элемент)"
   ]
  },
  {
   "cell_type": "code",
   "execution_count": 47,
   "id": "2c2ba1f4",
   "metadata": {},
   "outputs": [
    {
     "name": "stdout",
     "output_type": "stream",
     "text": [
      "(0, 1)\n",
      "(1, 2)\n",
      "(2, 3)\n",
      "(3, 4)\n",
      "(4, 5)\n",
      "(5, 6)\n"
     ]
    }
   ],
   "source": [
    "set_of_numbers = {1,2,3,4,5,6}\n",
    "\n",
    "for i in enumerate(set_of_numbers):\n",
    "    print(i)"
   ]
  },
  {
   "cell_type": "markdown",
   "id": "8da377c1",
   "metadata": {},
   "source": [
    "Чтобы выдавать это в человеческом виде, можно прямо после for сказать, что мы \"итерируемся\" по индексам и объектам. \\\n",
    "Выглядит это следующим образом:"
   ]
  },
  {
   "cell_type": "code",
   "execution_count": 50,
   "id": "cd229ebc",
   "metadata": {},
   "outputs": [
    {
     "name": "stdout",
     "output_type": "stream",
     "text": [
      "0 1\n",
      "1 2\n",
      "2 3\n"
     ]
    }
   ],
   "source": [
    "set_of_numbers = {1,2,3}\n",
    "\n",
    "for index, element in enumerate(set_of_numbers):\n",
    "    print(index, element)"
   ]
  },
  {
   "cell_type": "code",
   "execution_count": 49,
   "id": "a52495c8",
   "metadata": {},
   "outputs": [
    {
     "data": {
      "text/plain": [
       "[(0, 1), (1, 2), (2, 3)]"
      ]
     },
     "execution_count": 49,
     "metadata": {},
     "output_type": "execute_result"
    }
   ],
   "source": [
    "list(enumerate({1,2,3}))"
   ]
  },
  {
   "cell_type": "markdown",
   "id": "2c97213e",
   "metadata": {},
   "source": [
    "### Немного умных слов об итераторах\n",
    "\n",
    "**Протокол итератора**\n",
    "\n",
    "Теперь формализуем протокол итератора целиком:\n",
    "\n",
    "* Чтобы получить итератор мы должны передать функции iter итерируемый объект.\n",
    "* Далее мы передаём итератор функции next.\n",
    "* Когда элементы в итераторе закончились, порождается исключение StopIteration. (Пока представим себе исключения, как объект специального типа, который генерируется в момент ошибки или какого-то терминального события. Например, они появляются, когда мы пытаемся делить на ноль или когда что-то напутали с типами)\n",
    "\n",
    "**Плюсы итераторов:**\n",
    "\n",
    "Итераторы работают \"лениво\" (en. lazy). А это значит, что они не выполняют какой-либо работы до тех пор, пока мы их об этом не попросим. А это классный функционал, потому что очень многие виды данных в память компьютера не помещаются, а \"ленивый\" итератор позволяет эти данные читать по кускам! Так, например, можно посчитать количество строк в текстовом файле на несколько гигабайт.\n",
    "\n",
    "Таким образом, мы можем оптимизировать потребление ресурсов ОЗУ и CPU, а так же создавать бесконечные последовательности."
   ]
  },
  {
   "cell_type": "markdown",
   "id": "da422969",
   "metadata": {},
   "source": [
    "<img src =\"https://files.realpython.com/media/t.ba63222d63f5.png\" alt =\"Test picture\" style=\"width: 300px;\"/>"
   ]
  },
  {
   "cell_type": "markdown",
   "id": "22322be8",
   "metadata": {},
   "source": [
    "\n",
    "На самом деле мы уже попробовали использовать цикл **for** на множествах и на списках. \\\n",
    "Теперь давайте систематически разберемся, как for используется с разными коллекциями"
   ]
  },
  {
   "cell_type": "markdown",
   "id": "7b72ab30",
   "metadata": {},
   "source": [
    "### Списки, строки, множества и кортежи"
   ]
  },
  {
   "cell_type": "markdown",
   "id": "6dce3fb9",
   "metadata": {},
   "source": [
    "В общем, по индексированным последовательностям мы уже ходить умеем. В списках и кортежах это проход по элементам (подряд),\\\n",
    "а в строках это проход по буквам (в порядке следования)."
   ]
  },
  {
   "cell_type": "code",
   "execution_count": 53,
   "id": "6a599eb7",
   "metadata": {},
   "outputs": [
    {
     "name": "stdout",
     "output_type": "stream",
     "text": [
      "T\n",
      "a\n",
      "k\n",
      "e\n",
      " \n",
      "a\n",
      " \n",
      "l\n",
      "o\n",
      "o\n",
      "k\n",
      " \n",
      "a\n",
      "r\n",
      "o\n",
      "u\n",
      "n\n",
      "d\n"
     ]
    }
   ],
   "source": [
    "x = 'Take a look around'\n",
    "\n",
    "for i in x:\n",
    "    print(i)"
   ]
  },
  {
   "cell_type": "code",
   "execution_count": 60,
   "id": "0f4484c2",
   "metadata": {},
   "outputs": [
    {
     "name": "stdout",
     "output_type": "stream",
     "text": [
      "4\n"
     ]
    }
   ],
   "source": [
    "# Здесь мы прошлись по элементам списка и посчитали их сумму\n",
    "# В цикл вошли с total = 0 и на каждом элементе добавляли к total значение элемента\n",
    "x = [1,2,3,4]\n",
    "total = 0\n",
    "loop = 0\n",
    "\n",
    "for i in x:\n",
    "    print(i)\n",
    "    total += i\n",
    "    loop += 1\n",
    "    print(total)\n",
    "    \n",
    "# print(total)\n",
    "print(loop)"
   ]
  },
  {
   "cell_type": "code",
   "execution_count": 59,
   "id": "ed7ceec7",
   "metadata": {},
   "outputs": [
    {
     "data": {
      "text/plain": [
       "10"
      ]
     },
     "execution_count": 59,
     "metadata": {},
     "output_type": "execute_result"
    }
   ],
   "source": [
    "sum(x)"
   ]
  },
  {
   "cell_type": "code",
   "execution_count": 63,
   "id": "587bcef5",
   "metadata": {},
   "outputs": [
    {
     "name": "stdout",
     "output_type": "stream",
     "text": [
      "175\n",
      "[7, 49, 63, 28, 28]\n"
     ]
    }
   ],
   "source": [
    "# Здесь мы прошлись по элементам кортежа и посчитали сумму тех, которые делятся на 7 нацело\n",
    "# В цикл вошли с total = 0 и на каждом элементе добавляли к total значение элементов, удовлетворяющих условию\n",
    "\n",
    "x = (1,2,3,4,7,49,4,23,63,28,28)\n",
    "total = 0\n",
    "lst = []\n",
    "\n",
    "for i in x:\n",
    "    if i % 7 == 0:\n",
    "        lst.append(i)\n",
    "        total += i # total = total + i\n",
    "        \n",
    "print(total)\n",
    "print(lst)"
   ]
  },
  {
   "cell_type": "code",
   "execution_count": 69,
   "id": "4cc847dd",
   "metadata": {},
   "outputs": [
    {
     "name": "stdout",
     "output_type": "stream",
     "text": [
      "i в цикле 2\n",
      "i в цикле 4\n",
      "i в цикле 28\n",
      "34\n",
      "{1, 2, 3, 4, 7, 49, 23, 28, 63}\n"
     ]
    }
   ],
   "source": [
    "# Здесь мы преобразовали кортеж из предыдущей ячейки в множество и посчитали сумму четных элементов\n",
    "# В цикл вошли с total = 0 и на каждом элементе добавляли к total значение элементов, удовлетворяющих условию\n",
    "\n",
    "x_set = set(x)\n",
    "total = 0\n",
    "\n",
    "for i in x_set:\n",
    "    if i % 2 == 0:\n",
    "        print('i в цикле', i)\n",
    "        total += i\n",
    "        \n",
    "print(total)\n",
    "print(x_set)"
   ]
  },
  {
   "cell_type": "code",
   "execution_count": 66,
   "id": "481e2d5c",
   "metadata": {},
   "outputs": [
    {
     "data": {
      "text/plain": [
       "[1, 2, 3, 4, 7, 23, 28, 49, 63]"
      ]
     },
     "execution_count": 66,
     "metadata": {},
     "output_type": "execute_result"
    }
   ],
   "source": [
    "sorted(set(x))"
   ]
  },
  {
   "cell_type": "code",
   "execution_count": 65,
   "id": "17560e9c",
   "metadata": {},
   "outputs": [
    {
     "data": {
      "text/plain": [
       "(1, 2, 3, 4, 7, 49, 4, 23, 63, 28, 28)"
      ]
     },
     "execution_count": 65,
     "metadata": {},
     "output_type": "execute_result"
    }
   ],
   "source": [
    "x"
   ]
  },
  {
   "cell_type": "markdown",
   "id": "e6cc2571",
   "metadata": {},
   "source": [
    "### Словари\n",
    "\n",
    "В случае словарей итерация (по умолчанию) происходит по ключам"
   ]
  },
  {
   "cell_type": "code",
   "execution_count": 70,
   "id": "cdb5fcd7",
   "metadata": {},
   "outputs": [
    {
     "name": "stdout",
     "output_type": "stream",
     "text": [
      "foo\n",
      "bar\n",
      "baz\n"
     ]
    }
   ],
   "source": [
    "d = {'foo': 1, 'bar': 2, 'baz': 3}\n",
    "\n",
    "for k in d:\n",
    "    print(k)"
   ]
  },
  {
   "cell_type": "markdown",
   "id": "bb1305c4",
   "metadata": {},
   "source": [
    "Но по ключам можно вынимать и соответствующие значения"
   ]
  },
  {
   "cell_type": "code",
   "execution_count": 72,
   "id": "8ac8e66f",
   "metadata": {},
   "outputs": [
    {
     "name": "stdout",
     "output_type": "stream",
     "text": [
      "foo\n",
      "1\n",
      "bar\n",
      "2\n",
      "baz\n",
      "3\n"
     ]
    }
   ],
   "source": [
    "for k in d:\n",
    "    print(k)\n",
    "    print(d[k])"
   ]
  },
  {
   "cell_type": "code",
   "execution_count": 76,
   "id": "96673b09",
   "metadata": {},
   "outputs": [
    {
     "data": {
      "text/plain": [
       "dict_values([1, 2, 3])"
      ]
     },
     "execution_count": 76,
     "metadata": {},
     "output_type": "execute_result"
    }
   ],
   "source": [
    "d.values()"
   ]
  },
  {
   "cell_type": "markdown",
   "id": "cf34b169",
   "metadata": {},
   "source": [
    "Также можно напрямую указать, по чему мы итерируемся: по ключам, по значениям или по кортежам ключ-значение\\\n",
    "Помните методы **.values()** , **.keys()** и **.items()** ?"
   ]
  },
  {
   "cell_type": "code",
   "execution_count": 17,
   "id": "64b3bfd4",
   "metadata": {},
   "outputs": [
    {
     "name": "stdout",
     "output_type": "stream",
     "text": [
      "{'foo': 1, 'bar': 2, 'baz': 3}\n",
      "1\n",
      "2\n",
      "3\n"
     ]
    }
   ],
   "source": [
    "print(d)\n",
    "for v in d.values():\n",
    "    print(v)"
   ]
  },
  {
   "cell_type": "code",
   "execution_count": 18,
   "id": "3d940621",
   "metadata": {},
   "outputs": [
    {
     "name": "stdout",
     "output_type": "stream",
     "text": [
      "{'foo': 1, 'bar': 2, 'baz': 3}\n",
      "foo\n",
      "bar\n",
      "baz\n"
     ]
    }
   ],
   "source": [
    "print(d)\n",
    "for v in d.keys():\n",
    "    print(v)"
   ]
  },
  {
   "cell_type": "code",
   "execution_count": 83,
   "id": "9acfe5a4",
   "metadata": {},
   "outputs": [
    {
     "data": {
      "text/plain": [
       "dict_items([('foo', 1), ('bar', 2), ('baz', 3)])"
      ]
     },
     "execution_count": 83,
     "metadata": {},
     "output_type": "execute_result"
    }
   ],
   "source": [
    "d.items()"
   ]
  },
  {
   "cell_type": "code",
   "execution_count": 19,
   "id": "748656cc",
   "metadata": {},
   "outputs": [
    {
     "name": "stdout",
     "output_type": "stream",
     "text": [
      "{'foo': 1, 'bar': 2, 'baz': 3}\n",
      "('foo', 1)\n",
      "('bar', 2)\n",
      "('baz', 3)\n"
     ]
    }
   ],
   "source": [
    "print(d)\n",
    "\n",
    "for v in d.items():\n",
    "    print(v)"
   ]
  },
  {
   "cell_type": "markdown",
   "id": "51a50f85",
   "metadata": {},
   "source": [
    "А еще можно \"распаковать\" эти кортежи-ключ значения (примерно так же, как мы сделали для **enumerate**)"
   ]
  },
  {
   "cell_type": "code",
   "execution_count": 86,
   "id": "3398c71f",
   "metadata": {},
   "outputs": [
    {
     "name": "stdout",
     "output_type": "stream",
     "text": [
      "1\n",
      "2\n",
      "3\n"
     ]
    }
   ],
   "source": [
    "d = {'foo': 1, 'bar': 2, 'baz': 3}\n",
    "\n",
    "for k, v in d.items():\n",
    "#     print('k =', k, ', v =', v)\n",
    "    print(v)"
   ]
  },
  {
   "cell_type": "code",
   "execution_count": 91,
   "id": "a40a4426",
   "metadata": {},
   "outputs": [
    {
     "name": "stdout",
     "output_type": "stream",
     "text": [
      "(1, 2)\n",
      "(3, 4)\n",
      "(3, 4)\n"
     ]
    }
   ],
   "source": [
    "for key in [(1, 2), (3, 4)]:\n",
    "    print(key)\n",
    "    \n",
    "print(key)"
   ]
  },
  {
   "cell_type": "markdown",
   "id": "b3a59e1c",
   "metadata": {},
   "source": [
    "Перед тем, как начать решать какие-то задачи, остается упомянуть крайне полезную функцию **range()**. \\\n",
    "Простыми словами, **range()** позволяет вам генерировать ряд чисел в рамках заданного диапазона. В зависимости от того, как много аргументов вы передаете функции, вы можете решить, где этот ряд чисел начнется и закончится, а также насколько велика разница будет между двумя числами."
   ]
  },
  {
   "cell_type": "markdown",
   "id": "6a1dc3ce",
   "metadata": {},
   "source": [
    "Есть три способа вызова **range()**:\n",
    "\n",
    "* **range(стоп)** берет один аргумент\n",
    "* **range(старт, стоп)** берет два аргумента\n",
    "* **range(старт, стоп, шаг)** берет три аргумента\n",
    "\n",
    "На деле **range()** возвращает \"ленивый\" итерируемый объект. Понимать надо следующее: \n",
    "* По range() можно итерироваться (значит это итерируемый объект)\n",
    "* range() не держит все свои объекты в памяти, а достает их \"по требованию\" (прям как итератор!)\n",
    "* Но есть и ряд отличий, который делает range() похожим на последовательности (списки, кортежи и строки)"
   ]
  },
  {
   "cell_type": "code",
   "execution_count": 92,
   "id": "783d11e6",
   "metadata": {},
   "outputs": [
    {
     "name": "stdout",
     "output_type": "stream",
     "text": [
      "0\n",
      "1\n",
      "2\n"
     ]
    }
   ],
   "source": [
    "# Это как раз первый случай (мы вывели все целые числа ДО трех)\n",
    "for i in range(3):\n",
    "    print(i)"
   ]
  },
  {
   "cell_type": "code",
   "execution_count": 93,
   "id": "e9667bce",
   "metadata": {},
   "outputs": [
    {
     "data": {
      "text/plain": [
       "range(0, 3)"
      ]
     },
     "execution_count": 93,
     "metadata": {},
     "output_type": "execute_result"
    }
   ],
   "source": [
    "range(3)"
   ]
  },
  {
   "cell_type": "code",
   "execution_count": 94,
   "id": "2aa519cc",
   "metadata": {},
   "outputs": [
    {
     "name": "stdout",
     "output_type": "stream",
     "text": [
      "1\n",
      "2\n",
      "3\n",
      "4\n",
      "5\n",
      "6\n",
      "7\n",
      "8\n",
      "9\n",
      "10\n"
     ]
    }
   ],
   "source": [
    "# Это второй случай (мы вывели все целые числа от 0 до 10 не включая правый конец)\n",
    "for i in range(1, 11):\n",
    "    print(i)"
   ]
  },
  {
   "cell_type": "code",
   "execution_count": 49,
   "id": "342f5c96",
   "metadata": {},
   "outputs": [
    {
     "name": "stdout",
     "output_type": "stream",
     "text": [
      "0\n",
      "3\n",
      "6\n",
      "9\n"
     ]
    }
   ],
   "source": [
    "# Ну а это третий случай (мы вывели все целые числа от 0 до 10 не включая правый конец с шагом 2)\n",
    "# То есть нулевое, второе, четвертое и т.д.\n",
    "for i in range(0, 10, 3):\n",
    "    print(i)"
   ]
  },
  {
   "cell_type": "markdown",
   "id": "3c318daf",
   "metadata": {},
   "source": [
    "Шаг здесь может быть положительным или отрицательным числом, но не может быть нулем! Отрицательное число будет означать уменьшение аргумента, то есть:"
   ]
  },
  {
   "cell_type": "code",
   "execution_count": 99,
   "id": "7b93207e",
   "metadata": {},
   "outputs": [
    {
     "name": "stdout",
     "output_type": "stream",
     "text": [
      "10\n",
      "9\n",
      "8\n",
      "7\n",
      "6\n",
      "5\n",
      "4\n",
      "3\n",
      "2\n",
      "1\n"
     ]
    }
   ],
   "source": [
    "for i in range(10, 0, -1):\n",
    "    print(i)"
   ]
  },
  {
   "cell_type": "code",
   "execution_count": 100,
   "id": "121d9b6b",
   "metadata": {},
   "outputs": [
    {
     "data": {
      "text/plain": [
       "range(0, 10)"
      ]
     },
     "execution_count": 100,
     "metadata": {},
     "output_type": "execute_result"
    }
   ],
   "source": [
    "range(0, 10)"
   ]
  },
  {
   "cell_type": "markdown",
   "id": "a3551263",
   "metadata": {},
   "source": [
    "А теперь отличие от итераторов! У range можно обратиться к элементу или даже срезу (как в списках)"
   ]
  },
  {
   "cell_type": "code",
   "execution_count": 102,
   "id": "0bfac1a2",
   "metadata": {},
   "outputs": [
    {
     "name": "stdout",
     "output_type": "stream",
     "text": [
      "1\n"
     ]
    }
   ],
   "source": [
    "print(range(3)[1])"
   ]
  },
  {
   "cell_type": "code",
   "execution_count": 107,
   "id": "b414ef4c",
   "metadata": {},
   "outputs": [
    {
     "data": {
      "text/plain": [
       "range(2, 5)"
      ]
     },
     "execution_count": 107,
     "metadata": {},
     "output_type": "execute_result"
    }
   ],
   "source": [
    "range(10)[2:5]"
   ]
  },
  {
   "cell_type": "code",
   "execution_count": 105,
   "id": "7571d4ca",
   "metadata": {},
   "outputs": [
    {
     "data": {
      "text/plain": [
       "range(0, 5)"
      ]
     },
     "execution_count": 105,
     "metadata": {},
     "output_type": "execute_result"
    }
   ],
   "source": [
    "range(len([1, 2, 3, 4, 5]))"
   ]
  },
  {
   "cell_type": "markdown",
   "id": "5289a2b9",
   "metadata": {},
   "source": [
    "Доделаем задачу с предыдущего занятия\n",
    "\n",
    "## Задача\n",
    "\n",
    "Артем ведет учет всех фильмов которые он посмотрел за год. Он ведет свой учет в следующем формате:\n",
    "\n",
    "<месяц просмотра>-<название фильма>\n",
    "\n",
    "Когда он перечислит все фильмы, то пишет КОНЕЦ\n",
    "\n",
    "Сделайте статистику по интенсивности просмотров фильмов Артемом, которая будет включать в себя\n",
    "\n",
    "месяц когда он посмотрел максимальное количество фильмов (если таких месяцев несколько выведите все) \\\n",
    "месяц когда он посмотрел минимальное количество фильмов количество фильмов (если таких месяцев несколько выведите все) \\\n",
    "гарантируется, что интенсивность просмотра фильмов не равномерная \\\n",
    "сколько в среднем в месяц Артем смотрит фильмов, ответ округлите до 2х знаков после запятой\n",
    "\n",
    "Для примера:\n",
    "\n",
    "**ВВОД**\n",
    "\n",
    "1-Аватар \\\n",
    "2-День независимости \\\n",
    "5-Мулан \\\n",
    "1-Титаник \\\n",
    "12-Ирония судьбы \\\n",
    "10-Мимино \\\n",
    "КОНЕЦ\n",
    "\n",
    "**ВЫВОД**\n",
    "\n",
    "Всего за год вы посмотрели 6 фильм(а/ов) \\\n",
    "Больше всего фильмов вы посмотрели в январе \\\n",
    "Меньше всего фильмов вы посмотрели в феврале, мае, октябре, декабре \\\n",
    "В среднем в месяц вы смотрите 0.5 фильм(а/ов)\n"
   ]
  },
  {
   "cell_type": "code",
   "execution_count": 136,
   "id": "422b7ba0",
   "metadata": {},
   "outputs": [
    {
     "name": "stdout",
     "output_type": "stream",
     "text": [
      "1-фывпфывп\n",
      "2-фывпфып\n",
      "2-фвыпфывп\n",
      "3-фвпвфып\n",
      "КОНЕЦ\n",
      "Всего за год вы посмотрели фильмов: 4\n",
      "Больше всего фильмов вы посмотрели в феврале\n",
      "Меньше всего фильмов вы посмотрели в январе, марте\n",
      "В среднем за год вы смотрите 0.3 фильма\\ов.\n"
     ]
    }
   ],
   "source": [
    "mon = {1: 'январе', 2:'феврале', 3: 'марте', 4: 'апреле', 5:'мае', 6: 'июне',\n",
    "       7:'июле', 8:'августе', 9:'сентябре', 10:'октябре', 11:'ноябре', \n",
    "       12:'декабре'}\n",
    "\n",
    "# ваш код\n",
    "stat = {}\n",
    "\n",
    "while True:\n",
    "    film = input()\n",
    "    \n",
    "    if film == 'КОНЕЦ':\n",
    "        break\n",
    "        \n",
    "    month = int(film.split('-')[0])\n",
    "    \n",
    "    if month not in stat:\n",
    "        stat[month] = 1\n",
    "    else:\n",
    "        stat[month] += 1\n",
    "\n",
    "# print(stat)\n",
    "\n",
    "# сколько фильмов всего посмотрели\n",
    "\n",
    "print(\"Всего за год вы посмотрели фильмов:\", sum(stat.values()))\n",
    "\n",
    "# в каком месяце посмотрели больше всего\n",
    "\n",
    "max_month = []\n",
    "min_month = []\n",
    "\n",
    "for s in stat:\n",
    "    if stat[s] == max(stat.values()):\n",
    "        max_month.append(mon[s])\n",
    "    elif stat[s] == min(stat.values()):\n",
    "        min_month.append(mon[s])\n",
    "\n",
    "print(f'Больше всего фильмов вы посмотрели в {\", \".join(max_month)}')\n",
    "print(f'Меньше всего фильмов вы посмотрели в {\", \".join(min_month)}')\n",
    "\n",
    "# сколько в среднем за год\n",
    "\n",
    "print(f'В среднем в месяц вы смотрите {round(sum(stat.values()) / 12, 1)} фильма\\ов.')"
   ]
  },
  {
   "cell_type": "code",
   "execution_count": 135,
   "id": "233d9196",
   "metadata": {},
   "outputs": [
    {
     "data": {
      "text/plain": [
       "0.6"
      ]
     },
     "execution_count": 135,
     "metadata": {},
     "output_type": "execute_result"
    }
   ],
   "source": [
    "round(sum(stat.values()) / 12, 1)"
   ]
  },
  {
   "cell_type": "code",
   "execution_count": 127,
   "id": "bd6ba515",
   "metadata": {},
   "outputs": [],
   "source": [
    "max_month = []\n",
    "min_month = []\n",
    "\n",
    "for s in stat:\n",
    "    if stat[s] == max(stat.values()):\n",
    "        max_month.append(mon[s])\n",
    "    elif stat[s] == min(stat.values()):\n",
    "        min_month.append(mon[s])"
   ]
  },
  {
   "cell_type": "code",
   "execution_count": 128,
   "id": "7324c26f",
   "metadata": {},
   "outputs": [
    {
     "data": {
      "text/plain": [
       "['феврале']"
      ]
     },
     "execution_count": 128,
     "metadata": {},
     "output_type": "execute_result"
    }
   ],
   "source": [
    "max_month"
   ]
  },
  {
   "cell_type": "code",
   "execution_count": 129,
   "id": "187b7a18",
   "metadata": {},
   "outputs": [
    {
     "data": {
      "text/plain": [
       "['январе', 'марте']"
      ]
     },
     "execution_count": 129,
     "metadata": {},
     "output_type": "execute_result"
    }
   ],
   "source": [
    "min_month"
   ]
  },
  {
   "cell_type": "code",
   "execution_count": 110,
   "id": "d64d9109",
   "metadata": {},
   "outputs": [
    {
     "name": "stdout",
     "output_type": "stream",
     "text": [
      "1-Avatar\n"
     ]
    },
    {
     "data": {
      "text/plain": [
       "1"
      ]
     },
     "execution_count": 110,
     "metadata": {},
     "output_type": "execute_result"
    }
   ],
   "source": [
    "int(input().split('-')[0])"
   ]
  },
  {
   "cell_type": "markdown",
   "id": "d4e1815d",
   "metadata": {},
   "source": [
    "### Задача 1\n",
    "\n",
    "Напишите программу, которая принимает на вход строку и подсчитывает количество гласных (а, е, и, й, о, у, я) в строке с помощью цикла for. Выведите окончательный результат."
   ]
  },
  {
   "cell_type": "code",
   "execution_count": 140,
   "id": "32373df5",
   "metadata": {},
   "outputs": [
    {
     "name": "stdout",
     "output_type": "stream",
     "text": [
      "12\n"
     ]
    }
   ],
   "source": [
    "# string = input().lower()\n",
    "string = 'А роза упала на лапу Азора'.lower()\n",
    "vowels = ['а', 'е', 'и', 'й', 'о', 'у', 'ы', 'э', 'ю', 'я']\n",
    "\n",
    "# ваш код\n",
    "cnt = 0\n",
    "\n",
    "for s in string:\n",
    "    if s in vowels:\n",
    "        cnt += 1\n",
    "        \n",
    "print(cnt)"
   ]
  },
  {
   "cell_type": "markdown",
   "id": "a5d993c8",
   "metadata": {},
   "source": [
    "### Задача 2\n",
    "\n",
    "Напишите программу, которая принимает на вход целое число и печатает шаблон из звездочек (\\*) с помощью цикла for. Шаблон должен начинаться с одной звездочки и увеличиваться на одну звездочку в каждой строке. Например, если на вход подано 5, программа должна вывести:\n",
    "\n",
    "    *\n",
    "    **\n",
    "    ***\n",
    "    ****\n",
    "    *****"
   ]
  },
  {
   "cell_type": "code",
   "execution_count": 143,
   "id": "2e6d2445",
   "metadata": {},
   "outputs": [
    {
     "name": "stdout",
     "output_type": "stream",
     "text": [
      "10\n",
      "*\n",
      "**\n",
      "***\n",
      "****\n",
      "*****\n",
      "******\n",
      "*******\n",
      "********\n",
      "*********\n",
      "**********\n"
     ]
    }
   ],
   "source": [
    "num = int(input())\n",
    "\n",
    "# ваш код\n",
    "\n",
    "for n in range(1, num + 1):\n",
    "    print(\"*\" * n)"
   ]
  },
  {
   "cell_type": "markdown",
   "id": "ae05d1e3",
   "metadata": {},
   "source": [
    "### Задача 3\n",
    "\n",
    "Напишите программу, которая вычисляет средний балл студентов с помощью цикла for. Затем программа должна вывести имя каждого студента вместе с характеристикой его оценки (Отлично; Хорошо; Удовлетворительно; Неудовлетворительно) на основе среднего балла. \n",
    "\n",
    "8-10 – Отлично \\\n",
    "6-7 – Хорошо \\\n",
    "4-5 – Удовлетворительно \\\n",
    "0-3 – Неудовлетворительно"
   ]
  },
  {
   "cell_type": "code",
   "execution_count": 150,
   "id": "90480053",
   "metadata": {},
   "outputs": [
    {
     "name": "stdout",
     "output_type": "stream",
     "text": [
      "Маша: Хорошо\n",
      "Миша: Удовлетворительно\n",
      "Глаша: Удовлетворительно\n",
      "Иван: Удовлетворительно\n",
      "Наталья: Отлично\n"
     ]
    }
   ],
   "source": [
    "students = {\n",
    "    \"Маша\": [8, 8, 5, 7, 10, 1, 8, 1, 9, 7, 9],\n",
    "    \"Миша\": [1, 1, 2, 3, 2, 5, 1, 9, 10, 2, 4],\n",
    "    \"Глаша\": [5, 3, 8, 4, 1, 1, 1, 5, 7, 10, 2],\n",
    "    \"Иван\": [3, 4, 6, 6, 3, 3, 10, 9, 4, 6, 3],\n",
    "    \"Наталья\": [8, 10, 8, 10, 4, 8, 10, 7, 5, 10, 6]\n",
    "}\n",
    "\n",
    "# ваш код\n",
    "\n",
    "for stud in students:\n",
    "    grade = round(sum(students[stud]) / len(students[stud]))\n",
    "    \n",
    "    if grade < 4:\n",
    "        print(f'{stud}: Неудовлетворительно')\n",
    "    elif grade < 6:\n",
    "        print(f'{stud}: Удовлетворительно')\n",
    "    elif grade < 8:\n",
    "        print(f'{stud}: Хорошо')\n",
    "    else: \n",
    "        print(f'{stud}: Отлично')"
   ]
  },
  {
   "cell_type": "markdown",
   "id": "be0b83e2",
   "metadata": {},
   "source": [
    "## Генераторы списков и списковые включения aka List Comprehensions\n",
    "Этот элемент языка считается его \"визитной карточкой\". Это своего рода метод быстро создать новый список, не применяя цикл for. Пусть мы, к примеру, хотим создать список с числами от 0 до 20"
   ]
  },
  {
   "cell_type": "code",
   "execution_count": 53,
   "id": "9d96757c",
   "metadata": {},
   "outputs": [
    {
     "data": {
      "text/plain": [
       "[0, 1, 2, 3, 4, 5, 6, 7, 8, 9, 10, 11, 12, 13, 14, 15, 16, 17, 18, 19]"
      ]
     },
     "execution_count": 53,
     "metadata": {},
     "output_type": "execute_result"
    }
   ],
   "source": [
    "a = []\n",
    "\n",
    "for i in range(20):\n",
    "    a.append(i)\n",
    "a"
   ]
  },
  {
   "cell_type": "markdown",
   "id": "4182b250",
   "metadata": {},
   "source": [
    "Это же выражение можно записать с помощью спискового включения"
   ]
  },
  {
   "cell_type": "code",
   "execution_count": 151,
   "id": "f033fec0",
   "metadata": {},
   "outputs": [
    {
     "name": "stdout",
     "output_type": "stream",
     "text": [
      "<class 'list'>\n",
      "[0, 1, 2, 3, 4, 5, 6, 7, 8, 9, 10, 11, 12, 13, 14, 15, 16, 17, 18, 19]\n"
     ]
    }
   ],
   "source": [
    "a = [i for i in range(20)]\n",
    "\n",
    "print(type(a))\n",
    "print(a)"
   ]
  },
  {
   "cell_type": "markdown",
   "id": "2413087a",
   "metadata": {},
   "source": [
    "Что мы видим? Во-первых, на выходе такой конструкцими мы получили лист (конечно, это же СПИСКОВОЕ включение). А во-вторых, все написано в одну строчку и, кажется, следует вот такой конструкции:\n",
    "\n",
    "**new_list** = [**expression** for **member** in **iterable**]\n",
    "\n",
    "1. **expression** какое либо вычисление, вызов метода или любое другое допустимое выражение, которое возвращает значение. \n",
    "2. **member** является объектом или значением в списке или итерируемым объекте (iterable). \n",
    "3. **iterable** список, множество, последовательность, генератор или любой другой объект, который может возвращать свои элементы по одному.\n",
    "\n",
    "Одним из основных преимуществ использования является то, что это единственный инструмент, который вы можете использовать в самых разных ситуациях. В дополнение к созданию стандартного списка, списки могут также использоваться для отображения и фильтрации. Вам не нужно использовать разные подходы для каждого сценария. Например, можно в раздел **expression** поставить функцию str(), которая превратит каждый элемент исходного списка в строку."
   ]
  },
  {
   "cell_type": "code",
   "execution_count": 34,
   "id": "d14fe946",
   "metadata": {},
   "outputs": [
    {
     "data": {
      "text/plain": [
       "['1', '2', '3', '4', '5', '45', '67', '8', '765', '854', '76']"
      ]
     },
     "execution_count": 34,
     "metadata": {},
     "output_type": "execute_result"
    }
   ],
   "source": [
    "lst = [1,2,3,4,5,45,67,8,765,854,76]\n",
    "\n",
    "x = [str(i) for i in lst]\n",
    "x"
   ]
  },
  {
   "cell_type": "markdown",
   "id": "5b01db20",
   "metadata": {},
   "source": [
    "Но и это еще не все. В списковое включение можно добавить какое нибудь условие (как мы это делали с **if**). Выглядеть это будет так:\n",
    "\n",
    "**new_list** = [**expression** for **member** in **iterable** (if **conditional**)]\n",
    "\n",
    "Разберем на примере:"
   ]
  },
  {
   "cell_type": "code",
   "execution_count": 152,
   "id": "cac76aa4",
   "metadata": {},
   "outputs": [
    {
     "data": {
      "text/plain": [
       "[2, 4, 8, 854, 76]"
      ]
     },
     "execution_count": 152,
     "metadata": {},
     "output_type": "execute_result"
    }
   ],
   "source": [
    "lst = [1,2,3,4,5,45,67,8,765,854,76]\n",
    "\n",
    "x = [i for i in lst if i%2 == 0] # Здесь мы взяли и включили в новый список только четные элементы\n",
    "x"
   ]
  },
  {
   "cell_type": "code",
   "execution_count": 153,
   "id": "f03f6357",
   "metadata": {},
   "outputs": [
    {
     "name": "stdout",
     "output_type": "stream",
     "text": [
      "[2, 4, 8, 854, 76]\n"
     ]
    }
   ],
   "source": [
    "y = []\n",
    "\n",
    "for i in lst:\n",
    "    if i % 2 == 0:\n",
    "        y.append(i)\n",
    "        \n",
    "print(y)"
   ]
  },
  {
   "cell_type": "code",
   "execution_count": 155,
   "id": "5dbfcc73",
   "metadata": {},
   "outputs": [
    {
     "name": "stdout",
     "output_type": "stream",
     "text": [
      "[2, 4, 8, 854, 76]\n"
     ]
    }
   ],
   "source": [
    "z = [i for i in lst if i % 2 == 0]\n",
    "print(z)"
   ]
  },
  {
   "cell_type": "code",
   "execution_count": 161,
   "id": "e72c9dd6",
   "metadata": {},
   "outputs": [
    {
     "name": "stdout",
     "output_type": "stream",
     "text": [
      "['t', 'h', 'r', 'c', 'k', 't', ',', 'w', 'h', 'w', 's', 'n', 'm', 'd', 't', 'd', ',', 'c', 'm', 'b', 'c', 'k', 'f', 'r', 'm', 'm', 'r', 's', 'b', 'c', 's', 'h', 'm', 's', 's', 'd', 'h', 's', 'f', 'r', 'n', 'd', 's', '.']\n"
     ]
    }
   ],
   "source": [
    "# Предложение\n",
    "sentence = '''The rocket, who was named Ted, came back  \n",
    "            from Mars because he missed his friends.'''\n",
    "\n",
    "# Гласные английского языка и пробел\n",
    "vowels = 'aeiou \\n'\n",
    "\n",
    "# достанем в список все символы строки, которые не являются гласными и пробелом.\n",
    "consonants = [i for i in sentence.lower() if i not in vowels]\n",
    "print(consonants)"
   ]
  },
  {
   "cell_type": "code",
   "execution_count": 157,
   "id": "9f27e5f3",
   "metadata": {},
   "outputs": [
    {
     "name": "stdout",
     "output_type": "stream",
     "text": [
      "The rocket, who was named Ted, came back  \n",
      "            from Mars because he missed his friends.\n"
     ]
    }
   ],
   "source": [
    "print(sentence)"
   ]
  },
  {
   "cell_type": "markdown",
   "id": "9c65ffce",
   "metadata": {},
   "source": [
    "Мы уже поняли, что можно поместить условие в конец оператора для простой фильтрации, но что, если хочется изменить значение элемента вместо его фильтрации? В этом случае полезно поместить условное выражение в начале выражения. Выглядит это вот так:\n",
    "\n",
    "**new_list** = [**expression** (if **conditional**) for **member** in **iterable**]\n",
    "\n",
    "С помощью этого шаблона можно, например, использовать условную логику для выбора из нескольких возможных вариантов вывода. Допустим, у вас есть список цен, можно заменить отрицательные цены (это могут быть какие-то ошибки логирования) на 0 и оставить положительные значения без изменений:"
   ]
  },
  {
   "cell_type": "code",
   "execution_count": 162,
   "id": "e51cf1bd",
   "metadata": {},
   "outputs": [
    {
     "data": {
      "text/plain": [
       "[1.25, 0, 10.22, 3.78, 0, 1.16]"
      ]
     },
     "execution_count": 162,
     "metadata": {},
     "output_type": "execute_result"
    }
   ],
   "source": [
    "original_prices = [1.25, -9.45, 10.22, 3.78, -5.92, 1.16]\n",
    "prices = [i if i > 0 else 0 for i in original_prices]\n",
    "prices"
   ]
  },
  {
   "cell_type": "markdown",
   "id": "537cf0a8",
   "metadata": {},
   "source": [
    "Здесь, наше выражение **i** содержит условный оператор, **if i> 0** else **0**. Это говорит Python выводить значение **i**, если число положительное, но менять **i** на **0**, если число отрицательное."
   ]
  },
  {
   "cell_type": "markdown",
   "id": "f961d700",
   "metadata": {},
   "source": [
    "### Включения для множеств и словарей"
   ]
  },
  {
   "cell_type": "markdown",
   "id": "b61bd0d7",
   "metadata": {},
   "source": [
    "Хотя **list comprehension** в Python является распространенным инструментом, вы также можете создавать множественные и словарные представления (**set and dictionary comprehensions**). **set comprehension** почти точно такое же, как представление списка. Разница лишь в том, что заданные значения обеспечивают, чтобы выходные данные не содержали дубликатов. Вы можете создать **set comprehension**, используя фигурные скобки вместо скобок:"
   ]
  },
  {
   "cell_type": "code",
   "execution_count": 163,
   "id": "f7a2b663",
   "metadata": {},
   "outputs": [
    {
     "data": {
      "text/plain": [
       "{'a', 'e', 'i', 'u'}"
      ]
     },
     "execution_count": 163,
     "metadata": {},
     "output_type": "execute_result"
    }
   ],
   "source": [
    "quote = \"life, uh, finds a way\"\n",
    "unique_vowels = {i for i in quote if i in 'aeiou'}\n",
    "unique_vowels"
   ]
  },
  {
   "cell_type": "markdown",
   "id": "82c40268",
   "metadata": {},
   "source": [
    "Здесь мы вывели все уникальные гласные, которые встретились в строке"
   ]
  },
  {
   "cell_type": "markdown",
   "id": "26ad977e",
   "metadata": {},
   "source": [
    "**Dictionary comprehensions** , по сути, работает так же, но с дополнительным требованием определения ключа. Ключ отделяется двоеточием.\n"
   ]
  },
  {
   "cell_type": "code",
   "execution_count": 164,
   "id": "37073c69",
   "metadata": {},
   "outputs": [
    {
     "data": {
      "text/plain": [
       "{0: 0, 1: 1, 2: 4, 3: 9, 4: 16, 5: 25, 6: 36, 7: 49, 8: 64, 9: 81}"
      ]
     },
     "execution_count": 164,
     "metadata": {},
     "output_type": "execute_result"
    }
   ],
   "source": [
    "squares = {i: i * i for i in range(10)}\n",
    "squares"
   ]
  },
  {
   "cell_type": "markdown",
   "id": "83a35b2a",
   "metadata": {},
   "source": [
    "### Задача 1\n",
    "\n",
    "Алиса хочет подготовить список покупок для похода в магазин за продуктами. У нее есть список товаров, которые она хочет купить, и она хочет отсеять товары, которых нет в наличии в магазине. Используйте list comprehension, чтобы помочь Алисе составить новый список товаров, которые можно купить в магазине."
   ]
  },
  {
   "cell_type": "code",
   "execution_count": 165,
   "id": "7ac28286",
   "metadata": {},
   "outputs": [
    {
     "name": "stdout",
     "output_type": "stream",
     "text": [
      "['молоко', 'хлеб', 'йогурт', 'апельсины']\n"
     ]
    }
   ],
   "source": [
    "items_to_buy = ['молоко', 'яйца', 'хлеб', 'сыр', 'йогурт', 'яблоки', 'апельсины']\n",
    "available_items = ['молоко', 'хлеб', 'йогурт', 'апельсины']\n",
    "\n",
    "# ваш код\n",
    "\n",
    "final_lst = [i for i in items_to_buy if i in available_items]\n",
    "print(final_lst)"
   ]
  },
  {
   "cell_type": "markdown",
   "id": "1c57ed01",
   "metadata": {},
   "source": [
    "### Задача 2\n",
    "\n",
    "Менеджер магазина хочет рассчитать общий объем продаж каждого товара за месяц. У него есть список продуктов и их ежедневных продаж за этот месяц. Используйте dictionary comprehension, чтобы помочь менеджеру создать новый словарь, содержащий данные об общем объеме продаж каждого продукта."
   ]
  },
  {
   "cell_type": "code",
   "execution_count": 174,
   "id": "f368c2f3",
   "metadata": {},
   "outputs": [
    {
     "name": "stdout",
     "output_type": "stream",
     "text": [
      "{'яблоко': 15, 'черешня': 25, 'банан': 25, 'вишня': 20, 'арбуз': 3}\n"
     ]
    }
   ],
   "source": [
    "product_sales = [('яблоко', 10), ('черешня', 5), ('банан', 15), ('вишня', 20), ('арбуз', 1), ('яблоко', 5), ('банан', 10), ('черешня', 20), ('арбуз', 2)]\n",
    "\n",
    "# ваш код\n",
    "prod = {}\n",
    "\n",
    "for p, c in product_sales:\n",
    "#     print(p, c)\n",
    "    if p not in prod:\n",
    "        prod[p] = c\n",
    "    else:\n",
    "        prod[p] += c\n",
    "        \n",
    "print(prod)"
   ]
  }
 ],
 "metadata": {
  "kernelspec": {
   "display_name": "Python 3 (ipykernel)",
   "language": "python",
   "name": "python3"
  },
  "language_info": {
   "codemirror_mode": {
    "name": "ipython",
    "version": 3
   },
   "file_extension": ".py",
   "mimetype": "text/x-python",
   "name": "python",
   "nbconvert_exporter": "python",
   "pygments_lexer": "ipython3",
   "version": "3.9.12"
  }
 },
 "nbformat": 4,
 "nbformat_minor": 5
}
