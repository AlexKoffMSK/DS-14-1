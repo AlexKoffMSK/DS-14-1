{
 "cells": [
  {
   "cell_type": "markdown",
   "id": "81848a97",
   "metadata": {},
   "source": [
    "# Парсинг новостей"
   ]
  },
  {
   "cell_type": "markdown",
   "id": "6bfb95a2",
   "metadata": {},
   "source": [
    "Библиотека `newspaper3k` - это мощный инструмент, предназначенный для извлечения и анализа данных с новостных веб-сайтов. Эта библиотека была вдохновлена библиотекой `requests` и позволяет разработчикам и исследователям легко собирать информацию из новостных статей, включая заголовки, тексты, авторов, ключевые слова, изображения и даты публикации.\n",
    "\n",
    "`newspaper3k` также имеет встроенные функции NLP, что позволяет быстро получить ключевые слова и саммари новостной статьи."
   ]
  },
  {
   "cell_type": "markdown",
   "id": "078952aa",
   "metadata": {},
   "source": [
    "Для начала установим библиотеку."
   ]
  },
  {
   "cell_type": "code",
   "execution_count": null,
   "id": "347b9ff4",
   "metadata": {},
   "outputs": [],
   "source": [
    "!pip install newspaper3k"
   ]
  },
  {
   "cell_type": "markdown",
   "id": "f8310c3d",
   "metadata": {},
   "source": [
    "Взглянем на [документацию библиотеки](https://newspaper.readthedocs.io/en/latest/user_guide/quickstart.html). Модуль работает с ссылками на новости или ссылкой на новостной ресурс (и далее самостоятельно собирает оттуда ссылки)."
   ]
  },
  {
   "cell_type": "markdown",
   "id": "2d84f62c",
   "metadata": {},
   "source": [
    "## Извлечение новости и метаданных"
   ]
  },
  {
   "cell_type": "markdown",
   "id": "60c129aa",
   "metadata": {},
   "source": [
    "Из библиотеки мы импортируем класс `Article`. Каждая новость, которую мы будем извлекать таким образом будет являться экземпляром класса `Article`. Буквально это означает, что внутри `Article` лежит некая инструкция о том, как обычно выглядит новостная статья – например, у нее обязательно есть заголовок, может быть автор, фотографии, дата публикации. \n",
    "\n",
    "Каждая новость, которую мы будем передавать внутрь класса `Article` по ссылке будет обрабатываться по зашитой внутрь нее схеме."
   ]
  },
  {
   "cell_type": "code",
   "execution_count": 1,
   "id": "e5b437b2",
   "metadata": {},
   "outputs": [],
   "source": [
    "from newspaper import Article"
   ]
  },
  {
   "cell_type": "markdown",
   "id": "144d5845",
   "metadata": {},
   "source": [
    "Посмотрим на эту статью из РБК Трендов: «[Как модель искусственного интеллекта поможет в лечении депрессии](https://trends.rbc.ru/trends/industry/65327bc69a7947399939b243?page=tag&nick=ai)». Положим ссылку на статью в переменную `url`."
   ]
  },
  {
   "cell_type": "code",
   "execution_count": 2,
   "id": "07b319c8",
   "metadata": {},
   "outputs": [],
   "source": [
    "url = 'https://trends.rbc.ru/trends/industry/65327bc69a7947399939b243?page=tag&nick=ai'"
   ]
  },
  {
   "cell_type": "markdown",
   "id": "4aef9c08",
   "metadata": {},
   "source": [
    "Далее создаем экземпляр класса `Article`. Он будет называться `article` с маленькой буквы (обратите внимание – все классы в Python пишутся с большой буквы). \n",
    "\n",
    "Мы передаем ссылку и указываем язык новости (параметр `language`). Библиотека `newspaper3k` работает со следующими языками:\n",
    "\n",
    "|input code|full name|\n",
    "|---|---|\n",
    "  nl\t|\t\t  Dutch\n",
    "  zh\t|\t\t  Chinese\n",
    "  vi\t|\t\t  Vietnamese\n",
    "  no\t|\t\t  Norwegian\n",
    "  ar\t|\t\t  Arabic\n",
    "  tr\t|\t\t  Turkish\n",
    "  sr\t|\t\t  Serbian\n",
    "  fr\t|\t\t  French\n",
    "  ru\t|\t\t  Russian\n",
    "  en\t|\t\t  English\n",
    "  hi\t|\t\t  Hindi\n",
    "  ja\t|\t\t  Japanese\n",
    "  sw\t|\t\t  Swahili\n",
    "  pl\t|\t\t  Polish\n",
    "  fa\t|\t\t  Persian\n",
    "  el\t|\t\t  Greek\n",
    "  sv\t|\t\t  Swedish\n",
    "  sl\t|\t\t  Slovenian\n",
    "  de\t|\t\t  German\n",
    "  it\t|\t\t  Italian\n",
    "  pt\t|\t\t  Portuguese\n",
    "  he\t|\t\t  Hebrew\n",
    "  hr\t|\t\t  Croatian\n",
    "  et\t|\t\t  Estonian\n",
    "  id\t|\t\t  Indonesian\n",
    "  ro\t|\t\t  Romanian\n",
    "  es\t|\t\t  Spanish\n",
    "  ko\t|\t\t  Korean\n",
    "  hu\t|\t\t  Hungarian\n",
    "  da\t|\t\t  Danish\n",
    "  fi\t|\t\t  Finnish\n",
    "  bg\t|\t\t  Bulgarian\n",
    "  be\t|\t\t  Belarusian\n",
    "  mk\t|\t\t  Macedonian\n",
    "  nb\t|\t\t  Norwegian (Bokmål)\n",
    "  uk\t|\t\t  Ukrainian"
   ]
  },
  {
   "cell_type": "code",
   "execution_count": 3,
   "id": "550aedc2",
   "metadata": {},
   "outputs": [],
   "source": [
    "article = Article(url, language='ru')"
   ]
  },
  {
   "cell_type": "markdown",
   "id": "bc6094a5",
   "metadata": {},
   "source": [
    "Отлично! Теперь у нас есть переменная `article`, которая обрабатывается библиотекой по инструкции как новостная статья. Если мы попробуем распечатать эту переменную, то увидим техническую информацию – как Python видит внутри себя эту переменную."
   ]
  },
  {
   "cell_type": "code",
   "execution_count": 4,
   "id": "ae3105d7",
   "metadata": {},
   "outputs": [
    {
     "name": "stdout",
     "output_type": "stream",
     "text": [
      "<newspaper.article.Article object at 0x7f9c388cfbb0>\n"
     ]
    }
   ],
   "source": [
    "print(article)"
   ]
  },
  {
   "cell_type": "markdown",
   "id": "2fb4dd1d",
   "metadata": {},
   "source": [
    "Чтобы получить данные, мы воспользуемся методом `.download()`, который загрузит html статьи по ссылке. Сам html мы можем получить, используя атрибут `.html`."
   ]
  },
  {
   "cell_type": "code",
   "execution_count": 5,
   "id": "ad5c1846",
   "metadata": {},
   "outputs": [],
   "source": [
    "article.download()"
   ]
  },
  {
   "cell_type": "code",
   "execution_count": 6,
   "id": "2d49c664",
   "metadata": {},
   "outputs": [
    {
     "data": {
      "text/plain": [
       "'<!DOCTYPE html>\\n\\n\\n<html lang=\"ru\" >\\n<head>\\n    <meta http-equiv=\"Content-Type\" content=\"text/html; charset=utf-8\">\\n    <meta http-equiv=\"X-UA-Compatible\" content=\"IE=edge,chrome=1\">\\n    <meta http-equiv=\"Cache-Control\" content=\"no-cache\">\\n    <meta name=\"viewport\" content=\"width=device-width, initial-scale=1.0, user-scalable=no, minimum-scale=1.0, maximum-scale=1.0\">\\n    <meta name=\"HandheldFriendly\" content=\"True\">\\n    <meta name=\"format-detection\" content=\"telephone=no\">\\n    <meta name=\"format-detection\" content=\"address=no\">\\n\\n    \\n                \\n    \\n    \\n\\n            <title>Как модель искусственного интеллекта поможет в лечении депрессии | РБК Тренды</title>\\n\\n<meta name=\"title\" content=\"Как модель искусственного интеллекта поможет в лечении депрессии | РБК Тренды\"/>\\n<meta name=\"description\" content=\"Американские ученые провели успешные испытания модели ИИ, которая анализирует изменения в мозгу людей, лечащихся от депрессии. Результаты исследования могут значительно улучшить борьбу с ментальной проблемой\"/>\\n<meta name=\"copyright\" content=\"«РосБизнесКонсалтинг»\"/>\\n<meta name=\"robots\" content=\"max-image-preview:large\">\\n\\n<meta property=\"og:title\" content=\"Как модель искусственного интеллекта поможет в лечении депрессии | РБК Тренды\"/>\\n<meta property=\"og:type\" content=\"article\"/>\\n<meta property=\"og:url\" content=\"https://trends.rbc.ru/trends/industry/65327bc69a7947399939b243\"/>\\n<meta property=\"og:image\" content=\"https://s0.rbk.ru/v6_top_pics/media/img/3/81/346978074330813.jpeg\"/>\\n<meta property=\"og:description\" content=\"Американские ученые провели успешные испытания модели ИИ, которая анализирует изменения в мозгу людей, лечащихся от депрессии. Результаты исследования могут значительно улучшить борьбу с ментальной проблемой\"/>\\n<meta property=\"og:site_name\" content=\"РБК Тренды\"/>\\n<meta property=\"og:locale\" content=\"ru_RU\"/>\\n\\n<meta name=\"twitter:card\" content=\"summary\"/>\\n<meta name=\"twitter:site\" content=\"@ru_rbc\"/>\\n<meta name=\"twitter:creator\" content=\"@ru_rbc\"/>\\n<meta name=\"twitter:title\" content=\"Как модель искусственного интеллекта поможет в лечении депрессии |\"/>\\n<meta name=\"twitter:description\" content=\"Американские ученые провели успешные испытания модели ИИ, которая анализирует изменения в мозгу людей, лечащихся от депрессии. Результаты исследования могут значительно улучшить борьбу с ментальной\"/>\\n<meta name=\"twitter:image\" content=\"https://s0.rbk.ru/v6_top_pics/media/img/3/81/346978074330813.jpeg\"/>\\n\\n<link rel=\"canonical\" href=\"https://trends.rbc.ru/trends/industry/65327bc69a7947399939b243\"/>\\n\\n\\n\\n\\n\\n\\n    <script type=\"application/ld+json\">\\n        {\\n            \"@context\": \"https://schema.org\",\\n            \"@type\": \"BreadcrumbList\",\\n            \"itemListElement\": [{\\n                \"@type\": \"ListItem\",\\n                \"position\": 1,\\n                \"name\": \"✅РБК Тренды\",\\n                \"item\": \"https://trends.rbc.ru/trends/\"\\n            },{\\n                \"@type\": \"ListItem\",\\n                \"position\": 2,\\n                \"name\": \"✅Индустрия 4.0\",\\n                \"item\": \"https://trends.rbc.ru/trends/industry\"\\n            },{\\n                \"@type\": \"ListItem\",\\n                \"position\": 3,\\n                \"name\": \"✅Как модель искусственного интеллекта поможет в лечении депрессии\",\\n                \"item\": \"https://trends.rbc.ru/trends/industry/65327bc69a7947399939b243\"\\n            }]\\n        }\\n    </script>\\n        \\n            \\n\\n<meta property=\"yandex_recommendations_image\" content=\"https://s0.rbk.ru/v6_top_pics/resized/1200xH/media/img/3/81/346978074330813.jpeg\"/><meta property=\"yandex_recommendations_category\" content=\"Тренды\"/><meta property=\"yandex_recommendations_tag\" content=\"exclude\"/>\\n\\n\\n                    <link rel=\"amphtml\" href=\"https://trends.rbc.ru/trends/amp/news/65327bc69a7947399939b243\">    \\n\\n        <link rel=\"icon\" type=\"image/png\" href=\"//s.rbk.ru/v4_trends_static/trends-4.0.73/images/favicon.png\">\\n\\n            <link rel=\"apple-touch-icon\" sizes=\"60x60\" href=\"//s.rbk.ru/v4_trends_static/common/common-10.10.93/images/apple-touch-icon-60x60.png\">\\n        <link rel=\"apple-touch-icon\" sizes=\"76x76\" href=\"//s.rbk.ru/v4_trends_static/common/common-10.10.93/images/apple-touch-icon-76x76.png\">\\n        <link rel=\"apple-touch-icon\" sizes=\"120x120\" href=\"//s.rbk.ru/v4_trends_static/common/common-10.10.93/images/apple-touch-icon-120x120.png\">\\n        <link rel=\"apple-touch-icon\" sizes=\"152x152\" href=\"//s.rbk.ru/v4_trends_static/common/common-10.10.93/images/apple-touch-icon-152x152.png\">\\n        <link rel=\"apple-touch-icon\" sizes=\"180x180\" href=\"//s.rbk.ru/v4_trends_static/common/common-10.10.93/images/apple-touch-icon-180x180.png\">\\n        <link rel=\"icon\" type=\"image/png\" sizes=\"192x192\" href=\"//s.rbk.ru/v4_trends_static/common/common-10.10.93/images/android-chrome-192x192.png\">\\n        <link rel=\"icon\" type=\"image/png\" sizes=\"512x512\" href=\"//s.rbk.ru/v4_trends_static/common/common-10.10.93/images/android-chrome-512x512.png\">\\n        <link rel=\"mask-icon\" href=\"//s.rbk.ru/v4_trends_static/common/common-10.10.93/images/safari-pinned-tab.svg\" color=\"#999999\">\\n        <meta name=\"msapplication-TileColor\" content=\"#ffffff\">\\n        <meta name=\"msapplication-TileImage\" content=\"//s.rbk.ru/v4_trends_static/common/common-10.10.93/images/mstile-144x144.png\">\\n        <meta name=\"msapplication-square70x70logo\" content=\"//s.rbk.ru/v4_trends_static/common/common-10.10.93/images/mstile-70x70.png\">\\n        <meta name=\"msapplication-square150x150logo\" content=\"//s.rbk.ru/v4_trends_static/common/common-10.10.93/images/mstile-150x150.png\">\\n        <meta name=\"msapplication-square310x310logo\" content=\"//s.rbk.ru/v4_trends_static/common/common-10.10.93/images/mstile-310x310.png\">\\n        <meta name=\"msapplication-wide310x150logo\" content=\"//s.rbk.ru/v4_trends_static/common/common-10.10.93/images/mstile-310x150.png\">\\n    \\n        <link rel=\"preload\" href=\"//s.rbk.ru/files_static/edd/static/fonts/9/build/_common-fonts.css\" media=\"screen\" as=\"style\">\\n    <link rel=\"stylesheet\" href=\"//s.rbk.ru/files_static/edd/static/fonts/9/build/_common-fonts.css\" media=\"screen\">\\n\\n                \\n        <link rel=\"preload\" href=\"//s.rbk.ru/v4_trends_static/trends-4.0.73/styles/build/_main.css\" media=\"screen\" as=\"style\">\\n    <link rel=\"stylesheet\" href=\"//s.rbk.ru/v4_trends_static/trends-4.0.73/styles/build/_main.css\" media=\"screen\">\\n\\n        <link rel=\"preload\" href=\"//s.rbk.ru/v4_trends_static/trends-4.0.73/styles/build/pages/_news.css\" media=\"screen\" as=\"style\">\\n    <link rel=\"stylesheet\" href=\"//s.rbk.ru/v4_trends_static/trends-4.0.73/styles/build/pages/_news.css\"  media=\"screen\">\\n\\n            <link rel=\"preload\" href=\"//s.rbk.ru/v4_trends_static/common/common-10.10.93/scripts/vendor/jquery/jquery-3.5.1.min.js\" as=\"script\">\\n        <script src=\"//s.rbk.ru/v4_trends_static/common/common-10.10.93/scripts/vendor/jquery/jquery-3.5.1.min.js\"></script>\\n    \\n    <link rel=\"preload\" href=\"//s.rbk.ru/v4_trends_static/common/common-10.10.93/scripts/build/_core.js\" as=\"script\">\\n    <script src=\"//s.rbk.ru/v4_trends_static/common/common-10.10.93/scripts/build/_core.js\"></script>\\n\\n    \\n    <script>\\n        RA.version = 10;\\n        RA.env = (\\'production\\' || \\'production\\'); // develop, test, staging, production\\n        RA.config.set(\\'device.isMobile\\', false);\\n        RA.config.set(\\'device.isApp\\', false);\\n        RA.config.set(\\'ajax.prefix\\', \\'/trends/v4/\\');\\n        RA.config.set(\\'layout.mainMenuHeight\\', 105);\\n        RA.config.set(\\'layout.toplineHeight\\', 45);\\n        RA.config.set(\\'layout.headerHeight\\', 60);\\n        RA.config.set(\\'layout.layoutMinBreakpoint\\', 1260);\\n        RA.config.set(\\'layout.layoutMinWidth\\', 980);\\n        RA.config.set(\\'layout.bottomBannerHeight\\', 0);\\n        RA.config.set(\\'layout.billboardHeight\\', 0);\\n        RA.config.set(\\'layout.isLogoBW\\', false);\\n        RA.config.set(\\'layout.templatePath\\', \\'public\\');\\n        RA.config.set(\\'urls.common_static\\', \\'//s.rbk.ru/v4_trends_static/common/common-10.10.93/\\');\\n        RA.config.set(\\'urls.static\\', \\'//s.rbk.ru/v4_trends_static/trends-4.0.73/\\');\\n        RA.config.set(\\'urls.image\\', \\'https://s.rbk.ru/v4_trends_static/current/images/\\');\\n        RA.config.set(\\'domain\\', \\'.rbc.ru\\');\\n        RA.config.set(\\'domainAuth\\', \\'https://auth.rbc.ru\\');\\n        RA.config.set(\\'domainApigw\\', \\'https://apigw.rbc.ru\\');\\n        RA.config.set(\\'pro.cookie\\', \\'\\');\\n        RA.config.set(\\'video.off\\', false);\\n        RA.config.set(\\'paywall.user.logined\\', false);\\n        RA.config.set(\\'paywall.user.paid\\', false);\\n        RA.config.set(\\'mainPage\\', false);\\n        RA.config.set(\\'showBanners\\', false);\\n        RA.config.set(\\'noVideo\\', false);\\n        RA.config.set(\\'disableThirdPartyScripts\\', false);\\n        RA.config.set(\\'split\\', \\'Z\\');\\n        RA.config.set(\\'yandexCaptchaKey\\', \\'\\');\\n    </script>\\n\\n        <script>\\n        RA.config.set(\\'newslist\\', [\"654c90cd9a79473bda2f2ed5\",\"6549fa699a79471a1fd5dc20\",\"6544fb239a79477ec5da4367\",\"653f58f19a7947b1a1a6c13e\",\"653b99da9a7947128f55f7f9\",\"65363bc49a7947400be35b7d\",\"653117059a794772cf2997dd\",\"653149169a79471b84d852dd\",\"652fc8a09a79471a6deb51f3\",\"63ff3af39a79476819df3e7e\",\"6527db7b9a79475e82c5211b\",\"6525335c9a79476984f49a13\",\"651fcd959a7947eeeeeaadb6\",\"65168cdc9a794764f1ad0469\",\"651587459a79475682964eb4\",\"65154aee9a79474fc2302bce\",\"6512afed9a7947049b976d53\",\"6512f2069a7947818066be2a\",\"65113f2e9a79473de4a72e13\",\"650d84839a7947e93699ef37\"]);\\n        RA.config.set(\\'newsTypeList\\', null);\\n            </script>\\n        <script>\\n        RA.config.set(\\'project\\', \\'trends\\');\\n        RA.config.set(\\'layout.mainMenuHeight\\', 109);\\n        RA.config.set(\\'trackingRequestIsEnabled\\', true);\\n    </script>\\n\\n                </head>\\n<body\\n    data-page=\"news\"\\n    class=\"news  l-no-banners\"\\n>\\n\\n        <noscript>\\n        <style>\\n            :root {\\n                --auto-if-no-script: auto;\\n                --none-if-no-script: none;\\n                --block-if-no-script: block;\\n                --zero-if-no-script: 0;\\n                --one-if-no-script: 1;\\n            }\\n        </style>\\n    </noscript>\\n\\n        <span class=\"g-mobile-detector g-mobile\"></span>\\n    <span class=\"g-tablet-detector g-tablet\"></span>\\n    <span class=\"g-desktop-small-detector g-desktop-small\"></span>\\n    <span class=\"g-desktop-detector g-desktop\"></span>\\n\\n    \\n            <div id=\"js_ra_notifications\" class=\"ra-notifications\"></div>\\n    \\n                                        <header class=\"topline__wrapper js-topline-wrapper\">\\n                    <div class=\"topline l-window js-topline js-filter-lock-block\">\\n                            <div class=\"topline__inner l-row js-topline\"><div class=\"topline__left js-topline-left\"><a class=\"topline__logo-block\" href=\"https://www.rbc.ru/\"><span class=\"topline__logo\"></span></a><a class=\"topline__project-logo js-topline-logo\" href=\"/trends/\">Тренды</a><div class=\"topline__projects-wrap js-topline-first\"><nav class=\"topline__items-container js-topline-dropdown-container\"><ul class=\"topline__projects\"><li class=\"topline__item-block js-topline-item\"><a href=\"https://tv.rbc.ru/?utm_source=topline\" class=\"topline__item js-yandex-counter\" data-yandex-name=\"from_topline\" data-yandex-params=\\'{url: \"https://tv.rbc.ru/?utm_source=topline\"}\\'>\\n            Телеканал\\n                    </a></li><li class=\"topline__item-block js-topline-item\"><a href=\"https://pro.rbc.ru/?from=topline\" class=\"topline__item js-yandex-counter\" data-yandex-name=\"from_topline\" data-yandex-params=\\'{url: \"https://pro.rbc.ru/?from=topline\"}\\'>\\n            Pro\\n                    </a></li><li class=\"topline__item-block js-topline-item\"><a href=\"https://quote.ru/?utm_source=topline\" class=\"topline__item js-yandex-counter\" data-yandex-name=\"from_topline\" data-yandex-params=\\'{url: \"https://quote.ru/?utm_source=topline\"}\\'>\\n            Инвестиции\\n                            <span class=\"topline__item__image-block\"><img src=\"https://s0.rbk.ru/v6_top_pics/media/img/8/46/756105436203468.svg\" class=\"topline__item__image\" alt=\"\" loading=\"lazy\" decoding=\"async\"/></span></a></li><li class=\"topline__item-block js-topline-item\"><a href=\"https://events.rbc.ru/?utm_source=topline\" class=\"topline__item js-yandex-counter\" data-yandex-name=\"from_topline\" data-yandex-params=\\'{url: \"https://events.rbc.ru/?utm_source=topline\"}\\'>\\n            Мероприятия\\n                    </a></li><li class=\"topline__item-block js-topline-item\"><a href=\"https://www.rbc.ru/industries/?utm_source=topline\" class=\"topline__item js-yandex-counter\" data-yandex-name=\"from_topline\" data-yandex-params=\\'{url: \"https://www.rbc.ru/industries/?utm_source=topline\"}\\'>\\n            Отрасли\\n                    </a></li><li class=\"topline__item-block js-topline-item\"><a href=\"https://realty.rbc.ru/?utm_source=topline\" class=\"topline__item js-yandex-counter\" data-yandex-name=\"from_topline\" data-yandex-params=\\'{url: \"https://realty.rbc.ru/?utm_source=topline\"}\\'>\\n            Недвижимость\\n                    </a></li><li class=\"topline__item-block js-topline-item\"><a href=\"https://www.autonews.ru/?utm_source=topline\" class=\"topline__item js-yandex-counter\" data-yandex-name=\"from_topline\" data-yandex-params=\\'{url: \"https://www.autonews.ru/?utm_source=topline\"}\\'>\\n            Autonews\\n                    </a></li><li class=\"topline__item-block js-topline-item\"><a href=\"https://sportrbc.ru/?utm_source=topline\" class=\"topline__item js-yandex-counter\" data-yandex-name=\"from_topline\" data-yandex-params=\\'{url: \"https://sportrbc.ru/?utm_source=topline\"}\\'>\\n            Спорт\\n                    </a></li><li class=\"topline__item-block js-topline-item\"><a href=\"https://trends.rbc.ru/trends/?utm_source=topline\" class=\"topline__item js-yandex-counter\" data-yandex-name=\"from_topline\" data-yandex-params=\\'{url: \"https://trends.rbc.ru/trends/?utm_source=topline\"}\\'>\\n            Тренды\\n                    </a></li><li class=\"topline__item-block js-topline-item\"><a href=\"https://www.rbc.ru/national\" class=\"topline__item js-yandex-counter\" data-yandex-name=\"from_topline\" data-yandex-params=\\'{url: \"https://www.rbc.ru/national\"}\\'>\\n            Национальные проекты\\n                    </a></li><li class=\"topline__item-block js-topline-item\"><a href=\"https://rbc.ru/gorod/?utm_source=topline\" class=\"topline__item js-yandex-counter\" data-yandex-name=\"from_topline\" data-yandex-params=\\'{url: \"https://rbc.ru/gorod/?utm_source=topline\"}\\'>\\n            Город\\n                    </a></li><li class=\"topline__item-block js-topline-item\"><a href=\"https://style.rbc.ru/?utm_source=topline\" class=\"topline__item js-yandex-counter\" data-yandex-name=\"from_topline\" data-yandex-params=\\'{url: \"https://style.rbc.ru/?utm_source=topline\"}\\'>\\n            Стиль\\n                    </a></li><li class=\"topline__item-block js-topline-item\"><a href=\"https://www.rbc.ru/crypto/?utm_source=topline\" class=\"topline__item js-yandex-counter\" data-yandex-name=\"from_topline\" data-yandex-params=\\'{url: \"https://www.rbc.ru/crypto/?utm_source=topline\"}\\'>\\n            Крипто\\n                    </a></li><li class=\"topline__item-block js-topline-item\"><a href=\"https://plus.rbc.ru/?utm_source=topline\" class=\"topline__item js-yandex-counter\" data-yandex-name=\"from_topline\" data-yandex-params=\\'{url: \"https://plus.rbc.ru/?utm_source=topline\"}\\'>\\n            РБК+\\n                    </a></li><li class=\"topline__item-block js-topline-item\"><a href=\"https://www.rbc.ru/dc/?utm_source=topline\" class=\"topline__item js-yandex-counter\" data-yandex-name=\"from_topline\" data-yandex-params=\\'{url: \"https://www.rbc.ru/dc/?utm_source=topline\"}\\'>\\n            Дискуссионный клуб\\n                    </a></li><li class=\"topline__item-block js-topline-item\"><a href=\"https://marketing.rbc.ru/?utm_source=topline\" class=\"topline__item js-yandex-counter\" data-yandex-name=\"from_topline\" data-yandex-params=\\'{url: \"https://marketing.rbc.ru/?utm_source=topline\"}\\'>\\n            Исследования\\n                    </a></li><li class=\"topline__item-block js-topline-item\"><a href=\"https://ratings.ru/?utm_source=topline\" class=\"topline__item js-yandex-counter\" data-yandex-name=\"from_topline\" data-yandex-params=\\'{url: \"https://ratings.ru/?utm_source=topline\"}\\'>\\n            Кредитные рейтинги\\n                    </a></li><li class=\"topline__item-block js-topline-item\"><a href=\"http://biztorg.ru/offers/main?utm_source=topline\" class=\"topline__item js-yandex-counter\" data-yandex-name=\"from_topline\" data-yandex-params=\\'{url: \"http://biztorg.ru/offers/main?utm_source=topline\"}\\'>\\n            Франшизы\\n                    </a></li><li class=\"topline__item-block js-topline-item\"><a href=\"https://www.rbc.ru/newspaper/?utm_source=topline\" class=\"topline__item js-yandex-counter\" data-yandex-name=\"from_topline\" data-yandex-params=\\'{url: \"https://www.rbc.ru/newspaper/?utm_source=topline\"}\\'>\\n            Газета\\n                    </a></li><li class=\"topline__item-block js-topline-item\"><a href=\"https://spbspecials.rbc.ru/?utm_source=topline\" class=\"topline__item js-yandex-counter\" data-yandex-name=\"from_topline\" data-yandex-params=\\'{url: \"https://spbspecials.rbc.ru/?utm_source=topline\"}\\'>\\n            Спецпроекты СПб\\n                    </a></li><li class=\"topline__item-block js-topline-item\"><a href=\"https://spb-bc.rbc.ru/?utm_source=topline\" class=\"topline__item js-yandex-counter\" data-yandex-name=\"from_topline\" data-yandex-params=\\'{url: \"https://spb-bc.rbc.ru/?utm_source=topline\"}\\'>\\n            Конференции СПб\\n                    </a></li><li class=\"topline__item-block js-topline-item\"><a href=\"https://specialists.ru/?utm_source=topline\" class=\"topline__item js-yandex-counter\" data-yandex-name=\"from_topline\" data-yandex-params=\\'{url: \"https://specialists.ru/?utm_source=topline\"}\\'>\\n            Спецпроекты\\n                    </a></li><li class=\"topline__item-block js-topline-item\"><a href=\"https://rescore.online/?utm_source=topline\" class=\"topline__item js-yandex-counter\" data-yandex-name=\"from_topline\" data-yandex-params=\\'{url: \"https://rescore.online/?utm_source=topline\"}\\'>\\n            Проверка контрагентов\\n                    </a></li><li class=\"topline__item-block js-topline-item\"><a href=\"https://lib.rbc.ru/?utm_source=topline\" class=\"topline__item js-yandex-counter\" data-yandex-name=\"from_topline\" data-yandex-params=\\'{url: \"https://lib.rbc.ru/?utm_source=topline\"}\\'>\\n            РБК Библиотека\\n                    </a></li><li class=\"topline__item-block js-topline-item\"><a href=\"http://esg-index.rbc.ru/\" class=\"topline__item js-yandex-counter\" data-yandex-name=\"from_topline\" data-yandex-params=\\'{url: \"http://esg-index.rbc.ru/\"}\\'>\\n            ESG-индекс\\n                    </a></li><li class=\"topline__item-block js-topline-item\"><a href=\"https://www.rbc.ru/politics/?utm_source=topline\" class=\"topline__item js-yandex-counter\" data-yandex-name=\"from_topline\" data-yandex-params=\\'{url: \"https://www.rbc.ru/politics/?utm_source=topline\"}\\'>\\n            Политика\\n                    </a></li><li class=\"topline__item-block js-topline-item\"><a href=\"https://www.rbc.ru/economics/?utm_source=topline\" class=\"topline__item js-yandex-counter\" data-yandex-name=\"from_topline\" data-yandex-params=\\'{url: \"https://www.rbc.ru/economics/?utm_source=topline\"}\\'>\\n            Экономика\\n                    </a></li><li class=\"topline__item-block js-topline-item\"><a href=\"https://www.rbc.ru/business/?utm_source=topline\" class=\"topline__item js-yandex-counter\" data-yandex-name=\"from_topline\" data-yandex-params=\\'{url: \"https://www.rbc.ru/business/?utm_source=topline\"}\\'>\\n            Бизнес\\n                    </a></li><li class=\"topline__item-block js-topline-item\"><a href=\"https://www.rbc.ru/technology_and_media/?utm_source=topline\" class=\"topline__item js-yandex-counter\" data-yandex-name=\"from_topline\" data-yandex-params=\\'{url: \"https://www.rbc.ru/technology_and_media/?utm_source=topline\"}\\'>\\n            Технологии и медиа\\n                    </a></li><li class=\"topline__item-block js-topline-item\"><a href=\"https://www.rbc.ru/finances/?utm_source=topline\" class=\"topline__item js-yandex-counter\" data-yandex-name=\"from_topline\" data-yandex-params=\\'{url: \"https://www.rbc.ru/finances/?utm_source=topline\"}\\'>\\n            Финансы\\n                    </a></li></ul></nav><nav class=\"topline__more\"><ul class=\"topline__item__wrap\"><li class=\"topline__item-block\"><a href=\"https://companies.rbc.ru/?utm_source=topline\" class=\"topline__item topline__item_special js-yandex-counter\"\\n           data-yandex-name=\"topline_1\"\\n           data-publisher-nick=\"main_topline_anons\"><span class=\"topline__item_special-inner\">РБК Компании</span></a></li><li class=\"topline__item-block\"><a href=\"https://rbclife.ru/\" class=\"topline__item topline__item_special js-yandex-counter\"\\n           data-yandex-name=\"topline_2\"\\n           data-publisher-nick=\"main_header_link\"><span class=\"topline__item_special-inner\">РБК Life</span></a></li></ul><div class=\"topline__dropdown\"><a href=\"\" class=\"topline__dropdown__handle js-topline-dropdown\">\\n                            ...\\n                        </a><div class=\"topline__dropdown__list js-topline-dropdown-list\"><ul class=\"topline__dropdown__list__inner js-topline-dropdown-list-inner\"></ul></div></div></nav></div></div><div class=\"topline__right\"><div class=\"topline__disable-adv\"><a href=\"https://pro.rbc.ru/rbcoffer/comfort_bannersdisable?utm_source=trends.rbc.ru/trends&amp;utm_medium=inhouse_media&amp;utm_campaign=rbc_comfort&amp;utm_term=bannersdisable_button\" class=\"topline__disable-adv__button\">Скрыть баннеры</a></div><div class=\"topline__search-block\"><div class=\"topline__search js-search-block\"><button class=\"topline__search__menu js-search-open\"><span class=\"topline__search__menu__link\"></span></button><div class=\"topline__search__body js-search-body\"><a href=\"#\" class=\"topline__search__close js-search-close\"><span></span><span></span></a><div class=\"topline__search__body__inner\"><search role=\"search\"><form action=\"/search/\" class=\"topline__search__form\" role=\"search\"><input class=\"topline__search__button\" type=\"submit\" value=\"Найти\" /><div class=\"topline__search__text\"><div class=\"topline__search__input-wrap\"><input class=\"topline__search__input js-search-input\" type=\"search\" inputmode=\"search\" name=\"query\" autocomplete=\"off\" value=\"\" placeholder=\"Поиск по сайту\" /></div></div></form></search><nav class=\"topline__search__rubric\"><div class=\"topline__search__rubric__name\">Рубрики</div><ul class=\"topline__search__rubric__block\" itemscope itemtype=\"https://www.schema.org/SiteNavigationElement\"><li class=\"topline__search__rubric__link-wrap\"><a href=\"/trends\" class=\"topline__search__rubric__link\" itemprop=\"url\">\\n                                                                                    Главное\\n                                                                            </a></li><li class=\"topline__search__rubric__link-wrap\"><a href=\"/trends/short_news\" class=\"topline__search__rubric__link\" itemprop=\"url\">\\n                                                                                    Лента\\n                                                                            </a></li><li class=\"topline__search__rubric__link-wrap\"><a href=\"https://trends.rbc.ru/trends/tag/future_scenario\" class=\"topline__search__rubric__link\" itemprop=\"url\">\\n                                                                                    Прогнозы будущего\\n                                                                            </a></li><li class=\"topline__search__rubric__link-wrap\"><a href=\"https://trends.rbc.ru/trends/tag/ai\" class=\"topline__search__rubric__link\" itemprop=\"url\">\\n                                                                                    Искусственный интеллект\\n                                                                            </a></li><li class=\"topline__search__rubric__link-wrap\"><a href=\"https://trends.rbc.ru/trends/tag/issledovaniia-i-doklady\" class=\"topline__search__rubric__link\" itemprop=\"url\">\\n                                                                                    Исследования и доклады\\n                                                                            </a></li><li class=\"topline__search__rubric__link-wrap\"><a href=\"https://trends.rbc.ru/trends/tag/toolbox\" class=\"topline__search__rubric__link\" itemprop=\"url\">\\n                                                                                    Полезные штуки\\n                                                                            </a></li></ul></nav></div></div></div></div><div class=\"topline__auth js-topline-profile-container\"><button class=\"topline__auth__link js-topline-profile-link\"></button><div class=\"topline__auth__profile\"><nav class=\"topline__auth__profile__inner active\"><ul class=\"topline__auth__profile__menu\"><li class=\"topline__auth__profile__menu__item\"><a href=\"https://auth.rbc.ru/login?tab=enter&from=login_topline\" class=\"topline__auth__profile__menu__link js-paywall-login\"><b>Вход</b></a></li><li class=\"topline__auth__profile__menu__item\"><a href=\"https://auth.rbc.ru/login?from=registration_topline\" class=\"topline__auth__profile__menu__link js-paywall-login\"><b>Регистрация</b></a></li></ul></nav></div></div><div class=\"topline__menu\"><div class=\"topline__menu__open js-topline-menu js-yandex-counter\" data-yandex-name=\"click_hamburger\"><span></span><span></span><span></span></div><div class=\"topline__menu__close js-topline-menu-close\"><span></span><span></span></div></div></div></div><div class=\"topline__popup js-topline-popup\"><nav class=\"topline__popup__inner js-topline-open-popup-content active\"><div class=\"topline__popup__disable-adv\"><noindex><div class=\"topline__popup__disable-adv__left\"><div class=\"topline__popup__disable-adv__title\">\\n                                    Подпишитесь на РБК Comfort\\n                                </div><div class=\"topline__popup__disable-adv__small-text\"><p>Получайте рассылку с новостями, которые касаются каждого. Самое актуальное о личных финансах, карьере и безопасности.</p><p>Читайте РБК без рекламных баннеров на сайте и в мобильном приложении.</p></div></div></noindex><div class=\"topline__popup__disable-adv__right\"><a href=\"https://pro.rbc.ru/rbcoffer/comfort_email_news?utm_source=trends.rbc.ru/trends&amp;utm_medium=inhouse_media&amp;utm_campaign=rbc_comfort&amp;utm_term=top_button\" class=\"topline__popup__disable-adv__button\">\\n                                    Подписаться за 99₽ в месяц\\n                                </a></div></div><ul class=\"topline__popup__menu\"><li class=\"topline__popup__menu__item topline__popup__menu__item_auth_no\"><a href=\"https://auth.rbc.ru/login?tab=enter&from=login_topline\" class=\"topline__popup__main-link js-paywall-login\">\\n                                Вход                            </a></li><li class=\"topline__popup__menu__item topline__popup__menu__item_search\"><a href=\"#\" class=\"topline__popup__main-link js-topline-open-popup-link\" data-content=\"search\">Поиск</a></li></ul><div class=\"topline__popup__main-nav\"><div class=\"topline__popup__submenu topline__popup__flex\"><div class=\"topline__popup__submenu__wrap\"><a href=\"/trends\" class=\"topline__popup__submenu-item\">Главное</a></div><div class=\"topline__popup__submenu__wrap\"><a href=\"/trends/short_news\" class=\"topline__popup__submenu-item\">Лента</a></div><div class=\"topline__popup__submenu__wrap\"><a href=\"https://trends.rbc.ru/trends/tag/future_scenario\" class=\"topline__popup__submenu-item\">Прогнозы будущего</a></div><div class=\"topline__popup__submenu__wrap\"><a href=\"https://trends.rbc.ru/trends/tag/ai\" class=\"topline__popup__submenu-item\">Искусственный интеллект</a></div><div class=\"topline__popup__submenu__wrap\"><a href=\"https://trends.rbc.ru/trends/tag/issledovaniia-i-doklady\" class=\"topline__popup__submenu-item\">Исследования и доклады</a></div><div class=\"topline__popup__submenu__wrap\"><a href=\"https://trends.rbc.ru/trends/tag/toolbox\" class=\"topline__popup__submenu-item\">Полезные штуки</a></div></div></div><ul class=\"topline__popup__submenu topline__popup__flex\"><li class=\"topline__popup__submenu__wrap\"><a href=\"https://tv.rbc.ru/?utm_source=topline\" class=\"topline__popup__submenu-item js-yandex-counter\" data-yandex-name=\"click_hamburger\" data-yandex-params=\\'{url: \"https://tv.rbc.ru/?utm_source=topline\"}\\'>Телеканал</a></li><li class=\"topline__popup__submenu__wrap\"><a href=\"https://pro.rbc.ru/?from=topline\" class=\"topline__popup__submenu-item js-yandex-counter\" data-yandex-name=\"click_hamburger\" data-yandex-params=\\'{url: \"https://pro.rbc.ru/?from=topline\"}\\'>Pro</a></li><li class=\"topline__popup__submenu__wrap\"><a href=\"https://quote.ru/?utm_source=topline\" class=\"topline__popup__submenu-item js-yandex-counter\" data-yandex-name=\"click_hamburger\" data-yandex-params=\\'{url: \"https://quote.ru/?utm_source=topline\"}\\'>Инвестиции</a></li><li class=\"topline__popup__submenu__wrap\"><a href=\"https://events.rbc.ru/?utm_source=topline\" class=\"topline__popup__submenu-item js-yandex-counter\" data-yandex-name=\"click_hamburger\" data-yandex-params=\\'{url: \"https://events.rbc.ru/?utm_source=topline\"}\\'>Мероприятия</a></li><li class=\"topline__popup__submenu__wrap\"><a href=\"https://www.rbc.ru/industries/?utm_source=topline\" class=\"topline__popup__submenu-item js-yandex-counter\" data-yandex-name=\"click_hamburger\" data-yandex-params=\\'{url: \"https://www.rbc.ru/industries/?utm_source=topline\"}\\'>Отрасли</a></li><li class=\"topline__popup__submenu__wrap\"><a href=\"https://realty.rbc.ru/?utm_source=topline\" class=\"topline__popup__submenu-item js-yandex-counter\" data-yandex-name=\"click_hamburger\" data-yandex-params=\\'{url: \"https://realty.rbc.ru/?utm_source=topline\"}\\'>Недвижимость</a></li><li class=\"topline__popup__submenu__wrap\"><a href=\"https://www.autonews.ru/?utm_source=topline\" class=\"topline__popup__submenu-item js-yandex-counter\" data-yandex-name=\"click_hamburger\" data-yandex-params=\\'{url: \"https://www.autonews.ru/?utm_source=topline\"}\\'>Autonews</a></li><li class=\"topline__popup__submenu__wrap\"><a href=\"https://sportrbc.ru/?utm_source=topline\" class=\"topline__popup__submenu-item js-yandex-counter\" data-yandex-name=\"click_hamburger\" data-yandex-params=\\'{url: \"https://sportrbc.ru/?utm_source=topline\"}\\'>Спорт</a></li><li class=\"topline__popup__submenu__wrap\"><a href=\"https://trends.rbc.ru/trends/?utm_source=topline\" class=\"topline__popup__submenu-item js-yandex-counter\" data-yandex-name=\"click_hamburger\" data-yandex-params=\\'{url: \"https://trends.rbc.ru/trends/?utm_source=topline\"}\\'>Тренды</a></li><li class=\"topline__popup__submenu__wrap\"><a href=\"https://www.rbc.ru/national\" class=\"topline__popup__submenu-item js-yandex-counter\" data-yandex-name=\"click_hamburger\" data-yandex-params=\\'{url: \"https://www.rbc.ru/national\"}\\'>Национальные проекты</a></li><li class=\"topline__popup__submenu__wrap\"><a href=\"https://rbc.ru/gorod/?utm_source=topline\" class=\"topline__popup__submenu-item js-yandex-counter\" data-yandex-name=\"click_hamburger\" data-yandex-params=\\'{url: \"https://rbc.ru/gorod/?utm_source=topline\"}\\'>Город</a></li><li class=\"topline__popup__submenu__wrap\"><a href=\"https://style.rbc.ru/?utm_source=topline\" class=\"topline__popup__submenu-item js-yandex-counter\" data-yandex-name=\"click_hamburger\" data-yandex-params=\\'{url: \"https://style.rbc.ru/?utm_source=topline\"}\\'>Стиль</a></li><li class=\"topline__popup__submenu__wrap\"><a href=\"https://www.rbc.ru/crypto/?utm_source=topline\" class=\"topline__popup__submenu-item js-yandex-counter\" data-yandex-name=\"click_hamburger\" data-yandex-params=\\'{url: \"https://www.rbc.ru/crypto/?utm_source=topline\"}\\'>Крипто</a></li><li class=\"topline__popup__submenu__wrap\"><a href=\"https://plus.rbc.ru/?utm_source=topline\" class=\"topline__popup__submenu-item js-yandex-counter\" data-yandex-name=\"click_hamburger\" data-yandex-params=\\'{url: \"https://plus.rbc.ru/?utm_source=topline\"}\\'>РБК+</a></li><li class=\"topline__popup__submenu__wrap\"><a href=\"https://www.rbc.ru/dc/?utm_source=topline\" class=\"topline__popup__submenu-item js-yandex-counter\" data-yandex-name=\"click_hamburger\" data-yandex-params=\\'{url: \"https://www.rbc.ru/dc/?utm_source=topline\"}\\'>Дискуссионный клуб</a></li><li class=\"topline__popup__submenu__wrap\"><a href=\"https://marketing.rbc.ru/?utm_source=topline\" class=\"topline__popup__submenu-item js-yandex-counter\" data-yandex-name=\"click_hamburger\" data-yandex-params=\\'{url: \"https://marketing.rbc.ru/?utm_source=topline\"}\\'>Исследования</a></li><li class=\"topline__popup__submenu__wrap\"><a href=\"https://ratings.ru/?utm_source=topline\" class=\"topline__popup__submenu-item js-yandex-counter\" data-yandex-name=\"click_hamburger\" data-yandex-params=\\'{url: \"https://ratings.ru/?utm_source=topline\"}\\'>Кредитные рейтинги</a></li><li class=\"topline__popup__submenu__wrap\"><a href=\"http://biztorg.ru/offers/main?utm_source=topline\" class=\"topline__popup__submenu-item js-yandex-counter\" data-yandex-name=\"click_hamburger\" data-yandex-params=\\'{url: \"http://biztorg.ru/offers/main?utm_source=topline\"}\\'>Франшизы</a></li><li class=\"topline__popup__submenu__wrap\"><a href=\"https://www.rbc.ru/newspaper/?utm_source=topline\" class=\"topline__popup__submenu-item js-yandex-counter\" data-yandex-name=\"click_hamburger\" data-yandex-params=\\'{url: \"https://www.rbc.ru/newspaper/?utm_source=topline\"}\\'>Газета</a></li><li class=\"topline__popup__submenu__wrap\"><a href=\"https://spbspecials.rbc.ru/?utm_source=topline\" class=\"topline__popup__submenu-item js-yandex-counter\" data-yandex-name=\"click_hamburger\" data-yandex-params=\\'{url: \"https://spbspecials.rbc.ru/?utm_source=topline\"}\\'>Спецпроекты СПб</a></li><li class=\"topline__popup__submenu__wrap\"><a href=\"https://spb-bc.rbc.ru/?utm_source=topline\" class=\"topline__popup__submenu-item js-yandex-counter\" data-yandex-name=\"click_hamburger\" data-yandex-params=\\'{url: \"https://spb-bc.rbc.ru/?utm_source=topline\"}\\'>Конференции СПб</a></li><li class=\"topline__popup__submenu__wrap\"><a href=\"https://specialists.ru/?utm_source=topline\" class=\"topline__popup__submenu-item js-yandex-counter\" data-yandex-name=\"click_hamburger\" data-yandex-params=\\'{url: \"https://specialists.ru/?utm_source=topline\"}\\'>Спецпроекты</a></li><li class=\"topline__popup__submenu__wrap\"><a href=\"https://rescore.online/?utm_source=topline\" class=\"topline__popup__submenu-item js-yandex-counter\" data-yandex-name=\"click_hamburger\" data-yandex-params=\\'{url: \"https://rescore.online/?utm_source=topline\"}\\'>Проверка контрагентов</a></li><li class=\"topline__popup__submenu__wrap\"><a href=\"https://lib.rbc.ru/?utm_source=topline\" class=\"topline__popup__submenu-item js-yandex-counter\" data-yandex-name=\"click_hamburger\" data-yandex-params=\\'{url: \"https://lib.rbc.ru/?utm_source=topline\"}\\'>РБК Библиотека</a></li><li class=\"topline__popup__submenu__wrap\"><a href=\"http://esg-index.rbc.ru/\" class=\"topline__popup__submenu-item js-yandex-counter\" data-yandex-name=\"click_hamburger\" data-yandex-params=\\'{url: \"http://esg-index.rbc.ru/\"}\\'>ESG-индекс</a></li><li class=\"topline__popup__submenu__wrap\"><a href=\"https://www.rbc.ru/politics/?utm_source=topline\" class=\"topline__popup__submenu-item js-yandex-counter\" data-yandex-name=\"click_hamburger\" data-yandex-params=\\'{url: \"https://www.rbc.ru/politics/?utm_source=topline\"}\\'>Политика</a></li><li class=\"topline__popup__submenu__wrap\"><a href=\"https://www.rbc.ru/economics/?utm_source=topline\" class=\"topline__popup__submenu-item js-yandex-counter\" data-yandex-name=\"click_hamburger\" data-yandex-params=\\'{url: \"https://www.rbc.ru/economics/?utm_source=topline\"}\\'>Экономика</a></li><li class=\"topline__popup__submenu__wrap\"><a href=\"https://www.rbc.ru/business/?utm_source=topline\" class=\"topline__popup__submenu-item js-yandex-counter\" data-yandex-name=\"click_hamburger\" data-yandex-params=\\'{url: \"https://www.rbc.ru/business/?utm_source=topline\"}\\'>Бизнес</a></li><li class=\"topline__popup__submenu__wrap\"><a href=\"https://www.rbc.ru/technology_and_media/?utm_source=topline\" class=\"topline__popup__submenu-item js-yandex-counter\" data-yandex-name=\"click_hamburger\" data-yandex-params=\\'{url: \"https://www.rbc.ru/technology_and_media/?utm_source=topline\"}\\'>Технологии и медиа</a></li><li class=\"topline__popup__submenu__wrap\"><a href=\"https://www.rbc.ru/finances/?utm_source=topline\" class=\"topline__popup__submenu-item js-yandex-counter\" data-yandex-name=\"click_hamburger\" data-yandex-params=\\'{url: \"https://www.rbc.ru/finances/?utm_source=topline\"}\\'>Финансы</a></li><div class=\"topline__popup__submenu__wrap\"><li class=\"topline__item-block\"><a href=\"https://rbclife.ru/\" class=\"topline__popup__submenu-item js-yandex-counter\"\\n           data-yandex-name=\"topline_2\"\\n           data-publisher-nick=\"main_header_link\"><span class=\"topline__item_special-inner\">РБК Life</span></a></li></div><div class=\"topline__popup__submenu__wrap\"><li class=\"topline__item-block\"><a href=\"https://companies.rbc.ru/?utm_source=topline\" class=\"topline__popup__submenu-item js-yandex-counter\"\\n           data-yandex-name=\"topline_1\"\\n           data-publisher-nick=\"main_topline_anons\"><span class=\"topline__item_special-inner\">РБК Компании</span></a></li></div></ul></nav><div class=\"topline__popup__inner js-topline-open-popup-content search\"><div class=\"topline__popup__back js-topline-back\">\\n    Главное меню\\n</div><div class=\"topline__popup__search\"><search role=\"search\"><form action=\"/search/\" class=\"topline__popup__search__form\"><input type=\"hidden\" name=\"project\" value=\"trends\"/><input class=\"topline__popup__search__button\" type=\"submit\" value=\"Найти\" /><div class=\"topline__popup__search__text\"><div class=\"topline__popup__search__input-wrap\"><input class=\"topline__popup__search__input js-search-input\" type=\"text\" name=\"query\" autocomplete=\"off\" value=\"\" placeholder=\"Поиск по сайту\" /></div></div></form></search><nav class=\"topline__popup__search__rubric\"><div class=\"topline__popup__search__rubric__name\">Рубрики</div><ul class=\"topline__popup__search__rubric__block\"><li class=\"topline__popup__search__rubric__link-wrap\"><a href=\"/trends\" class=\"topline__popup__search__rubric__link\">\\n                                                                                    Главное\\n                                                                            </a></li><li class=\"topline__popup__search__rubric__link-wrap\"><a href=\"/trends/short_news\" class=\"topline__popup__search__rubric__link\">\\n                                                                                    Лента\\n                                                                            </a></li><li class=\"topline__popup__search__rubric__link-wrap\"><a href=\"https://trends.rbc.ru/trends/tag/future_scenario\" class=\"topline__popup__search__rubric__link\">\\n                                                                                    Прогнозы будущего\\n                                                                            </a></li><li class=\"topline__popup__search__rubric__link-wrap\"><a href=\"https://trends.rbc.ru/trends/tag/ai\" class=\"topline__popup__search__rubric__link\">\\n                                                                                    Искусственный интеллект\\n                                                                            </a></li><li class=\"topline__popup__search__rubric__link-wrap\"><a href=\"https://trends.rbc.ru/trends/tag/issledovaniia-i-doklady\" class=\"topline__popup__search__rubric__link\">\\n                                                                                    Исследования и доклады\\n                                                                            </a></li><li class=\"topline__popup__search__rubric__link-wrap\"><a href=\"https://trends.rbc.ru/trends/tag/toolbox\" class=\"topline__popup__search__rubric__link\">\\n                                                                                    Полезные штуки\\n                                                                            </a></li></ul></nav></div></div></div>\\n                    </div>\\n                </header>\\n                        \\n    \\n                \\n\\n<header class=\"navbar js-navbar\" >\\n    <div class=\"navbar__inner l-window\">\\n        <div class=\"navbar__col navbar__col_left js-navbar-col-left\">\\n            <div class=\"navbar__logo\">\\n                <a href=\"https://www.rbc.ru/\" class=\"navbar__logo__link\">РБК</a>\\n                <a href=\"/trends/\" class=\"navbar__logo__link navbar__logo__link_home\">Тренды</a>\\n            </div>\\n\\n            \\n        </div>\\n        <div class=\"navbar__col navbar__col_center\">\\n            <nav class=\"navbar__container js-navbar-dropdown-container\">\\n                <ul class=\"navbar__menu js-navbar-menu\">\\n                    <li class=\"navbar__menu__item js-navbar-item\">\\n                        <a class=\"navbar__menu__link\" href=\"/trends?from=mainnews_bar\">Главная</a>\\n                    </li>\\n                    <li class=\"navbar__menu__item js-navbar-item\">\\n                        <a class=\"navbar__menu__link\" href=\"/trends/short_news?from=newsfeed_bar\">Лента</a>\\n                    </li>\\n                                                                        <li class=\"navbar__menu__item js-navbar-item\">\\n                                <a class=\"navbar__menu__link\" href=\"https://trends.rbc.ru/trends/tag/future_scenario\">Прогнозы будущего</a>\\n                            </li>\\n                                                    <li class=\"navbar__menu__item js-navbar-item\">\\n                                <a class=\"navbar__menu__link\" href=\"https://trends.rbc.ru/trends/tag/ai\">Искусственный интеллект</a>\\n                            </li>\\n                                                    <li class=\"navbar__menu__item js-navbar-item\">\\n                                <a class=\"navbar__menu__link\" href=\"https://trends.rbc.ru/trends/tag/issledovaniia-i-doklady\">Исследования и доклады</a>\\n                            </li>\\n                                                    <li class=\"navbar__menu__item js-navbar-item\">\\n                                <a class=\"navbar__menu__link\" href=\"https://trends.rbc.ru/trends/tag/toolbox\">Полезные штуки</a>\\n                            </li>\\n                                                            </ul>\\n            </nav>\\n\\n            <div class=\"topline__more navbar__more\">\\n                <div class=\"topline__dropdown\">\\n                    <a href=\"\" class=\"topline__dropdown__handle js-navbar-dropdown\">\\n                        ...\\n                    </a>\\n                    <div class=\"topline__dropdown__list js-navbar-dropdown-list\">\\n                        <div class=\"topline__dropdown__list__inner js-navbar-dropdown-list-inner\"></div>\\n                    </div>\\n                </div>\\n            </div>\\n        </div>\\n        <div class=\"navbar__col navbar__col_right\">\\n            <div class=\"navbar__social\">\\n                                                                            <a href=\"https://t.me/rbc_trends\" target=\"_blank\" class=\"navbar__social__link\">\\n                        <span class=\"navbar__social__link__icon\">\\n                                                            <img src=\"https://s0.rbk.ru/v6_top_pics/resized/Wx80/media/img/3/41/756152823169413.png\"\\n          loading=\"lazy\"     class=\"navbar__social__link__icon__image\"     alt=\"\" />\\n                                                    </span>\\n                    </a>\\n                                                                            <a href=\"https://vk.com/rbc_trends\" target=\"_blank\" class=\"navbar__social__link\">\\n                        <span class=\"navbar__social__link__icon\">\\n                                                            <img src=\"https://s0.rbk.ru/v6_top_pics/resized/Wx80/media/img/5/79/756152823045795.png\"\\n          loading=\"lazy\"     class=\"navbar__social__link__icon__image\"     alt=\"\" />\\n                                                    </span>\\n                    </a>\\n                                                                            <a href=\"https://www.youtube.com/channel/UCr0sFcTJoJVI01erYEi2bNw\" target=\"_blank\" class=\"navbar__social__link\">\\n                        <span class=\"navbar__social__link__icon\">\\n                                                            <img src=\"https://s0.rbk.ru/v6_top_pics/resized/Wx80/media/img/4/35/756152821394354.png\"\\n          loading=\"lazy\"     class=\"navbar__social__link__icon__image\"     alt=\"\" />\\n                                                    </span>\\n                    </a>\\n                                                                            <a href=\"https://zen.yandex.ru/rbc_trends\" target=\"_blank\" class=\"navbar__social__link\">\\n                        <span class=\"navbar__social__link__icon\">\\n                                                            <img src=\"https://s0.rbk.ru/v6_top_pics/media/img/4/55/755924101431554.svg\" class=\"navbar__social__link__icon__image\" alt=\"\"/>\\n                                                    </span>\\n                    </a>\\n                            </div>\\n        </div>\\n    </div>\\n</header>\\n\\n                <main>\\n    \\n            <div class=\"l-window l-window-overflow-mob\">\\n                                                                            \\n            <div class=\"g-relative g-clear\">\\n                \\n                <div class=\"l-col-container\">\\n                    <div class=\"l-table\">\\n                                                                                                        \\n                            <div class=\"js-rbcslider\">\\n        \\n\\n    \\n<div class=\"js-rbcslider-slide rbcslider__slide \"\\n    data-id=\"65327bc69a7947399939b243\"\\n     data-url=\"https://trends.rbc.ru/trends/industry/65327bc69a7947399939b243\"    data-index=\"0\"\\n    data-chars-length=\"3305\"\\n         data-type=\"article\"                            data-aggregator=\"false\"\\n     itemscope itemtype=\"https://schema.org/NewsArticle\"        data-trend-nick=\"industry\"    >\\n\\n            <meta itemprop=\"description\" content=\"Американские ученые провели успешные испытания модели ИИ, которая анализирует изменения в мозгу людей, лечащихся от депрессии. Результаты исследования могут значительно улучшить борьбу с ментальной проблемой\"/>\\n<meta name=\"news_keywords\" content=\"Депрессия, Стимуляция, Исследователь, Электрод, Самоотчёт, Состояние, Активность, Выздоровление, Устройство, Доброволец, Симптом, Специалист, Вынудить, Результат, Заболевание, Участник, Исследование, Глубокий, Нейронный, Анализировать\"/>\\n<meta itemprop=\"genre\" content=\"news\"/>\\n\\n\\n    \\n    <div itemprop=\"author\" itemscope itemtype=\"https://schema.org/Organization\">\\n        <meta itemprop=\"name\" content=\"РБК\"/>\\n        <meta itemprop=\"identifier\" content=\"https://www.rbc.ru/#organization\"/>\\n        <meta itemprop=\"address\" content=\"Россия, г.Москва, ул.Профсоюзная, д.78\"/>\\n        <meta itemprop=\"telephone\" content=\"+7(495)363-11-11\"/>\\n        <meta itemprop=\"image\" src=\"//s.rbk.ru/v4_trends_static/common/common-10.10.93/images/logo.png\"/>\\n        <div itemprop=\"logo\" itemscope itemtype=\"https://schema.org/ImageObject\">\\n            <link itemprop=\"url contentUrl\" href=\"https://s.rbk.ru/v4_trends_static/common/common-10.10.93/images/logo.png\"/>\\n            <meta itemprop=\"width\" content=\"17\"/>\\n            <meta itemprop=\"height\" content=\"17\"/>\\n        </div>\\n    </div>\\n\\n<div itemprop=\"publisher\" itemscope itemtype=\"https://schema.org/Organization\">\\n    <meta itemprop=\"name\" content=\"РБК\"/>\\n    <meta itemprop=\"identifier\" content=\"https://www.rbc.ru/#organization\"/>\\n    <meta itemprop=\"address\" content=\"Россия, г.Москва, ул.Профсоюзная, д.78\"/>\\n    <meta itemprop=\"telephone\" content=\"+7(495)363-11-11\"/>\\n    <div itemprop=\"logo\" itemscope itemtype=\"https://schema.org/ImageObject\">\\n        <link itemprop=\"url contentUrl\" href=\"https://s.rbk.ru/v4_trends_static/common/common-10.10.93/images/logo-600x60.png\"/>\\n        <meta itemprop=\"width\" content=\"600\"/>\\n        <meta itemprop=\"height\" content=\"60\"/>\\n    </div>\\n</div>\\n\\n<link itemprop=\"mainEntityOfPage\" href=\"https://trends.rbc.ru/trends/industry/65327bc69a7947399939b243\"/>\\n\\n\\n        \\n    <link href=\"https://s0.rbk.ru/v6_top_pics/resized/1200xH/media/img/3/81/346978074330813.jpeg\"/>\\n    <div itemprop=\"image\" itemscope itemtype=\"https://schema.org/ImageObject\">\\n        <meta itemprop=\"url\" content=\"https://s0.rbk.ru/v6_top_pics/media/img/3/81/346978074330813.jpeg\"/>\\n                    <meta itemprop=\"identifier\" content=\"https://trends.rbc.ru/trends/industry/65327bc69a7947399939b243/#primaryimage\"/>\\n                            <meta itemprop=\"width\" content=\"1280\"/>\\n                            <meta itemprop=\"height\" content=\"800\"/>\\n                    </div>\\n\\n    \\n    \\n    \\n    \\n        \\n    \\n    \\n    \\n    <div class=\"article g-relative js-rbcslider-article \"  >\\n                    <div class=\"l-table\">\\n                    <div class=\"l-base__flex l-base__flex__gutter l-base__flex__content\">\\n        <article class=\"l-base__col__center\">\\n            <div class=\"l-base__col__main\">\\n                                    <div class=\"article__header js-article-header\">\\n    <div class=\"breadcrumbs breadcrumbs_big\">\\n                <a class=\"breadcrumbs__link\" href=\"https://trends.rbc.ru/trends/industry\">Индустрия 4.0</a>\\n    </div>    <div class=\"article__header__title\">\\n        <h1 class=\"article__header__title-in js-slide-title\" itemprop=\"headline\">Как модель искусственного интеллекта поможет в лечении депрессии</h1>\\n        <meta itemprop=\"datePublished\" content=\"2023-10-21T12:00:05+03:00\"/>\\n        <meta itemprop=\"dateModified\" content=\"2023-10-20T18:06:23+03:00\"/>\\n    </div>\\n    </div>                \\n                \\n                \\n                    \\n                    <div class=\"article__text\" itemprop=\"articleBody\">\\n                                                        \\n    \\n    <div class=\"article__main-image\" itemscope itemtype=\"http://schema.org/ImageObject\">\\n        <div class=\"article__main-image__wrap\">\\n                                                    \\n                \\n        \\n\\n\\n            \\n        \\n                                \\n                                                    \\n                \\n        \\n                                                            \\n                            \\n                \\n        \\n                                                        \\n                \\n        \\n            \\n                                    \\n                                                    \\n                                                        \\n        \\n                \\n                                                                \\n                \\n                                                                                \\n                            \\n                                \\n                                \\n                                                    \\n                                                                \\n                                                                            \\n                                                                                                                                            \\n                                                                \\n                                                                                                                            \\n                \\n                                                                                \\n                            \\n                                \\n                                \\n                                                    \\n                                                                \\n                                                                            \\n                                                                                                                                            \\n                                                                \\n                                                                                    \\n                \\n                                                                                \\n                            \\n                                \\n                                \\n                                                    \\n                                                                \\n                                                                            \\n                                                                                                                                            \\n                                                                \\n                                                                                                        \\n                \\n                                                                                \\n                            \\n                                \\n                                \\n                                                    \\n                                                                \\n                                                                            \\n                                                                                                                                            \\n                                                        \\n        \\n\\n\\n<picture class=\"smart-image\">\\n                    \\n                                                            \\n                            <!-- webp ratio resize for 320px and 2 ratio -->\\n                <source\\n                        srcset=\"https://s0.rbk.ru/v6_top_pics/resized/640xH/media/img/3/81/346978074330813.webp 640w\"\\n                        type=\"image/webp\"\\n                        media=\"(max-width: 320px) and (-webkit-min-device-pixel-ratio: 2), (max-width: 320px) and (min-resolution: 192dpi)\"\\n                />\\n                                        <!-- ratio resize for 320px and 2 ratio -->\\n                <source\\n                        srcset=\"https://s0.rbk.ru/v6_top_pics/resized/640xH/media/img/3/81/346978074330813.jpeg 640w\"\\n                        media=\"(max-width: 320px) and (-webkit-min-device-pixel-ratio: 2), (max-width: 320px) and (min-resolution: 192dpi)\"\\n                />\\n                    \\n                    <!-- webp resize for 320px -->\\n            <source\\n                    srcset=\"https://s0.rbk.ru/v6_top_pics/resized/320xH/media/img/3/81/346978074330813.webp 320w\"\\n                    type=\"image/webp\"\\n                                            media=\"(max-width: 320px)\"\\n                                />\\n                <!-- resize for 320px -->\\n        <source\\n                srcset=\"https://s0.rbk.ru/v6_top_pics/resized/320xH/media/img/3/81/346978074330813.jpeg 320w\"\\n                                    media=\"(max-width: 320px)\"\\n                        />\\n                    \\n                                                            \\n                            <!-- webp ratio resize for 400px and 2 ratio -->\\n                <source\\n                        srcset=\"https://s0.rbk.ru/v6_top_pics/resized/800xH/media/img/3/81/346978074330813.webp 800w\"\\n                        type=\"image/webp\"\\n                        media=\"(max-width: 400px) and (-webkit-min-device-pixel-ratio: 2), (max-width: 400px) and (min-resolution: 192dpi)\"\\n                />\\n                                        <!-- ratio resize for 400px and 2 ratio -->\\n                <source\\n                        srcset=\"https://s0.rbk.ru/v6_top_pics/resized/800xH/media/img/3/81/346978074330813.jpeg 800w\"\\n                        media=\"(max-width: 400px) and (-webkit-min-device-pixel-ratio: 2), (max-width: 400px) and (min-resolution: 192dpi)\"\\n                />\\n                    \\n                    <!-- webp resize for 400px -->\\n            <source\\n                    srcset=\"https://s0.rbk.ru/v6_top_pics/resized/400xH/media/img/3/81/346978074330813.webp 400w\"\\n                    type=\"image/webp\"\\n                                            media=\"(max-width: 400px)\"\\n                                />\\n                <!-- resize for 400px -->\\n        <source\\n                srcset=\"https://s0.rbk.ru/v6_top_pics/resized/400xH/media/img/3/81/346978074330813.jpeg 400w\"\\n                                    media=\"(max-width: 400px)\"\\n                        />\\n                    \\n                                                            \\n                            <!-- webp ratio resize for 620px and 2 ratio -->\\n                <source\\n                        srcset=\"https://s0.rbk.ru/v6_top_pics/resized/1260xH/media/img/3/81/346978074330813.webp 1260w\"\\n                        type=\"image/webp\"\\n                        media=\"(max-width: 652px) and (-webkit-min-device-pixel-ratio: 2), (max-width: 652px) and (min-resolution: 192dpi)\"\\n                />\\n                                        <!-- ratio resize for 620px and 2 ratio -->\\n                <source\\n                        srcset=\"https://s0.rbk.ru/v6_top_pics/resized/1260xH/media/img/3/81/346978074330813.jpeg 1260w\"\\n                        media=\"(max-width: 652px) and (-webkit-min-device-pixel-ratio: 2), (max-width: 652px) and (min-resolution: 192dpi)\"\\n                />\\n                    \\n                    <!-- webp resize for 620px -->\\n            <source\\n                    srcset=\"https://s0.rbk.ru/v6_top_pics/resized/620xH/media/img/3/81/346978074330813.webp 620w\"\\n                    type=\"image/webp\"\\n                                            media=\"(max-width: 652px)\"\\n                                />\\n                <!-- resize for 620px -->\\n        <source\\n                srcset=\"https://s0.rbk.ru/v6_top_pics/resized/620xH/media/img/3/81/346978074330813.jpeg 620w\"\\n                                    media=\"(max-width: 652px)\"\\n                        />\\n                    \\n                                                            \\n                            <!-- webp ratio resize for 640px and 2 ratio -->\\n                <source\\n                        srcset=\"https://s0.rbk.ru/v6_top_pics/resized/1280xH/media/img/3/81/346978074330813.webp 1280w\"\\n                        type=\"image/webp\"\\n                        media=\"(-webkit-min-device-pixel-ratio: 2), (min-resolution: 192dpi)\"\\n                />\\n                                        <!-- ratio resize for 640px and 2 ratio -->\\n                <source\\n                        srcset=\"https://s0.rbk.ru/v6_top_pics/resized/1280xH/media/img/3/81/346978074330813.jpeg 1280w\"\\n                        media=\"(-webkit-min-device-pixel-ratio: 2), (min-resolution: 192dpi)\"\\n                />\\n                    \\n                    <!-- webp resize for 640px -->\\n            <source\\n                    srcset=\"https://s0.rbk.ru/v6_top_pics/resized/640xH/media/img/3/81/346978074330813.webp 640w\"\\n                    type=\"image/webp\"\\n                                />\\n                <!-- resize for 640px -->\\n        <source\\n                srcset=\"https://s0.rbk.ru/v6_top_pics/resized/640xH/media/img/3/81/346978074330813.jpeg 640w\"\\n                        />\\n    \\n    \\n        \\n    <!-- original size -->\\n            <source srcset=\"https://s0.rbk.ru/v6_top_pics/media/img/3/81/346978074330813.webp\" type=\"image/webp\" />\\n        <img src=\"https://s0.rbk.ru/v6_top_pics/media/img/3/81/346978074330813.jpeg\"\\n        width=\"1280\"        height=\"800\"        alt=\"Фото: Unsplash\"\\n                    loading=\"lazy\"\\n                class=\"article__main-image__image smart-image__img\"\\n         />\\n    </picture>\\n        </div>\\n                    \\n                            <div class=\"article__main-image__title\">\\n                                                                <span class=\"article__main-image__author\">\\n                                                            Фото: Unsplash\\n                                                    </span>\\n                                    </div>\\n                        </div>\\n                        \\n                                                                                    <div class=\"article__text__overview\">\\n                                    <span>Американские ученые провели успешные испытания модели ИИ, которая анализирует изменения в мозгу людей, лечащихся от депрессии. Результаты исследования могут значительно улучшить борьбу с ментальной проблемой</span>\\n                                </div>\\n                                                    \\n                                                                            \\n                                                    <div class=\"article__text__main\">\\n                                \\n\\n    <div class=\"article__special_container\">\\r\\n<p><strong>А в чем тренд? </strong></p>\\r\\n\\r\\n<p>Чтобы выявить потенциальные сердечно-сосудистые заболевания, доктора измеряют давление. Чтобы определить преддиабетное состояние&nbsp;&mdash; анализируют уровень инсулина. Однако в случае депрессии специалисты вынуждены полагаться на самоотчеты людей о симптомах. Это затрудняет объективную оценку.</p>\\r\\n\\r\\n<p>В сентябре 2023 года группа американских исследователей с помощью ИИ зафиксировала у людей, которые прошли курс глубокой стимуляции мозга (DBS), особый сигнал мозга, свидетельствовавший о выходе из депрессии. В рамках метода DBS вживленные в мозг электроды подают импульсы, которые меняют нейронную активность. По <a target=\"_blank\"  href=\"https://www.nature.com/articles/d41586-023-02979-7\">словам</a> нейробиолога из Дартмутского колледжа Пола Хольцхаймера, если результаты будут воспроизведены на более крупной выборке, это может стать переломным моментом в лечении депрессии.</p>\\r\\n</div>\\r\\n\\r\\n<h2>Сложности с самоотчетом</h2>\\r\\n\\r\\n<p>Попытки лечения депрессии с помощью DBS до сих пор имели ограниченный успех: в двух исследованиях <a target=\"_blank\"  href=\"https://doi.org/10.1016%2FS2215-0366%2817%2930371-1\">не удалось</a> <a target=\"_blank\"  href=\"https://doi.org/10.1016%2Fj.biopsych.2014.11.023\">продемонстрировать</a> преимущества по сравнению с плацебо. Одна из проблем заключалась в том, что для корректировки электрического напряжения медики вынуждены опираться исключительно на самоотчеты пациентов. В этом случае специалистам трудно отличить повседневные колебания настроения от патологической депрессии.</p>\\r\\n\\r\\n<h2>Модель анализирует показатели</h2>\\r\\n\\r\\n<p>Чтобы найти более успешный способ избавления от депрессии, исследователи <a target=\"_blank\"  href=\"https://www.nature.com/articles/d41586-023-02979-7\">разработали</a> новое устройство для DBS. Оно включает в себя стандартные электроды для стимуляции, а также новые датчики для измерения активности мозга. Ученые имплантировали аппарат в поясную кору (область мозга, играющую роль в регуляции эмоционального поведения) десяти человекам&nbsp;с депрессией, которая не поддавалась никаким методам лечения.</p>\\r\\n\\r\\n<p>Для выявления паттернов медики использовали модель ИИ, которая была обучена на записях мозга добровольцев в начале и в конце <a target=\"_blank\"  href=\"https://www.nature.com/articles/d41586-023-02979-7\">исследования</a>. Она выявила отчетливое изменение нейронной активности, которое позволило отличить депрессию от выздоровления с точностью более 90%.</p>\\r\\n\\r\\n<p>                <div class=\"article__clear\"></div>\\n\\n    \\n<div class=\"article__inline-item\">\\n    \\n        \\n            <a href=\"https://trends.rbc.ru/trends/industry/6177dadf9a794718fa34e7fb\" class=\"article__inline-item__image\">\\n                                        \\n                        \\n            <img\\n                src=\"https://s0.rbk.ru/v6_top_pics/resized/340x212_crop/media/img/9/80/756353487550809.jpg\"\\n                loading=\"lazy\"\\n                class=\"article__inline-item__image__image g-aspect-ratio g-aspect-ratio_16_10\" alt=\"Фото:Unsplash\"\\n                width=\"340\"\\n                height=\"212\"\\n            />\\n                    </a>\\n        <div class=\"article__inline-item__text\">\\n        <a href=\"https://trends.rbc.ru/trends/industry\" class=\"article__inline-item__category\">Индустрия 4.0</a>\\n        <a href=\"https://trends.rbc.ru/trends/industry/6177dadf9a794718fa34e7fb\" class=\"article__inline-item__title\">\\n            Как современная медицина борется с депрессией: 8 инновационных методов\\n        </a>\\n    </div>\\n</div>\\n    </p>\\r\\n\\r\\n<h2>Предотвращение рецидива</h2>\\r\\n\\r\\n<p>После 24 недель стимуляции у девяти из десяти участников наблюдалось значительное улучшение симптомов, а состояние семи человек соответствовало критериям ремиссии заболевания.</p>\\r\\n\\r\\n<p>Один из добровольцев в течение четырех месяцев позитивно реагировал на лечение, но затем произошел рецидив. Проанализировав данные записи мозга этого участника, исследователи обнаружили, что сигнал &laquo;выздоровления&raquo; исчез за месяц до ухудшения состояния. Если&nbsp;бы врачи располагали этими данными во время лечения, они могли&nbsp;бы изменить режим стимуляции и предотвратить рецидив.</p>\\r\\n\\r\\n<h2>Не только электроды</h2>\\r\\n\\r\\n<p>Исследователи поставили перед собой новую цель&nbsp;&mdash; не только подтвердить подход на большем количестве людей, но и изучить биологию того, что представляет собой модель мозга, способствующая выздоровлению. Ученые уже проводят дополнительные испытания обновленного устройства для проведения DBS.</p>\\r\\n\\r\\n<p>По словам Хольцхаймера, эти результаты могут иметь значение не только для метода глубокой стимуляции мозга. Не все люди с тяжелой депрессией захотят вживлять себе в голову электрод. Однако анализ сигналов мозга с помощью ИИ поможет и тем, кто лечится с помощью других методов.</p>\\n                            </div>\\n                        \\n                                            </div>\\n                \\n                                    \\n                    <div class=\"atricle__date-update\">\\n    Обновлено 20.10.2023\\n</div>                \\n                                                <div class=\"article__authors\">\\n                            <div class=\"article__authors__row\">\\n                        <div class=\"article__authors__name\">Текст</div>\\n                                            <div class=\"article__authors__author__wrap\">\\n                                                                                        <span class=\"article__authors__author\">\\n                                    <span class=\"article__authors__author__name\">Семен Башкиров</span>\\n                                </span>\\n                                                    </div>\\n                                    </div>\\n            \\n                    </div>\\n    \\n                    \\n                                        <div class=\"article__tags\">\\n        <div class=\"article__tags__container\">\\n            \\n                            <a href=\"https://trends.rbc.ru/trends/tag/ai\" class=\"article__tags__item\">Искусственный интеллект</a>\\n                            <a href=\"https://trends.rbc.ru/trends/tag/neural_network\" class=\"article__tags__item\">Нейросети</a>\\n                            <a href=\"https://trends.rbc.ru/trends/tag/issledovaniia-i-doklady\" class=\"article__tags__item\">Исследования и доклады</a>\\n            \\n                    </div>\\n    </div>\\n                \\n                                    <div class=\"article__share js-social-likes\">\\n    <div class=\"social-likes social-likes_notext\" data-counters=\"no\"\\n    data-title=\"Как модель искусственного интеллекта поможет в лечении депрессии\"    data-url=\"https://trends.rbc.ru/trends/industry/65327bc69a7947399939b243\"    >\\n                        <div class=\"vkontakte\" title=\"Поделиться ссылкой во Вконтакте\"></div>\\n                            <div class=\"odnoklassniki\" title=\"Поделиться ссылкой в Одноклассниках\"></div>\\n                                    </div>\\n</div>                            </div>\\n        </article>\\n                            <div class=\"l-base__col__right-b\">\\n                                                                                        <div class=\"g-desktop-visible\">\\n                                \\n    <footer class=\"right__major\">\\n        <div class=\"right__title\">Главное в&nbsp;тренде</div>\\n        <div class=\"right__major__list\">\\n                            <div class=\"right__major__item\">\\n                    <a href=\"https://trends.rbc.ru/trends/industry/64c7d5559a7947769fe9ca44\" class=\"right__major__link js-yandex-counter\" data-yandex-name=\"industry_materials_main_click\"  data-yandex-show=\"industry_materials_main_show\">\\n                                                                            <span class=\"right__major__image\">\\n                                                                                                    \\n                                                                                                                                    \\n                                \\n\\n            \\n        \\n                                \\n                                                    \\n                \\n        \\n            \\n                                    \\n                                \\n                    \\n        \\n                \\n                                                                \\n                \\n                                                                                \\n                            \\n                                \\n                                \\n                                                    \\n                                                                \\n                                                                            \\n                                                                                                                                            \\n                                                        \\n        \\n\\n\\n<picture class=\"smart-image\">\\n                    \\n                                                            \\n                            <!-- webp ratio resize for 320px and 2 ratio -->\\n                <source\\n                        srcset=\"https://s0.rbk.ru/v6_top_pics/resized/640xH/media/img/7/64/346908189677647.webp 640w\"\\n                        type=\"image/webp\"\\n                        media=\"(-webkit-min-device-pixel-ratio: 2), (min-resolution: 192dpi)\"\\n                />\\n                                        <!-- ratio resize for 320px and 2 ratio -->\\n                <source\\n                        srcset=\"https://s0.rbk.ru/v6_top_pics/resized/640xH/media/img/7/64/346908189677647.jpeg 640w\"\\n                        media=\"(-webkit-min-device-pixel-ratio: 2), (min-resolution: 192dpi)\"\\n                />\\n                    \\n                    <!-- webp resize for 320px -->\\n            <source\\n                    srcset=\"https://s0.rbk.ru/v6_top_pics/resized/320xH/media/img/7/64/346908189677647.webp 320w\"\\n                    type=\"image/webp\"\\n                                />\\n                <!-- resize for 320px -->\\n        <source\\n                srcset=\"https://s0.rbk.ru/v6_top_pics/resized/320xH/media/img/7/64/346908189677647.jpeg 320w\"\\n                        />\\n    \\n    \\n        \\n    <!-- original size -->\\n            <source srcset=\"https://s0.rbk.ru/v6_top_pics/media/img/7/64/346908189677647.webp\" type=\"image/webp\" />\\n        <img src=\"https://s0.rbk.ru/v6_top_pics/media/img/7/64/346908189677647.jpeg\"\\n        width=\"1376\"        height=\"860\"        alt=\"\"\\n                    loading=\"lazy\"\\n                class=\"right__major__image__image smart-image__img\"\\n         />\\n    </picture>\\n                            </span>\\n                                                <span class=\"right__major__title right__major__title_big\">Без руля и педалей: как устроены современные роботакси</span>\\n                    </a>\\n                                    </div>\\n                            <div class=\"right__major__item\">\\n                    <a href=\"https://trends.rbc.ru/trends/industry/60e4014c9a7947816217cac1\" class=\"right__major__link js-yandex-counter\" data-yandex-name=\"industry_materials_main_click\" >\\n                                                                        <span class=\"right__major__title\">Цифровой рубль: что это, зачем его запускают и как он будет работать</span>\\n                    </a>\\n                                    </div>\\n                            <div class=\"right__major__item\">\\n                    <a href=\"https://trends.rbc.ru/trends/industry/6135a3a89a7947010e474d55\" class=\"right__major__link js-yandex-counter\" data-yandex-name=\"industry_materials_main_click\" >\\n                                                                        <span class=\"right__major__title\">Смогут\\xa0ли дирижабли вновь завоевать небо</span>\\n                    </a>\\n                                    </div>\\n                    </div>\\n    </footer>\\n\\n                            </div>\\n                                                                <div class=\"l-base__sticky\">\\n                        \\n                                                                                    \\n    <footer class=\"right__readmore\">\\n        <div class=\"right__title\">Материалы по&nbsp;теме</div>\\n        <div class=\"right__readmore__slider\">\\n                            <div class=\"right__readmore__item right__readmore__item_card\">\\n                    <a href=\"https://trends.rbc.ru/trends/industry/61f1c8c79a79473df389b264\" class=\"right__readmore__link js-yandex-counter\" data-yandex-name=\"industry_materials_readmore_click\"  data-yandex-show=\"industry_materials_readmore_show\">\\n                        <span class=\"right__readmore__image\">\\n                                                                                        \\n                                                                                                                                            \\n                                                                                                                                                    \\n                                    <img src=\"https://s0.rbk.ru/v6_top_pics/resized/600x375_crop/media/img/1/82/756432359688821.jpg\" loading=\"lazy\" alt=\"Фото:Unsplash\" class=\"right__readmore__image__image g-image\" width=\"1200\" height=\"750\"/>\\n                                                    </span>\\n                        <span  class=\"right__readmore__title\">Пять главных трендов машинного обучения по версии Google</span>\\n                    </a>\\n                </div>\\n                            <div class=\"right__readmore__item\">\\n                    <a href=\"https://trends.rbc.ru/trends/industry/61e944c09a794700acd17549\" class=\"right__readmore__link js-yandex-counter\" data-yandex-name=\"industry_materials_readmore_click\" >\\n                        <span class=\"right__readmore__image\">\\n                                                                                        \\n                                                                                                                                            \\n                                                                                                                                                    \\n                                    <img src=\"https://s0.rbk.ru/v6_top_pics/resized/600x375_crop/media/img/1/30/756426775752301.jpg\" loading=\"lazy\" alt=\"Фото:Pexels\" class=\"right__readmore__image__image g-image\" width=\"1200\" height=\"750\"/>\\n                                                    </span>\\n                        <span  class=\"right__readmore__title\">Ученые смогли по сетчатке глаза определить риск ранней смерти человека</span>\\n                    </a>\\n                </div>\\n                            <div class=\"right__readmore__item\">\\n                    <a href=\"https://trends.rbc.ru/trends/industry/618063cc9a79479dd33049fd\" class=\"right__readmore__link js-yandex-counter\" data-yandex-name=\"industry_materials_readmore_click\" >\\n                        <span class=\"right__readmore__image\">\\n                                                                                        \\n                                                                                                                                            \\n                                                                                                                                                    \\n                                    <img src=\"https://s0.rbk.ru/v6_top_pics/resized/600x375_crop/media/img/6/60/756358590820606.jpg\" loading=\"lazy\" alt=\"Фото:Pexels\" class=\"right__readmore__image__image g-image\" width=\"1200\" height=\"750\"/>\\n                                                    </span>\\n                        <span  class=\"right__readmore__title\">Ученые доказали влияние системы штрафов на точность прогнозов нейросети</span>\\n                    </a>\\n                </div>\\n                    </div>\\n    </footer>\\n\\n                                                    \\n                                                    <aside class=\"right__oprosso\">\\n        <div class=\"right__oprosso__title\">\\n            Помогите нам стать лучше\\n        </div>\\n        <div class=\"right__oprosso__description\">\\n            Пока мы&nbsp;изучаем для вас новые тренды, поделитесь впечатлениями о&nbsp;прочитанном\\n        </div>\\n        <a href=\"https://oprosso.net/p/JPhdxetnbv2psf2iu\" class=\"right__oprosso__button\" target=\"_blank\">Пройти опрос</a>\\n    </aside>\\n\\n                                            </div>\\n                            </div>\\n            </div>\\n\\n                            </div>\\n            </div>\\n\\n    <div class=\"js-rbcslider-footer g-banner__news-footer g-relative\">\\n                        <div class=\"js-rbcslider-multy-news\"></div>\\n            </div>\\n\\n    </div>\\n            </div>\\n                                                </div>\\n                                <div class=\"js-social-onboarding-widget\" data-endpoint=\"/trends/ajax/social-networks/trends_onboarding_static\"></div>\\n                    </div>\\n\\n                                                                </div>\\n\\n                    </div><!-- .l-window -->\\n    \\n        </main>\\n        <footer class=\"footer\">\\n    <div class=\"footer__inner l-window\">\\n        <div class=\"footer__row footer__row_top\">\\n            <div class=\"footer__menu footer__menu_first\">\\n                <div class=\"footer__about\">\\n                    <div class=\"footer__about__logo\">\\n                        <a href=\"https://www.rbc.ru/\" class=\"footer__about__logo__link\">РБК</a>\\n                        <a href=\"/trends/\" class=\"footer__about__logo__link footer__about__logo__link_home\">Тренды</a>\\n                    </div>\\n                    <div class=\"footer__about__text\">\\n                        Рассказываем о&nbsp;трендах в&nbsp;экономике, бизнесе, технологиях и&nbsp;обществе, которые прямо сейчас меняют нашу жизнь\\n                    </div>\\n                    <a href=\"https://trends.rbc.ru/trends/social/61f162f09a79471cfba0de6c\" class=\"footer__about__link\">О&nbsp;проекте</a>\\n                </div>\\n\\n                \\n                                \\n                                                        \\n                                                                            \\n                                                                            \\n                    \\n                                                    <div class=\"footer__rzd-label\">\\n                                <a href=\"https://www.rzd.ru/?erid=4CQwVszH9pUnKASfx2U\" class=\"footer__rzd-label__link\" target=\"_blank\">\\n                                    <img src=\"//s.rbk.ru/v4_trends_static/trends-4.0.73/styles/blocks/footer/images/rzd.svg\" class=\"footer__rzd-label__image\" alt=\"20 лет РЖД\" />\\n                                </a>\\n                            </div>\\n                        \\n                                    \\n                \\n            </div>\\n            <div class=\"footer__menu\">\\n                <div class=\"footer__menu__title\">Тренды</div>\\n                                    <a href=\"https://trends.rbc.ru/trends/social\" class=\"footer__menu__link\">Общество</a>\\n                                    <a href=\"https://trends.rbc.ru/trends/futurology\" class=\"footer__menu__link\">Футурология</a>\\n                                    <a href=\"https://trends.rbc.ru/trends/sharing\" class=\"footer__menu__link\">Шеринг</a>\\n                                    <a href=\"https://trends.rbc.ru/trends/industry\" class=\"footer__menu__link\">Индустрия 4.0</a>\\n                                    <a href=\"https://trends.rbc.ru/trends/education\" class=\"footer__menu__link\">Образование</a>\\n                                    <a href=\"https://trends.rbc.ru/trends/innovation\" class=\"footer__menu__link\">Инновации</a>\\n                                    <a href=\"https://trends.rbc.ru/trends/green\" class=\"footer__menu__link\">Эко-номика</a>\\n                            </div>\\n            <div class=\"footer__menu\">\\n                <div class=\"footer__menu__title\">Подписки</div>\\n                                    \\n                    \\n                                                                \\n                                            <a href=\"https://pro.rbc.ru/rbcoffer/comfort_email_news?utm_source=trends.rbc.ru/trends&amp;utm_medium=inhouse_media&amp;utm_campaign=rbc_comfort&amp;utm_term=footer\" class=\"footer__menu__link\" target=\"_blank\">\\n                            РБК Comfort\\n                        </a>\\n                                            <a href=\"https://pro.rbc.ru/offers?utm_source=trends.rbc.ru/trends&amp;utm_medium=inhouse_media&amp;utm_campaign=rbc_pro&amp;utm_term=footer&amp;from=footer\" class=\"footer__menu__link\" target=\"_blank\">\\n                            РБК Pro\\n                        </a>\\n                                                </div>\\n            <div class=\"footer__menu\">\\n                <div class=\"footer__menu__title\">Подписаться</div>\\n                                    <a href=\"https://t.me/rbc_trends\" target=\"_blank\" class=\"footer__menu__link\">Telegram</a>\\n                                    <a href=\"https://vk.com/rbc_trends\" target=\"_blank\" class=\"footer__menu__link\">ВКонтакте</a>\\n                                    <a href=\"https://www.youtube.com/channel/UCr0sFcTJoJVI01erYEi2bNw\" target=\"_blank\" class=\"footer__menu__link\">YouTube</a>\\n                                    <a href=\"https://zen.yandex.ru/rbc_trends\" target=\"_blank\" class=\"footer__menu__link\">«Яндекс.Дзен»</a>\\n                            </div>\\n        </div>\\n        <div class=\"footer__row footer__row_bottom\">\\n            <div class=\"footer__info\">\\n                <div class=\"footer__info__text\">\\n                    <p>©\\xa0АО\\xa0«РОСБИЗНЕСКОНСАЛТИНГ», 1995–2023\\n                        <br>\\n                        Сообщения и&nbsp;материалы сетевого издания &laquo;РБК&raquo; (зарегистрировано Федеральной службой по&nbsp;надзору в&nbsp;сфере связи, информационных технологий и&nbsp;массовых коммуникаций (Роскомнадзор) 03.12.2021 за&nbsp;номером ЭЛ&nbsp;&#8470;ФС77-82385) сопровождаются пометкой &laquo;РБК&raquo;. <span class=\"footer__info__text-adult\">18+</span> <a href=\"mailto:letters@rbc.ru\" class=\"footer__info__mail\">letters@rbc.ru</a>\\n                    </p>\\n                    <p class=\"g-desktop-visible\">\\n                        Нашли ошибку?\\n                        <br>Выделите ее&nbsp;и&nbsp;нажмите Ctrl+Enter\\n                    </p>\\n                </div>\\n                <div class=\"footer__info__menu\">\\n                    <a href=\"https://www.rbc.ru/restrictions/\" class=\"footer__info__menu__link\">Информация об&nbsp;ограничениях</a>\\n                    <a href=\"https://www.rbc.ru/info/\" class=\"footer__info__menu__link\">Правовая информация</a>\\n                    <a href=\"http://www.rbc.ru/privacy/\" class=\"footer__info__menu__link\">О&nbsp;соблюдении авторских прав</a>\\n                </div>\\n            </div>\\n        </div>\\n    </div>\\n</footer>\\n\\n\\n    \\n                \\n<div class=\"bottom-menu js-bottom-menu\">\\n    <div class=\"bottom-menu__nav l-window\">\\n        <a href=\"/trends?from=mainnews_bar\" class=\"bottom-menu__nav__link bottom-menu__nav__link_home\">Главная</a>\\n        <a href=\"/trends/short_news?from=newsfeed_bar\" class=\"bottom-menu__nav__link bottom-menu__nav__link_news\">Лента</a>\\n        <a href=\"#\" class=\"bottom-menu__nav__link bottom-menu__nav__link_social js-bottom-menu-popup-link\" data-type=\"social\">Подписаться</a>\\n                    <a href=\"#\" class=\"bottom-menu__nav__link bottom-menu__nav__link_share js-bottom-menu-popup-link\" data-type=\"share\">Поделиться</a>\\n            </div>\\n    <div class=\"bottom-menu__popup js-bottom-menu-popup\">\\n    <div class=\"bottom-menu__popup__inner l-window\">\\n        <div class=\"bottom-menu__popup__content js-bottom-menu-popup-content\" data-type=\"social\">\\n            <div class=\"bottom-menu__social\">\\n                                    <a href=\"https://t.me/rbc_trends\" target=\"_blank\" class=\"bottom-menu__popup__social__link\">\\n                        <span class=\"bottom-menu__popup__social__link__icon\">\\n                                                            <img src=\"https://s0.rbk.ru/v6_top_pics/resized/Wx80/media/img/3/41/756152823169413.png\"\\n          loading=\"lazy\"     class=\"bottom-menu__popup__social__link__icon__image\"     alt=\"\" />\\n                                                    </span>\\n                        Telegram\\n                    </a>\\n                                    <a href=\"https://vk.com/rbc_trends\" target=\"_blank\" class=\"bottom-menu__popup__social__link\">\\n                        <span class=\"bottom-menu__popup__social__link__icon\">\\n                                                            <img src=\"https://s0.rbk.ru/v6_top_pics/resized/Wx80/media/img/5/79/756152823045795.png\"\\n          loading=\"lazy\"     class=\"bottom-menu__popup__social__link__icon__image\"     alt=\"\" />\\n                                                    </span>\\n                        ВКонтакте\\n                    </a>\\n                                    <a href=\"https://www.youtube.com/channel/UCr0sFcTJoJVI01erYEi2bNw\" target=\"_blank\" class=\"bottom-menu__popup__social__link\">\\n                        <span class=\"bottom-menu__popup__social__link__icon\">\\n                                                            <img src=\"https://s0.rbk.ru/v6_top_pics/resized/Wx80/media/img/4/35/756152821394354.png\"\\n          loading=\"lazy\"     class=\"bottom-menu__popup__social__link__icon__image\"     alt=\"\" />\\n                                                    </span>\\n                        YouTube\\n                    </a>\\n                                    <a href=\"https://zen.yandex.ru/rbc_trends\" target=\"_blank\" class=\"bottom-menu__popup__social__link\">\\n                        <span class=\"bottom-menu__popup__social__link__icon\">\\n                                                            <img src=\"https://s0.rbk.ru/v6_top_pics/media/img/4/55/755924101431554.svg\" class=\"bottom-menu__popup__social__link__icon__image\" alt=\"\"/>\\n                                                    </span>\\n                        «Яндекс.Дзен»\\n                    </a>\\n                \\n            </div>\\n        </div>\\n                    <div class=\"bottom-menu__popup__content js-bottom-menu-popup-content\" data-type=\"share\">\\n                <div class=\"social-likes social-likes_popup social-likes__activate-no js-bottom-menu-social\" data-counters=\"no\"\\n            >\\n                                    <div class=\"vkontakte\">Вконтакте</div>\\n                    <div class=\"odnoklassniki\">Одноклассники</div>\\n            </div>\\n            </div>\\n                <span class=\"bottom-menu__popup__close js-bottom-menu-popup-close\">Закрыть</span>\\n    </div>\\n</div></div>\\n                <div id=\"id_ra_overlay\" class=\"page-overlay\"></div>    \\n    \\n    <div class=\"g-zeropixel\">\\n        \\n                        <script>RA.config.set(\\'counters.ya.idCounter\\', \\'54873298\\');</script>\\n\\n<!-- Yandex.Metrika counter -->\\n<script type=\"text/javascript\" >\\n    (function(m,e,t,r,i,k,a){m[i]=m[i]||function()\\n\\n    {(m[i].a=m[i].a||[]).push(arguments)}\\n    ;\\n        m[i].l=1*new Date();k=e.createElement(t),a=e.getElementsByTagName(t)[0],k.async=1,k.src=r,a.parentNode.insertBefore(k,a)})\\n    (window, document, \"script\", \"https://mc.yandex.ru/metrika/tag.js\", \"ym\");\\n\\n    ym(54873298, \"init\",\\n\\n        { clickmap:true, trackLinks:true, accurateTrackBounce:true }\\n    );\\n</script>\\n<noscript><div><img src=\"https://mc.yandex.ru/watch/54873298\" style=\"position:absolute; left:-9999px;\" alt=\"\" loading=\"lazy\" /></div></noscript>\\n<!-- /Yandex.Metrika counter -->\\n                            <!-- Tracking page views in infinity for UA-8487723-7 -->\\n<script>\\n    RA.config.set(\\'counters.ga.mediaPrefix\\', \\'shared\\');\\n</script>\\n\\n<script type=\"text/javascript\">\\n    (function(i,s,o,g,r,a,m){i[\\'GoogleAnalyticsObject\\']=r;i[r]=i[r]||function(){\\n        (i[r].q=i[r].q||[]).push(arguments)},i[r].l=1*new Date();a=s.createElement(o),\\n        m=s.getElementsByTagName(o)[0];a.async=1;a.src=g;m.parentNode.insertBefore(a,m)\\n    })(window,document,\\'script\\',\\'//www.google-analytics.com/analytics.js\\',\\'ga\\');\\n\\n    ga(\\'create\\', \\'UA-145454446-1\\', \\'auto\\');\\n    ga(\\'create\\', \\'UA-8487723-7\\', \\'auto\\', {\\'name\\': \\'shared\\'});\\n    ga(\\'send\\', \\'pageview\\');\\n    ga(\\'shared.send\\', \\'pageview\\');\\n    var scrollTop = 0;\\n\\n    window.onscroll = function(){\\n        scrollTop = window.pageYOffset || document.documentElement.scrollTop;\\n        if (scrollTop + document.documentElement.clientHeight >= document.documentElement.scrollHeight) {\\n            ga(\\'send\\', \\'event\\', \\'RBC|TRENDS\\', \\'ScrollENDpage\\');\\n        }\\n    };\\n</script>\\n<!-- /google analytics -->\\n                                    \\n                        \\n                            <!-- weborama -->\\n<script type=\\'text/javascript\\'>\\n  var wamid = \\'2641\\'; /* Wam Account ID  */\\n  var typ = \\'3\\';\\n  var Wvar=[];\\n  Wvar.push(\"domain\",location.host);\\n\\n  (function() {\\n    var bs = new Image(1, 1);\\n    bs.src = \\'https://dx.frontend.weborama.com/collect?touchpoint=0&url=\\' + escape(document.location);\\n  })();\\n\\n  // include the wamfactory wildcard js\\n  (function() {\\n    var w = document.createElement(\"script\");\\n    w.type = \"text/javascript\";\\n    w.src = document.location.protocol + \"//cstatic.weborama.fr/js/wam/customers/wamfactory_dpm.wildcard.min.js?rnd=\"+new Date().getTime();\\n    w.async = true;\\n    var body = document.getElementsByTagName(\\'script\\')[0];\\n    body.parentNode.insertBefore(w,body);\\n  })();\\n</script>\\n<!-- /weborama -->\\n                                        <!-- SMI2 pixel -->\\n<script type=\"text/javascript\">\\n    var ttagsmi2_data = {\\n        tag: 20300,\\n        ver: 2,\\n        format: \\'pixel\\',\\n        cdt: \\'2016-12-22 12:59:14\\'\\n    };\\n    (function() {\\n        var sc = document.createElement(\\'script\\');\\n        sc.type = \\'text/javascript\\';\\n        sc.async = true;\\n        sc.src = \\'//target.smi2.net/client/ttag.js\\';\\n        var s = document.getElementsByTagName(\\'script\\')[0];\\n        s.parentNode.insertBefore(sc, s);\\n    }());\\n</script>\\n<!-- / SMI2 pixel -->\\n                \\n\\n\\n<!-- Mindbox -->\\n<script>\\n    mindbox = window.mindbox || function() { mindbox.queue.push(arguments); };\\n    mindbox.queue = mindbox.queue || [];\\n    mindbox(\\'create\\', {\\n        endpointId: \\'Rbc.Trends\\'\\n    });\\n</script>\\n<script src=\"https://api.mindbox.ru/scripts/v1/tracker.modern.js\" async></script>\\n<!-- end Mindbox -->\\n                                        <!--LiveInternet counter--><script type=\"text/javascript\">\\nnew Image().src = \"//counter.yadro.ru/hit;RBCRU?r\"+\\nescape(document.referrer)+((typeof(screen)==\"undefined\")?\"\":\\n\";s\"+screen.width+\"*\"+screen.height+\"*\"+(screen.colorDepth?\\nscreen.colorDepth:screen.pixelDepth))+\";u\"+escape(document.URL)+\\n\";h\"+escape(document.title.substring(0,150))+\\n\";\"+Math.random();</script><!--/LiveInternet-->\\n                <!-- Top.Mail.Ru counter -->\\n<script type=\"text/javascript\">\\n    var _tmr = window._tmr || (window._tmr = []);\\n    _tmr.push({\\n        id: \"3214695\",\\n        type: \"pageView\",\\n        start: (new Date()).getTime()\\n    });\\n    (function (d, w, id) {\\n      if (d.getElementById(id)) return;\\n      var ts = d.createElement(\"script\");\\n      ts.type = \"text/javascript\";\\n      ts.async = true;\\n      ts.id = id;\\n      ts.src = \"https://top-fwz1.mail.ru/js/code.js\";\\n      var f = function () {\\n          var s = d.getElementsByTagName(\"script\")[0]; s.parentNode.insertBefore(ts, s);\\n      };\\n      if (w.opera == \"[object Opera]\") {\\n          d.addEventListener(\"DOMContentLoaded\", f, false);\\n      } else {\\n          f();\\n      }\\n    })(document, window, \"tmr-code\");\\n</script>\\n<noscript>\\n    <div>\\n        <img src=\"https://top-fwz1.mail.ru/counter?id=3214695;js=na\" style=\"position:absolute;left:-9999px;\" alt=\"Top.Mail.Ru\" />\\n    </div>\\n</noscript>\\n<!-- /Top.Mail.Ru counter -->                        \\n        \\n    </div>\\n\\n    \\n                \\n                        <script type=\"text/javascript\" charset=\"utf-8\">\\n    if (!window.smi2ids) {\\n        // если будет больше id, нужно будет учесть в скрипте\\n        window.smi2ids = [101450, 96099];\\n    }\\n</script>\\n    \\n            <script>\\n    RA.config.set(\\'domainAuth\\', \\'https://auth.rbc.ru\\');\\n    RA.config.set(\\'domainApigw\\', \\'https://apigw.rbc.ru\\');\\n    RA.config.set(\\'paywall.staticPath\\', \\'//s.rbk.ru/v2_paywall_static/paywall-2.1.166/\\');\\n</script>\\n<script src=\"//s.rbk.ru/v2_paywall_static/paywall-2.1.166/scripts/build/_paywall.js\"></script>\\n\\n    \\n            <script id=\"js_common_script\" src=\"//s.rbk.ru/v4_trends_static/common/common-10.10.93/scripts/build/_common.js\" data-param=\"0\"></script>\\n    \\n                <script src=\"//s.rbk.ru/v4_trends_static/common/common-10.10.93/scripts/build/_main.js\"></script>\\n            <script src=\"//s.rbk.ru/v4_trends_static/trends-4.0.73/scripts/build/_main.js\"></script>\\n        <script src=\"//s.rbk.ru/v4_trends_static/trends-4.0.73/scripts/build/_news.js\"></script>\\n\\n    \\n                                <script>\\n    window.__infoservice_build_type = \\'production\\';\\n    window.__infoservice_static_path = \\'//s.rbk.ru/v4_trends_static/info-service/1.4.20/\\';\\n    window.__infoservice_service_path = \\'/info-service/api/v2/ev/\\';\\n</script>\\n\\n<script id=\"js_rm_core_script\" src=\"//s.rbk.ru/v4_trends_static/info-service/1.4.20/build/_core.js\" async></script>\\n<noscript><img src=\"/info-service/api/v2/noscripts\" loading=\"eager\" alt=\"\" style=\"border:0; position:absolute; left:-9999px;\"></noscript>\\n\\n\\n\\n            \\n                \\n    \\n    \\n    <!--AB:  -->\\n    <!-- NoVideo: off -->\\n</body>\\n</html>\\n'"
      ]
     },
     "execution_count": 6,
     "metadata": {},
     "output_type": "execute_result"
    }
   ],
   "source": [
    "article.html"
   ]
  },
  {
   "cell_type": "markdown",
   "id": "ab16c946",
   "metadata": {},
   "source": [
    "Окей! Получили html нашей новости. Пока это ничем не отличается от работы с библиотекой `requests`. Обычно мы бы загрузили эту html-страницу в `BeautifulSoup` и искали бы по тегам автора, заголовок и т.д. Но библиотека `newspaper3k` сильно облегчает эту задачу.\n",
    "\n",
    "Нам нужно использовать метод `.parse()`, который проанализирует html-код и найдет главные атрибуты новостной статьи: \n",
    "* Заголовок (`.title`)\n",
    "* Автора (`.authors`)\n",
    "* Дата публикации (`.publish_date`)\n",
    "* Текст статьи (`.text`)\n",
    "* Изображения в новости (`.top_image` (первое изображение на странице), `.images` (множество ссылок на все изображения))\n",
    "* Видео в новости (`.movies`)"
   ]
  },
  {
   "cell_type": "code",
   "execution_count": 7,
   "id": "dba5136e",
   "metadata": {},
   "outputs": [],
   "source": [
    "article.parse()"
   ]
  },
  {
   "cell_type": "code",
   "execution_count": 8,
   "id": "4cb62df8",
   "metadata": {},
   "outputs": [
    {
     "name": "stdout",
     "output_type": "stream",
     "text": [
      "Как модель искусственного интеллекта поможет в лечении депрессии\n"
     ]
    }
   ],
   "source": [
    "print(article.title) # заголовок есть"
   ]
  },
  {
   "cell_type": "code",
   "execution_count": 9,
   "id": "de4eb69d",
   "metadata": {},
   "outputs": [
    {
     "name": "stdout",
     "output_type": "stream",
     "text": [
      "['Фото', 'Семен Башкиров']\n"
     ]
    }
   ],
   "source": [
    "print(article.authors) # авторами библиотека посчитала еще и слово \"Фото\" (связано с версткой сайта и html-тегами)\n",
    "                        # но автора определила верно"
   ]
  },
  {
   "cell_type": "code",
   "execution_count": 10,
   "id": "47dadcff",
   "metadata": {},
   "outputs": [
    {
     "name": "stdout",
     "output_type": "stream",
     "text": [
      "None\n"
     ]
    }
   ],
   "source": [
    "print(article.publish_date) # а вот даты публикации на странице действительно нет"
   ]
  },
  {
   "cell_type": "code",
   "execution_count": 11,
   "id": "ed956f8c",
   "metadata": {},
   "outputs": [
    {
     "name": "stdout",
     "output_type": "stream",
     "text": [
      "Американские ученые провели успешные испытания модели ИИ, которая анализирует изменения в мозгу людей, лечащихся от депрессии. Результаты исследования могут значительно улучшить борьбу с ментальной проблемой\n",
      "\n",
      "А в чем тренд? Чтобы выявить потенциальные сердечно-сосудистые заболевания, доктора измеряют давление. Чтобы определить преддиабетное состояние — анализируют уровень инсулина. Однако в случае депрессии специалисты вынуждены полагаться на самоотчеты людей о симптомах. Это затрудняет объективную оценку. В сентябре 2023 года группа американских исследователей с помощью ИИ зафиксировала у людей, которые прошли курс глубокой стимуляции мозга (DBS), особый сигнал мозга, свидетельствовавший о выходе из депрессии. В рамках метода DBS вживленные в мозг электроды подают импульсы, которые меняют нейронную активность. По словам нейробиолога из Дартмутского колледжа Пола Хольцхаймера, если результаты будут воспроизведены на более крупной выборке, это может стать переломным моментом в лечении депрессии.\n",
      "\n",
      "Сложности с самоотчетом\n",
      "\n",
      "Попытки лечения депрессии с помощью DBS до сих пор имели ограниченный успех: в двух исследованиях не удалось продемонстрировать преимущества по сравнению с плацебо. Одна из проблем заключалась в том, что для корректировки электрического напряжения медики вынуждены опираться исключительно на самоотчеты пациентов. В этом случае специалистам трудно отличить повседневные колебания настроения от патологической депрессии.\n",
      "\n",
      "Модель анализирует показатели\n",
      "\n",
      "Чтобы найти более успешный способ избавления от депрессии, исследователи разработали новое устройство для DBS. Оно включает в себя стандартные электроды для стимуляции, а также новые датчики для измерения активности мозга. Ученые имплантировали аппарат в поясную кору (область мозга, играющую роль в регуляции эмоционального поведения) десяти человекам с депрессией, которая не поддавалась никаким методам лечения.\n",
      "\n",
      "Для выявления паттернов медики использовали модель ИИ, которая была обучена на записях мозга добровольцев в начале и в конце исследования. Она выявила отчетливое изменение нейронной активности, которое позволило отличить депрессию от выздоровления с точностью более 90%.\n",
      "\n",
      "Предотвращение рецидива\n",
      "\n",
      "После 24 недель стимуляции у девяти из десяти участников наблюдалось значительное улучшение симптомов, а состояние семи человек соответствовало критериям ремиссии заболевания.\n",
      "\n",
      "Один из добровольцев в течение четырех месяцев позитивно реагировал на лечение, но затем произошел рецидив. Проанализировав данные записи мозга этого участника, исследователи обнаружили, что сигнал «выздоровления» исчез за месяц до ухудшения состояния. Если бы врачи располагали этими данными во время лечения, они могли бы изменить режим стимуляции и предотвратить рецидив.\n",
      "\n",
      "Не только электроды\n",
      "\n",
      "Исследователи поставили перед собой новую цель — не только подтвердить подход на большем количестве людей, но и изучить биологию того, что представляет собой модель мозга, способствующая выздоровлению. Ученые уже проводят дополнительные испытания обновленного устройства для проведения DBS.\n",
      "\n",
      "По словам Хольцхаймера, эти результаты могут иметь значение не только для метода глубокой стимуляции мозга. Не все люди с тяжелой депрессией захотят вживлять себе в голову электрод. Однако анализ сигналов мозга с помощью ИИ поможет и тем, кто лечится с помощью других методов.\n"
     ]
    }
   ],
   "source": [
    "print(article.text) # весь текст статьи"
   ]
  },
  {
   "cell_type": "code",
   "execution_count": 12,
   "id": "32703dec",
   "metadata": {},
   "outputs": [
    {
     "name": "stdout",
     "output_type": "stream",
     "text": [
      "https://s0.rbk.ru/v6_top_pics/media/img/3/81/346978074330813.jpeg\n"
     ]
    }
   ],
   "source": [
    "print(article.top_image) # фотография из статьи"
   ]
  },
  {
   "cell_type": "code",
   "execution_count": 13,
   "id": "22e4ea07",
   "metadata": {},
   "outputs": [
    {
     "name": "stdout",
     "output_type": "stream",
     "text": [
      "{'https://s0.rbk.ru/v6_top_pics/media/img/7/64/346908189677647.jpeg', 'https://trends.rbc.ru/info-service/api/v2/noscripts', 'https://s0.rbk.ru/v6_top_pics/media/img/8/46/756105436203468.svg', 'https://s0.rbk.ru/v6_top_pics/media/img/4/55/755924101431554.svg', 'https://mc.yandex.ru/watch/54873298', 'https://s.rbk.ru/v4_trends_static/trends-4.0.73/styles/blocks/footer/images/rzd.svg', 'https://s0.rbk.ru/v6_top_pics/resized/600x375_crop/media/img/1/82/756432359688821.jpg', 'https://s0.rbk.ru/v6_top_pics/resized/340x212_crop/media/img/9/80/756353487550809.jpg', 'https://s0.rbk.ru/v6_top_pics/resized/600x375_crop/media/img/1/30/756426775752301.jpg', 'https://s0.rbk.ru/v6_top_pics/resized/600x375_crop/media/img/6/60/756358590820606.jpg', 'https://s0.rbk.ru/v6_top_pics/resized/Wx80/media/img/4/35/756152821394354.png', 'https://top-fwz1.mail.ru/counter?id=3214695;js=na', 'https://s0.rbk.ru/v6_top_pics/media/img/3/81/346978074330813.jpeg', 'https://s0.rbk.ru/v6_top_pics/resized/Wx80/media/img/5/79/756152823045795.png', 'https://s0.rbk.ru/v6_top_pics/resized/Wx80/media/img/3/41/756152823169413.png'}\n"
     ]
    }
   ],
   "source": [
    "print(article.images) # все фотографии, найденные на странице"
   ]
  },
  {
   "cell_type": "code",
   "execution_count": 14,
   "id": "cd46bb73",
   "metadata": {},
   "outputs": [
    {
     "name": "stdout",
     "output_type": "stream",
     "text": [
      "https://s0.rbk.ru/v6_top_pics/media/img/7/64/346908189677647.jpeg\n",
      "https://trends.rbc.ru/info-service/api/v2/noscripts\n",
      "https://s0.rbk.ru/v6_top_pics/media/img/8/46/756105436203468.svg\n",
      "https://s0.rbk.ru/v6_top_pics/media/img/4/55/755924101431554.svg\n",
      "https://mc.yandex.ru/watch/54873298\n",
      "https://s.rbk.ru/v4_trends_static/trends-4.0.73/styles/blocks/footer/images/rzd.svg\n",
      "https://s0.rbk.ru/v6_top_pics/resized/600x375_crop/media/img/1/82/756432359688821.jpg\n",
      "https://s0.rbk.ru/v6_top_pics/resized/340x212_crop/media/img/9/80/756353487550809.jpg\n",
      "https://s0.rbk.ru/v6_top_pics/resized/600x375_crop/media/img/1/30/756426775752301.jpg\n",
      "https://s0.rbk.ru/v6_top_pics/resized/600x375_crop/media/img/6/60/756358590820606.jpg\n",
      "https://s0.rbk.ru/v6_top_pics/resized/Wx80/media/img/4/35/756152821394354.png\n",
      "https://top-fwz1.mail.ru/counter?id=3214695;js=na\n",
      "https://s0.rbk.ru/v6_top_pics/media/img/3/81/346978074330813.jpeg\n",
      "https://s0.rbk.ru/v6_top_pics/resized/Wx80/media/img/5/79/756152823045795.png\n",
      "https://s0.rbk.ru/v6_top_pics/resized/Wx80/media/img/3/41/756152823169413.png\n"
     ]
    }
   ],
   "source": [
    "for img in article.images:\n",
    "    print(img) # видим, что сюда попали изображения в том числе лого и анонсов других статей"
   ]
  },
  {
   "cell_type": "code",
   "execution_count": 15,
   "id": "022c23ed",
   "metadata": {},
   "outputs": [
    {
     "name": "stdout",
     "output_type": "stream",
     "text": [
      "[]\n"
     ]
    }
   ],
   "source": [
    "print(article.movies) # видео в этой статье нет"
   ]
  },
  {
   "cell_type": "markdown",
   "id": "1b662735",
   "metadata": {},
   "source": [
    "Также мы можем вытащить метаданные.\n",
    "\n",
    "**Метаданные** – это данные о данных. \n",
    "\n",
    "Тег \\<head> в HTML-документе - это та часть, которая не отображается в браузере при загрузке страницы. Она содержит такую информацию, как <заголовок> страницы, ссылки на CSS (каскадные таблицы стилей – код, который используется для стилизации веб-страницы), ссылки на фавиконы и другие метаданные (данные о HTML, например, автор и важные ключевые слова, описывающие документ)."
   ]
  },
  {
   "cell_type": "code",
   "execution_count": 132,
   "id": "c9566fb3",
   "metadata": {},
   "outputs": [
    {
     "data": {
      "text/plain": [
       "defaultdict(dict,\n",
       "            {'viewport': 'width=device-width, initial-scale=1.0, user-scalable=no, minimum-scale=1.0, maximum-scale=1.0',\n",
       "             'HandheldFriendly': 'True',\n",
       "             'format-detection': 'address=no',\n",
       "             'title': 'Как модель искусственного интеллекта поможет в лечении депрессии | РБК Тренды',\n",
       "             'description': 'Американские ученые провели успешные испытания модели ИИ, которая анализирует изменения в мозгу людей, лечащихся от депрессии. Результаты исследования могут значительно улучшить борьбу с ментальной проблемой',\n",
       "             'copyright': '«РосБизнесКонсалтинг»',\n",
       "             'robots': 'max-image-preview:large',\n",
       "             'og': {'title': 'Как модель искусственного интеллекта поможет в лечении депрессии | РБК Тренды',\n",
       "              'type': 'article',\n",
       "              'url': 'https://trends.rbc.ru/trends/industry/65327bc69a7947399939b243',\n",
       "              'image': 'https://s0.rbk.ru/v6_top_pics/media/img/3/81/346978074330813.jpeg',\n",
       "              'description': 'Американские ученые провели успешные испытания модели ИИ, которая анализирует изменения в мозгу людей, лечащихся от депрессии. Результаты исследования могут значительно улучшить борьбу с ментальной проблемой',\n",
       "              'site_name': 'РБК Тренды',\n",
       "              'locale': 'ru_RU'},\n",
       "             'twitter': {'card': 'summary',\n",
       "              'site': '@ru_rbc',\n",
       "              'creator': '@ru_rbc',\n",
       "              'title': 'Как модель искусственного интеллекта поможет в лечении депрессии |',\n",
       "              'description': 'Американские ученые провели успешные испытания модели ИИ, которая анализирует изменения в мозгу людей, лечащихся от депрессии. Результаты исследования могут значительно улучшить борьбу с ментальной',\n",
       "              'image': 'https://s0.rbk.ru/v6_top_pics/media/img/3/81/346978074330813.jpeg'},\n",
       "             'yandex_recommendations_image': 'https://s0.rbk.ru/v6_top_pics/resized/1200xH/media/img/3/81/346978074330813.jpeg',\n",
       "             'yandex_recommendations_category': 'Тренды',\n",
       "             'yandex_recommendations_tag': 'exclude',\n",
       "             'msapplication-TileColor': '#ffffff',\n",
       "             'msapplication-TileImage': '//s.rbk.ru/v4_trends_static/common/common-10.10.90/images/mstile-144x144.png',\n",
       "             'msapplication-square70x70logo': '//s.rbk.ru/v4_trends_static/common/common-10.10.90/images/mstile-70x70.png',\n",
       "             'msapplication-square150x150logo': '//s.rbk.ru/v4_trends_static/common/common-10.10.90/images/mstile-150x150.png',\n",
       "             'msapplication-square310x310logo': '//s.rbk.ru/v4_trends_static/common/common-10.10.90/images/mstile-310x310.png',\n",
       "             'msapplication-wide310x150logo': '//s.rbk.ru/v4_trends_static/common/common-10.10.90/images/mstile-310x150.png',\n",
       "             'news_keywords': 'Депрессия, Стимуляция, Исследователь, Электрод, Самоотчёт, Состояние, Активность, Выздоровление, Устройство, Доброволец, Симптом, Специалист, Вынудить, Результат, Заболевание, Участник, Исследование, Глубокий, Нейронный, Анализировать'})"
      ]
     },
     "execution_count": 132,
     "metadata": {},
     "output_type": "execute_result"
    }
   ],
   "source": [
    "article.meta_data # это большой словарь"
   ]
  },
  {
   "cell_type": "code",
   "execution_count": 16,
   "id": "8341e5de",
   "metadata": {},
   "outputs": [
    {
     "name": "stdout",
     "output_type": "stream",
     "text": [
      "Американские ученые провели успешные испытания модели ИИ, которая анализирует изменения в мозгу людей, лечащихся от депрессии. Результаты исследования могут значительно улучшить борьбу с ментальной проблемой\n"
     ]
    }
   ],
   "source": [
    "print(article.meta_data['og']['description']) # например, описание статьи от авторов \n",
    "                                            # (используется для анонса ссылки в поисковых системах)"
   ]
  },
  {
   "cell_type": "markdown",
   "id": "47a264e1",
   "metadata": {},
   "source": [
    "## Обработка естественного языка в новостях"
   ]
  },
  {
   "cell_type": "markdown",
   "id": "82a50e35",
   "metadata": {},
   "source": [
    "Библиотека `newspaper3k` предлагает метод `.nlp()`, который обрабатывает новость и выделяет ключевые слова (атрибут `.keywords`) и краткую выжимку текста (атрибут `.summary`).\n",
    "\n",
    "Стоит отметить, что NLP в этой библиотеке достаточно плохо обрабатывает русский язык, но отлично справляется с английским."
   ]
  },
  {
   "cell_type": "code",
   "execution_count": 20,
   "id": "0df4e035",
   "metadata": {},
   "outputs": [],
   "source": [
    "article.nlp()"
   ]
  },
  {
   "cell_type": "code",
   "execution_count": 21,
   "id": "978857b9",
   "metadata": {},
   "outputs": [
    {
     "name": "stdout",
     "output_type": "stream",
     "text": [
      "['модель', 'интеллекта', 'ученые', 'искусственного', 'dbs', 'результаты', 'электроды', 'стимуляции', 'поможет', 'людей', 'мозга', 'помощью', 'депрессии', 'лечении', 'ии']\n"
     ]
    }
   ],
   "source": [
    "print(article.keywords) # ключевые слова действительно отражают нашу новость"
   ]
  },
  {
   "cell_type": "markdown",
   "id": "b456461f",
   "metadata": {},
   "source": [
    "Сравним ключевые слова с теми, которые авторы статьи промаркировали эту новость:"
   ]
  },
  {
   "cell_type": "code",
   "execution_count": 22,
   "id": "3031b573",
   "metadata": {},
   "outputs": [
    {
     "data": {
      "text/plain": [
       "'Депрессия, Стимуляция, Исследователь, Электрод, Самоотчёт, Состояние, Активность, Выздоровление, Устройство, Доброволец, Симптом, Специалист, Вынудить, Результат, Заболевание, Участник, Исследование, Глубокий, Нейронный, Анализировать'"
      ]
     },
     "execution_count": 22,
     "metadata": {},
     "output_type": "execute_result"
    }
   ],
   "source": [
    "article.meta_data['news_keywords']"
   ]
  },
  {
   "cell_type": "markdown",
   "id": "edc9e367",
   "metadata": {},
   "source": [
    "Слова отличаются. В том числе это связано с тем, что в метаданных ключевые слова прописывают для поисковых систем и SEO-оптимизации страницы, а не для того, чтобы описать смысл статьи (как в NLP)."
   ]
  },
  {
   "cell_type": "code",
   "execution_count": 23,
   "id": "0a2c9ba0",
   "metadata": {
    "scrolled": false
   },
   "outputs": [
    {
     "name": "stdout",
     "output_type": "stream",
     "text": [
      "Американские ученые провели успешные испытания модели ИИ, которая анализирует изменения в мозгу людей, лечащихся от депрессии.\n",
      "В сентябре 2023 года группа американских исследователей с помощью ИИ зафиксировала у людей, которые прошли курс глубокой стимуляции мозга (DBS), особый сигнал мозга, свидетельствовавший о выходе из депрессии.\n",
      "Сложности с самоотчетомПопытки лечения депрессии с помощью DBS до сих пор имели ограниченный успех: в двух исследованиях не удалось продемонстрировать преимущества по сравнению с плацебо.\n",
      "По словам Хольцхаймера, эти результаты могут иметь значение не только для метода глубокой стимуляции мозга.\n",
      "Однако анализ сигналов мозга с помощью ИИ поможет и тем, кто лечится с помощью других методов.\n"
     ]
    }
   ],
   "source": [
    "print(article.summary) # краткая выжимка тоже достаточно успешно отработала"
   ]
  },
  {
   "cell_type": "markdown",
   "id": "e38d687b",
   "metadata": {},
   "source": [
    "## Парсинг всех новостных статей на странице"
   ]
  },
  {
   "cell_type": "markdown",
   "id": "36839324",
   "metadata": {},
   "source": [
    "Мы посмотрели, как обработать одну новость. Но чаще всего нам нужно обработать большой массив данных.\n",
    "\n",
    "Для этого у библиотеки `newspaper3k` есть метод `.build()`, который самостоятельно найдет ссылки на новости."
   ]
  },
  {
   "cell_type": "code",
   "execution_count": 24,
   "id": "6d79a69e",
   "metadata": {},
   "outputs": [],
   "source": [
    "import newspaper # до этого мы работали только с одним классом в библиотеке, теперь будем работать \n",
    "                 # с несколькими функциями оттуда, поэтому импортируем всю библиотеку"
   ]
  },
  {
   "cell_type": "markdown",
   "id": "674f40bb",
   "metadata": {},
   "source": [
    "В этот раз поработаем с разделом РБК.Тренды «[Потратить](https://rbclife.ru/spend)» и проанализируем новости – куда чаще всего предлагают тратить деньги?\n",
    "\n",
    "<img src=\"https://media0.giphy.com/media/xTiTnqUxyWbsAXq7Ju/giphy.gif?cid=ecf05e47fx45w99opc790koo7b7p1enbrpzvx29l216alkv5&ep=v1_gifs_search&rid=giphy.gif&ct=g\">"
   ]
  },
  {
   "cell_type": "code",
   "execution_count": 25,
   "id": "067fc719",
   "metadata": {},
   "outputs": [],
   "source": [
    "money = newspaper.build('https://rbclife.ru/spend', \n",
    "                        memoize_articles = False) # загрузили все ссылки новостей по url\n",
    "                                                  # параметр memorize_article регулирует, \n",
    "                                                  # хотите вы кэшировать новости или нет"
   ]
  },
  {
   "cell_type": "code",
   "execution_count": 26,
   "id": "16a1f3d4",
   "metadata": {},
   "outputs": [
    {
     "data": {
      "text/plain": [
       "140"
      ]
     },
     "execution_count": 26,
     "metadata": {},
     "output_type": "execute_result"
    }
   ],
   "source": [
    "money.size() # покажет, сколько статей удалось найти"
   ]
  },
  {
   "cell_type": "code",
   "execution_count": 27,
   "id": "5314de19",
   "metadata": {},
   "outputs": [
    {
     "data": {
      "text/plain": [
       "[<newspaper.article.Article at 0x7f9c2869cbe0>,\n",
       " <newspaper.article.Article at 0x7f9c2869cd90>,\n",
       " <newspaper.article.Article at 0x7f9c597b49a0>,\n",
       " <newspaper.article.Article at 0x7f9c286a42e0>,\n",
       " <newspaper.article.Article at 0x7f9c286a47f0>,\n",
       " <newspaper.article.Article at 0x7f9c286a4b50>,\n",
       " <newspaper.article.Article at 0x7f9c286a4d00>,\n",
       " <newspaper.article.Article at 0x7f9c286a4eb0>,\n",
       " <newspaper.article.Article at 0x7f9c597760a0>,\n",
       " <newspaper.article.Article at 0x7f9c59776250>,\n",
       " <newspaper.article.Article at 0x7f9c597765b0>,\n",
       " <newspaper.article.Article at 0x7f9c597b4460>,\n",
       " <newspaper.article.Article at 0x7f9c586aef70>,\n",
       " <newspaper.article.Article at 0x7f9c28673d30>,\n",
       " <newspaper.article.Article at 0x7f9c597c7460>,\n",
       " <newspaper.article.Article at 0x7f9c597cf190>,\n",
       " <newspaper.article.Article at 0x7f9c597cf7f0>,\n",
       " <newspaper.article.Article at 0x7f9c597cfd00>,\n",
       " <newspaper.article.Article at 0x7f9c597da130>,\n",
       " <newspaper.article.Article at 0x7f9c597da640>,\n",
       " <newspaper.article.Article at 0x7f9c597dab50>,\n",
       " <newspaper.article.Article at 0x7f9c2863eaf0>,\n",
       " <newspaper.article.Article at 0x7f9c2863ea60>,\n",
       " <newspaper.article.Article at 0x7f9c597e3ee0>,\n",
       " <newspaper.article.Article at 0x7f9c597e32b0>,\n",
       " <newspaper.article.Article at 0x7f9c597e3580>,\n",
       " <newspaper.article.Article at 0x7f9c597e3730>,\n",
       " <newspaper.article.Article at 0x7f9c597a9d90>,\n",
       " <newspaper.article.Article at 0x7f9c286a4cd0>,\n",
       " <newspaper.article.Article at 0x7f9c59776220>,\n",
       " <newspaper.article.Article at 0x7f9c597cf280>,\n",
       " <newspaper.article.Article at 0x7f9c597767c0>,\n",
       " <newspaper.article.Article at 0x7f9c597cf430>,\n",
       " <newspaper.article.Article at 0x7f9c59782190>,\n",
       " <newspaper.article.Article at 0x7f9c597b44c0>,\n",
       " <newspaper.article.Article at 0x7f9c59782bb0>,\n",
       " <newspaper.article.Article at 0x7f9c597cf5e0>,\n",
       " <newspaper.article.Article at 0x7f9c597851c0>,\n",
       " <newspaper.article.Article at 0x7f9c59785370>,\n",
       " <newspaper.article.Article at 0x7f9c59785520>,\n",
       " <newspaper.article.Article at 0x7f9c597856d0>,\n",
       " <newspaper.article.Article at 0x7f9c59785880>,\n",
       " <newspaper.article.Article at 0x7f9c59785a30>,\n",
       " <newspaper.article.Article at 0x7f9c597e30d0>,\n",
       " <newspaper.article.Article at 0x7f9c59776ca0>,\n",
       " <newspaper.article.Article at 0x7f9c59782160>,\n",
       " <newspaper.article.Article at 0x7f9c59785fd0>,\n",
       " <newspaper.article.Article at 0x7f9c597858e0>,\n",
       " <newspaper.article.Article at 0x7f9c59785cd0>,\n",
       " <newspaper.article.Article at 0x7f9c59785e80>,\n",
       " <newspaper.article.Article at 0x7f9c2865feb0>,\n",
       " <newspaper.article.Article at 0x7f9c59790a00>,\n",
       " <newspaper.article.Article at 0x7f9c597901f0>,\n",
       " <newspaper.article.Article at 0x7f9c597903a0>,\n",
       " <newspaper.article.Article at 0x7f9c59790550>,\n",
       " <newspaper.article.Article at 0x7f9c59790700>,\n",
       " <newspaper.article.Article at 0x7f9c597908b0>,\n",
       " <newspaper.article.Article at 0x7f9c59790ac0>,\n",
       " <newspaper.article.Article at 0x7f9c59790c70>,\n",
       " <newspaper.article.Article at 0x7f9c59782850>,\n",
       " <newspaper.article.Article at 0x7f9c59785b50>,\n",
       " <newspaper.article.Article at 0x7f9c59790910>,\n",
       " <newspaper.article.Article at 0x7f9c597904f0>,\n",
       " <newspaper.article.Article at 0x7f9c59790a60>,\n",
       " <newspaper.article.Article at 0x7f9c597cf040>,\n",
       " <newspaper.article.Article at 0x7f9c597c7ca0>,\n",
       " <newspaper.article.Article at 0x7f9c597c7e50>,\n",
       " <newspaper.article.Article at 0x7f9c5979a1f0>,\n",
       " <newspaper.article.Article at 0x7f9c5979a3a0>,\n",
       " <newspaper.article.Article at 0x7f9c5979a550>,\n",
       " <newspaper.article.Article at 0x7f9c5979a700>,\n",
       " <newspaper.article.Article at 0x7f9c5979a8b0>,\n",
       " <newspaper.article.Article at 0x7f9c5979aa60>,\n",
       " <newspaper.article.Article at 0x7f9c5979aca0>,\n",
       " <newspaper.article.Article at 0x7f9c5979ae50>,\n",
       " <newspaper.article.Article at 0x7f9c286a4880>,\n",
       " <newspaper.article.Article at 0x7f9c597cfdc0>,\n",
       " <newspaper.article.Article at 0x7f9c597cff70>,\n",
       " <newspaper.article.Article at 0x7f9c597da160>,\n",
       " <newspaper.article.Article at 0x7f9c597da310>,\n",
       " <newspaper.article.Article at 0x7f9c597da4c0>,\n",
       " <newspaper.article.Article at 0x7f9c597da670>,\n",
       " <newspaper.article.Article at 0x7f9c597da820>,\n",
       " <newspaper.article.Article at 0x7f9c597da9d0>,\n",
       " <newspaper.article.Article at 0x7f9c597dab80>,\n",
       " <newspaper.article.Article at 0x7f9c597dad30>,\n",
       " <newspaper.article.Article at 0x7f9c597daee0>,\n",
       " <newspaper.article.Article at 0x7f9c597a9c10>,\n",
       " <newspaper.article.Article at 0x7f9c5979ad30>,\n",
       " <newspaper.article.Article at 0x7f9c597a9f70>,\n",
       " <newspaper.article.Article at 0x7f9c597ae160>,\n",
       " <newspaper.article.Article at 0x7f9c597ae310>,\n",
       " <newspaper.article.Article at 0x7f9c59790ee0>,\n",
       " <newspaper.article.Article at 0x7f9c597e3d30>,\n",
       " <newspaper.article.Article at 0x7f9c597aed90>,\n",
       " <newspaper.article.Article at 0x7f9c597aefd0>,\n",
       " <newspaper.article.Article at 0x7f9c597b40d0>,\n",
       " <newspaper.article.Article at 0x7f9c597b4280>,\n",
       " <newspaper.article.Article at 0x7f9c597c70a0>,\n",
       " <newspaper.article.Article at 0x7f9c597b4820>,\n",
       " <newspaper.article.Article at 0x7f9c597b4b80>,\n",
       " <newspaper.article.Article at 0x7f9c597b4d30>,\n",
       " <newspaper.article.Article at 0x7f9c597b4ee0>,\n",
       " <newspaper.article.Article at 0x7f9c597c7310>,\n",
       " <newspaper.article.Article at 0x7f9c597c74c0>,\n",
       " <newspaper.article.Article at 0x7f9c597c7700>,\n",
       " <newspaper.article.Article at 0x7f9c597c78b0>,\n",
       " <newspaper.article.Article at 0x7f9c597c7a60>,\n",
       " <newspaper.article.Article at 0x7f9c597cf820>,\n",
       " <newspaper.article.Article at 0x7f9c597cf9d0>,\n",
       " <newspaper.article.Article at 0x7f9c597cfb80>,\n",
       " <newspaper.article.Article at 0x7f9c597ae8b0>,\n",
       " <newspaper.article.Article at 0x7f9c597aed60>,\n",
       " <newspaper.article.Article at 0x7f9c597b40a0>,\n",
       " <newspaper.article.Article at 0x7f9c597b4490>,\n",
       " <newspaper.article.Article at 0x7f9c597b4b50>,\n",
       " <newspaper.article.Article at 0x7f9c286844f0>,\n",
       " <newspaper.article.Article at 0x7f9c28332e50>,\n",
       " <newspaper.article.Article at 0x7f9c286736a0>,\n",
       " <newspaper.article.Article at 0x7f9c2868b3a0>,\n",
       " <newspaper.article.Article at 0x7f9c18052a30>,\n",
       " <newspaper.article.Article at 0x7f9c597c7550>,\n",
       " <newspaper.article.Article at 0x7f9c597c7940>,\n",
       " <newspaper.article.Article at 0x7f9c597c7d30>,\n",
       " <newspaper.article.Article at 0x7f9c597cf160>,\n",
       " <newspaper.article.Article at 0x7f9c597e3f10>,\n",
       " <newspaper.article.Article at 0x7f9c28659a00>,\n",
       " <newspaper.article.Article at 0x7f9c2869c0a0>,\n",
       " <newspaper.article.Article at 0x7f9c2869c250>,\n",
       " <newspaper.article.Article at 0x7f9c2869c400>,\n",
       " <newspaper.article.Article at 0x7f9c2869c5b0>,\n",
       " <newspaper.article.Article at 0x7f9c2869c760>,\n",
       " <newspaper.article.Article at 0x7f9c2869c910>,\n",
       " <newspaper.article.Article at 0x7f9c2869cac0>,\n",
       " <newspaper.article.Article at 0x7f9c2869ceb0>,\n",
       " <newspaper.article.Article at 0x7f9c597f00a0>,\n",
       " <newspaper.article.Article at 0x7f9c597f0250>,\n",
       " <newspaper.article.Article at 0x7f9c597f0460>,\n",
       " <newspaper.article.Article at 0x7f9c597f0610>,\n",
       " <newspaper.article.Article at 0x7f9c597f07c0>]"
      ]
     },
     "execution_count": 27,
     "metadata": {},
     "output_type": "execute_result"
    }
   ],
   "source": [
    "money.articles # покажет объекты класса Article для каждой найденной статьи"
   ]
  },
  {
   "cell_type": "code",
   "execution_count": 28,
   "id": "f6ecb026",
   "metadata": {},
   "outputs": [
    {
     "name": "stdout",
     "output_type": "stream",
     "text": [
      "https://rbclife.ru/news/654b9a729a79477b15ed959e\n",
      "https://rbclife.ru/news/654a24de9a7947a260032ba5\n",
      "https://rbclife.ru/news/6542c36c9a79474e3325c6e2\n",
      "https://rbclife.ru/news/653f6b369a79471b5bec6107\n",
      "https://rbclife.ru/news/6528e4729a7947adde88fa03\n",
      "https://rbclife.ru/news/6515cb649a7947ea23160bde\n",
      "https://rbclife.ru/news/65156a959a7947b4b788f5f7\n",
      "https://rbclife.ru/news/650c64f59a794709d4787aad\n",
      "https://rbclife.ru/news/650962819a79477ace5bbac7\n",
      "https://rbclife.ru/news/65084ef69a7947f208af5949\n",
      "https://rbclife.ru/news/64f99f5f9a7947285008cc7a\n",
      "https://rbclife.ru/news/654de7119a7947656424412c\n",
      "https://rbclife.ru/news/654dcd429a79478202f5bc3f\n",
      "https://rbclife.ru/news/654cdc539a794770378c7b54\n",
      "https://rbclife.ru/news/654cd9609a79474389d93edc\n",
      "https://rbclife.ru/news/654ca6979a79477ae05f1e2b\n",
      "https://rbclife.ru/news/6544f4089a794771a9252f9c\n",
      "https://rbclife.ru/news/654b3bba9a7947df066f1015\n",
      "https://rbclife.ru/news/654a26f19a794767b995b872\n",
      "https://rbclife.ru/news/6549ef869a79473537791ba9\n",
      "https://rbclife.ru/news/6541435c9a7947348f4beaa0\n",
      "https://rbclife.ru/news/65422bc59a79478a21cfccbd\n",
      "https://rbclife.ru/news/6541f5e79a794703588925ee\n",
      "https://rbclife.ru/news/6540af939a794783729c5ce4\n",
      "https://rbclife.ru/news/65409c399a79471b18b4d530\n",
      "https://rbclife.ru/news/65409b489a79476b618780b2\n",
      "https://rbclife.ru/news/653f99699a794721dd42c7b0\n",
      "https://rbclife.ru/news/654ca42e9a79472721a21259\n",
      "https://rbclife.ru/news/6549e8659a794763dc05c545\n",
      "https://rbclife.ru/news/65421b3d9a7947213daf852c\n",
      "https://rbclife.ru/news/654208c29a794763ee78dd26\n",
      "https://rbclife.ru/news/653a20e39a7947921f4f1235\n",
      "https://rbclife.ru/news/653771719a7947909f081d71\n",
      "https://rbclife.ru/news/65317f069a79470bb580666c\n",
      "https://rbclife.ru/news/652e72179a7947df4d4fd61d\n",
      "https://rbclife.ru/news/653119ec9a794775ec5d8db8\n",
      "https://rbclife.ru/news/653082399a794705ecfb0650\n",
      "https://rbclife.ru/news/652fee389a79477ed9a3cf63\n",
      "https://rbclife.ru/news/652d53ad9a79478533ab42bc\n",
      "https://rbclife.ru/news/652551639a794748ed5d28b1\n",
      "https://rbclife.ru/news/651e93e59a7947161060ec71\n",
      "https://rbclife.ru/news/6523d56f9a7947090fccb861\n",
      "https://rbclife.ru/news/651d1e6a9a794769ae629ee4\n",
      "https://rbclife.ru/news/654e06ce9a7947254f7a6c82\n",
      "https://rbclife.ru/news/654ddf1d9a79470200ea3b51\n",
      "https://rbclife.ru/news/654d03729a79476905ba0d12\n",
      "https://rbclife.ru/news/654ce19e9a79472a0ff91abb\n",
      "https://rbclife.ru/news/652e89889a79473441529fb2\n",
      "https://rbclife.ru/news/654b80ee9a7947449c3fb9bb\n",
      "https://rbclife.ru/news/654a39679a794736ff5d2e62\n",
      "https://rbclife.ru/news/6549ef459a7947b2358e9e33\n",
      "https://rbclife.ru/news/6542d24b9a7947afc9f59324\n",
      "https://rbclife.ru/news/6543923a9a7947d03e7ffe9d\n",
      "https://rbclife.ru/news/65426aeb9a7947a8be42896b\n",
      "https://rbclife.ru/news/653fb4d19a79470229386340\n",
      "https://rbclife.ru/news/653638089a79471f0b3eef39\n",
      "https://rbclife.ru/news/653ea68b9a79472c7740e70e\n",
      "https://rbclife.ru/news/653688879a7947f18bedc173\n",
      "https://rbclife.ru/news/6539128f9a79472e97c16c83\n",
      "https://rbclife.ru/news/654b75849a7947e7997d20e5\n",
      "https://rbclife.ru/news/654c6b319a79471c3bf60854\n",
      "https://rbclife.ru/news/6544ded69a7947179785b0a9\n",
      "https://rbclife.ru/news/654b1c1a9a79471bc1849e36\n",
      "https://rbclife.ru/news/6549e1ee9a7947e59d725624\n",
      "https://rbclife.ru/news/6549e3109a7947141fb91d61\n",
      "https://rbclife.ru/news/6541f4249a7947c8865546a1\n",
      "https://rbclife.ru/news/653d47d69a794778ce2ee5d9\n",
      "https://rbclife.ru/news/65435a969a79476238028f0c\n",
      "https://rbclife.ru/news/65408aa69a7947b5d78856a8\n",
      "https://rbclife.ru/news/653be46f9a794743eb7f6e52\n",
      "https://rbclife.ru/news/653b968f9a79479d43c9af3e\n",
      "https://rbclife.ru/news/653b45b09a79472cd000c18b\n",
      "https://rbclife.ru/news/653a534f9a7947452b91e00c\n",
      "https://rbclife.ru/news/653938889a7947f8dcf4ca3c\n",
      "https://rbclife.ru/news/6539f9719a79473887c580c4\n",
      "https://rbclife.ru/tag/news\n",
      "https://rbclife.ru/news/654e215c9a79474aef545866\n",
      "https://rbclife.ru/news/654e1aca9a794777d150887e\n",
      "https://rbclife.ru/news/654e395b9a7947a3ef531587\n",
      "https://rbclife.ru/news/654e43c19a7947575c120c0c\n",
      "https://rbclife.ru/news/654e03b99a794740e24f93a9\n",
      "https://rbclife.ru/news/654e40899a79470507c73575\n",
      "https://rbclife.ru/news/654e3b239a794764204ddcee\n",
      "https://rbclife.ru/news/654e17ff9a7947c4f5df8962\n",
      "https://rbclife.ru/news/654e2e669a794793154805cf\n",
      "https://rbclife.ru/news/654e2f5b9a7947380fca78d6\n",
      "https://rbclife.ru/news/654de8849a794763785fa6d9\n",
      "https://rbclife.ru/news/654e094c9a7947666bb1da05\n",
      "https://rbclife.ru/news/654e028e9a79472e42331f19\n",
      "https://rbclife.ru/news/654dfdeb9a79472d91e62168\n",
      "https://rbclife.ru/news/654e07cd9a7947666bb1da01\n",
      "https://rbclife.ru/news/654e16ce9a79477d563d844b\n",
      "https://rbclife.ru/news/654df3209a7947d1d52d19d3\n",
      "https://rbclife.ru/news/654ddfdb9a7947150093f626\n",
      "https://rbclife.ru/news/653a73539a79476b91944861\n",
      "https://rbclife.ru/news/654369109a79470e4b8d31bc\n",
      "https://rbclife.ru/news/65420d229a7947f810746909\n",
      "https://rbclife.ru/news/653fa6b39a7947bc4e41341c\n",
      "https://rbclife.ru/news/651e8e3e9a79476ad516bd38\n",
      "https://rbclife.ru/news/651d42b29a79478950501e04\n",
      "https://rbclife.ru/news/6544f3aa9a79470cd3e0b004\n",
      "https://rbclife.ru/news/6540bc749a794741fe55c428\n",
      "https://rbclife.ru/news/653ba5939a79474a620796ab\n",
      "https://rbclife.ru/news/653244af9a7947c4b9cfc3d1\n",
      "https://rbclife.ru/news/653924ee9a79478e9431b9bb\n",
      "https://rbclife.ru/news/6544f8b99a7947121c81c4e3\n",
      "https://rbclife.ru/news/65434abb9a7947d02073cb46\n",
      "https://rbclife.ru/news/653139ba9a79477e1c421f49\n",
      "https://rbclife.ru/news/653f7a779a79473d3ea83626\n",
      "https://rbclife.ru/news/653244819a79471fafc99e4e\n",
      "https://rbclife.ru/news/6530d9eb9a794726beff1ef0\n",
      "https://rbclife.ru/news/654cbb799a794721558878b1\n",
      "https://rbclife.ru/news/6542cb889a7947d8d454ea80\n",
      "https://rbclife.ru/news/653c246f9a79471d8d4639c6\n",
      "https://rbclife.ru/news/6542c6ed9a79472f507fe40d\n",
      "https://rbclife.ru/news/654327f99a794714e4b1aa17\n",
      "https://rbclife.ru/news/653a67289a7947096d8d5a25\n",
      "https://rbclife.ru/news/6537dcc69a794710322457c6\n",
      "https://rbclife.ru/news/653645fc9a79478a6b227b1d\n",
      "https://rbclife.ru/news/6391dc1d9a7947a8246fe487\n",
      "https://rbclife.ru/news/653107639a7947c04900f7e9\n",
      "https://rbclife.ru/news/6528506d9a79476bc57127f5\n",
      "https://rbclife.ru/news/6528f0a39a79472dcb443ab9\n",
      "https://rbclife.ru/news/6523a3c49a79471c1a34071d\n",
      "https://rbclife.ru/news/65250ce59a79478d1e011a96\n",
      "https://rbclife.ru/news/654ce9129a794742493a2f5e\n",
      "https://rbclife.ru/news/654ceb139a7947b5289accb9\n",
      "https://rbclife.ru/news/654c9b959a79476003473538\n",
      "https://rbclife.ru/news/654be42c9a794719ef96164d\n",
      "https://rbclife.ru/news/654c87f59a79477595fe7a8b\n",
      "https://rbclife.ru/news/654b79869a79471f3eda9474\n",
      "https://rbclife.ru/news/6549fb009a7947dd82d5b9ad\n",
      "https://rbclife.ru/news/65424b929a794780a2ba18c3\n",
      "https://rbclife.ru/news/6544e05b9a7947cdb73dfecc\n",
      "https://rbclife.ru/news/6544c58f9a79472f3318fabf\n",
      "https://rbclife.ru/news/6544ab2a9a79475b86383828\n",
      "https://rbclife.ru/news/654329f89a7947d8783df128\n",
      "https://rbclife.ru/news/652d40c99a7947e8c8d92531\n",
      "https://rbclife.ru/news/654390de9a7947351d6acace\n",
      "https://rbclife.ru/news/65438f129a7947b447c90afe\n"
     ]
    }
   ],
   "source": [
    "for article in money.articles: # а так можем получить все найденные ссылки\n",
    "    print(article.url)"
   ]
  },
  {
   "cell_type": "code",
   "execution_count": 29,
   "id": "1a63a182",
   "metadata": {},
   "outputs": [
    {
     "name": "stdout",
     "output_type": "stream",
     "text": [
      "https://rbclife.ru/games\n",
      "https://rbclife.ru/spend\n",
      "https://rbclife.ru/walk\n",
      "https://rbclife.ru/read\n",
      "https://rbclife.ru/eat\n",
      "https://rbclife.ru/scroll\n",
      "https://rbclife.ru\n",
      "https://rbclife.ru/myself\n",
      "https://rbclife.ru/spend\n",
      "https://rbclife.ru/watch\n"
     ]
    }
   ],
   "source": [
    "for category in money.category_urls(): # так можем найти все категории ссылок, которые удалось найти\n",
    "    print(category)"
   ]
  },
  {
   "cell_type": "markdown",
   "id": "b9ed56d2",
   "metadata": {},
   "source": [
    "Импортируем две библиотеки, которые сильно помогают при парсинге данных. Библиотека `time` с функцией `sleep` позволяет делать паузы между запросами к сайту (выше шансы, что вас не заблокируют).\n",
    "\n",
    "Библиотека `tqdm` с функцией `tqdm` создает прогресс-бар выполнения вашего кода."
   ]
  },
  {
   "cell_type": "code",
   "execution_count": 30,
   "id": "ecda42a1",
   "metadata": {},
   "outputs": [],
   "source": [
    "from time import sleep\n",
    "from tqdm import tqdm"
   ]
  },
  {
   "cell_type": "markdown",
   "id": "f535a05a",
   "metadata": {},
   "source": [
    "Далее мы создадим пустой список data, куда будем сохранять в формате кортежа данные по каждой статье. Мы хотим сохранить ссылку на статью, заголовок статьи, автора, первое изображение, ключевые слова и выжимку."
   ]
  },
  {
   "cell_type": "code",
   "execution_count": 31,
   "id": "10f43a69",
   "metadata": {
    "scrolled": true
   },
   "outputs": [
    {
     "name": "stderr",
     "output_type": "stream",
     "text": [
      "100%|█████████████████████████████████████████| 140/140 [08:11<00:00,  3.51s/it]\n"
     ]
    }
   ],
   "source": [
    "data = [] \n",
    "\n",
    "for article in tqdm(money.articles):\n",
    "    news = Article(article.url, language='ru')\n",
    "    news.download()\n",
    "    news.parse()\n",
    "    news.nlp()\n",
    "    data.append((article.url, news.title, news.authors, news.top_image, news.keywords, news.summary))\n",
    "    sleep(3)"
   ]
  },
  {
   "cell_type": "markdown",
   "id": "8a4eec49",
   "metadata": {},
   "source": [
    "Проверяем, все новостные статьи действительно загрузились!"
   ]
  },
  {
   "cell_type": "code",
   "execution_count": 32,
   "id": "7e417213",
   "metadata": {},
   "outputs": [
    {
     "name": "stdout",
     "output_type": "stream",
     "text": [
      "('https://rbclife.ru/news/654b9a729a79477b15ed959e', '4 простые игры для дороги и перерыва в офисе. Они есть на РБК Life', ['Никита Волкович'], 'https://s0.rbk.ru/v6_top_pics/media/img/7/80/346994543937807.jpeg', ['простые', 'офисе', 'игр', 'ряд', 'шарики', 'life', 'популярных', 'одна', 'рбк', 'игры', 'перерыва', 'витрине', '4', 'самых', 'дороги', 'шариков', 'уровни'], '4 простые игры для дороги и перерыва в офисе.\\nЗа почти три десятка лет формула геймплея развивалась и многократно изменялась, а теперь это одна из самых популярных игр на мобильных устройствах.\\nНа витрине РБК Life вы можете пройти одну из классических версий.\\nИграйте в «Шарики» прямо в браузере на витрине РБК Life на ПК и мобильных устройствах.\\nИгру можно запустить прямо в браузере на витрине РБК Life.')\n"
     ]
    }
   ],
   "source": [
    "print(data[0])"
   ]
  },
  {
   "cell_type": "markdown",
   "id": "23acd50b",
   "metadata": {},
   "source": [
    "## Анализ ключевых слов новостей"
   ]
  },
  {
   "cell_type": "markdown",
   "id": "ae6cf1a2",
   "metadata": {},
   "source": [
    "Для начала сохраним все полученные данные как датафрейм pandas."
   ]
  },
  {
   "cell_type": "code",
   "execution_count": 33,
   "id": "a13267d6",
   "metadata": {},
   "outputs": [],
   "source": [
    "import pandas as pd"
   ]
  },
  {
   "cell_type": "code",
   "execution_count": 34,
   "id": "d5dcd0a0",
   "metadata": {},
   "outputs": [],
   "source": [
    "df = pd.DataFrame(data, columns=['link', 'title', 'authors', 'img_link', 'keywords', 'summary'])"
   ]
  },
  {
   "cell_type": "code",
   "execution_count": 35,
   "id": "6eb7a450",
   "metadata": {
    "scrolled": false
   },
   "outputs": [
    {
     "data": {
      "text/html": [
       "<div>\n",
       "<style scoped>\n",
       "    .dataframe tbody tr th:only-of-type {\n",
       "        vertical-align: middle;\n",
       "    }\n",
       "\n",
       "    .dataframe tbody tr th {\n",
       "        vertical-align: top;\n",
       "    }\n",
       "\n",
       "    .dataframe thead th {\n",
       "        text-align: right;\n",
       "    }\n",
       "</style>\n",
       "<table border=\"1\" class=\"dataframe\">\n",
       "  <thead>\n",
       "    <tr style=\"text-align: right;\">\n",
       "      <th></th>\n",
       "      <th>link</th>\n",
       "      <th>title</th>\n",
       "      <th>authors</th>\n",
       "      <th>img_link</th>\n",
       "      <th>keywords</th>\n",
       "      <th>summary</th>\n",
       "    </tr>\n",
       "  </thead>\n",
       "  <tbody>\n",
       "    <tr>\n",
       "      <th>0</th>\n",
       "      <td>https://rbclife.ru/news/654b9a729a79477b15ed959e</td>\n",
       "      <td>4 простые игры для дороги и перерыва в офисе. ...</td>\n",
       "      <td>[Никита Волкович]</td>\n",
       "      <td>https://s0.rbk.ru/v6_top_pics/media/img/7/80/3...</td>\n",
       "      <td>[простые, офисе, игр, ряд, шарики, life, попул...</td>\n",
       "      <td>4 простые игры для дороги и перерыва в офисе.\\...</td>\n",
       "    </tr>\n",
       "    <tr>\n",
       "      <th>1</th>\n",
       "      <td>https://rbclife.ru/news/654a24de9a7947a260032ba5</td>\n",
       "      <td>Alan Wake 2: обзор видеоигры, которая разделил...</td>\n",
       "      <td>[Артем Дубровский]</td>\n",
       "      <td>https://s0.rbk.ru/v6_top_pics/media/img/1/08/3...</td>\n",
       "      <td>[историю, wake, 2, alan, геймеров, видеоигры, ...</td>\n",
       "      <td>Alan Wake 2: обзор видеоигры, которая разделил...</td>\n",
       "    </tr>\n",
       "    <tr>\n",
       "      <th>2</th>\n",
       "      <td>https://rbclife.ru/news/6542c36c9a79474e3325c6e2</td>\n",
       "      <td>Игры для детей дома. 10 идей, как занять ребенка</td>\n",
       "      <td>[Олеся Роженцова]</td>\n",
       "      <td>https://s0.rbk.ru/v6_top_pics/media/img/6/05/3...</td>\n",
       "      <td>[занять, развивает, понадобится, умение, летот...</td>\n",
       "      <td>10 идей, как занять ребенка .\\nВ мешок помести...</td>\n",
       "    </tr>\n",
       "    <tr>\n",
       "      <th>3</th>\n",
       "      <td>https://rbclife.ru/news/653f6b369a79471b5bec6107</td>\n",
       "      <td>Marvel's Spider-Man 2: обзор самой быстро прод...</td>\n",
       "      <td>[Артем Дубровский]</td>\n",
       "      <td>https://s0.rbk.ru/v6_top_pics/media/img/5/50/3...</td>\n",
       "      <td>[games, insomniac, сразу, 2, самым, ps5, пару,...</td>\n",
       "      <td>Marvel's Spider-Man 2: обзор самой быстро прод...</td>\n",
       "    </tr>\n",
       "    <tr>\n",
       "      <th>4</th>\n",
       "      <td>https://rbclife.ru/news/6528e4729a7947adde88fa03</td>\n",
       "      <td>Ящеры, киборги и Саб-Зиро: 6 громких игровых н...</td>\n",
       "      <td>[Никита Волкович]</td>\n",
       "      <td>https://s0.rbk.ru/v6_top_pics/media/img/1/56/3...</td>\n",
       "      <td>[месяца, кадр, of, игры, sports, kombat, кибор...</td>\n",
       "      <td>Ящеры, киборги и Саб-Зиро: 6 громких игровых н...</td>\n",
       "    </tr>\n",
       "    <tr>\n",
       "      <th>...</th>\n",
       "      <td>...</td>\n",
       "      <td>...</td>\n",
       "      <td>...</td>\n",
       "      <td>...</td>\n",
       "      <td>...</td>\n",
       "      <td>...</td>\n",
       "    </tr>\n",
       "    <tr>\n",
       "      <th>135</th>\n",
       "      <td>https://rbclife.ru/news/6544ab2a9a79475b86383828</td>\n",
       "      <td>Вышел трейлер фильма «Нина» с Пересильд и Цыга...</td>\n",
       "      <td>[]</td>\n",
       "      <td>https://s0.rbk.ru/v6_top_pics/media/img/6/88/3...</td>\n",
       "      <td>[написала, цыгановым, вышел, panatlantic, нина...</td>\n",
       "      <td>Вышел трейлер фильма «Нина» с Пересильд и Цыга...</td>\n",
       "    </tr>\n",
       "    <tr>\n",
       "      <th>136</th>\n",
       "      <td>https://rbclife.ru/news/654329f89a7947d8783df128</td>\n",
       "      <td>«Последнее лето»: обзор спектакля с Пересильд ...</td>\n",
       "      <td>[Елена Свиридова]</td>\n",
       "      <td>https://s0.rbk.ru/v6_top_pics/media/img/8/70/3...</td>\n",
       "      <td>[последнее, ники, лето, зритель, спектакля, сц...</td>\n",
       "      <td>«Последнее лето»: обзор спектакля с Пересильд ...</td>\n",
       "    </tr>\n",
       "    <tr>\n",
       "      <th>137</th>\n",
       "      <td>https://rbclife.ru/news/652d40c99a7947e8c8d92531</td>\n",
       "      <td>«Черный клевер», пятый сезон. Все, что известн...</td>\n",
       "      <td>[Полина Веселова]</td>\n",
       "      <td>https://s0.rbk.ru/v6_top_pics/media/img/1/88/3...</td>\n",
       "      <td>[сезон, кадр, премьере, клевер, семьи, известн...</td>\n",
       "      <td>«Черный клевер», пятый сезон.\\nАниме стоит пос...</td>\n",
       "    </tr>\n",
       "    <tr>\n",
       "      <th>138</th>\n",
       "      <td>https://rbclife.ru/news/654390de9a7947351d6acace</td>\n",
       "      <td>Траволта стал пилотом самолета-призрака в филь...</td>\n",
       "      <td>[]</td>\n",
       "      <td>https://s0.rbk.ru/v6_top_pics/media/img/7/56/3...</td>\n",
       "      <td>[пилотом, самолетапризрака, shepherd, фильма, ...</td>\n",
       "      <td>Траволта стал пилотом самолета-призрака в филь...</td>\n",
       "    </tr>\n",
       "    <tr>\n",
       "      <th>139</th>\n",
       "      <td>https://rbclife.ru/news/65438f129a7947b447c90afe</td>\n",
       "      <td>Вышел тизер эротического драмеди «Госпожа» с Н...</td>\n",
       "      <td>[]</td>\n",
       "      <td>https://s0.rbk.ru/v6_top_pics/media/img/8/68/3...</td>\n",
       "      <td>[драмеди, вышел, громова, ефремов, сериале, сы...</td>\n",
       "      <td>Вышел тизер эротического драмеди «Госпожа» с Н...</td>\n",
       "    </tr>\n",
       "  </tbody>\n",
       "</table>\n",
       "<p>140 rows × 6 columns</p>\n",
       "</div>"
      ],
      "text/plain": [
       "                                                 link  \\\n",
       "0    https://rbclife.ru/news/654b9a729a79477b15ed959e   \n",
       "1    https://rbclife.ru/news/654a24de9a7947a260032ba5   \n",
       "2    https://rbclife.ru/news/6542c36c9a79474e3325c6e2   \n",
       "3    https://rbclife.ru/news/653f6b369a79471b5bec6107   \n",
       "4    https://rbclife.ru/news/6528e4729a7947adde88fa03   \n",
       "..                                                ...   \n",
       "135  https://rbclife.ru/news/6544ab2a9a79475b86383828   \n",
       "136  https://rbclife.ru/news/654329f89a7947d8783df128   \n",
       "137  https://rbclife.ru/news/652d40c99a7947e8c8d92531   \n",
       "138  https://rbclife.ru/news/654390de9a7947351d6acace   \n",
       "139  https://rbclife.ru/news/65438f129a7947b447c90afe   \n",
       "\n",
       "                                                 title             authors  \\\n",
       "0    4 простые игры для дороги и перерыва в офисе. ...   [Никита Волкович]   \n",
       "1    Alan Wake 2: обзор видеоигры, которая разделил...  [Артем Дубровский]   \n",
       "2     Игры для детей дома. 10 идей, как занять ребенка   [Олеся Роженцова]   \n",
       "3    Marvel's Spider-Man 2: обзор самой быстро прод...  [Артем Дубровский]   \n",
       "4    Ящеры, киборги и Саб-Зиро: 6 громких игровых н...   [Никита Волкович]   \n",
       "..                                                 ...                 ...   \n",
       "135  Вышел трейлер фильма «Нина» с Пересильд и Цыга...                  []   \n",
       "136  «Последнее лето»: обзор спектакля с Пересильд ...   [Елена Свиридова]   \n",
       "137  «Черный клевер», пятый сезон. Все, что известн...   [Полина Веселова]   \n",
       "138  Траволта стал пилотом самолета-призрака в филь...                  []   \n",
       "139  Вышел тизер эротического драмеди «Госпожа» с Н...                  []   \n",
       "\n",
       "                                              img_link  \\\n",
       "0    https://s0.rbk.ru/v6_top_pics/media/img/7/80/3...   \n",
       "1    https://s0.rbk.ru/v6_top_pics/media/img/1/08/3...   \n",
       "2    https://s0.rbk.ru/v6_top_pics/media/img/6/05/3...   \n",
       "3    https://s0.rbk.ru/v6_top_pics/media/img/5/50/3...   \n",
       "4    https://s0.rbk.ru/v6_top_pics/media/img/1/56/3...   \n",
       "..                                                 ...   \n",
       "135  https://s0.rbk.ru/v6_top_pics/media/img/6/88/3...   \n",
       "136  https://s0.rbk.ru/v6_top_pics/media/img/8/70/3...   \n",
       "137  https://s0.rbk.ru/v6_top_pics/media/img/1/88/3...   \n",
       "138  https://s0.rbk.ru/v6_top_pics/media/img/7/56/3...   \n",
       "139  https://s0.rbk.ru/v6_top_pics/media/img/8/68/3...   \n",
       "\n",
       "                                              keywords  \\\n",
       "0    [простые, офисе, игр, ряд, шарики, life, попул...   \n",
       "1    [историю, wake, 2, alan, геймеров, видеоигры, ...   \n",
       "2    [занять, развивает, понадобится, умение, летот...   \n",
       "3    [games, insomniac, сразу, 2, самым, ps5, пару,...   \n",
       "4    [месяца, кадр, of, игры, sports, kombat, кибор...   \n",
       "..                                                 ...   \n",
       "135  [написала, цыгановым, вышел, panatlantic, нина...   \n",
       "136  [последнее, ники, лето, зритель, спектакля, сц...   \n",
       "137  [сезон, кадр, премьере, клевер, семьи, известн...   \n",
       "138  [пилотом, самолетапризрака, shepherd, фильма, ...   \n",
       "139  [драмеди, вышел, громова, ефремов, сериале, сы...   \n",
       "\n",
       "                                               summary  \n",
       "0    4 простые игры для дороги и перерыва в офисе.\\...  \n",
       "1    Alan Wake 2: обзор видеоигры, которая разделил...  \n",
       "2    10 идей, как занять ребенка .\\nВ мешок помести...  \n",
       "3    Marvel's Spider-Man 2: обзор самой быстро прод...  \n",
       "4    Ящеры, киборги и Саб-Зиро: 6 громких игровых н...  \n",
       "..                                                 ...  \n",
       "135  Вышел трейлер фильма «Нина» с Пересильд и Цыга...  \n",
       "136  «Последнее лето»: обзор спектакля с Пересильд ...  \n",
       "137  «Черный клевер», пятый сезон.\\nАниме стоит пос...  \n",
       "138  Траволта стал пилотом самолета-призрака в филь...  \n",
       "139  Вышел тизер эротического драмеди «Госпожа» с Н...  \n",
       "\n",
       "[140 rows x 6 columns]"
      ]
     },
     "execution_count": 35,
     "metadata": {},
     "output_type": "execute_result"
    }
   ],
   "source": [
    "df"
   ]
  },
  {
   "cell_type": "markdown",
   "id": "ebf3eaa8",
   "metadata": {},
   "source": [
    "Видим, что авторы и ключевые слова сохранились в ячейки в формате списков."
   ]
  },
  {
   "cell_type": "code",
   "execution_count": 37,
   "id": "3dc2ea55",
   "metadata": {},
   "outputs": [
    {
     "data": {
      "text/plain": [
       "list"
      ]
     },
     "execution_count": 37,
     "metadata": {},
     "output_type": "execute_result"
    }
   ],
   "source": [
    "type(df['authors'][0])"
   ]
  },
  {
   "cell_type": "markdown",
   "id": "a695def3",
   "metadata": {},
   "source": [
    "Давайте переведем их в обычные строки. Для этого мы сначала переведем всю колонку в тип данных `str`\n",
    "\n",
    "    df['authors'].astype(str)\n",
    "    \n",
    "А затем с помощью метода `.apply()` и анонимной функции `lambda` уберем лишние скобки и кавычки.\n",
    "\n",
    "    df['authors'].astype(str).apply(lambda x: x.strip(\"''[]\"))"
   ]
  },
  {
   "cell_type": "code",
   "execution_count": 38,
   "id": "9dc0ebab",
   "metadata": {},
   "outputs": [],
   "source": [
    "df['authors'] = df['authors'].astype(str).apply(lambda x: x.strip(\"''[]\"))"
   ]
  },
  {
   "cell_type": "code",
   "execution_count": 39,
   "id": "b5a88bc1",
   "metadata": {},
   "outputs": [
    {
     "data": {
      "text/plain": [
       "str"
      ]
     },
     "execution_count": 39,
     "metadata": {},
     "output_type": "execute_result"
    }
   ],
   "source": [
    "type(df['authors'][0])"
   ]
  },
  {
   "cell_type": "markdown",
   "id": "cb0bca81",
   "metadata": {},
   "source": [
    "Теперь мы хотим провести частотный анализ. Но наши слова не лемматизированы, то есть не приведены к исходной форме (так, как они записаны в словаре). Исправим это!\n",
    "\n",
    "Импортируем библиотеку pymorphy2 – морфологический анализатор для русского языка, написанный на языке Python и использующий словари из [OpenCorpora](https://opencorpora.org/dict.php). \n",
    "\n",
    "Используем оттуда класс `MorphAnalyzer`. Для заданного слова он может найти все возможные формы."
   ]
  },
  {
   "cell_type": "code",
   "execution_count": 40,
   "id": "d9dcec45",
   "metadata": {},
   "outputs": [],
   "source": [
    "import pymorphy2\n",
    "morph = pymorphy2.MorphAnalyzer()"
   ]
  },
  {
   "cell_type": "markdown",
   "id": "454435d9",
   "metadata": {},
   "source": [
    "Для начала попробуем на отдельных словах."
   ]
  },
  {
   "cell_type": "code",
   "execution_count": 41,
   "id": "89939556",
   "metadata": {},
   "outputs": [
    {
     "data": {
      "text/plain": [
       "[Parse(word='цены', tag=OpencorporaTag('NOUN,inan,femn plur,nomn'), normal_form='цена', score=0.476562, methods_stack=((DictionaryAnalyzer(), 'цены', 55, 7),)),\n",
       " Parse(word='цены', tag=OpencorporaTag('NOUN,inan,femn sing,gent'), normal_form='цена', score=0.328125, methods_stack=((DictionaryAnalyzer(), 'цены', 55, 1),)),\n",
       " Parse(word='цены', tag=OpencorporaTag('NOUN,inan,femn plur,accs'), normal_form='цена', score=0.195312, methods_stack=((DictionaryAnalyzer(), 'цены', 55, 10),))]"
      ]
     },
     "execution_count": 41,
     "metadata": {},
     "output_type": "execute_result"
    }
   ],
   "source": [
    "morph.parse('цены')"
   ]
  },
  {
   "cell_type": "markdown",
   "id": "3f94433e",
   "metadata": {},
   "source": [
    "Нам выдается все возможные значения слова. Возьмем первую."
   ]
  },
  {
   "cell_type": "code",
   "execution_count": 42,
   "id": "208ff4e2",
   "metadata": {},
   "outputs": [
    {
     "data": {
      "text/plain": [
       "Parse(word='цены', tag=OpencorporaTag('NOUN,inan,femn plur,nomn'), normal_form='цена', score=0.476562, methods_stack=((DictionaryAnalyzer(), 'цены', 55, 7),))"
      ]
     },
     "execution_count": 42,
     "metadata": {},
     "output_type": "execute_result"
    }
   ],
   "source": [
    "morph.parse('цены')[0]"
   ]
  },
  {
   "cell_type": "markdown",
   "id": "8f62f1f9",
   "metadata": {},
   "source": [
    "Отлично! Теперь осталось только получить нормальную форму -- значение атрибута `.normal_form`"
   ]
  },
  {
   "cell_type": "code",
   "execution_count": 43,
   "id": "f39386b4",
   "metadata": {},
   "outputs": [
    {
     "data": {
      "text/plain": [
       "'цена'"
      ]
     },
     "execution_count": 43,
     "metadata": {},
     "output_type": "execute_result"
    }
   ],
   "source": [
    "morph.parse('цены')[0].normal_form"
   ]
  },
  {
   "cell_type": "markdown",
   "id": "a3cc0fa1",
   "metadata": {},
   "source": [
    "Проделаем это со всеми ячейками в колонке keywords. Основная сложность, что в каждой ячейке лежит не по одному слову, а сразу по несколько. Напишем функцию, которую затем применим ко всему столбцу."
   ]
  },
  {
   "cell_type": "code",
   "execution_count": 44,
   "id": "4c7d3b6a",
   "metadata": {},
   "outputs": [],
   "source": [
    "def lemmatize(words):\n",
    "    lemmas = []\n",
    "    \n",
    "    for word in words:  # разобьем все слова из строки в список и переберем каждое слово\n",
    "        norm_word = morph.parse(word)[0].normal_form \n",
    "        lemmas.append(norm_word)\n",
    "    return ', '.join(lemmas) # вернем строку со всеми лемматизированными значениями"
   ]
  },
  {
   "cell_type": "code",
   "execution_count": 45,
   "id": "5ba3b5f3",
   "metadata": {},
   "outputs": [],
   "source": [
    "df['keywords_lem'] = df['keywords'].apply(lemmatize) # создадим новый столбец, в котором сохранятся \n",
    "                                                    # лемматизированные ключевые слова"
   ]
  },
  {
   "cell_type": "code",
   "execution_count": 46,
   "id": "e478d17f",
   "metadata": {},
   "outputs": [
    {
     "data": {
      "text/html": [
       "<div>\n",
       "<style scoped>\n",
       "    .dataframe tbody tr th:only-of-type {\n",
       "        vertical-align: middle;\n",
       "    }\n",
       "\n",
       "    .dataframe tbody tr th {\n",
       "        vertical-align: top;\n",
       "    }\n",
       "\n",
       "    .dataframe thead th {\n",
       "        text-align: right;\n",
       "    }\n",
       "</style>\n",
       "<table border=\"1\" class=\"dataframe\">\n",
       "  <thead>\n",
       "    <tr style=\"text-align: right;\">\n",
       "      <th></th>\n",
       "      <th>link</th>\n",
       "      <th>title</th>\n",
       "      <th>authors</th>\n",
       "      <th>img_link</th>\n",
       "      <th>keywords</th>\n",
       "      <th>summary</th>\n",
       "      <th>keywords_lem</th>\n",
       "    </tr>\n",
       "  </thead>\n",
       "  <tbody>\n",
       "    <tr>\n",
       "      <th>0</th>\n",
       "      <td>https://rbclife.ru/news/654b9a729a79477b15ed959e</td>\n",
       "      <td>4 простые игры для дороги и перерыва в офисе. ...</td>\n",
       "      <td>Никита Волкович</td>\n",
       "      <td>https://s0.rbk.ru/v6_top_pics/media/img/7/80/3...</td>\n",
       "      <td>[простые, офисе, игр, ряд, шарики, life, попул...</td>\n",
       "      <td>4 простые игры для дороги и перерыва в офисе.\\...</td>\n",
       "      <td>простой, офис, игра, ряд, шарик, life, популяр...</td>\n",
       "    </tr>\n",
       "    <tr>\n",
       "      <th>1</th>\n",
       "      <td>https://rbclife.ru/news/654a24de9a7947a260032ba5</td>\n",
       "      <td>Alan Wake 2: обзор видеоигры, которая разделил...</td>\n",
       "      <td>Артем Дубровский</td>\n",
       "      <td>https://s0.rbk.ru/v6_top_pics/media/img/1/08/3...</td>\n",
       "      <td>[историю, wake, 2, alan, геймеров, видеоигры, ...</td>\n",
       "      <td>Alan Wake 2: обзор видеоигры, которая разделил...</td>\n",
       "      <td>история, wake, 2, alan, геймер, видеоигра, тём...</td>\n",
       "    </tr>\n",
       "    <tr>\n",
       "      <th>2</th>\n",
       "      <td>https://rbclife.ru/news/6542c36c9a79474e3325c6e2</td>\n",
       "      <td>Игры для детей дома. 10 идей, как занять ребенка</td>\n",
       "      <td>Олеся Роженцова</td>\n",
       "      <td>https://s0.rbk.ru/v6_top_pics/media/img/6/05/3...</td>\n",
       "      <td>[занять, развивает, понадобится, умение, летот...</td>\n",
       "      <td>10 идей, как занять ребенка .\\nВ мешок помести...</td>\n",
       "      <td>занять, развивать, понадобиться, умение, летот...</td>\n",
       "    </tr>\n",
       "    <tr>\n",
       "      <th>3</th>\n",
       "      <td>https://rbclife.ru/news/653f6b369a79471b5bec6107</td>\n",
       "      <td>Marvel's Spider-Man 2: обзор самой быстро прод...</td>\n",
       "      <td>Артем Дубровский</td>\n",
       "      <td>https://s0.rbk.ru/v6_top_pics/media/img/5/50/3...</td>\n",
       "      <td>[games, insomniac, сразу, 2, самым, ps5, пару,...</td>\n",
       "      <td>Marvel's Spider-Man 2: обзор самой быстро прод...</td>\n",
       "      <td>games, insomniac, сразу, 2, самый, ps5, пара, ...</td>\n",
       "    </tr>\n",
       "    <tr>\n",
       "      <th>4</th>\n",
       "      <td>https://rbclife.ru/news/6528e4729a7947adde88fa03</td>\n",
       "      <td>Ящеры, киборги и Саб-Зиро: 6 громких игровых н...</td>\n",
       "      <td>Никита Волкович</td>\n",
       "      <td>https://s0.rbk.ru/v6_top_pics/media/img/1/56/3...</td>\n",
       "      <td>[месяца, кадр, of, игры, sports, kombat, кибор...</td>\n",
       "      <td>Ящеры, киборги и Саб-Зиро: 6 громких игровых н...</td>\n",
       "      <td>месяц, кадр, of, игра, sports, kombat, киборг,...</td>\n",
       "    </tr>\n",
       "    <tr>\n",
       "      <th>...</th>\n",
       "      <td>...</td>\n",
       "      <td>...</td>\n",
       "      <td>...</td>\n",
       "      <td>...</td>\n",
       "      <td>...</td>\n",
       "      <td>...</td>\n",
       "      <td>...</td>\n",
       "    </tr>\n",
       "    <tr>\n",
       "      <th>135</th>\n",
       "      <td>https://rbclife.ru/news/6544ab2a9a79475b86383828</td>\n",
       "      <td>Вышел трейлер фильма «Нина» с Пересильд и Цыга...</td>\n",
       "      <td></td>\n",
       "      <td>https://s0.rbk.ru/v6_top_pics/media/img/6/88/3...</td>\n",
       "      <td>[написала, цыгановым, вышел, panatlantic, нина...</td>\n",
       "      <td>Вышел трейлер фильма «Нина» с Пересильд и Цыга...</td>\n",
       "      <td>написать, цыганов, выйти, panatlantic, нина, ф...</td>\n",
       "    </tr>\n",
       "    <tr>\n",
       "      <th>136</th>\n",
       "      <td>https://rbclife.ru/news/654329f89a7947d8783df128</td>\n",
       "      <td>«Последнее лето»: обзор спектакля с Пересильд ...</td>\n",
       "      <td>Елена Свиридова</td>\n",
       "      <td>https://s0.rbk.ru/v6_top_pics/media/img/8/70/3...</td>\n",
       "      <td>[последнее, ники, лето, зритель, спектакля, сц...</td>\n",
       "      <td>«Последнее лето»: обзор спектакля с Пересильд ...</td>\n",
       "      <td>последний, ника, лето, зритель, спектакль, сце...</td>\n",
       "    </tr>\n",
       "    <tr>\n",
       "      <th>137</th>\n",
       "      <td>https://rbclife.ru/news/652d40c99a7947e8c8d92531</td>\n",
       "      <td>«Черный клевер», пятый сезон. Все, что известн...</td>\n",
       "      <td>Полина Веселова</td>\n",
       "      <td>https://s0.rbk.ru/v6_top_pics/media/img/1/88/3...</td>\n",
       "      <td>[сезон, кадр, премьере, клевер, семьи, известн...</td>\n",
       "      <td>«Черный клевер», пятый сезон.\\nАниме стоит пос...</td>\n",
       "      <td>сезон, кадр, премьера, клевер, семья, известно...</td>\n",
       "    </tr>\n",
       "    <tr>\n",
       "      <th>138</th>\n",
       "      <td>https://rbclife.ru/news/654390de9a7947351d6acace</td>\n",
       "      <td>Траволта стал пилотом самолета-призрака в филь...</td>\n",
       "      <td></td>\n",
       "      <td>https://s0.rbk.ru/v6_top_pics/media/img/7/56/3...</td>\n",
       "      <td>[пилотом, самолетапризрака, shepherd, фильма, ...</td>\n",
       "      <td>Траволта стал пилотом самолета-призрака в филь...</td>\n",
       "      <td>пилот, самолетапризрак, shepherd, фильм, plus,...</td>\n",
       "    </tr>\n",
       "    <tr>\n",
       "      <th>139</th>\n",
       "      <td>https://rbclife.ru/news/65438f129a7947b447c90afe</td>\n",
       "      <td>Вышел тизер эротического драмеди «Госпожа» с Н...</td>\n",
       "      <td></td>\n",
       "      <td>https://s0.rbk.ru/v6_top_pics/media/img/8/68/3...</td>\n",
       "      <td>[драмеди, вышел, громова, ефремов, сериале, сы...</td>\n",
       "      <td>Вышел тизер эротического драмеди «Госпожа» с Н...</td>\n",
       "      <td>драмедь, выйти, громов, ефрем, сериал, сыграть...</td>\n",
       "    </tr>\n",
       "  </tbody>\n",
       "</table>\n",
       "<p>140 rows × 7 columns</p>\n",
       "</div>"
      ],
      "text/plain": [
       "                                                 link  \\\n",
       "0    https://rbclife.ru/news/654b9a729a79477b15ed959e   \n",
       "1    https://rbclife.ru/news/654a24de9a7947a260032ba5   \n",
       "2    https://rbclife.ru/news/6542c36c9a79474e3325c6e2   \n",
       "3    https://rbclife.ru/news/653f6b369a79471b5bec6107   \n",
       "4    https://rbclife.ru/news/6528e4729a7947adde88fa03   \n",
       "..                                                ...   \n",
       "135  https://rbclife.ru/news/6544ab2a9a79475b86383828   \n",
       "136  https://rbclife.ru/news/654329f89a7947d8783df128   \n",
       "137  https://rbclife.ru/news/652d40c99a7947e8c8d92531   \n",
       "138  https://rbclife.ru/news/654390de9a7947351d6acace   \n",
       "139  https://rbclife.ru/news/65438f129a7947b447c90afe   \n",
       "\n",
       "                                                 title           authors  \\\n",
       "0    4 простые игры для дороги и перерыва в офисе. ...   Никита Волкович   \n",
       "1    Alan Wake 2: обзор видеоигры, которая разделил...  Артем Дубровский   \n",
       "2     Игры для детей дома. 10 идей, как занять ребенка   Олеся Роженцова   \n",
       "3    Marvel's Spider-Man 2: обзор самой быстро прод...  Артем Дубровский   \n",
       "4    Ящеры, киборги и Саб-Зиро: 6 громких игровых н...   Никита Волкович   \n",
       "..                                                 ...               ...   \n",
       "135  Вышел трейлер фильма «Нина» с Пересильд и Цыга...                     \n",
       "136  «Последнее лето»: обзор спектакля с Пересильд ...   Елена Свиридова   \n",
       "137  «Черный клевер», пятый сезон. Все, что известн...   Полина Веселова   \n",
       "138  Траволта стал пилотом самолета-призрака в филь...                     \n",
       "139  Вышел тизер эротического драмеди «Госпожа» с Н...                     \n",
       "\n",
       "                                              img_link  \\\n",
       "0    https://s0.rbk.ru/v6_top_pics/media/img/7/80/3...   \n",
       "1    https://s0.rbk.ru/v6_top_pics/media/img/1/08/3...   \n",
       "2    https://s0.rbk.ru/v6_top_pics/media/img/6/05/3...   \n",
       "3    https://s0.rbk.ru/v6_top_pics/media/img/5/50/3...   \n",
       "4    https://s0.rbk.ru/v6_top_pics/media/img/1/56/3...   \n",
       "..                                                 ...   \n",
       "135  https://s0.rbk.ru/v6_top_pics/media/img/6/88/3...   \n",
       "136  https://s0.rbk.ru/v6_top_pics/media/img/8/70/3...   \n",
       "137  https://s0.rbk.ru/v6_top_pics/media/img/1/88/3...   \n",
       "138  https://s0.rbk.ru/v6_top_pics/media/img/7/56/3...   \n",
       "139  https://s0.rbk.ru/v6_top_pics/media/img/8/68/3...   \n",
       "\n",
       "                                              keywords  \\\n",
       "0    [простые, офисе, игр, ряд, шарики, life, попул...   \n",
       "1    [историю, wake, 2, alan, геймеров, видеоигры, ...   \n",
       "2    [занять, развивает, понадобится, умение, летот...   \n",
       "3    [games, insomniac, сразу, 2, самым, ps5, пару,...   \n",
       "4    [месяца, кадр, of, игры, sports, kombat, кибор...   \n",
       "..                                                 ...   \n",
       "135  [написала, цыгановым, вышел, panatlantic, нина...   \n",
       "136  [последнее, ники, лето, зритель, спектакля, сц...   \n",
       "137  [сезон, кадр, премьере, клевер, семьи, известн...   \n",
       "138  [пилотом, самолетапризрака, shepherd, фильма, ...   \n",
       "139  [драмеди, вышел, громова, ефремов, сериале, сы...   \n",
       "\n",
       "                                               summary  \\\n",
       "0    4 простые игры для дороги и перерыва в офисе.\\...   \n",
       "1    Alan Wake 2: обзор видеоигры, которая разделил...   \n",
       "2    10 идей, как занять ребенка .\\nВ мешок помести...   \n",
       "3    Marvel's Spider-Man 2: обзор самой быстро прод...   \n",
       "4    Ящеры, киборги и Саб-Зиро: 6 громких игровых н...   \n",
       "..                                                 ...   \n",
       "135  Вышел трейлер фильма «Нина» с Пересильд и Цыга...   \n",
       "136  «Последнее лето»: обзор спектакля с Пересильд ...   \n",
       "137  «Черный клевер», пятый сезон.\\nАниме стоит пос...   \n",
       "138  Траволта стал пилотом самолета-призрака в филь...   \n",
       "139  Вышел тизер эротического драмеди «Госпожа» с Н...   \n",
       "\n",
       "                                          keywords_lem  \n",
       "0    простой, офис, игра, ряд, шарик, life, популяр...  \n",
       "1    история, wake, 2, alan, геймер, видеоигра, тём...  \n",
       "2    занять, развивать, понадобиться, умение, летот...  \n",
       "3    games, insomniac, сразу, 2, самый, ps5, пара, ...  \n",
       "4    месяц, кадр, of, игра, sports, kombat, киборг,...  \n",
       "..                                                 ...  \n",
       "135  написать, цыганов, выйти, panatlantic, нина, ф...  \n",
       "136  последний, ника, лето, зритель, спектакль, сце...  \n",
       "137  сезон, кадр, премьера, клевер, семья, известно...  \n",
       "138  пилот, самолетапризрак, shepherd, фильм, plus,...  \n",
       "139  драмедь, выйти, громов, ефрем, сериал, сыграть...  \n",
       "\n",
       "[140 rows x 7 columns]"
      ]
     },
     "execution_count": 46,
     "metadata": {},
     "output_type": "execute_result"
    }
   ],
   "source": [
    "df"
   ]
  },
  {
   "cell_type": "markdown",
   "id": "57f51841",
   "metadata": {},
   "source": [
    "Чтобы сделать частотный анализ, мы будем использовать библиотеку `collections`, в которой есть очень удобный класс `Counter`, делающий частотный анализ."
   ]
  },
  {
   "cell_type": "code",
   "execution_count": 47,
   "id": "b48e547e",
   "metadata": {},
   "outputs": [],
   "source": [
    "from collections import Counter"
   ]
  },
  {
   "cell_type": "markdown",
   "id": "a755e833",
   "metadata": {},
   "source": [
    "Соберем все слова из колонки keywords_lem в один список."
   ]
  },
  {
   "cell_type": "code",
   "execution_count": 50,
   "id": "6c28457a",
   "metadata": {},
   "outputs": [],
   "source": [
    "all_keywords = ', '.join(df['keywords_lem']).split(', ')"
   ]
  },
  {
   "cell_type": "markdown",
   "id": "6dec11be",
   "metadata": {},
   "source": [
    "Найдем 10 самых часто встречающихся ключевых слов."
   ]
  },
  {
   "cell_type": "code",
   "execution_count": 51,
   "id": "f289605b",
   "metadata": {},
   "outputs": [
    {
     "data": {
      "text/plain": [
       "[('фильм', 39),\n",
       " ('кадр', 15),\n",
       " ('новый', 15),\n",
       " ('стоить', 13),\n",
       " ('игра', 12),\n",
       " ('руб', 12),\n",
       " ('кожа', 10),\n",
       " ('кино', 9),\n",
       " ('ребёнок', 9),\n",
       " ('10', 9)]"
      ]
     },
     "execution_count": 51,
     "metadata": {},
     "output_type": "execute_result"
    }
   ],
   "source": [
    "Counter(all_keywords).most_common(10)"
   ]
  },
  {
   "cell_type": "markdown",
   "id": "01c00678",
   "metadata": {},
   "source": [
    "Чаще всего РБК предлагает потратить деньги на фильмы! Прочитаем выжимку для каждой такой статьи."
   ]
  },
  {
   "cell_type": "code",
   "execution_count": 52,
   "id": "80d43ca2",
   "metadata": {},
   "outputs": [],
   "source": [
    "pd.set_option('display.max_colwidth', 1000) # чтобы был показан весь текст в каждой ячейке"
   ]
  },
  {
   "cell_type": "code",
   "execution_count": 53,
   "id": "bb11d6b9",
   "metadata": {
    "scrolled": false
   },
   "outputs": [
    {
     "data": {
      "text/html": [
       "<div>\n",
       "<style scoped>\n",
       "    .dataframe tbody tr th:only-of-type {\n",
       "        vertical-align: middle;\n",
       "    }\n",
       "\n",
       "    .dataframe tbody tr th {\n",
       "        vertical-align: top;\n",
       "    }\n",
       "\n",
       "    .dataframe thead th {\n",
       "        text-align: right;\n",
       "    }\n",
       "</style>\n",
       "<table border=\"1\" class=\"dataframe\">\n",
       "  <thead>\n",
       "    <tr style=\"text-align: right;\">\n",
       "      <th></th>\n",
       "      <th>link</th>\n",
       "      <th>summary</th>\n",
       "    </tr>\n",
       "  </thead>\n",
       "  <tbody>\n",
       "    <tr>\n",
       "      <th>21</th>\n",
       "      <td>https://rbclife.ru/news/65422bc59a79478a21cfccbd</td>\n",
       "      <td>Посмотрите на куклу с лицом Райана Гослинга.\\nMattel начала продажу куклы актера в образе Кена в разноцветном худи Mattel представила куклу Райана Гослинга в образе Кена из фильма «Барби» за $50 СлушатьMattelАмериканская компания Mattel, известная как производитель игрушек и куклы Барби в частности, представила новую куклу Кена.\\nЭто молодой человек в разноцветной толстовке с надписью I Am Kenough («Меня достаточно») и с лицом Райана Гослинга («Ла-Ла Ленд»), сыгравшего в недавнем фильме роль друга Барби.\\nЦена куклы составляет $50 (примерно 4,6 тыс.\\nMattel«Игра Райана Гослинга сделала Кена звездой фильма, теперь наша кукла, похожая на актера, еще раз подчеркнет этот момент», — сообщил бренд.</td>\n",
       "    </tr>\n",
       "    <tr>\n",
       "      <th>31</th>\n",
       "      <td>https://rbclife.ru/news/653a20e39a7947921f4f1235</td>\n",
       "      <td>Куда сходить в ноябре: танцы, стендап и другие события .\\nВ проекте, созданном при поддержке банка ВТБ, более 100 произведений из собраний Государственного Эрмитажа, Пушкинского музея, Третьяковской галереи, Музея архитектуры им.\\nКонцертКогда: 17 ноября, 20:00Где: «Крокус Сити Холл»Возрастное ограничение: 6+Подробности и билетыcrocus-hall.ruПрезентация девятого альбома фолк-группы «Мельница» с новой концертной программой.\\nКонцертКогда: 3 ноября, 20:00Где: Red ArenaВозрастное ограничение: 18+Билетыredarena.ruРомантический танцевальный поп-рок, который музыканты играют еще с 1990-х годов, остается актуальным до сих пор.\\nБой Штыркова с МинеевымКогда: 18 ноября, 20:00Где: Red ArenaВозрастное ограничение 18+ПодробностиПресс-службаВ поединке сойдутся звезда российского кикбоксинга Владимир Минеев из Ульяновска и уральский атлет Иван Штырков.</td>\n",
       "    </tr>\n",
       "    <tr>\n",
       "      <th>44</th>\n",
       "      <td>https://rbclife.ru/news/654ddf1d9a79470200ea3b51</td>\n",
       "      <td>Одним из самых громких был проект — «Гражданин поэт» (2011–2012), где Михаил Ефремов читал стихи на «злобу дня».\\nМихаил Ефремов снимался активно, за годы в профессии фильмография пополнилась почти двумя сотнями фильмов и сериалов.\\nЖгут полон минусов — пьет, играет в карты и слабохарактерный, однако российскому зрителю герой Ефремова полюбился.\\nКадр из фильма «Кошечка», 2009 годВ психоделической комедии режиссера Григория Константинопольского Ефремов сыграл главную роль в одной из пяти новелл.\\nВ заключенииКомсомольская правда / Global Look Press Михаил Ефремов у Пресненского суда в Москве, 2020 годСейчас Михаил Ефремов отбывает наказание в Белгородской колонии.</td>\n",
       "    </tr>\n",
       "    <tr>\n",
       "      <th>47</th>\n",
       "      <td>https://rbclife.ru/news/652e89889a79473441529fb2</td>\n",
       "      <td>РБК Life поговорил с постановщицей о ее новом фильме «Чувства Анны» Анна Меликян — о пути к свету и эскапизме: «Кино смотреть пока не могу»Екатерина Чеснокова / РИА Новости Режиссер Анна Меликян9 ноября в прокат вышел новый фильм Анны Меликян «Чувства Анны» с Анной Михалковой в главной роли.\\nID Production / Ай Ди Продакшн Анна Михалкова и Анна Меликян.\\nID Production / Ай Ди Продакшн Анна Михалкова играет главную роль в фильме «Чувства Анны»— Вы писали сценарий специально под Анну Михалкову.\\nID Production / Ай Ди Продакшн— В название фильма вынесено слово «чувства».\\nID Production / Ай Ди Продакшн— С «Русалкой» вы также участвовали в главном американском кинофестивале независимого кино «Сандэнс», где взяли награду как лучший режиссер.</td>\n",
       "    </tr>\n",
       "    <tr>\n",
       "      <th>55</th>\n",
       "      <td>https://rbclife.ru/news/653638089a79471f0b3eef39</td>\n",
       "      <td>Юлия Пересильд — об «Императрицах», образе сильной женщины и мужском кино .\\nЕсть ли у актрисы Юлии Пересильд, участвовавшей в съемках фильма на МКС впервые в истории кинематографа, миссия — сделать образ сильной женщины снова великим?\\nДействительно, существует некий образ по-особенному сильной женщины, но мне хотелось бы создать образ ровно противоположный.\\nПо этой причине и в «Битве за Севастополь», и в «Вызове», и в «Императрицах» мне очень хотелось создать образ сильной женщины с ее слабостями.\\nНовые люди Юлия Пересильд в фильме Сергея Мокрицкого «Битва за Севастополь» (2015)— Разделилась ли жизнь после «Вызова»?</td>\n",
       "    </tr>\n",
       "    <tr>\n",
       "      <th>57</th>\n",
       "      <td>https://rbclife.ru/news/653688879a7947f18bedc173</td>\n",
       "      <td>Валдис Пельш — о 1990-х, YouTube и деньгах .\\nУ того же ЧБД («Что было дальше?», юмористическое интернет-шоу.— РБК Life) большое количество поклонников.\\nА во-вторых, это дает возможность аккумулировать средства для того, чтобы вечерний прайм заполнить каким-то новым, востребованным у аудитории шоу.\\n— РБК Life).\\n— РБК Life) за свои деньги, потому что у нас не было спонсоров.</td>\n",
       "    </tr>\n",
       "    <tr>\n",
       "      <th>84</th>\n",
       "      <td>https://rbclife.ru/news/654e2e669a794793154805cf</td>\n",
       "      <td>Про Илона Маска снимут фильм.\\nРежиссер байопика — Даррен Аронофски .\\nВ основе сценария — книга Уолтера Айзексона Variety: Даррен Аронофски снимет байопик об Илоне Маске СлушатьSaul Martinez / Getty Images Илон МаскДаррен Аронофски снимет байопик об американском миллиардере Илоне Маске, сообщает Variety со ссылкой на свои источники.\\nMauricio Santana / Getty Images for Paramount Pictures Даррен АронофскиРанее пользователи разглядели возможное предсказание относительно Илона Маска в «Симпсонах».\\nИмя Илона Маска в эпизоде не называется, но, как заметили в Daily Mail, соцсеть X (бывший Twitter) сейчас принадлежит именно ему.</td>\n",
       "    </tr>\n",
       "    <tr>\n",
       "      <th>86</th>\n",
       "      <td>https://rbclife.ru/news/654de8849a794763785fa6d9</td>\n",
       "      <td>Вот на какие фильмы есть зрительский спрос.\\nПрезидент киносети Ольга Зинякова назвала драйвер проката Президент «Каро» Зинякова заявила о зрительском спросе на легкое, веселое кино СлушатьЛичный архив Президент киносети «Каро» Ольга ЗиняковаПрезидент киносети «Каро» Ольга Зинякова в интервью РБК Life рассказала, на какие проекты сейчас существует зрительский спрос.\\nНо, как мы понимаем, речь идет о фильме «Валли», совершенном хите своего времени», — говорит Ольга Зинякова.\\nГлава киносети «Каро» отметила, что аудитория продолжает смотреть иностранное кино.\\n«А сейчас нередко можно заметить, что фильмы схожей тематики работают очень по-разному, в зависимости от того, какие маркетинговые каналы выбраны.</td>\n",
       "    </tr>\n",
       "    <tr>\n",
       "      <th>93</th>\n",
       "      <td>https://rbclife.ru/news/654ddfdb9a7947150093f626</td>\n",
       "      <td>«Капитан Марвел 2».\\nКак критики отреагировали на 33-й фильм MCU .\\n«Чокнутые сражаются за «квантовые браслеты» и другие отзывы Вышли первые отзывы критиков на 33-й фильм MCU «Капитан Марвел 2»Marvel Studios Inc. Кадр из фильма «Капитан Марвел 2»В зарубежный прокат вышел 33-й фильм Marvel Studios — «Капитан Марвел 2» (или просто «Марвелы») сразу с тремя главными героинями.\\n«В долгожданном продолжении «Капитана Марвел» судьбы и силы трех героинь переплетаются»Marvel Studios Inc. Кадр из фильма «Капитан Марвел 2»«Сюжет стартует с того места, где остановился «Капитан Марвел»: Денверс поклялась положить конец войне между расами Скруллов и Крии.\\n«Неприятно сообщать, что «Капитан Марвел-2» ужасен»Marvel Studios Inc. Кадр из фильма «Капитан Марвел 2»«Каждая из актрис привнесла что-то особенное и убедительное в фильм.</td>\n",
       "    </tr>\n",
       "    <tr>\n",
       "      <th>95</th>\n",
       "      <td>https://rbclife.ru/news/654369109a79470e4b8d31bc</td>\n",
       "      <td>Лучшие фильмы про ведьм.\\nКак составлялся рейтинг Редакция подобрала фильмы про ведьм в разных жанрах: комедии, семейное кино, мелодрамы, хорроры, мюзикл и даже боевики.\\n«Последнего охотника на ведьм» не оценили критики (всего лишь 18% на Rotten Tomatoes), однако фильм может порадовать любителей экшена [2].\\n«Ведьма любви»Anna Biller Productions Кадр из фильма «Ведьма любви»2016Режиссер: Анна БиллерАктеры: Саманта Робинсон, Джан Кис, Лаура УоддэллIMDb: 6,2«Кинопоиск»: 6,4Прекрасная ведьма Элейн (Саманта Робинсон) одержима идеей найти любовь.\\n«Ведьма»Parts and Labor Кадр из фильма «Ведьма»2015Режиссер: Роберт ЭггерсАктеры: Аня Тейлор-Джой, Ральф Айнесон, Кейт ДикиIMDb: 7«Кинопоиск»: 6,61630 год, Новая Англия.</td>\n",
       "    </tr>\n",
       "    <tr>\n",
       "      <th>96</th>\n",
       "      <td>https://rbclife.ru/news/65420d229a7947f810746909</td>\n",
       "      <td>Кто заменил «Гарри Поттера» на российском ТВ.\\nТоп-10 фильмов .\\nТакже в топ-10 вошли советские хиты «Ирония судьбы, или С легким паром» (1975), «Любовь и голуби» (1985) и «Кавказская пленница, или Новые приключения Шурика» (1967).\\nКинокомпания CTB Кадр из фильма «Конек-Горбунок»Топ-10 иностранного кино на федеральном телевидении возглавила «Красотка» режиссера Гарри Маршалла, вышедшая на экраны в 1990 году.\\nЭти три картины набрали в эфире «Первого канала» рейтинг 4,4, 2,9 и 2,8% и долю 18,3, 11,6 и 10,5% соответственно.</td>\n",
       "    </tr>\n",
       "    <tr>\n",
       "      <th>97</th>\n",
       "      <td>https://rbclife.ru/news/653fa6b39a7947bc4e41341c</td>\n",
       "      <td>«Убийцы цветочной луны»: обзор долгого вестерна Мартина Скорсезе .\\nКинокритик Оля Смолина рассказывает, почему «Убийцы цветочной луны» — визуальный и технический образец, которому тем не менее не суждено стать венцом творчества 80-летнего режиссера.\\nAppian Way Кадр из фильма «Убийцы цветочной луны»Присутствие коренных американцев в «Убийцах цветочной луны» более чем декоративно — в кадре они существуют разве что ради красивой картинки.\\nAppian Way Кадр из фильма «Убийцы цветочной луны»Впрочем, при всех своих сюжетных несовершенствах «Убийцы цветочной луны» — картина фундаментально совершенная в техническом плане.\\nТаким образом «Убийцы цветочной луны» вошли в тройку лучших дебютов Скорсезе на широком экране, уступив лишь «Отступникам» ($26,9 млн) и «Острову проклятых» ($41 млн).</td>\n",
       "    </tr>\n",
       "    <tr>\n",
       "      <th>100</th>\n",
       "      <td>https://rbclife.ru/news/6544f3aa9a79470cd3e0b004</td>\n",
       "      <td>Аксенова, Виторган и Учитель пришли на премьеру фильма с Юрой Борисовым .\\nПресс-служба компании «Вольга» Максим ВиторганСледом за ними перед фотографами прошлись представители молодого поколения актеров: звезда «Монастыря» Марк Эйдельштейн и звезда «Цикад» Софья Аржаных, Елизавета Ищенко, Анастасия Резник, «Миллионер из Балашихи» Владимир Канухин и многие другие.\\nАктрисы Ольга Сутулова, Любовь Аксенова, а также режиссеры Алексей Учитель, Александр Котт и Евгений Сангаджиев прибыли лишь к самому началу просмотра.\\nПресс-служба компании «Вольга» Съемочная группа фильма «Год рождения»«Год рождения» рассказывает о мечтателе Филиппе, который полон диких и утопических идей, живет своими увлечениями и мечтает провести крупнейший в мире музыкальный фестиваль в родном Металлогорске.\\nМесяц назад новая работа Михаила Местецкого стала фильмом открытия первого кинофестиваля «Маяк» в Геленджике.</td>\n",
       "    </tr>\n",
       "    <tr>\n",
       "      <th>102</th>\n",
       "      <td>https://rbclife.ru/news/653ba5939a79474a620796ab</td>\n",
       "      <td>Елена Лядова и Аглая Тарасова представили фильм «Воздух» в Токио .\\nКартина Алексея Германа-младшего вошла в основной конкурс кинофестиваля Елена Лядова и Аглая Тарасова представили «Воздух» Германа-младшего в Токио Слушать2023 TIFF и Игорь Беляев / ТАСС Съемочная группа фильма «Воздух»В столице Японии состоялась мировая премьера фильма Алексея Германа-младшего «Воздух».\\nВоенную драму зрителям представил лично режиссер совместно с актрисами Аглаей Тарасовой, Анастасией Талызиной и Еленой Лядовой, а еще художником-постановщиком Еленой Окопной.\\n2023 TIFF и Игорь Беляев / ТАСС Аглая Тарасова и Елена ЛядоваРежиссер высоко оценил состоявшуюся международную премьеру и отметил хорошую реакцию зрителей на его работу.\\n2023 TIFF и Игорь Беляев / ТАСС Анастасия Талызина и Аглая ТарасоваФильм «Воздух» рассказывает историю о смешанном авиационном полке во время Великой Отечественной войны.</td>\n",
       "    </tr>\n",
       "    <tr>\n",
       "      <th>125</th>\n",
       "      <td>https://rbclife.ru/news/654ce9129a794742493a2f5e</td>\n",
       "      <td>Вышел первый тизер «Ёлок 10» с Тодоренко, Польских и Валюшкиной .\\nДесятая часть праздничной франшизы выйдет в прокат 7 декабря Вышел тизер новогоднего фильма «Ёлки 10» с Региной Тодоренко и Галиной Польских СлушатьНМГ Кинопрокат / YouTube Кадр из фильма «Ёлки 10»Кинокомпания «НМГ Кинопрокат» опубликовала первый тизер фильма «Ёлки 10», который выйдет во всероссийский прокат менее чем через месяц — 7 декабря.\\nНМГ Кинопрокат / YouTube Регина Тодоренко и Егор Корешков в фильме «Ёлки 10»Съемки картины прошли этим летом.\\nПроизводством «Ёлок 10» занимались студия Bazelevs и продюсерская компания Kulik Production при участии «НМГ Кинопрокат».\\nНМГ Кинопрокат / YouTube Кадр из фильма «Ёлки 10»Российская новогодняя комедия «Ёлки» выходит на большие экраны с 2010 года.</td>\n",
       "    </tr>\n",
       "    <tr>\n",
       "      <th>126</th>\n",
       "      <td>https://rbclife.ru/news/654ceb139a7947b5289accb9</td>\n",
       "      <td>«Капитан Марвел 2»: все, что известно о фильме Marvel .\\nПроизводство картины «Капитан Марвел 2»«Капитан Марвел 2» станет самым коротким фильмом в кинематографической вселенной Marvel.\\nMarvel Кэрол Дэнверс в фильме «Капитан Марвел»Согласно официальному описанию «Капитана Марвел 2», Кэрол Дэнверс «взваливает на себя бремя дестабилизированной вселенной».\\nНапример, для просмотра «Капитана Марвел 2» уже недостаточно «Капитана Марвел» (2019), где начинается история Кэрол Дэнверс.\\nФинальный трейлер фильма «Капитан Марвел 2» / YouTube / Marvel UKВ трейлере «Капитана Марвел» в воспоминаниях появляется Железный Человек (Роберт Дауни-младший), Капитан Америка (Крис Эванс) и антагонист «Мстителей» Танос (Джош Бролин).</td>\n",
       "    </tr>\n",
       "    <tr>\n",
       "      <th>127</th>\n",
       "      <td>https://rbclife.ru/news/654c9b959a79476003473538</td>\n",
       "      <td>Жюльет Бинош отклоняет предложение Бенуа Мажимеля в фильме «Рецепт любви» .\\nВышел русскоязычный трейлер номинированной на «Оскар» картины Вышел русскоязычный трейлер фильма «Рецепт любви» с Жюльет Бинош в главной роли СлушатьПресс-служба Global Film Жюльет Бинош и Бенуа Мажимель в фильме «Рецепт любви»Романтическая комедия «Рецепт любви», которая выдвинута от Франции на соискание премии «Оскар», выйдет в российский прокат в День святого Валентина — 14 февраля.\\nГлавные роли исполнили обладательница премии «Оскар» Жюльет Бинош («Шоколад», «Английский пациент») и лауреат премии «Сезар» Бенуа Мажимель («Пианистка», «Странные сады»).\\nПресс-служба Global Film Жюльет Бинош и Бенуа Мажимель в фильме «Рецепт любви»«Жюльет Бинош и Бенуа Мажимель в реальной жизни — искушенные гурманы, поэтому им не потребовалась много времени для подготовки, чтобы превратиться в настоящих поваров», — рассказывал режиссер.\\n«Рецепт любви» — это «тонкая и созерцательная романтическая комедия, которая окунет ...</td>\n",
       "    </tr>\n",
       "    <tr>\n",
       "      <th>128</th>\n",
       "      <td>https://rbclife.ru/news/654be42c9a794719ef96164d</td>\n",
       "      <td>«В паутине»: обзор южнокорейской сатиры о кошмаре кинопроизводства .\\nКинокритик и автор телеграм-канала Age of Cinema Елена Зархина рассказывает про это хитро устроенное кино, в котором легко завязнуть как в паутине.\\n1970-е, в искусстве Южной Кореи строгая цензура, режиссер Ким (главный южнокорейский актер «на экспорт» и звезда «Паразитов» Сон Кан-хо) пытается переснять финал своего нового фильма.\\nНо режиссер Ким Джи-ун выносит свой приговор кинематографу через сатиру: его главный герой хоть и вдохновлен реальным классиком корейского кино Ким Ки-ёном, но по большей части образ собирательный.\\nИ как режиссер Ким, мечтал (и исполнял эту мечту) переснять развязку уже законченной картины.</td>\n",
       "    </tr>\n",
       "    <tr>\n",
       "      <th>129</th>\n",
       "      <td>https://rbclife.ru/news/654c87f59a79477595fe7a8b</td>\n",
       "      <td>В новых «Охотниках за привидениями» Пол Радд снова сразится с призраками .\\nНовые и старые охотники объединились для спасения мира от ледяного ужаса Вышел первый тизер-трейлер фильма «Охотники за привидениями: Ледяная империя» СлушатьSony Pictures Entertainment / YouTube Кадр из фильма «Охотники за привидениями: Ледяная империя»Кинокомпания Sony выпустила тизер-трейлер «Охотников за привидениями: Ледяная империя», это продолжение «Охотников за привидениями: Наследники», вышедших в 2021 году.\\nSony Pictures Entertainment / YouTube Тизер-трейлер фильма «Охотники за привидениями: Ледяная империя», режиссер Гил Кинан, 2024 г.\\nSony Pictures Entertainment / YouTube Кадр из фильма «Охотники за привидениями: Ледяная империя»«Для меня большая честь взять протонный ранец и снять новую главу саги об охотниках.\\nЯ хотел бы вернуться в 1984 год и сказать парню из шестого ряда в кинотеатре, что однажды ему предстоит снимать фильм «Охотники за привидениями», — признался Кинан.</td>\n",
       "    </tr>\n",
       "    <tr>\n",
       "      <th>130</th>\n",
       "      <td>https://rbclife.ru/news/654b79869a79471f3eda9474</td>\n",
       "      <td>Lionsgate Movies выпустила первый трейлер комедии .\\nВ нем темнокожая королева, а в роли Белоснежки — актриса из хорроров Lionsgate Movies выпустила первый трейлер комедии про Белоснежку СлушатьLionsgateMovies / YouTube Кадр из фильма Snow White's Christmas AdventureКинокомпания Lionsgate Movies выпустила первый трейлер семейной комедии Snow White's Christmas Adventure.\\nLionsgateMovies / YouTube Трейлер фильма Snow White's Christmas Adventure, режиссер Стефано Милла, 2023 г.Как сказано в описании проекта, это беззаботная интерпретация классической сказки.\\nLionsgateMovies / YouTube Кадр из фильма Snow White's Christmas AdventureКстати, если посмотреть на фильмографию исполнительницы Белоснежки, становится ясно, что в ее карьере до недавнего времени было много съемок в фильмах ужасов.\\nLionsgateMovies / YouTube Кадр из фильма Snow White's Christmas AdventureПредстоящая лента — далеко не первая экранизация знаменитой сказки братьев Гримм.</td>\n",
       "    </tr>\n",
       "    <tr>\n",
       "      <th>131</th>\n",
       "      <td>https://rbclife.ru/news/6549fb009a7947dd82d5b9ad</td>\n",
       "      <td>Marvel выпустила финальный трейлер фильма «Капитан Марвел 2» .\\nВ нем есть Железный человек Дауни-младшего и Капитан Америка Криса Эванса Студия Marvel выпустила финальный трейлер фильма «Капитан Марвел 2» СлушатьMarvel Entertainment / YouTube Кадр из фильма «Капитан Марвел 2»Киностудия Marvel выпустила последний трейлер перед премьерой нового кинокомикса «Капитан Марвел 2», премьера которого состоится 10 ноября.\\nMarvel Entertainment / YouTube Финальный трейлер фильма «Капитан Марвел 2», режиссер Ниа ДаКоста, 2023 г.Это следующая часть пятой фазы кинематографической вселенной Marvel, которая стартовала в начале этого года фильмом «Человек-муравей и Оса: Квантомания» и продолжилась «Стражами Галактики.\\nMarvel Entertainment / YouTube Кадр из фильма «Капитан Марвел 2»«Непредвиденные последствия приводят к тому, что Кэрол взваливает на свои плечи бремя дестабилизированной вселенной.\\nРанее сообщалось, что блокбастер «Капитан Марвел 2» станет самым коротким в истории Marvel.</td>\n",
       "    </tr>\n",
       "    <tr>\n",
       "      <th>133</th>\n",
       "      <td>https://rbclife.ru/news/6544e05b9a7947cdb73dfecc</td>\n",
       "      <td>Райан Гослинг и Эмили Блант сыграли бывших в фильме «Каскадеры».\\nТакже в боевике снялся Аарон Тейлор-Джонсон в роли кинозвезды Вышел трейлер фильма «Каскадеры» с Райаном Гослингом и Эмили Блант СлушатьUniversal Pictures / YouTube Райан Гослинг и Эмили Блант в фильме «Каскадеры»Звезда фильмов «Барби», «Дневник памяти» и «Ла-Ла Ленд» Райан Гослинг сыграл потрепанного жизнью каскадера в боевике «Каскадеры».\\nВ паре с Гослингом играет Эмили Блант («Девушка в поезде», «Меняющие реальность»), по сюжету она его бывшая девушка, а ныне режиссер высокобюджетного блокбастера.\\nUniversal Pictures / YouTube Эмили Блант в фильме «Каскадеры»Снял картину также реальный каскадер и режиссер Дэвид Лейтч, работавший ранее над фильмами «Быстрее пули», «Взрывная блондинка» и «Дэдпул-2».\\nUniversal Pictures / YouTube Аарон Тейлор-Джонсон в фильме «Каскадеры»Аарон Тейлор-Джонсон ранее снялся в фильме «Крэйвен-охотник» по мотивам вселенной «Человека-паука».</td>\n",
       "    </tr>\n",
       "    <tr>\n",
       "      <th>135</th>\n",
       "      <td>https://rbclife.ru/news/6544ab2a9a79475b86383828</td>\n",
       "      <td>Вышел трейлер фильма «Нина» с Пересильд и Цыгановым.\\nРанее его показали на кинофестивалях в Шанхае, Выборге и Сан-Себастьяне Вышел первый трейлер фильма «Нина» с Юлией Пересильд и Евгением Цыгановым СлушатьПресс-служба Pan-Atlantic Studio Юлия Пересильд и Евгений Цыганов в фильме «Нина»В пятницу, 3 ноября, в Сети появился первый трейлер нового художественного фильма «Нина» режиссера Оксаны Бычковой («Джонджоли», «Питер FM»).\\nКак сообщили РБК Life в пресс-службе кинокомпании Pan-Atlantic Studio, московская премьера картины состоится через неделю, 12 ноября, в рамках приуроченного к 114-летию кинотеатра «Художественный» фестиваля.\\nИсполнительница главной роли Юлия Пересильд написала в своем телеграм-канале, что «ждет это тонкое, нежное и очень честное кино».\\nПресс-служба Pan-Atlantic Studio Юлия Пересильд в фильме «Нина»Она отметила, что раз в пять лет у нее и Евгения Цыганова «случается что-то совместное в творчестве».</td>\n",
       "    </tr>\n",
       "    <tr>\n",
       "      <th>138</th>\n",
       "      <td>https://rbclife.ru/news/654390de9a7947351d6acace</td>\n",
       "      <td>Траволта стал пилотом самолета-призрака в фильме The Shepherd.\\nКартина основана на новелле бывшего летчика Джон Траволта сыграл пилота самолета-призрака в трейлере фильма The Shepherd СлушатьDisney Plus / Youtube Кадр из фильма The ShepherdВышел трейлер короткометражного фильма The Shepherd, в котором снялись Джон Траволта, Бен Рэдклифф («Ведьмак», «Анатомия скандала») и Стивен Макинтош («Карты, деньги, два ствола», «Расплата»).\\nDisney Plus / Youtube Трейлер фильма The Shepherd, режиссер Иэн Софтли, 2023 г.По сюжету, молодой пилот ВВС Великобритании Фредди Гук (его играет Рэдклифф) в канун Рождества летит домой через Северное море.\\nDisney Plus / Youtube Кадр из фильма The ShepherdСнял ленту режиссер Иэн Софтли, работавший ранее над фильмами «Ключ от всех дверей», «Ловушка для Золушки», «Изгой».\\nДжон Траволта, «таинственный летчик» из предстоящей короткометражки, прославился еще в 1970 х годах после выхода на экраны фильмов «Лихорадка субботнего вечера» и «Бриолин».</td>\n",
       "    </tr>\n",
       "  </tbody>\n",
       "</table>\n",
       "</div>"
      ],
      "text/plain": [
       "                                                 link  \\\n",
       "21   https://rbclife.ru/news/65422bc59a79478a21cfccbd   \n",
       "31   https://rbclife.ru/news/653a20e39a7947921f4f1235   \n",
       "44   https://rbclife.ru/news/654ddf1d9a79470200ea3b51   \n",
       "47   https://rbclife.ru/news/652e89889a79473441529fb2   \n",
       "55   https://rbclife.ru/news/653638089a79471f0b3eef39   \n",
       "57   https://rbclife.ru/news/653688879a7947f18bedc173   \n",
       "84   https://rbclife.ru/news/654e2e669a794793154805cf   \n",
       "86   https://rbclife.ru/news/654de8849a794763785fa6d9   \n",
       "93   https://rbclife.ru/news/654ddfdb9a7947150093f626   \n",
       "95   https://rbclife.ru/news/654369109a79470e4b8d31bc   \n",
       "96   https://rbclife.ru/news/65420d229a7947f810746909   \n",
       "97   https://rbclife.ru/news/653fa6b39a7947bc4e41341c   \n",
       "100  https://rbclife.ru/news/6544f3aa9a79470cd3e0b004   \n",
       "102  https://rbclife.ru/news/653ba5939a79474a620796ab   \n",
       "125  https://rbclife.ru/news/654ce9129a794742493a2f5e   \n",
       "126  https://rbclife.ru/news/654ceb139a7947b5289accb9   \n",
       "127  https://rbclife.ru/news/654c9b959a79476003473538   \n",
       "128  https://rbclife.ru/news/654be42c9a794719ef96164d   \n",
       "129  https://rbclife.ru/news/654c87f59a79477595fe7a8b   \n",
       "130  https://rbclife.ru/news/654b79869a79471f3eda9474   \n",
       "131  https://rbclife.ru/news/6549fb009a7947dd82d5b9ad   \n",
       "133  https://rbclife.ru/news/6544e05b9a7947cdb73dfecc   \n",
       "135  https://rbclife.ru/news/6544ab2a9a79475b86383828   \n",
       "138  https://rbclife.ru/news/654390de9a7947351d6acace   \n",
       "\n",
       "                                                                                                                                                                                                                                                                                                                                                                                                                                                                                                                                                                                                                                                                                                                                                                                                                                                                                                                                                                                                                                     summary  \n",
       "21                                                                                                                                                                                                                                                                                                             Посмотрите на куклу с лицом Райана Гослинга.\\nMattel начала продажу куклы актера в образе Кена в разноцветном худи Mattel представила куклу Райана Гослинга в образе Кена из фильма «Барби» за $50 СлушатьMattelАмериканская компания Mattel, известная как производитель игрушек и куклы Барби в частности, представила новую куклу Кена.\\nЭто молодой человек в разноцветной толстовке с надписью I Am Kenough («Меня достаточно») и с лицом Райана Гослинга («Ла-Ла Ленд»), сыгравшего в недавнем фильме роль друга Барби.\\nЦена куклы составляет $50 (примерно 4,6 тыс.\\nMattel«Игра Райана Гослинга сделала Кена звездой фильма, теперь наша кукла, похожая на актера, еще раз подчеркнет этот момент», — сообщил бренд.  \n",
       "31                                                                                                                                                        Куда сходить в ноябре: танцы, стендап и другие события .\\nВ проекте, созданном при поддержке банка ВТБ, более 100 произведений из собраний Государственного Эрмитажа, Пушкинского музея, Третьяковской галереи, Музея архитектуры им.\\nКонцертКогда: 17 ноября, 20:00Где: «Крокус Сити Холл»Возрастное ограничение: 6+Подробности и билетыcrocus-hall.ruПрезентация девятого альбома фолк-группы «Мельница» с новой концертной программой.\\nКонцертКогда: 3 ноября, 20:00Где: Red ArenaВозрастное ограничение: 18+Билетыredarena.ruРомантический танцевальный поп-рок, который музыканты играют еще с 1990-х годов, остается актуальным до сих пор.\\nБой Штыркова с МинеевымКогда: 18 ноября, 20:00Где: Red ArenaВозрастное ограничение 18+ПодробностиПресс-службаВ поединке сойдутся звезда российского кикбоксинга Владимир Минеев из Ульяновска и уральский атлет Иван Штырков.  \n",
       "44                                                                                                                                                                                                                                                                                                                                          Одним из самых громких был проект — «Гражданин поэт» (2011–2012), где Михаил Ефремов читал стихи на «злобу дня».\\nМихаил Ефремов снимался активно, за годы в профессии фильмография пополнилась почти двумя сотнями фильмов и сериалов.\\nЖгут полон минусов — пьет, играет в карты и слабохарактерный, однако российскому зрителю герой Ефремова полюбился.\\nКадр из фильма «Кошечка», 2009 годВ психоделической комедии режиссера Григория Константинопольского Ефремов сыграл главную роль в одной из пяти новелл.\\nВ заключенииКомсомольская правда / Global Look Press Михаил Ефремов у Пресненского суда в Москве, 2020 годСейчас Михаил Ефремов отбывает наказание в Белгородской колонии.  \n",
       "47                                                                                                                                                                                                                                                                РБК Life поговорил с постановщицей о ее новом фильме «Чувства Анны» Анна Меликян — о пути к свету и эскапизме: «Кино смотреть пока не могу»Екатерина Чеснокова / РИА Новости Режиссер Анна Меликян9 ноября в прокат вышел новый фильм Анны Меликян «Чувства Анны» с Анной Михалковой в главной роли.\\nID Production / Ай Ди Продакшн Анна Михалкова и Анна Меликян.\\nID Production / Ай Ди Продакшн Анна Михалкова играет главную роль в фильме «Чувства Анны»— Вы писали сценарий специально под Анну Михалкову.\\nID Production / Ай Ди Продакшн— В название фильма вынесено слово «чувства».\\nID Production / Ай Ди Продакшн— С «Русалкой» вы также участвовали в главном американском кинофестивале независимого кино «Сандэнс», где взяли награду как лучший режиссер.  \n",
       "55                                                                                                                                                                                                                                                                                                                                                                                       Юлия Пересильд — об «Императрицах», образе сильной женщины и мужском кино .\\nЕсть ли у актрисы Юлии Пересильд, участвовавшей в съемках фильма на МКС впервые в истории кинематографа, миссия — сделать образ сильной женщины снова великим?\\nДействительно, существует некий образ по-особенному сильной женщины, но мне хотелось бы создать образ ровно противоположный.\\nПо этой причине и в «Битве за Севастополь», и в «Вызове», и в «Императрицах» мне очень хотелось создать образ сильной женщины с ее слабостями.\\nНовые люди Юлия Пересильд в фильме Сергея Мокрицкого «Битва за Севастополь» (2015)— Разделилась ли жизнь после «Вызова»?  \n",
       "57                                                                                                                                                                                                                                                                                                                                                                                                                                                                                                                                                                                                                                               Валдис Пельш — о 1990-х, YouTube и деньгах .\\nУ того же ЧБД («Что было дальше?», юмористическое интернет-шоу.— РБК Life) большое количество поклонников.\\nА во-вторых, это дает возможность аккумулировать средства для того, чтобы вечерний прайм заполнить каким-то новым, востребованным у аудитории шоу.\\n— РБК Life).\\n— РБК Life) за свои деньги, потому что у нас не было спонсоров.  \n",
       "84                                                                                                                                                                                                                                                                                                                                                                                   Про Илона Маска снимут фильм.\\nРежиссер байопика — Даррен Аронофски .\\nВ основе сценария — книга Уолтера Айзексона Variety: Даррен Аронофски снимет байопик об Илоне Маске СлушатьSaul Martinez / Getty Images Илон МаскДаррен Аронофски снимет байопик об американском миллиардере Илоне Маске, сообщает Variety со ссылкой на свои источники.\\nMauricio Santana / Getty Images for Paramount Pictures Даррен АронофскиРанее пользователи разглядели возможное предсказание относительно Илона Маска в «Симпсонах».\\nИмя Илона Маска в эпизоде не называется, но, как заметили в Daily Mail, соцсеть X (бывший Twitter) сейчас принадлежит именно ему.  \n",
       "86                                                                                                                                                                                                                                                                                                   Вот на какие фильмы есть зрительский спрос.\\nПрезидент киносети Ольга Зинякова назвала драйвер проката Президент «Каро» Зинякова заявила о зрительском спросе на легкое, веселое кино СлушатьЛичный архив Президент киносети «Каро» Ольга ЗиняковаПрезидент киносети «Каро» Ольга Зинякова в интервью РБК Life рассказала, на какие проекты сейчас существует зрительский спрос.\\nНо, как мы понимаем, речь идет о фильме «Валли», совершенном хите своего времени», — говорит Ольга Зинякова.\\nГлава киносети «Каро» отметила, что аудитория продолжает смотреть иностранное кино.\\n«А сейчас нередко можно заметить, что фильмы схожей тематики работают очень по-разному, в зависимости от того, какие маркетинговые каналы выбраны.  \n",
       "93                                                                                                                                                                                   «Капитан Марвел 2».\\nКак критики отреагировали на 33-й фильм MCU .\\n«Чокнутые сражаются за «квантовые браслеты» и другие отзывы Вышли первые отзывы критиков на 33-й фильм MCU «Капитан Марвел 2»Marvel Studios Inc. Кадр из фильма «Капитан Марвел 2»В зарубежный прокат вышел 33-й фильм Marvel Studios — «Капитан Марвел 2» (или просто «Марвелы») сразу с тремя главными героинями.\\n«В долгожданном продолжении «Капитана Марвел» судьбы и силы трех героинь переплетаются»Marvel Studios Inc. Кадр из фильма «Капитан Марвел 2»«Сюжет стартует с того места, где остановился «Капитан Марвел»: Денверс поклялась положить конец войне между расами Скруллов и Крии.\\n«Неприятно сообщать, что «Капитан Марвел-2» ужасен»Marvel Studios Inc. Кадр из фильма «Капитан Марвел 2»«Каждая из актрис привнесла что-то особенное и убедительное в фильм.  \n",
       "95                                                                                                                                                                                                                                                                                           Лучшие фильмы про ведьм.\\nКак составлялся рейтинг Редакция подобрала фильмы про ведьм в разных жанрах: комедии, семейное кино, мелодрамы, хорроры, мюзикл и даже боевики.\\n«Последнего охотника на ведьм» не оценили критики (всего лишь 18% на Rotten Tomatoes), однако фильм может порадовать любителей экшена [2].\\n«Ведьма любви»Anna Biller Productions Кадр из фильма «Ведьма любви»2016Режиссер: Анна БиллерАктеры: Саманта Робинсон, Джан Кис, Лаура УоддэллIMDb: 6,2«Кинопоиск»: 6,4Прекрасная ведьма Элейн (Саманта Робинсон) одержима идеей найти любовь.\\n«Ведьма»Parts and Labor Кадр из фильма «Ведьма»2015Режиссер: Роберт ЭггерсАктеры: Аня Тейлор-Джой, Ральф Айнесон, Кейт ДикиIMDb: 7«Кинопоиск»: 6,61630 год, Новая Англия.  \n",
       "96                                                                                                                                                                                                                                                                                                                                                                                                                                                                                          Кто заменил «Гарри Поттера» на российском ТВ.\\nТоп-10 фильмов .\\nТакже в топ-10 вошли советские хиты «Ирония судьбы, или С легким паром» (1975), «Любовь и голуби» (1985) и «Кавказская пленница, или Новые приключения Шурика» (1967).\\nКинокомпания CTB Кадр из фильма «Конек-Горбунок»Топ-10 иностранного кино на федеральном телевидении возглавила «Красотка» режиссера Гарри Маршалла, вышедшая на экраны в 1990 году.\\nЭти три картины набрали в эфире «Первого канала» рейтинг 4,4, 2,9 и 2,8% и долю 18,3, 11,6 и 10,5% соответственно.  \n",
       "97                                                                                                                                                                                                                   «Убийцы цветочной луны»: обзор долгого вестерна Мартина Скорсезе .\\nКинокритик Оля Смолина рассказывает, почему «Убийцы цветочной луны» — визуальный и технический образец, которому тем не менее не суждено стать венцом творчества 80-летнего режиссера.\\nAppian Way Кадр из фильма «Убийцы цветочной луны»Присутствие коренных американцев в «Убийцах цветочной луны» более чем декоративно — в кадре они существуют разве что ради красивой картинки.\\nAppian Way Кадр из фильма «Убийцы цветочной луны»Впрочем, при всех своих сюжетных несовершенствах «Убийцы цветочной луны» — картина фундаментально совершенная в техническом плане.\\nТаким образом «Убийцы цветочной луны» вошли в тройку лучших дебютов Скорсезе на широком экране, уступив лишь «Отступникам» ($26,9 млн) и «Острову проклятых» ($41 млн).  \n",
       "100                                                                                                        Аксенова, Виторган и Учитель пришли на премьеру фильма с Юрой Борисовым .\\nПресс-служба компании «Вольга» Максим ВиторганСледом за ними перед фотографами прошлись представители молодого поколения актеров: звезда «Монастыря» Марк Эйдельштейн и звезда «Цикад» Софья Аржаных, Елизавета Ищенко, Анастасия Резник, «Миллионер из Балашихи» Владимир Канухин и многие другие.\\nАктрисы Ольга Сутулова, Любовь Аксенова, а также режиссеры Алексей Учитель, Александр Котт и Евгений Сангаджиев прибыли лишь к самому началу просмотра.\\nПресс-служба компании «Вольга» Съемочная группа фильма «Год рождения»«Год рождения» рассказывает о мечтателе Филиппе, который полон диких и утопических идей, живет своими увлечениями и мечтает провести крупнейший в мире музыкальный фестиваль в родном Металлогорске.\\nМесяц назад новая работа Михаила Местецкого стала фильмом открытия первого кинофестиваля «Маяк» в Геленджике.  \n",
       "102                                                                                                             Елена Лядова и Аглая Тарасова представили фильм «Воздух» в Токио .\\nКартина Алексея Германа-младшего вошла в основной конкурс кинофестиваля Елена Лядова и Аглая Тарасова представили «Воздух» Германа-младшего в Токио Слушать2023 TIFF и Игорь Беляев / ТАСС Съемочная группа фильма «Воздух»В столице Японии состоялась мировая премьера фильма Алексея Германа-младшего «Воздух».\\nВоенную драму зрителям представил лично режиссер совместно с актрисами Аглаей Тарасовой, Анастасией Талызиной и Еленой Лядовой, а еще художником-постановщиком Еленой Окопной.\\n2023 TIFF и Игорь Беляев / ТАСС Аглая Тарасова и Елена ЛядоваРежиссер высоко оценил состоявшуюся международную премьеру и отметил хорошую реакцию зрителей на его работу.\\n2023 TIFF и Игорь Беляев / ТАСС Анастасия Талызина и Аглая ТарасоваФильм «Воздух» рассказывает историю о смешанном авиационном полке во время Великой Отечественной войны.  \n",
       "125                                                                                                                                                                                                                                      Вышел первый тизер «Ёлок 10» с Тодоренко, Польских и Валюшкиной .\\nДесятая часть праздничной франшизы выйдет в прокат 7 декабря Вышел тизер новогоднего фильма «Ёлки 10» с Региной Тодоренко и Галиной Польских СлушатьНМГ Кинопрокат / YouTube Кадр из фильма «Ёлки 10»Кинокомпания «НМГ Кинопрокат» опубликовала первый тизер фильма «Ёлки 10», который выйдет во всероссийский прокат менее чем через месяц — 7 декабря.\\nНМГ Кинопрокат / YouTube Регина Тодоренко и Егор Корешков в фильме «Ёлки 10»Съемки картины прошли этим летом.\\nПроизводством «Ёлок 10» занимались студия Bazelevs и продюсерская компания Kulik Production при участии «НМГ Кинопрокат».\\nНМГ Кинопрокат / YouTube Кадр из фильма «Ёлки 10»Российская новогодняя комедия «Ёлки» выходит на большие экраны с 2010 года.  \n",
       "126                                                                                                                                                                                                                                                                                          «Капитан Марвел 2»: все, что известно о фильме Marvel .\\nПроизводство картины «Капитан Марвел 2»«Капитан Марвел 2» станет самым коротким фильмом в кинематографической вселенной Marvel.\\nMarvel Кэрол Дэнверс в фильме «Капитан Марвел»Согласно официальному описанию «Капитана Марвел 2», Кэрол Дэнверс «взваливает на себя бремя дестабилизированной вселенной».\\nНапример, для просмотра «Капитана Марвел 2» уже недостаточно «Капитана Марвел» (2019), где начинается история Кэрол Дэнверс.\\nФинальный трейлер фильма «Капитан Марвел 2» / YouTube / Marvel UKВ трейлере «Капитана Марвел» в воспоминаниях появляется Железный Человек (Роберт Дауни-младший), Капитан Америка (Крис Эванс) и антагонист «Мстителей» Танос (Джош Бролин).  \n",
       "127  Жюльет Бинош отклоняет предложение Бенуа Мажимеля в фильме «Рецепт любви» .\\nВышел русскоязычный трейлер номинированной на «Оскар» картины Вышел русскоязычный трейлер фильма «Рецепт любви» с Жюльет Бинош в главной роли СлушатьПресс-служба Global Film Жюльет Бинош и Бенуа Мажимель в фильме «Рецепт любви»Романтическая комедия «Рецепт любви», которая выдвинута от Франции на соискание премии «Оскар», выйдет в российский прокат в День святого Валентина — 14 февраля.\\nГлавные роли исполнили обладательница премии «Оскар» Жюльет Бинош («Шоколад», «Английский пациент») и лауреат премии «Сезар» Бенуа Мажимель («Пианистка», «Странные сады»).\\nПресс-служба Global Film Жюльет Бинош и Бенуа Мажимель в фильме «Рецепт любви»«Жюльет Бинош и Бенуа Мажимель в реальной жизни — искушенные гурманы, поэтому им не потребовалась много времени для подготовки, чтобы превратиться в настоящих поваров», — рассказывал режиссер.\\n«Рецепт любви» — это «тонкая и созерцательная романтическая комедия, которая окунет ...  \n",
       "128                                                                                                                                                                                                                                                                                                                 «В паутине»: обзор южнокорейской сатиры о кошмаре кинопроизводства .\\nКинокритик и автор телеграм-канала Age of Cinema Елена Зархина рассказывает про это хитро устроенное кино, в котором легко завязнуть как в паутине.\\n1970-е, в искусстве Южной Кореи строгая цензура, режиссер Ким (главный южнокорейский актер «на экспорт» и звезда «Паразитов» Сон Кан-хо) пытается переснять финал своего нового фильма.\\nНо режиссер Ким Джи-ун выносит свой приговор кинематографу через сатиру: его главный герой хоть и вдохновлен реальным классиком корейского кино Ким Ки-ёном, но по большей части образ собирательный.\\nИ как режиссер Ким, мечтал (и исполнял эту мечту) переснять развязку уже законченной картины.  \n",
       "129                        В новых «Охотниках за привидениями» Пол Радд снова сразится с призраками .\\nНовые и старые охотники объединились для спасения мира от ледяного ужаса Вышел первый тизер-трейлер фильма «Охотники за привидениями: Ледяная империя» СлушатьSony Pictures Entertainment / YouTube Кадр из фильма «Охотники за привидениями: Ледяная империя»Кинокомпания Sony выпустила тизер-трейлер «Охотников за привидениями: Ледяная империя», это продолжение «Охотников за привидениями: Наследники», вышедших в 2021 году.\\nSony Pictures Entertainment / YouTube Тизер-трейлер фильма «Охотники за привидениями: Ледяная империя», режиссер Гил Кинан, 2024 г.\\nSony Pictures Entertainment / YouTube Кадр из фильма «Охотники за привидениями: Ледяная империя»«Для меня большая честь взять протонный ранец и снять новую главу саги об охотниках.\\nЯ хотел бы вернуться в 1984 год и сказать парню из шестого ряда в кинотеатре, что однажды ему предстоит снимать фильм «Охотники за привидениями», — признался Кинан.  \n",
       "130                                                  Lionsgate Movies выпустила первый трейлер комедии .\\nВ нем темнокожая королева, а в роли Белоснежки — актриса из хорроров Lionsgate Movies выпустила первый трейлер комедии про Белоснежку СлушатьLionsgateMovies / YouTube Кадр из фильма Snow White's Christmas AdventureКинокомпания Lionsgate Movies выпустила первый трейлер семейной комедии Snow White's Christmas Adventure.\\nLionsgateMovies / YouTube Трейлер фильма Snow White's Christmas Adventure, режиссер Стефано Милла, 2023 г.Как сказано в описании проекта, это беззаботная интерпретация классической сказки.\\nLionsgateMovies / YouTube Кадр из фильма Snow White's Christmas AdventureКстати, если посмотреть на фильмографию исполнительницы Белоснежки, становится ясно, что в ее карьере до недавнего времени было много съемок в фильмах ужасов.\\nLionsgateMovies / YouTube Кадр из фильма Snow White's Christmas AdventureПредстоящая лента — далеко не первая экранизация знаменитой сказки братьев Гримм.  \n",
       "131               Marvel выпустила финальный трейлер фильма «Капитан Марвел 2» .\\nВ нем есть Железный человек Дауни-младшего и Капитан Америка Криса Эванса Студия Marvel выпустила финальный трейлер фильма «Капитан Марвел 2» СлушатьMarvel Entertainment / YouTube Кадр из фильма «Капитан Марвел 2»Киностудия Marvel выпустила последний трейлер перед премьерой нового кинокомикса «Капитан Марвел 2», премьера которого состоится 10 ноября.\\nMarvel Entertainment / YouTube Финальный трейлер фильма «Капитан Марвел 2», режиссер Ниа ДаКоста, 2023 г.Это следующая часть пятой фазы кинематографической вселенной Marvel, которая стартовала в начале этого года фильмом «Человек-муравей и Оса: Квантомания» и продолжилась «Стражами Галактики.\\nMarvel Entertainment / YouTube Кадр из фильма «Капитан Марвел 2»«Непредвиденные последствия приводят к тому, что Кэрол взваливает на свои плечи бремя дестабилизированной вселенной.\\nРанее сообщалось, что блокбастер «Капитан Марвел 2» станет самым коротким в истории Marvel.  \n",
       "133                                                      Райан Гослинг и Эмили Блант сыграли бывших в фильме «Каскадеры».\\nТакже в боевике снялся Аарон Тейлор-Джонсон в роли кинозвезды Вышел трейлер фильма «Каскадеры» с Райаном Гослингом и Эмили Блант СлушатьUniversal Pictures / YouTube Райан Гослинг и Эмили Блант в фильме «Каскадеры»Звезда фильмов «Барби», «Дневник памяти» и «Ла-Ла Ленд» Райан Гослинг сыграл потрепанного жизнью каскадера в боевике «Каскадеры».\\nВ паре с Гослингом играет Эмили Блант («Девушка в поезде», «Меняющие реальность»), по сюжету она его бывшая девушка, а ныне режиссер высокобюджетного блокбастера.\\nUniversal Pictures / YouTube Эмили Блант в фильме «Каскадеры»Снял картину также реальный каскадер и режиссер Дэвид Лейтч, работавший ранее над фильмами «Быстрее пули», «Взрывная блондинка» и «Дэдпул-2».\\nUniversal Pictures / YouTube Аарон Тейлор-Джонсон в фильме «Каскадеры»Аарон Тейлор-Джонсон ранее снялся в фильме «Крэйвен-охотник» по мотивам вселенной «Человека-паука».  \n",
       "135                                                                  Вышел трейлер фильма «Нина» с Пересильд и Цыгановым.\\nРанее его показали на кинофестивалях в Шанхае, Выборге и Сан-Себастьяне Вышел первый трейлер фильма «Нина» с Юлией Пересильд и Евгением Цыгановым СлушатьПресс-служба Pan-Atlantic Studio Юлия Пересильд и Евгений Цыганов в фильме «Нина»В пятницу, 3 ноября, в Сети появился первый трейлер нового художественного фильма «Нина» режиссера Оксаны Бычковой («Джонджоли», «Питер FM»).\\nКак сообщили РБК Life в пресс-службе кинокомпании Pan-Atlantic Studio, московская премьера картины состоится через неделю, 12 ноября, в рамках приуроченного к 114-летию кинотеатра «Художественный» фестиваля.\\nИсполнительница главной роли Юлия Пересильд написала в своем телеграм-канале, что «ждет это тонкое, нежное и очень честное кино».\\nПресс-служба Pan-Atlantic Studio Юлия Пересильд в фильме «Нина»Она отметила, что раз в пять лет у нее и Евгения Цыганова «случается что-то совместное в творчестве».  \n",
       "138                  Траволта стал пилотом самолета-призрака в фильме The Shepherd.\\nКартина основана на новелле бывшего летчика Джон Траволта сыграл пилота самолета-призрака в трейлере фильма The Shepherd СлушатьDisney Plus / Youtube Кадр из фильма The ShepherdВышел трейлер короткометражного фильма The Shepherd, в котором снялись Джон Траволта, Бен Рэдклифф («Ведьмак», «Анатомия скандала») и Стивен Макинтош («Карты, деньги, два ствола», «Расплата»).\\nDisney Plus / Youtube Трейлер фильма The Shepherd, режиссер Иэн Софтли, 2023 г.По сюжету, молодой пилот ВВС Великобритании Фредди Гук (его играет Рэдклифф) в канун Рождества летит домой через Северное море.\\nDisney Plus / Youtube Кадр из фильма The ShepherdСнял ленту режиссер Иэн Софтли, работавший ранее над фильмами «Ключ от всех дверей», «Ловушка для Золушки», «Изгой».\\nДжон Траволта, «таинственный летчик» из предстоящей короткометражки, прославился еще в 1970 х годах после выхода на экраны фильмов «Лихорадка субботнего вечера» и «Бриолин».  "
      ]
     },
     "execution_count": 53,
     "metadata": {},
     "output_type": "execute_result"
    }
   ],
   "source": [
    "df[df['keywords_lem'].str.contains('фильм')][['link', 'summary']]"
   ]
  }
 ],
 "metadata": {
  "kernelspec": {
   "display_name": "Python 3 (ipykernel)",
   "language": "python",
   "name": "python3"
  },
  "language_info": {
   "codemirror_mode": {
    "name": "ipython",
    "version": 3
   },
   "file_extension": ".py",
   "mimetype": "text/x-python",
   "name": "python",
   "nbconvert_exporter": "python",
   "pygments_lexer": "ipython3",
   "version": "3.9.7"
  }
 },
 "nbformat": 4,
 "nbformat_minor": 5
}
